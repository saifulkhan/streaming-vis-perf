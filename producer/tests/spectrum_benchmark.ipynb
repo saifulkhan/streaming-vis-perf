{
 "cells": [
  {
   "cell_type": "markdown",
   "metadata": {},
   "source": [
    "# Spectrum Plot\n",
    "This notebook is used for testing and benchmarking performance of spectrum plot."
   ]
  },
  {
   "cell_type": "code",
   "execution_count": 1,
   "metadata": {},
   "outputs": [],
   "source": [
    "from time import sleep\n",
    "import pandas as pd\n",
    "import seaborn as sns\n",
    "import matplotlib.pyplot as plt\n",
    "\n",
    "import generate_payload as gp\n",
    "import utils\n",
    "import plots\n",
    "import producer\n"
   ]
  },
  {
   "cell_type": "markdown",
   "metadata": {},
   "source": [
    "### Plot Payload Size Statistics"
   ]
  },
  {
   "cell_type": "code",
   "execution_count": 2,
   "metadata": {},
   "outputs": [],
   "source": [
    "channels = []\n",
    "utf_payload_size = []\n",
    "protobuf_payload_size = []\n",
    "unit = \"MB\"\n",
    "\n",
    "protobuf_payloads = []\n",
    "utf_payloads = []\n",
    "\n",
    "# 10000, 600000, 30000\n",
    "for channel in range(25000, 610000, 25000):\n",
    "    channels.append(channel)\n",
    "\n",
    "    payload, size = gp.spectrum_json(channel)\n",
    "    utf_payload_size.append(utils.convert_bytes(size, unit))\n",
    "    utf_payloads.append(payload)\n",
    "\n",
    "    payload, size = gp.spectrum_protobuf(channel)\n",
    "    protobuf_payload_size.append(utils.convert_bytes(size, unit))\n",
    "    protobuf_payloads.append(payload)\n"
   ]
  },
  {
   "cell_type": "code",
   "execution_count": 3,
   "metadata": {},
   "outputs": [
    {
     "name": "stdout",
     "output_type": "stream",
     "text": [
      "channels = [25000, 50000, 75000, 100000, 125000, 150000, 175000, 200000, 225000, 250000, 275000, 300000, 325000, 350000, 375000, 400000, 425000, 450000, 475000, 500000, 525000, 550000, 575000, 600000], len(channels) = 24\n"
     ]
    }
   ],
   "source": [
    "# check\n",
    "print(f\"channels = {channels}, len(channels) = {len(channels)}\")"
   ]
  },
  {
   "cell_type": "code",
   "execution_count": 4,
   "metadata": {},
   "outputs": [
    {
     "data": {
      "image/png": "[encoded data removed]",
      "text/plain": [
       "<Figure size 432x216 with 1 Axes>"
      ]
     },
     "metadata": {},
     "output_type": "display_data"
    }
   ],
   "source": [
    "df = gp.to_df_spectrum_size_stat(channels, protobuf_payload_size, utf_payload_size)\n",
    "plots.plot_payload_size(df, unit)"
   ]
  },
  {
   "cell_type": "markdown",
   "metadata": {},
   "source": [
    "### Plot Payload Decoding Time"
   ]
  },
  {
   "cell_type": "markdown",
   "metadata": {},
   "source": [
    "Send each Protobuf payload 10 times and collect decoding/deserialisation time."
   ]
  },
  {
   "cell_type": "code",
   "execution_count": 6,
   "metadata": {},
   "outputs": [],
   "source": [
    "num_iter = 10"
   ]
  },
  {
   "cell_type": "code",
   "execution_count": null,
   "metadata": {},
   "outputs": [],
   "source": [
    "for idx in range(len(channels)):\n",
    "    for d in range(num_iter):\n",
    "        sleep(2)\n",
    "        print(f\"idx = {idx}, channels[idx] = {channels[idx]}\")\n",
    "        await producer.produce(pb_payloads[idx], \"spectrum-protobuf\")\n",
    "\n",
    "    sleep(5)\n"
   ]
  },
  {
   "cell_type": "markdown",
   "metadata": {},
   "source": [
    "Results"
   ]
  },
  {
   "cell_type": "code",
   "execution_count": 6,
   "metadata": {},
   "outputs": [],
   "source": [
    "protobuf_decoding_time = [\n",
    "    9.300000000745058,\n",
    "    8,\n",
    "    3,\n",
    "    3,\n",
    "    3.199999999254942,\n",
    "    8.600000001490116,\n",
    "    9.099999999627471,\n",
    "    9.300000000745058,\n",
    "    9.300000000745058,\n",
    "    3.200000001117587,\n",
    "    7.099999999627471,\n",
    "    6.299999998882413,\n",
    "    7.400000000372529,\n",
    "    6.800000000745058,\n",
    "    6.599999999627471,\n",
    "    5.599999999627471,\n",
    "    5.699999999254942,\n",
    "    5.800000000745058,\n",
    "    5.600000001490116,\n",
    "    5.699999999254942,\n",
    "    9,\n",
    "    9.800000000745058,\n",
    "    14.700000001117587,\n",
    "    9.199999999254942,\n",
    "    9.900000000372529,\n",
    "    8.799999998882413,\n",
    "    9,\n",
    "    9.5,\n",
    "    8.699999999254942,\n",
    "    9.5,\n",
    "    12.599999999627471,\n",
    "    13.300000000745058,\n",
    "    12.700000001117587,\n",
    "    13,\n",
    "    13.099999999627471,\n",
    "    12.599999999627471,\n",
    "    12.299999998882413,\n",
    "    13.5,\n",
    "    12.699999999254942,\n",
    "    13.199999999254942,\n",
    "    16.800000000745058,\n",
    "    16.600000001490116,\n",
    "    16.40000000037253,\n",
    "    16.600000001490116,\n",
    "    16.700000001117587,\n",
    "    16.300000000745058,\n",
    "    16.40000000037253,\n",
    "    16.300000000745058,\n",
    "    16.90000000037253,\n",
    "    16.59999999962747,\n",
    "    18.90000000037253,\n",
    "    18.200000001117587,\n",
    "    18.700000001117587,\n",
    "    18.09999999962747,\n",
    "    18,\n",
    "    18.200000001117587,\n",
    "    21.09999999962747,\n",
    "    18.40000000037253,\n",
    "    19.59999999962747,\n",
    "    18.5,\n",
    "    22.700000001117587,\n",
    "    23.299999998882413,\n",
    "    25,\n",
    "    23,\n",
    "    22.5,\n",
    "    22.90000000037253,\n",
    "    22.59999999962747,\n",
    "    22.700000001117587,\n",
    "    23.40000000037253,\n",
    "    22.40000000037253,\n",
    "    30.800000000745058,\n",
    "    27.40000000037253,\n",
    "    25.09999999962747,\n",
    "    25.199999999254942,\n",
    "    25.200000001117587,\n",
    "    26.899999998509884,\n",
    "    26.09999999962747,\n",
    "    25.59999999962747,\n",
    "    25.399999998509884,\n",
    "    25.800000000745058,\n",
    "    30.59999999962747,\n",
    "    29.300000000745058,\n",
    "    27.59999999962747,\n",
    "    28.09999999962747,\n",
    "    27.90000000037253,\n",
    "    28.200000001117587,\n",
    "    28.299999998882413,\n",
    "    28.09999999962747,\n",
    "    27.600000001490116,\n",
    "    29.40000000037253,\n",
    "    34,\n",
    "    31.699999999254942,\n",
    "    30.40000000037253,\n",
    "    30.90000000037253,\n",
    "    30.700000001117587,\n",
    "    31.90000000037253,\n",
    "    29.199999999254942,\n",
    "    29.40000000037253,\n",
    "    29.5,\n",
    "    31.300000000745058,\n",
    "    44.40000000037253,\n",
    "    36.19999999925494,\n",
    "    38,\n",
    "    37.30000000074506,\n",
    "    37.40000000037253,\n",
    "    37.5,\n",
    "    36.90000000037253,\n",
    "    37.399999998509884,\n",
    "    37.30000000074506,\n",
    "    37.59999999962747,\n",
    "    43.90000000037253,\n",
    "    39.90000000037253,\n",
    "    41,\n",
    "    38.79999999888241,\n",
    "    39.59999999962747,\n",
    "    38,\n",
    "    43.5,\n",
    "    39,\n",
    "    40.30000000074506,\n",
    "    38.19999999925494,\n",
    "    44,\n",
    "    40,\n",
    "    39.80000000074506,\n",
    "    47,\n",
    "    41.20000000111759,\n",
    "    42.20000000111759,\n",
    "    39.79999999888241,\n",
    "    41.30000000074506,\n",
    "    41,\n",
    "    42.59999999962747,\n",
    "    47.69999999925494,\n",
    "    44.40000000037253,\n",
    "    44.90000000037253,\n",
    "    45.5,\n",
    "    44,\n",
    "    44,\n",
    "    44.70000000111759,\n",
    "    44.59999999962747,\n",
    "    46.80000000074506,\n",
    "    45.29999999888241,\n",
    "    62.5,\n",
    "    45.59999999962747,\n",
    "    49.19999999925494,\n",
    "    49.5,\n",
    "    45.5,\n",
    "    46.79999999888241,\n",
    "    46.69999999925494,\n",
    "    48.19999999925494,\n",
    "    49.40000000037253,\n",
    "    47.5,\n",
    "    60.79999999888241,\n",
    "    53.70000000111759,\n",
    "    53.40000000037253,\n",
    "    51.59999999962747,\n",
    "    54.29999999888241,\n",
    "    52.80000000074506,\n",
    "    53.09999999962747,\n",
    "    54.30000000074506,\n",
    "    54.100000001490116,\n",
    "    54,\n",
    "    59.399999998509884,\n",
    "    56.30000000074506,\n",
    "    56.59999999962747,\n",
    "    55.80000000074506,\n",
    "    59.30000000074506,\n",
    "    58.90000000037253,\n",
    "    60.5,\n",
    "    58.69999999925494,\n",
    "    57.80000000074506,\n",
    "    58,\n",
    "    61.5,\n",
    "    61.40000000037253,\n",
    "    64.20000000111759,\n",
    "    74.10000000149012,\n",
    "    60.79999999888241,\n",
    "    64.59999999962747,\n",
    "    63.90000000037253,\n",
    "    70.30000000074506,\n",
    "    63.100000001490116,\n",
    "    60.19999999925494,\n",
    "    62.70000000111759,\n",
    "    62.20000000111759,\n",
    "    63.59999999962747,\n",
    "    61.20000000111759,\n",
    "    65.40000000037253,\n",
    "    61.69999999925494,\n",
    "    61.09999999962747,\n",
    "    60.40000000037253,\n",
    "    62.90000000037253,\n",
    "    62.5,\n",
    "    66.40000000037253,\n",
    "    63.40000000037253,\n",
    "    64.70000000111759,\n",
    "    65.40000000037253,\n",
    "    62.59999999962747,\n",
    "    66,\n",
    "    63.30000000074506,\n",
    "    64.90000000037253,\n",
    "    66.19999999925494,\n",
    "    63.80000000074506,\n",
    "    73.70000000111759,\n",
    "    67.19999999925494,\n",
    "    65.40000000037253,\n",
    "    64.5,\n",
    "    68.09999999962747,\n",
    "    66.59999999962747,\n",
    "    65.30000000074506,\n",
    "    65.5,\n",
    "    77.29999999888241,\n",
    "    65.59999999962747,\n",
    "    68.30000000074506,\n",
    "    67.79999999888241,\n",
    "    66.70000000111759,\n",
    "    67.59999999962747,\n",
    "    70.29999999888241,\n",
    "    67.59999999962747,\n",
    "    69.10000000149012,\n",
    "    68.59999999962747,\n",
    "    68.30000000074506,\n",
    "    68,\n",
    "    74.30000000074506,\n",
    "    74.90000000037253,\n",
    "    70.90000000037253,\n",
    "    72.20000000111759,\n",
    "    70.5,\n",
    "    69.79999999888241,\n",
    "    71.19999999925494,\n",
    "    71.80000000074506,\n",
    "    69.90000000037253,\n",
    "    70.80000000074506,\n",
    "    93.40000000037253,\n",
    "    83.5,\n",
    "    80.59999999962747,\n",
    "    78.40000000037253,\n",
    "    81.90000000037253,\n",
    "    81.5,\n",
    "    80.80000000074506,\n",
    "    85.80000000074506,\n",
    "    86.20000000111759,\n",
    "    79.29999999888241\n",
    "]"
   ]
  },
  {
   "cell_type": "markdown",
   "metadata": {},
   "source": [
    "JSON/UTF-8"
   ]
  },
  {
   "cell_type": "code",
   "execution_count": 11,
   "metadata": {},
   "outputs": [
    {
     "name": "stdout",
     "output_type": "stream",
     "text": [
      "idx = 0, channels[idx] = 25000\n"
     ]
    },
    {
     "name": "stderr",
     "output_type": "stream",
     "text": [
      "Unclosed AIOKafkaProducer\n",
      "producer: <aiokafka.producer.producer.AIOKafkaProducer object at 0x7fe8b9ebc100>\n"
     ]
    },
    {
     "name": "stdout",
     "output_type": "stream",
     "text": [
      "idx = 0, channels[idx] = 25000\n"
     ]
    },
    {
     "name": "stderr",
     "output_type": "stream",
     "text": [
      "Unclosed AIOKafkaProducer\n",
      "producer: <aiokafka.producer.producer.AIOKafkaProducer object at 0x7fe8bdeac9d0>\n",
      "Task was destroyed but it is pending!\n",
      "task: <Task pending name='Task-2700' coro=<Sender._sender_routine() running at /home/saifulkhan/CODE/SKA/streaming-vis-perf/broker/venv/lib/python3.9/site-packages/aiokafka/producer/sender.py:147> wait_for=<Future pending cb=[<TaskWakeupMethWrapper object at 0x7fe8ba0d0ac0>()]> cb=[Sender._fail_all()]>\n",
      "Task was destroyed but it is pending!\n",
      "task: <Task pending name='Task-2710' coro=<Sender._sender_routine() running at /home/saifulkhan/CODE/SKA/streaming-vis-perf/broker/venv/lib/python3.9/site-packages/aiokafka/producer/sender.py:147> wait_for=<Future pending cb=[<TaskWakeupMethWrapper object at 0x7fe8b9fa7d90>()]> cb=[Sender._fail_all()]>\n"
     ]
    },
    {
     "name": "stdout",
     "output_type": "stream",
     "text": [
      "idx = 0, channels[idx] = 25000\n"
     ]
    },
    {
     "name": "stderr",
     "output_type": "stream",
     "text": [
      "Unclosed AIOKafkaProducer\n",
      "producer: <aiokafka.producer.producer.AIOKafkaProducer object at 0x7fe8bdeace50>\n"
     ]
    },
    {
     "name": "stdout",
     "output_type": "stream",
     "text": [
      "idx = 0, channels[idx] = 25000\n"
     ]
    },
    {
     "name": "stderr",
     "output_type": "stream",
     "text": [
      "Unclosed AIOKafkaProducer\n",
      "producer: <aiokafka.producer.producer.AIOKafkaProducer object at 0x7fe8b9ebc430>\n",
      "Task was destroyed but it is pending!\n",
      "task: <Task pending name='Task-2730' coro=<Sender._sender_routine() running at /home/saifulkhan/CODE/SKA/streaming-vis-perf/broker/venv/lib/python3.9/site-packages/aiokafka/producer/sender.py:147> wait_for=<Future pending cb=[<TaskWakeupMethWrapper object at 0x7fe8b9ed2be0>()]> cb=[Sender._fail_all()]>\n"
     ]
    },
    {
     "name": "stdout",
     "output_type": "stream",
     "text": [
      "idx = 0, channels[idx] = 25000\n"
     ]
    },
    {
     "name": "stderr",
     "output_type": "stream",
     "text": [
      "Unclosed AIOKafkaProducer\n",
      "producer: <aiokafka.producer.producer.AIOKafkaProducer object at 0x7fe8b9ed2250>\n"
     ]
    },
    {
     "name": "stdout",
     "output_type": "stream",
     "text": [
      "idx = 0, channels[idx] = 25000\n"
     ]
    },
    {
     "name": "stderr",
     "output_type": "stream",
     "text": [
      "Unclosed AIOKafkaProducer\n",
      "producer: <aiokafka.producer.producer.AIOKafkaProducer object at 0x7fe8b9ed2a30>\n"
     ]
    },
    {
     "name": "stdout",
     "output_type": "stream",
     "text": [
      "idx = 0, channels[idx] = 25000\n"
     ]
    },
    {
     "name": "stderr",
     "output_type": "stream",
     "text": [
      "Unclosed AIOKafkaProducer\n",
      "producer: <aiokafka.producer.producer.AIOKafkaProducer object at 0x7fe8ba30b760>\n",
      "Task was destroyed but it is pending!\n",
      "task: <Task pending name='Task-2750' coro=<Sender._sender_routine() running at /home/saifulkhan/CODE/SKA/streaming-vis-perf/broker/venv/lib/python3.9/site-packages/aiokafka/producer/sender.py:147> wait_for=<Future pending cb=[<TaskWakeupMethWrapper object at 0x7fe8bba33c10>()]> cb=[Sender._fail_all()]>\n",
      "Task was destroyed but it is pending!\n",
      "task: <Task pending name='Task-2760' coro=<Sender._sender_routine() running at /home/saifulkhan/CODE/SKA/streaming-vis-perf/broker/venv/lib/python3.9/site-packages/aiokafka/producer/sender.py:147> wait_for=<Future pending cb=[<TaskWakeupMethWrapper object at 0x7fe8ba30b190>()]> cb=[Sender._fail_all()]>\n"
     ]
    },
    {
     "name": "stdout",
     "output_type": "stream",
     "text": [
      "idx = 0, channels[idx] = 25000\n"
     ]
    },
    {
     "name": "stderr",
     "output_type": "stream",
     "text": [
      "Unclosed AIOKafkaProducer\n",
      "producer: <aiokafka.producer.producer.AIOKafkaProducer object at 0x7fe8ba30bd00>\n"
     ]
    },
    {
     "name": "stdout",
     "output_type": "stream",
     "text": [
      "idx = 0, channels[idx] = 25000\n"
     ]
    },
    {
     "name": "stderr",
     "output_type": "stream",
     "text": [
      "Unclosed AIOKafkaProducer\n",
      "producer: <aiokafka.producer.producer.AIOKafkaProducer object at 0x7fe8ba30b790>\n"
     ]
    },
    {
     "name": "stdout",
     "output_type": "stream",
     "text": [
      "idx = 0, channels[idx] = 25000\n"
     ]
    },
    {
     "name": "stderr",
     "output_type": "stream",
     "text": [
      "Unclosed AIOKafkaProducer\n",
      "producer: <aiokafka.producer.producer.AIOKafkaProducer object at 0x7fe8ba30b520>\n",
      "Task was destroyed but it is pending!\n",
      "task: <Task pending name='Task-2780' coro=<Sender._sender_routine() running at /home/saifulkhan/CODE/SKA/streaming-vis-perf/broker/venv/lib/python3.9/site-packages/aiokafka/producer/sender.py:147> wait_for=<Future pending cb=[<TaskWakeupMethWrapper object at 0x7fe8ba30b640>()]> cb=[Sender._fail_all()]>\n",
      "Task was destroyed but it is pending!\n",
      "task: <Task pending name='Task-2790' coro=<Sender._sender_routine() done, defined at /home/saifulkhan/CODE/SKA/streaming-vis-perf/broker/venv/lib/python3.9/site-packages/aiokafka/producer/sender.py:81> wait_for=<Future pending cb=[<TaskWakeupMethWrapper object at 0x7fe8b9cda550>()]> cb=[Sender._fail_all()]>\n"
     ]
    },
    {
     "name": "stdout",
     "output_type": "stream",
     "text": [
      "idx = 1, channels[idx] = 50000\n"
     ]
    },
    {
     "name": "stderr",
     "output_type": "stream",
     "text": [
      "Unclosed AIOKafkaProducer\n",
      "producer: <aiokafka.producer.producer.AIOKafkaProducer object at 0x7fe8b9cda910>\n"
     ]
    },
    {
     "name": "stdout",
     "output_type": "stream",
     "text": [
      "idx = 1, channels[idx] = 50000\n"
     ]
    },
    {
     "name": "stderr",
     "output_type": "stream",
     "text": [
      "Unclosed AIOKafkaProducer\n",
      "producer: <aiokafka.producer.producer.AIOKafkaProducer object at 0x7fe8b9cdacd0>\n",
      "Task was destroyed but it is pending!\n",
      "task: <Task pending name='Task-2810' coro=<Sender._sender_routine() running at /home/saifulkhan/CODE/SKA/streaming-vis-perf/broker/venv/lib/python3.9/site-packages/aiokafka/producer/sender.py:147> wait_for=<Future pending cb=[<TaskWakeupMethWrapper object at 0x7fe8b9cdaf70>()]> cb=[Sender._fail_all()]>\n"
     ]
    },
    {
     "name": "stdout",
     "output_type": "stream",
     "text": [
      "idx = 1, channels[idx] = 50000\n"
     ]
    },
    {
     "name": "stderr",
     "output_type": "stream",
     "text": [
      "Unclosed AIOKafkaProducer\n",
      "producer: <aiokafka.producer.producer.AIOKafkaProducer object at 0x7fe8b9cdafd0>\n"
     ]
    },
    {
     "name": "stdout",
     "output_type": "stream",
     "text": [
      "idx = 1, channels[idx] = 50000\n"
     ]
    },
    {
     "name": "stderr",
     "output_type": "stream",
     "text": [
      "Unclosed AIOKafkaProducer\n",
      "producer: <aiokafka.producer.producer.AIOKafkaProducer object at 0x7fe8bb954250>\n",
      "Task was destroyed but it is pending!\n",
      "task: <Task pending name='Task-2830' coro=<Sender._sender_routine() running at /home/saifulkhan/CODE/SKA/streaming-vis-perf/broker/venv/lib/python3.9/site-packages/aiokafka/producer/sender.py:147> wait_for=<Future pending cb=[<TaskWakeupMethWrapper object at 0x7fe8bb954610>()]> cb=[Sender._fail_all()]>\n"
     ]
    },
    {
     "name": "stdout",
     "output_type": "stream",
     "text": [
      "idx = 1, channels[idx] = 50000\n"
     ]
    },
    {
     "name": "stderr",
     "output_type": "stream",
     "text": [
      "Unclosed AIOKafkaProducer\n",
      "producer: <aiokafka.producer.producer.AIOKafkaProducer object at 0x7fe8bb954790>\n",
      "Unclosed AIOKafkaProducer\n",
      "producer: <aiokafka.producer.producer.AIOKafkaProducer object at 0x7fe8b9fa79d0>\n",
      "Task was destroyed but it is pending!\n",
      "task: <Task pending name='Task-2598' coro=<Sender._sender_routine() running at /home/saifulkhan/CODE/SKA/streaming-vis-perf/broker/venv/lib/python3.9/site-packages/aiokafka/producer/sender.py:147> wait_for=<Future pending cb=[<TaskWakeupMethWrapper object at 0x7fe8bb323df0>()]> cb=[Sender._fail_all()]>\n",
      "Task was destroyed but it is pending!\n",
      "task: <Task pending name='Task-2618' coro=<Sender._sender_routine() running at /home/saifulkhan/CODE/SKA/streaming-vis-perf/broker/venv/lib/python3.9/site-packages/aiokafka/producer/sender.py:147> wait_for=<Future pending cb=[<TaskWakeupMethWrapper object at 0x7fe8b9ebcb50>()]> cb=[Sender._fail_all()]>\n",
      "Task was destroyed but it is pending!\n",
      "task: <Task pending name='Task-2638' coro=<Sender._sender_routine() running at /home/saifulkhan/CODE/SKA/streaming-vis-perf/broker/venv/lib/python3.9/site-packages/aiokafka/producer/sender.py:147> wait_for=<Future pending cb=[<TaskWakeupMethWrapper object at 0x7fe8b9f682b0>()]> cb=[Sender._fail_all()]>\n",
      "Task was destroyed but it is pending!\n",
      "task: <Task pending name='Task-2668' coro=<Sender._sender_routine() running at /home/saifulkhan/CODE/SKA/streaming-vis-perf/broker/venv/lib/python3.9/site-packages/aiokafka/producer/sender.py:147> wait_for=<Future pending cb=[<TaskWakeupMethWrapper object at 0x7fe8b9f457c0>()]> cb=[Sender._fail_all()]>\n",
      "Task was destroyed but it is pending!\n",
      "task: <Task pending name='Task-2688' coro=<Sender._sender_routine() running at /home/saifulkhan/CODE/SKA/streaming-vis-perf/broker/venv/lib/python3.9/site-packages/aiokafka/producer/sender.py:147> wait_for=<Future pending cb=[<TaskWakeupMethWrapper object at 0x7fe8b9eb7700>()]> cb=[Sender._fail_all()]>\n",
      "Task was destroyed but it is pending!\n",
      "task: <Task pending name='Task-2720' coro=<Sender._sender_routine() running at /home/saifulkhan/CODE/SKA/streaming-vis-perf/broker/venv/lib/python3.9/site-packages/aiokafka/producer/sender.py:147> wait_for=<Future pending cb=[<TaskWakeupMethWrapper object at 0x7fe8bddbdb80>()]> cb=[Sender._fail_all()]>\n",
      "Task was destroyed but it is pending!\n",
      "task: <Task pending name='Task-2740' coro=<Sender._sender_routine() running at /home/saifulkhan/CODE/SKA/streaming-vis-perf/broker/venv/lib/python3.9/site-packages/aiokafka/producer/sender.py:147> wait_for=<Future pending cb=[<TaskWakeupMethWrapper object at 0x7fe8b9ed2520>()]> cb=[Sender._fail_all()]>\n",
      "Task was destroyed but it is pending!\n",
      "task: <Task pending name='Task-2770' coro=<Sender._sender_routine() running at /home/saifulkhan/CODE/SKA/streaming-vis-perf/broker/venv/lib/python3.9/site-packages/aiokafka/producer/sender.py:147> wait_for=<Future pending cb=[<TaskWakeupMethWrapper object at 0x7fe8ba30bc40>()]> cb=[Sender._fail_all()]>\n",
      "Task was destroyed but it is pending!\n",
      "task: <Task pending name='Task-2800' coro=<Sender._sender_routine() running at /home/saifulkhan/CODE/SKA/streaming-vis-perf/broker/venv/lib/python3.9/site-packages/aiokafka/producer/sender.py:147> wait_for=<Future pending cb=[<TaskWakeupMethWrapper object at 0x7fe8b9cda970>()]> cb=[Sender._fail_all()]>\n",
      "Task was destroyed but it is pending!\n",
      "task: <Task pending name='Task-2820' coro=<Sender._sender_routine() running at /home/saifulkhan/CODE/SKA/streaming-vis-perf/broker/venv/lib/python3.9/site-packages/aiokafka/producer/sender.py:147> wait_for=<Future pending cb=[<TaskWakeupMethWrapper object at 0x7fe8b9cdadc0>()]> cb=[Sender._fail_all()]>\n",
      "Task was destroyed but it is pending!\n",
      "task: <Task pending name='Task-2840' coro=<Sender._sender_routine() done, defined at /home/saifulkhan/CODE/SKA/streaming-vis-perf/broker/venv/lib/python3.9/site-packages/aiokafka/producer/sender.py:81> wait_for=<Future pending cb=[<TaskWakeupMethWrapper object at 0x7fe8bb954af0>()]> cb=[Sender._fail_all()]>\n"
     ]
    },
    {
     "name": "stdout",
     "output_type": "stream",
     "text": [
      "idx = 1, channels[idx] = 50000\n"
     ]
    },
    {
     "name": "stderr",
     "output_type": "stream",
     "text": [
      "Unclosed AIOKafkaProducer\n",
      "producer: <aiokafka.producer.producer.AIOKafkaProducer object at 0x7fe8bb954250>\n"
     ]
    },
    {
     "name": "stdout",
     "output_type": "stream",
     "text": [
      "idx = 1, channels[idx] = 50000\n"
     ]
    },
    {
     "name": "stderr",
     "output_type": "stream",
     "text": [
      "Unclosed AIOKafkaProducer\n",
      "producer: <aiokafka.producer.producer.AIOKafkaProducer object at 0x7fe8bb5d91c0>\n",
      "Task was destroyed but it is pending!\n",
      "task: <Task pending name='Task-2860' coro=<Sender._sender_routine() done, defined at /home/saifulkhan/CODE/SKA/streaming-vis-perf/broker/venv/lib/python3.9/site-packages/aiokafka/producer/sender.py:81> wait_for=<Future pending cb=[<TaskWakeupMethWrapper object at 0x7fe8b9cdad30>()]> cb=[Sender._fail_all()]>\n"
     ]
    },
    {
     "name": "stdout",
     "output_type": "stream",
     "text": [
      "idx = 1, channels[idx] = 50000\n"
     ]
    },
    {
     "name": "stderr",
     "output_type": "stream",
     "text": [
      "Unclosed AIOKafkaProducer\n",
      "producer: <aiokafka.producer.producer.AIOKafkaProducer object at 0x7fe8b9fcb160>\n"
     ]
    },
    {
     "name": "stdout",
     "output_type": "stream",
     "text": [
      "idx = 1, channels[idx] = 50000\n"
     ]
    },
    {
     "name": "stderr",
     "output_type": "stream",
     "text": [
      "Unclosed AIOKafkaProducer\n",
      "producer: <aiokafka.producer.producer.AIOKafkaProducer object at 0x7fe8b9fcb2e0>\n"
     ]
    },
    {
     "name": "stdout",
     "output_type": "stream",
     "text": [
      "idx = 1, channels[idx] = 50000\n"
     ]
    },
    {
     "name": "stderr",
     "output_type": "stream",
     "text": [
      "Unclosed AIOKafkaProducer\n",
      "producer: <aiokafka.producer.producer.AIOKafkaProducer object at 0x7fe8b9fda700>\n",
      "Task was destroyed but it is pending!\n",
      "task: <Task pending name='Task-2880' coro=<Sender._sender_routine() running at /home/saifulkhan/CODE/SKA/streaming-vis-perf/broker/venv/lib/python3.9/site-packages/aiokafka/producer/sender.py:147> wait_for=<Future pending cb=[<TaskWakeupMethWrapper object at 0x7fe8bcb36b50>()]> cb=[Sender._fail_all()]>\n",
      "Task was destroyed but it is pending!\n",
      "task: <Task pending name='Task-2890' coro=<Sender._sender_routine() running at /home/saifulkhan/CODE/SKA/streaming-vis-perf/broker/venv/lib/python3.9/site-packages/aiokafka/producer/sender.py:147> wait_for=<Future pending cb=[<TaskWakeupMethWrapper object at 0x7fe8b9fda4f0>()]> cb=[Sender._fail_all()]>\n"
     ]
    },
    {
     "name": "stdout",
     "output_type": "stream",
     "text": [
      "idx = 2, channels[idx] = 75000\n"
     ]
    },
    {
     "name": "stderr",
     "output_type": "stream",
     "text": [
      "Unclosed AIOKafkaProducer\n",
      "producer: <aiokafka.producer.producer.AIOKafkaProducer object at 0x7fe8b9f85850>\n"
     ]
    },
    {
     "name": "stdout",
     "output_type": "stream",
     "text": [
      "idx = 2, channels[idx] = 75000\n"
     ]
    },
    {
     "name": "stderr",
     "output_type": "stream",
     "text": [
      "Unclosed AIOKafkaProducer\n",
      "producer: <aiokafka.producer.producer.AIOKafkaProducer object at 0x7fe8b9fda8b0>\n",
      "Task was destroyed but it is pending!\n",
      "task: <Task pending name='Task-2910' coro=<Sender._sender_routine() running at /home/saifulkhan/CODE/SKA/streaming-vis-perf/broker/venv/lib/python3.9/site-packages/aiokafka/producer/sender.py:147> wait_for=<Future pending cb=[<TaskWakeupMethWrapper object at 0x7fe8b9fdad60>()]> cb=[Sender._fail_all()]>\n"
     ]
    },
    {
     "name": "stdout",
     "output_type": "stream",
     "text": [
      "idx = 2, channels[idx] = 75000\n"
     ]
    },
    {
     "name": "stderr",
     "output_type": "stream",
     "text": [
      "Unclosed AIOKafkaProducer\n",
      "producer: <aiokafka.producer.producer.AIOKafkaProducer object at 0x7fe8b9fec1c0>\n"
     ]
    },
    {
     "name": "stdout",
     "output_type": "stream",
     "text": [
      "idx = 2, channels[idx] = 75000\n"
     ]
    },
    {
     "name": "stderr",
     "output_type": "stream",
     "text": [
      "Unclosed AIOKafkaProducer\n",
      "producer: <aiokafka.producer.producer.AIOKafkaProducer object at 0x7fe8b9fecb50>\n"
     ]
    },
    {
     "name": "stdout",
     "output_type": "stream",
     "text": [
      "idx = 2, channels[idx] = 75000\n"
     ]
    },
    {
     "name": "stderr",
     "output_type": "stream",
     "text": [
      "Unclosed AIOKafkaProducer\n",
      "producer: <aiokafka.producer.producer.AIOKafkaProducer object at 0x7fe8b9fec880>\n",
      "Task was destroyed but it is pending!\n",
      "task: <Task pending name='Task-2930' coro=<Sender._sender_routine() running at /home/saifulkhan/CODE/SKA/streaming-vis-perf/broker/venv/lib/python3.9/site-packages/aiokafka/producer/sender.py:147> wait_for=<Future pending cb=[<TaskWakeupMethWrapper object at 0x7fe8b9fec040>()]> cb=[Sender._fail_all()]>\n",
      "Task was destroyed but it is pending!\n",
      "task: <Task pending name='Task-2940' coro=<Sender._sender_routine() running at /home/saifulkhan/CODE/SKA/streaming-vis-perf/broker/venv/lib/python3.9/site-packages/aiokafka/producer/sender.py:147> wait_for=<Future pending cb=[<TaskWakeupMethWrapper object at 0x7fe8ba352760>()]> cb=[Sender._fail_all()]>\n"
     ]
    },
    {
     "name": "stdout",
     "output_type": "stream",
     "text": [
      "idx = 2, channels[idx] = 75000\n"
     ]
    },
    {
     "name": "stderr",
     "output_type": "stream",
     "text": [
      "Unclosed AIOKafkaProducer\n",
      "producer: <aiokafka.producer.producer.AIOKafkaProducer object at 0x7fe8b9fa7bb0>\n"
     ]
    },
    {
     "name": "stdout",
     "output_type": "stream",
     "text": [
      "idx = 2, channels[idx] = 75000\n"
     ]
    },
    {
     "name": "stderr",
     "output_type": "stream",
     "text": [
      "Unclosed AIOKafkaProducer\n",
      "producer: <aiokafka.producer.producer.AIOKafkaProducer object at 0x7fe8b9fec040>\n"
     ]
    },
    {
     "name": "stdout",
     "output_type": "stream",
     "text": [
      "idx = 2, channels[idx] = 75000\n"
     ]
    },
    {
     "name": "stderr",
     "output_type": "stream",
     "text": [
      "Unclosed AIOKafkaProducer\n",
      "producer: <aiokafka.producer.producer.AIOKafkaProducer object at 0x7fe8bdeac5b0>\n",
      "Task was destroyed but it is pending!\n",
      "task: <Task pending name='Task-2960' coro=<Sender._sender_routine() running at /home/saifulkhan/CODE/SKA/streaming-vis-perf/broker/venv/lib/python3.9/site-packages/aiokafka/producer/sender.py:147> wait_for=<Future pending cb=[<TaskWakeupMethWrapper object at 0x7fe8bb857cd0>()]> cb=[Sender._fail_all()]>\n",
      "Task was destroyed but it is pending!\n",
      "task: <Task pending name='Task-2970' coro=<Sender._sender_routine() done, defined at /home/saifulkhan/CODE/SKA/streaming-vis-perf/broker/venv/lib/python3.9/site-packages/aiokafka/producer/sender.py:81> wait_for=<Future pending cb=[<TaskWakeupMethWrapper object at 0x7fe8ba03d7c0>()]> cb=[Sender._fail_all()]>\n"
     ]
    },
    {
     "name": "stdout",
     "output_type": "stream",
     "text": [
      "idx = 2, channels[idx] = 75000\n"
     ]
    },
    {
     "name": "stderr",
     "output_type": "stream",
     "text": [
      "Unclosed AIOKafkaProducer\n",
      "producer: <aiokafka.producer.producer.AIOKafkaProducer object at 0x7fe8ba30bd60>\n"
     ]
    },
    {
     "name": "stdout",
     "output_type": "stream",
     "text": [
      "idx = 2, channels[idx] = 75000\n"
     ]
    },
    {
     "name": "stderr",
     "output_type": "stream",
     "text": [
      "Unclosed AIOKafkaProducer\n",
      "producer: <aiokafka.producer.producer.AIOKafkaProducer object at 0x7fe8be1b9340>\n",
      "Task was destroyed but it is pending!\n",
      "task: <Task pending name='Task-2990' coro=<Sender._sender_routine() running at /home/saifulkhan/CODE/SKA/streaming-vis-perf/broker/venv/lib/python3.9/site-packages/aiokafka/producer/sender.py:147> wait_for=<Future pending cb=[<TaskWakeupMethWrapper object at 0x7fe8b9ebc430>()]> cb=[Sender._fail_all()]>\n"
     ]
    },
    {
     "name": "stdout",
     "output_type": "stream",
     "text": [
      "idx = 3, channels[idx] = 100000\n"
     ]
    },
    {
     "name": "stderr",
     "output_type": "stream",
     "text": [
      "Unclosed AIOKafkaProducer\n",
      "producer: <aiokafka.producer.producer.AIOKafkaProducer object at 0x7fe8bb754550>\n"
     ]
    },
    {
     "name": "stdout",
     "output_type": "stream",
     "text": [
      "idx = 3, channels[idx] = 100000\n"
     ]
    },
    {
     "name": "stderr",
     "output_type": "stream",
     "text": [
      "Unclosed AIOKafkaProducer\n",
      "producer: <aiokafka.producer.producer.AIOKafkaProducer object at 0x7fe8ba1919d0>\n"
     ]
    },
    {
     "name": "stdout",
     "output_type": "stream",
     "text": [
      "idx = 3, channels[idx] = 100000\n"
     ]
    },
    {
     "name": "stderr",
     "output_type": "stream",
     "text": [
      "Unclosed AIOKafkaProducer\n",
      "producer: <aiokafka.producer.producer.AIOKafkaProducer object at 0x7fe8ba191e20>\n",
      "Task was destroyed but it is pending!\n",
      "task: <Task pending name='Task-3010' coro=<Sender._sender_routine() running at /home/saifulkhan/CODE/SKA/streaming-vis-perf/broker/venv/lib/python3.9/site-packages/aiokafka/producer/sender.py:147> wait_for=<Future pending cb=[<TaskWakeupMethWrapper object at 0x7fe8ba191910>()]> cb=[Sender._fail_all()]>\n",
      "Task was destroyed but it is pending!\n",
      "task: <Task pending name='Task-3020' coro=<Sender._sender_routine() running at /home/saifulkhan/CODE/SKA/streaming-vis-perf/broker/venv/lib/python3.9/site-packages/aiokafka/producer/sender.py:147> wait_for=<Future pending cb=[<TaskWakeupMethWrapper object at 0x7fe8ba191e80>()]> cb=[Sender._fail_all()]>\n"
     ]
    },
    {
     "name": "stdout",
     "output_type": "stream",
     "text": [
      "idx = 3, channels[idx] = 100000\n"
     ]
    },
    {
     "name": "stderr",
     "output_type": "stream",
     "text": [
      "Unclosed AIOKafkaProducer\n",
      "producer: <aiokafka.producer.producer.AIOKafkaProducer object at 0x7fe8bcea47f0>\n"
     ]
    },
    {
     "name": "stdout",
     "output_type": "stream",
     "text": [
      "idx = 3, channels[idx] = 100000\n"
     ]
    },
    {
     "name": "stderr",
     "output_type": "stream",
     "text": [
      "Unclosed AIOKafkaProducer\n",
      "producer: <aiokafka.producer.producer.AIOKafkaProducer object at 0x7fe8b8df3550>\n",
      "Task was destroyed but it is pending!\n",
      "task: <Task pending name='Task-3040' coro=<Sender._sender_routine() running at /home/saifulkhan/CODE/SKA/streaming-vis-perf/broker/venv/lib/python3.9/site-packages/aiokafka/producer/sender.py:147> wait_for=<Future pending cb=[<TaskWakeupMethWrapper object at 0x7fe8b8df3820>()]> cb=[Sender._fail_all()]>\n"
     ]
    },
    {
     "name": "stdout",
     "output_type": "stream",
     "text": [
      "idx = 3, channels[idx] = 100000\n"
     ]
    },
    {
     "name": "stderr",
     "output_type": "stream",
     "text": [
      "Unclosed AIOKafkaProducer\n",
      "producer: <aiokafka.producer.producer.AIOKafkaProducer object at 0x7fe8b8df3ee0>\n"
     ]
    },
    {
     "name": "stdout",
     "output_type": "stream",
     "text": [
      "idx = 3, channels[idx] = 100000\n"
     ]
    },
    {
     "name": "stderr",
     "output_type": "stream",
     "text": [
      "Unclosed AIOKafkaProducer\n",
      "producer: <aiokafka.producer.producer.AIOKafkaProducer object at 0x7fe8b8df3d30>\n"
     ]
    },
    {
     "name": "stdout",
     "output_type": "stream",
     "text": [
      "idx = 3, channels[idx] = 100000\n"
     ]
    },
    {
     "name": "stderr",
     "output_type": "stream",
     "text": [
      "Unclosed AIOKafkaProducer\n",
      "producer: <aiokafka.producer.producer.AIOKafkaProducer object at 0x7fe8b8d65760>\n",
      "Task was destroyed but it is pending!\n",
      "task: <Task pending name='Task-3060' coro=<Sender._sender_routine() running at /home/saifulkhan/CODE/SKA/streaming-vis-perf/broker/venv/lib/python3.9/site-packages/aiokafka/producer/sender.py:147> wait_for=<Future pending cb=[<TaskWakeupMethWrapper object at 0x7fe8b8d653a0>()]> cb=[Sender._fail_all()]>\n",
      "Task was destroyed but it is pending!\n",
      "task: <Task pending name='Task-3070' coro=<Sender._sender_routine() running at /home/saifulkhan/CODE/SKA/streaming-vis-perf/broker/venv/lib/python3.9/site-packages/aiokafka/producer/sender.py:147> wait_for=<Future pending cb=[<TaskWakeupMethWrapper object at 0x7fe8b8d65a30>()]> cb=[Sender._fail_all()]>\n"
     ]
    },
    {
     "name": "stdout",
     "output_type": "stream",
     "text": [
      "idx = 3, channels[idx] = 100000\n"
     ]
    },
    {
     "name": "stderr",
     "output_type": "stream",
     "text": [
      "Unclosed AIOKafkaProducer\n",
      "producer: <aiokafka.producer.producer.AIOKafkaProducer object at 0x7fe8b8d65400>\n"
     ]
    },
    {
     "name": "stdout",
     "output_type": "stream",
     "text": [
      "idx = 3, channels[idx] = 100000\n"
     ]
    },
    {
     "name": "stderr",
     "output_type": "stream",
     "text": [
      "Unclosed AIOKafkaProducer\n",
      "producer: <aiokafka.producer.producer.AIOKafkaProducer object at 0x7fe8b8d65910>\n"
     ]
    },
    {
     "name": "stdout",
     "output_type": "stream",
     "text": [
      "idx = 4, channels[idx] = 125000\n"
     ]
    },
    {
     "name": "stderr",
     "output_type": "stream",
     "text": [
      "Unclosed AIOKafkaProducer\n",
      "producer: <aiokafka.producer.producer.AIOKafkaProducer object at 0x7fe8b8d3f6a0>\n",
      "Task was destroyed but it is pending!\n",
      "task: <Task pending name='Task-3090' coro=<Sender._sender_routine() running at /home/saifulkhan/CODE/SKA/streaming-vis-perf/broker/venv/lib/python3.9/site-packages/aiokafka/producer/sender.py:147> wait_for=<Future pending cb=[<TaskWakeupMethWrapper object at 0x7fe8b8d3f550>()]> cb=[Sender._fail_all()]>\n",
      "Task was destroyed but it is pending!\n",
      "task: <Task pending name='Task-3100' coro=<Sender._sender_routine() running at /home/saifulkhan/CODE/SKA/streaming-vis-perf/broker/venv/lib/python3.9/site-packages/aiokafka/producer/sender.py:147> wait_for=<Future pending cb=[<TaskWakeupMethWrapper object at 0x7fe8b8d3f820>()]> cb=[Sender._fail_all()]>\n"
     ]
    },
    {
     "name": "stdout",
     "output_type": "stream",
     "text": [
      "idx = 4, channels[idx] = 125000\n"
     ]
    },
    {
     "name": "stderr",
     "output_type": "stream",
     "text": [
      "Unclosed AIOKafkaProducer\n",
      "producer: <aiokafka.producer.producer.AIOKafkaProducer object at 0x7fe8b8d3f280>\n"
     ]
    },
    {
     "name": "stdout",
     "output_type": "stream",
     "text": [
      "idx = 4, channels[idx] = 125000\n"
     ]
    },
    {
     "name": "stderr",
     "output_type": "stream",
     "text": [
      "Unclosed AIOKafkaProducer\n",
      "producer: <aiokafka.producer.producer.AIOKafkaProducer object at 0x7fe8b8d3f670>\n",
      "Task was destroyed but it is pending!\n",
      "task: <Task pending name='Task-3120' coro=<Sender._sender_routine() running at /home/saifulkhan/CODE/SKA/streaming-vis-perf/broker/venv/lib/python3.9/site-packages/aiokafka/producer/sender.py:147> wait_for=<Future pending cb=[<TaskWakeupMethWrapper object at 0x7fe8bb5dd5e0>()]> cb=[Sender._fail_all()]>\n"
     ]
    },
    {
     "name": "stdout",
     "output_type": "stream",
     "text": [
      "idx = 4, channels[idx] = 125000\n"
     ]
    },
    {
     "name": "stderr",
     "output_type": "stream",
     "text": [
      "Unclosed AIOKafkaProducer\n",
      "producer: <aiokafka.producer.producer.AIOKafkaProducer object at 0x7fe8bb5dd7c0>\n"
     ]
    },
    {
     "name": "stdout",
     "output_type": "stream",
     "text": [
      "idx = 4, channels[idx] = 125000\n"
     ]
    },
    {
     "name": "stderr",
     "output_type": "stream",
     "text": [
      "Unclosed AIOKafkaProducer\n",
      "producer: <aiokafka.producer.producer.AIOKafkaProducer object at 0x7fe8bb5dd490>\n"
     ]
    },
    {
     "name": "stdout",
     "output_type": "stream",
     "text": [
      "idx = 4, channels[idx] = 125000\n"
     ]
    },
    {
     "name": "stderr",
     "output_type": "stream",
     "text": [
      "Unclosed AIOKafkaProducer\n",
      "producer: <aiokafka.producer.producer.AIOKafkaProducer object at 0x7fe8bb5dd370>\n",
      "Task was destroyed but it is pending!\n",
      "task: <Task pending name='Task-3140' coro=<Sender._sender_routine() running at /home/saifulkhan/CODE/SKA/streaming-vis-perf/broker/venv/lib/python3.9/site-packages/aiokafka/producer/sender.py:147> wait_for=<Future pending cb=[<TaskWakeupMethWrapper object at 0x7fe8bb5dd4c0>()]> cb=[Sender._fail_all()]>\n",
      "Task was destroyed but it is pending!\n",
      "task: <Task pending name='Task-3150' coro=<Sender._sender_routine() running at /home/saifulkhan/CODE/SKA/streaming-vis-perf/broker/venv/lib/python3.9/site-packages/aiokafka/producer/sender.py:147> wait_for=<Future pending cb=[<TaskWakeupMethWrapper object at 0x7fe8b8c9b1c0>()]> cb=[Sender._fail_all()]>\n"
     ]
    },
    {
     "name": "stdout",
     "output_type": "stream",
     "text": [
      "idx = 4, channels[idx] = 125000\n"
     ]
    },
    {
     "name": "stderr",
     "output_type": "stream",
     "text": [
      "Unclosed AIOKafkaProducer\n",
      "producer: <aiokafka.producer.producer.AIOKafkaProducer object at 0x7fe8b8c9b2e0>\n"
     ]
    },
    {
     "name": "stdout",
     "output_type": "stream",
     "text": [
      "idx = 4, channels[idx] = 125000\n"
     ]
    },
    {
     "name": "stderr",
     "output_type": "stream",
     "text": [
      "Unclosed AIOKafkaProducer\n",
      "producer: <aiokafka.producer.producer.AIOKafkaProducer object at 0x7fe8b8c9bca0>\n",
      "Task was destroyed but it is pending!\n",
      "task: <Task pending name='Task-3170' coro=<Sender._sender_routine() running at /home/saifulkhan/CODE/SKA/streaming-vis-perf/broker/venv/lib/python3.9/site-packages/aiokafka/producer/sender.py:147> wait_for=<Future pending cb=[<TaskWakeupMethWrapper object at 0x7fe8b8c9b070>()]> cb=[Sender._fail_all()]>\n"
     ]
    },
    {
     "name": "stdout",
     "output_type": "stream",
     "text": [
      "idx = 4, channels[idx] = 125000\n"
     ]
    },
    {
     "name": "stderr",
     "output_type": "stream",
     "text": [
      "Unclosed AIOKafkaProducer\n",
      "producer: <aiokafka.producer.producer.AIOKafkaProducer object at 0x7fe8bb5dde80>\n"
     ]
    },
    {
     "name": "stdout",
     "output_type": "stream",
     "text": [
      "idx = 4, channels[idx] = 125000\n"
     ]
    },
    {
     "name": "stderr",
     "output_type": "stream",
     "text": [
      "Unclosed AIOKafkaProducer\n",
      "producer: <aiokafka.producer.producer.AIOKafkaProducer object at 0x7fe8ba4f29d0>\n",
      "Task was destroyed but it is pending!\n",
      "task: <Task pending name='Task-3190' coro=<Sender._sender_routine() running at /home/saifulkhan/CODE/SKA/streaming-vis-perf/broker/venv/lib/python3.9/site-packages/aiokafka/producer/sender.py:147> wait_for=<Future pending cb=[<TaskWakeupMethWrapper object at 0x7fe8ba4f2cd0>()]> cb=[Sender._fail_all()]>\n",
      "Task was destroyed but it is pending!\n",
      "task: <Task pending name='Task-2850' coro=<Sender._sender_routine() running at /home/saifulkhan/CODE/SKA/streaming-vis-perf/broker/venv/lib/python3.9/site-packages/aiokafka/producer/sender.py:147> wait_for=<Future pending cb=[<TaskWakeupMethWrapper object at 0x7fe8ba0d0040>()]> cb=[Sender._fail_all()]>\n",
      "Task was destroyed but it is pending!\n",
      "task: <Task pending name='Task-2870' coro=<Sender._sender_routine() running at /home/saifulkhan/CODE/SKA/streaming-vis-perf/broker/venv/lib/python3.9/site-packages/aiokafka/producer/sender.py:147> wait_for=<Future pending cb=[<TaskWakeupMethWrapper object at 0x7fe8b9fcbfd0>()]> cb=[Sender._fail_all()]>\n",
      "Task was destroyed but it is pending!\n",
      "task: <Task pending name='Task-2900' coro=<Sender._sender_routine() running at /home/saifulkhan/CODE/SKA/streaming-vis-perf/broker/venv/lib/python3.9/site-packages/aiokafka/producer/sender.py:147> wait_for=<Future pending cb=[<TaskWakeupMethWrapper object at 0x7fe8b9fdaf40>()]> cb=[Sender._fail_all()]>\n",
      "Task was destroyed but it is pending!\n",
      "task: <Task pending name='Task-2920' coro=<Sender._sender_routine() running at /home/saifulkhan/CODE/SKA/streaming-vis-perf/broker/venv/lib/python3.9/site-packages/aiokafka/producer/sender.py:147> wait_for=<Future pending cb=[<TaskWakeupMethWrapper object at 0x7fe8b9fec310>()]> cb=[Sender._fail_all()]>\n",
      "Task was destroyed but it is pending!\n",
      "task: <Task pending name='Task-2950' coro=<Sender._sender_routine() running at /home/saifulkhan/CODE/SKA/streaming-vis-perf/broker/venv/lib/python3.9/site-packages/aiokafka/producer/sender.py:147> wait_for=<Future pending cb=[<TaskWakeupMethWrapper object at 0x7fe8b9fa7eb0>()]> cb=[Sender._fail_all()]>\n",
      "Task was destroyed but it is pending!\n",
      "task: <Task pending name='Task-2980' coro=<Sender._sender_routine() running at /home/saifulkhan/CODE/SKA/streaming-vis-perf/broker/venv/lib/python3.9/site-packages/aiokafka/producer/sender.py:147> wait_for=<Future pending cb=[<TaskWakeupMethWrapper object at 0x7fe8b9f45340>()]> cb=[Sender._fail_all()]>\n",
      "Task was destroyed but it is pending!\n",
      "task: <Task pending name='Task-3000' coro=<Sender._sender_routine() running at /home/saifulkhan/CODE/SKA/streaming-vis-perf/broker/venv/lib/python3.9/site-packages/aiokafka/producer/sender.py:147> wait_for=<Future pending cb=[<TaskWakeupMethWrapper object at 0x7fe8bb754160>()]> cb=[Sender._fail_all()]>\n",
      "Task was destroyed but it is pending!\n",
      "task: <Task pending name='Task-3030' coro=<Sender._sender_routine() running at /home/saifulkhan/CODE/SKA/streaming-vis-perf/broker/venv/lib/python3.9/site-packages/aiokafka/producer/sender.py:147> wait_for=<Future pending cb=[<TaskWakeupMethWrapper object at 0x7fe8ba191760>()]> cb=[Sender._fail_all()]>\n",
      "Task was destroyed but it is pending!\n",
      "task: <Task pending name='Task-3050' coro=<Sender._sender_routine() running at /home/saifulkhan/CODE/SKA/streaming-vis-perf/broker/venv/lib/python3.9/site-packages/aiokafka/producer/sender.py:147> wait_for=<Future pending cb=[<TaskWakeupMethWrapper object at 0x7fe8b8df3cd0>()]> cb=[Sender._fail_all()]>\n",
      "Task was destroyed but it is pending!\n",
      "task: <Task pending name='Task-3080' coro=<Sender._sender_routine() running at /home/saifulkhan/CODE/SKA/streaming-vis-perf/broker/venv/lib/python3.9/site-packages/aiokafka/producer/sender.py:147> wait_for=<Future pending cb=[<TaskWakeupMethWrapper object at 0x7fe8b8d65b50>()]> cb=[Sender._fail_all()]>\n",
      "Task was destroyed but it is pending!\n",
      "task: <Task pending name='Task-3110' coro=<Sender._sender_routine() running at /home/saifulkhan/CODE/SKA/streaming-vis-perf/broker/venv/lib/python3.9/site-packages/aiokafka/producer/sender.py:147> wait_for=<Future pending cb=[<TaskWakeupMethWrapper object at 0x7fe8b8d3fca0>()]> cb=[Sender._fail_all()]>\n",
      "Task was destroyed but it is pending!\n",
      "task: <Task pending name='Task-3130' coro=<Sender._sender_routine() running at /home/saifulkhan/CODE/SKA/streaming-vis-perf/broker/venv/lib/python3.9/site-packages/aiokafka/producer/sender.py:147> wait_for=<Future pending cb=[<TaskWakeupMethWrapper object at 0x7fe8bb5dd790>()]> cb=[Sender._fail_all()]>\n",
      "Task was destroyed but it is pending!\n",
      "task: <Task pending name='Task-3160' coro=<Sender._sender_routine() running at /home/saifulkhan/CODE/SKA/streaming-vis-perf/broker/venv/lib/python3.9/site-packages/aiokafka/producer/sender.py:147> wait_for=<Future pending cb=[<TaskWakeupMethWrapper object at 0x7fe8b8c9b670>()]> cb=[Sender._fail_all()]>\n",
      "Task was destroyed but it is pending!\n",
      "task: <Task pending name='Task-3180' coro=<Sender._sender_routine() running at /home/saifulkhan/CODE/SKA/streaming-vis-perf/broker/venv/lib/python3.9/site-packages/aiokafka/producer/sender.py:147> wait_for=<Future pending cb=[<TaskWakeupMethWrapper object at 0x7fe8b8c9b2e0>()]> cb=[Sender._fail_all()]>\n"
     ]
    },
    {
     "name": "stdout",
     "output_type": "stream",
     "text": [
      "idx = 5, channels[idx] = 150000\n"
     ]
    },
    {
     "name": "stderr",
     "output_type": "stream",
     "text": [
      "Unclosed AIOKafkaProducer\n",
      "producer: <aiokafka.producer.producer.AIOKafkaProducer object at 0x7fe8ba4f2d00>\n"
     ]
    },
    {
     "name": "stdout",
     "output_type": "stream",
     "text": [
      "idx = 5, channels[idx] = 150000\n"
     ]
    },
    {
     "name": "stderr",
     "output_type": "stream",
     "text": [
      "Unclosed AIOKafkaProducer\n",
      "producer: <aiokafka.producer.producer.AIOKafkaProducer object at 0x7fe8b9f85130>\n",
      "Task was destroyed but it is pending!\n",
      "task: <Task pending name='Task-3210' coro=<Sender._sender_routine() running at /home/saifulkhan/CODE/SKA/streaming-vis-perf/broker/venv/lib/python3.9/site-packages/aiokafka/producer/sender.py:147> wait_for=<Future pending cb=[<TaskWakeupMethWrapper object at 0x7fe8b8d65b50>()]> cb=[Sender._fail_all()]>\n"
     ]
    },
    {
     "name": "stdout",
     "output_type": "stream",
     "text": [
      "idx = 5, channels[idx] = 150000\n"
     ]
    },
    {
     "name": "stderr",
     "output_type": "stream",
     "text": [
      "Unclosed AIOKafkaProducer\n",
      "producer: <aiokafka.producer.producer.AIOKafkaProducer object at 0x7fe8ba191f40>\n"
     ]
    },
    {
     "name": "stdout",
     "output_type": "stream",
     "text": [
      "idx = 5, channels[idx] = 150000\n"
     ]
    },
    {
     "name": "stderr",
     "output_type": "stream",
     "text": [
      "Unclosed AIOKafkaProducer\n",
      "producer: <aiokafka.producer.producer.AIOKafkaProducer object at 0x7fe8b8d65bb0>\n",
      "Task was destroyed but it is pending!\n",
      "task: <Task pending name='Task-3230' coro=<Sender._sender_routine() running at /home/saifulkhan/CODE/SKA/streaming-vis-perf/broker/venv/lib/python3.9/site-packages/aiokafka/producer/sender.py:147> wait_for=<Future pending cb=[<TaskWakeupMethWrapper object at 0x7fe8ba165880>()]> cb=[Sender._fail_all()]>\n"
     ]
    },
    {
     "name": "stdout",
     "output_type": "stream",
     "text": [
      "idx = 5, channels[idx] = 150000\n"
     ]
    },
    {
     "name": "stderr",
     "output_type": "stream",
     "text": [
      "Unclosed AIOKafkaProducer\n",
      "producer: <aiokafka.producer.producer.AIOKafkaProducer object at 0x7fe8bca8ed60>\n"
     ]
    },
    {
     "name": "stdout",
     "output_type": "stream",
     "text": [
      "idx = 5, channels[idx] = 150000\n"
     ]
    },
    {
     "name": "stderr",
     "output_type": "stream",
     "text": [
      "Unclosed AIOKafkaProducer\n",
      "producer: <aiokafka.producer.producer.AIOKafkaProducer object at 0x7fe8bba162b0>\n"
     ]
    },
    {
     "name": "stdout",
     "output_type": "stream",
     "text": [
      "idx = 5, channels[idx] = 150000\n"
     ]
    },
    {
     "name": "stderr",
     "output_type": "stream",
     "text": [
      "Task was destroyed but it is pending!\n",
      "task: <Task pending name='Task-3250' coro=<Sender._sender_routine() running at /home/saifulkhan/CODE/SKA/streaming-vis-perf/broker/venv/lib/python3.9/site-packages/aiokafka/producer/sender.py:147> wait_for=<Future pending cb=[<TaskWakeupMethWrapper object at 0x7fe8b8b6b1c0>()]> cb=[Sender._fail_all()]>\n",
      "Unclosed AIOKafkaProducer\n",
      "producer: <aiokafka.producer.producer.AIOKafkaProducer object at 0x7fe8b8b6b430>\n"
     ]
    },
    {
     "name": "stdout",
     "output_type": "stream",
     "text": [
      "idx = 5, channels[idx] = 150000\n"
     ]
    },
    {
     "name": "stderr",
     "output_type": "stream",
     "text": [
      "Unclosed AIOKafkaProducer\n",
      "producer: <aiokafka.producer.producer.AIOKafkaProducer object at 0x7fe8b8b6b430>\n",
      "Task was destroyed but it is pending!\n",
      "task: <Task pending name='Task-3270' coro=<Sender._sender_routine() running at /home/saifulkhan/CODE/SKA/streaming-vis-perf/broker/venv/lib/python3.9/site-packages/aiokafka/producer/sender.py:147> wait_for=<Future pending cb=[<TaskWakeupMethWrapper object at 0x7fe8b8b6b040>()]> cb=[Sender._fail_all()]>\n"
     ]
    },
    {
     "name": "stdout",
     "output_type": "stream",
     "text": [
      "idx = 5, channels[idx] = 150000\n"
     ]
    },
    {
     "name": "stderr",
     "output_type": "stream",
     "text": [
      "Unclosed AIOKafkaProducer\n",
      "producer: <aiokafka.producer.producer.AIOKafkaProducer object at 0x7fe8b9f85940>\n"
     ]
    },
    {
     "name": "stdout",
     "output_type": "stream",
     "text": [
      "idx = 5, channels[idx] = 150000\n"
     ]
    },
    {
     "name": "stderr",
     "output_type": "stream",
     "text": [
      "Unclosed AIOKafkaProducer\n",
      "producer: <aiokafka.producer.producer.AIOKafkaProducer object at 0x7fe8b8a608e0>\n"
     ]
    },
    {
     "name": "stdout",
     "output_type": "stream",
     "text": [
      "idx = 6, channels[idx] = 175000\n"
     ]
    },
    {
     "name": "stderr",
     "output_type": "stream",
     "text": [
      "Task was destroyed but it is pending!\n",
      "task: <Task pending name='Task-3290' coro=<Sender._sender_routine() running at /home/saifulkhan/CODE/SKA/streaming-vis-perf/broker/venv/lib/python3.9/site-packages/aiokafka/producer/sender.py:147> wait_for=<Future pending cb=[<TaskWakeupMethWrapper object at 0x7fe8b8a607f0>()]> cb=[Sender._fail_all()]>\n",
      "Unclosed AIOKafkaProducer\n",
      "producer: <aiokafka.producer.producer.AIOKafkaProducer object at 0x7fe8b8a60850>\n"
     ]
    },
    {
     "name": "stdout",
     "output_type": "stream",
     "text": [
      "idx = 6, channels[idx] = 175000\n"
     ]
    },
    {
     "name": "stderr",
     "output_type": "stream",
     "text": [
      "Unclosed AIOKafkaProducer\n",
      "producer: <aiokafka.producer.producer.AIOKafkaProducer object at 0x7fe8bb904dc0>\n"
     ]
    },
    {
     "name": "stdout",
     "output_type": "stream",
     "text": [
      "idx = 6, channels[idx] = 175000\n"
     ]
    },
    {
     "name": "stderr",
     "output_type": "stream",
     "text": [
      "Unclosed AIOKafkaProducer\n",
      "producer: <aiokafka.producer.producer.AIOKafkaProducer object at 0x7fe8bb2e38b0>\n"
     ]
    },
    {
     "name": "stdout",
     "output_type": "stream",
     "text": [
      "idx = 6, channels[idx] = 175000\n"
     ]
    },
    {
     "name": "stderr",
     "output_type": "stream",
     "text": [
      "Unclosed AIOKafkaProducer\n",
      "producer: <aiokafka.producer.producer.AIOKafkaProducer object at 0x7fe8bb2e3fa0>\n",
      "Task was destroyed but it is pending!\n",
      "task: <Task pending name='Task-3320' coro=<Sender._sender_routine() running at /home/saifulkhan/CODE/SKA/streaming-vis-perf/broker/venv/lib/python3.9/site-packages/aiokafka/producer/sender.py:147> wait_for=<Future pending cb=[<TaskWakeupMethWrapper object at 0x7fe8bb2e3850>()]> cb=[Sender._fail_all()]>\n",
      "Task was destroyed but it is pending!\n",
      "task: <Task pending name='Task-3330' coro=<Sender._sender_routine() running at /home/saifulkhan/CODE/SKA/streaming-vis-perf/broker/venv/lib/python3.9/site-packages/aiokafka/producer/sender.py:147> wait_for=<Future pending cb=[<TaskWakeupMethWrapper object at 0x7fe8b89a32b0>()]> cb=[Sender._fail_all()]>\n"
     ]
    },
    {
     "name": "stdout",
     "output_type": "stream",
     "text": [
      "idx = 6, channels[idx] = 175000\n"
     ]
    },
    {
     "name": "stderr",
     "output_type": "stream",
     "text": [
      "Unclosed AIOKafkaProducer\n",
      "producer: <aiokafka.producer.producer.AIOKafkaProducer object at 0x7fe8b89a3730>\n"
     ]
    },
    {
     "name": "stdout",
     "output_type": "stream",
     "text": [
      "idx = 6, channels[idx] = 175000\n"
     ]
    },
    {
     "name": "stderr",
     "output_type": "stream",
     "text": [
      "Unclosed AIOKafkaProducer\n",
      "producer: <aiokafka.producer.producer.AIOKafkaProducer object at 0x7fe8bdbbf640>\n"
     ]
    },
    {
     "name": "stdout",
     "output_type": "stream",
     "text": [
      "idx = 6, channels[idx] = 175000\n"
     ]
    },
    {
     "name": "stderr",
     "output_type": "stream",
     "text": [
      "Unclosed AIOKafkaProducer\n",
      "producer: <aiokafka.producer.producer.AIOKafkaProducer object at 0x7fe8b89a39a0>\n"
     ]
    },
    {
     "name": "stdout",
     "output_type": "stream",
     "text": [
      "idx = 6, channels[idx] = 175000\n"
     ]
    },
    {
     "name": "stderr",
     "output_type": "stream",
     "text": [
      "Unclosed AIOKafkaProducer\n",
      "producer: <aiokafka.producer.producer.AIOKafkaProducer object at 0x7fe8b89a39a0>\n",
      "Task was destroyed but it is pending!\n",
      "task: <Task pending name='Task-3360' coro=<Sender._sender_routine() running at /home/saifulkhan/CODE/SKA/streaming-vis-perf/broker/venv/lib/python3.9/site-packages/aiokafka/producer/sender.py:147> wait_for=<Future pending cb=[<TaskWakeupMethWrapper object at 0x7fe8bb178130>()]> cb=[Sender._fail_all()]>\n",
      "Task was destroyed but it is pending!\n",
      "task: <Task pending name='Task-3370' coro=<Sender._sender_routine() done, defined at /home/saifulkhan/CODE/SKA/streaming-vis-perf/broker/venv/lib/python3.9/site-packages/aiokafka/producer/sender.py:81> wait_for=<Future pending cb=[<TaskWakeupMethWrapper object at 0x7fe8bb178520>()]> cb=[Sender._fail_all()]>\n"
     ]
    },
    {
     "name": "stdout",
     "output_type": "stream",
     "text": [
      "idx = 6, channels[idx] = 175000\n"
     ]
    },
    {
     "name": "stderr",
     "output_type": "stream",
     "text": [
      "Unclosed AIOKafkaProducer\n",
      "producer: <aiokafka.producer.producer.AIOKafkaProducer object at 0x7fe8bb178e20>\n"
     ]
    },
    {
     "name": "stdout",
     "output_type": "stream",
     "text": [
      "idx = 6, channels[idx] = 175000\n"
     ]
    },
    {
     "name": "stderr",
     "output_type": "stream",
     "text": [
      "Unclosed AIOKafkaProducer\n",
      "producer: <aiokafka.producer.producer.AIOKafkaProducer object at 0x7fe8bb178850>\n",
      "Task was destroyed but it is pending!\n",
      "task: <Task pending name='Task-3390' coro=<Sender._sender_routine() running at /home/saifulkhan/CODE/SKA/streaming-vis-perf/broker/venv/lib/python3.9/site-packages/aiokafka/producer/sender.py:147> wait_for=<Future pending cb=[<TaskWakeupMethWrapper object at 0x7fe8b895a8b0>()]> cb=[Sender._fail_all()]>\n"
     ]
    },
    {
     "name": "stdout",
     "output_type": "stream",
     "text": [
      "idx = 7, channels[idx] = 200000\n"
     ]
    },
    {
     "name": "stderr",
     "output_type": "stream",
     "text": [
      "Unclosed AIOKafkaProducer\n",
      "producer: <aiokafka.producer.producer.AIOKafkaProducer object at 0x7fe8b895a0a0>\n"
     ]
    },
    {
     "name": "stdout",
     "output_type": "stream",
     "text": [
      "idx = 7, channels[idx] = 200000\n"
     ]
    },
    {
     "name": "stderr",
     "output_type": "stream",
     "text": [
      "Unclosed AIOKafkaProducer\n",
      "producer: <aiokafka.producer.producer.AIOKafkaProducer object at 0x7fe8b895aac0>\n"
     ]
    },
    {
     "name": "stdout",
     "output_type": "stream",
     "text": [
      "idx = 7, channels[idx] = 200000\n"
     ]
    },
    {
     "name": "stderr",
     "output_type": "stream",
     "text": [
      "Unclosed AIOKafkaProducer\n",
      "producer: <aiokafka.producer.producer.AIOKafkaProducer object at 0x7fe8b895a910>\n",
      "Task was destroyed but it is pending!\n",
      "task: <Task pending name='Task-3420' coro=<Sender._sender_routine() running at /home/saifulkhan/CODE/SKA/streaming-vis-perf/broker/venv/lib/python3.9/site-packages/aiokafka/producer/sender.py:147> wait_for=<Future pending cb=[<TaskWakeupMethWrapper object at 0x7fe8bdf65610>()]> cb=[Sender._fail_all()]>\n"
     ]
    },
    {
     "name": "stdout",
     "output_type": "stream",
     "text": [
      "idx = 7, channels[idx] = 200000\n"
     ]
    },
    {
     "name": "stderr",
     "output_type": "stream",
     "text": [
      "Unclosed AIOKafkaProducer\n",
      "producer: <aiokafka.producer.producer.AIOKafkaProducer object at 0x7fe8bdf65040>\n"
     ]
    },
    {
     "name": "stdout",
     "output_type": "stream",
     "text": [
      "idx = 7, channels[idx] = 200000\n"
     ]
    },
    {
     "name": "stderr",
     "output_type": "stream",
     "text": [
      "Unclosed AIOKafkaProducer\n",
      "producer: <aiokafka.producer.producer.AIOKafkaProducer object at 0x7fe8bdf65820>\n"
     ]
    },
    {
     "name": "stdout",
     "output_type": "stream",
     "text": [
      "idx = 7, channels[idx] = 200000\n"
     ]
    },
    {
     "name": "stderr",
     "output_type": "stream",
     "text": [
      "Unclosed AIOKafkaProducer\n",
      "producer: <aiokafka.producer.producer.AIOKafkaProducer object at 0x7fe8b8843610>\n",
      "Task was destroyed but it is pending!\n",
      "task: <Task pending name='Task-3450' coro=<Sender._sender_routine() running at /home/saifulkhan/CODE/SKA/streaming-vis-perf/broker/venv/lib/python3.9/site-packages/aiokafka/producer/sender.py:147> wait_for=<Future pending cb=[<TaskWakeupMethWrapper object at 0x7fe8b88436d0>()]> cb=[Sender._fail_all()]>\n",
      "Task was destroyed but it is pending!\n",
      "task: <Task pending name='Task-3200' coro=<Sender._sender_routine() running at /home/saifulkhan/CODE/SKA/streaming-vis-perf/broker/venv/lib/python3.9/site-packages/aiokafka/producer/sender.py:147> wait_for=<Future pending cb=[<TaskWakeupMethWrapper object at 0x7fe8b8c9b790>()]> cb=[Sender._fail_all()]>\n",
      "Task was destroyed but it is pending!\n",
      "task: <Task pending name='Task-3220' coro=<Sender._sender_routine() running at /home/saifulkhan/CODE/SKA/streaming-vis-perf/broker/venv/lib/python3.9/site-packages/aiokafka/producer/sender.py:147> wait_for=<Future pending cb=[<TaskWakeupMethWrapper object at 0x7fe8bdbc8ee0>()]> cb=[Sender._fail_all()]>\n",
      "Task was destroyed but it is pending!\n",
      "task: <Task pending name='Task-3240' coro=<Sender._sender_routine() running at /home/saifulkhan/CODE/SKA/streaming-vis-perf/broker/venv/lib/python3.9/site-packages/aiokafka/producer/sender.py:147> wait_for=<Future pending cb=[<TaskWakeupMethWrapper object at 0x7fe8ba4f2d00>()]> cb=[Sender._fail_all()]>\n",
      "Task was destroyed but it is pending!\n",
      "task: <Task pending name='Task-3260' coro=<Sender._sender_routine() running at /home/saifulkhan/CODE/SKA/streaming-vis-perf/broker/venv/lib/python3.9/site-packages/aiokafka/producer/sender.py:147> wait_for=<Future pending cb=[<TaskWakeupMethWrapper object at 0x7fe8b8b6bc40>()]> cb=[Sender._fail_all()]>\n",
      "Task was destroyed but it is pending!\n",
      "task: <Task pending name='Task-3280' coro=<Sender._sender_routine() running at /home/saifulkhan/CODE/SKA/streaming-vis-perf/broker/venv/lib/python3.9/site-packages/aiokafka/producer/sender.py:147> wait_for=<Future pending cb=[<TaskWakeupMethWrapper object at 0x7fe8b8b6b4f0>()]> cb=[Sender._fail_all()]>\n",
      "Task was destroyed but it is pending!\n",
      "task: <Task pending name='Task-3300' coro=<Sender._sender_routine() running at /home/saifulkhan/CODE/SKA/streaming-vis-perf/broker/venv/lib/python3.9/site-packages/aiokafka/producer/sender.py:147> wait_for=<Future pending cb=[<TaskWakeupMethWrapper object at 0x7fe8b8a602b0>()]> cb=[Sender._fail_all()]>\n",
      "Task was destroyed but it is pending!\n",
      "task: <Task pending name='Task-3310' coro=<Sender._sender_routine() running at /home/saifulkhan/CODE/SKA/streaming-vis-perf/broker/venv/lib/python3.9/site-packages/aiokafka/producer/sender.py:147> wait_for=<Future pending cb=[<TaskWakeupMethWrapper object at 0x7fe8bb2e34c0>()]> cb=[Sender._fail_all()]>\n",
      "Task was destroyed but it is pending!\n",
      "task: <Task pending name='Task-3340' coro=<Sender._sender_routine() running at /home/saifulkhan/CODE/SKA/streaming-vis-perf/broker/venv/lib/python3.9/site-packages/aiokafka/producer/sender.py:147> wait_for=<Future pending cb=[<TaskWakeupMethWrapper object at 0x7fe8bb2e3340>()]> cb=[Sender._fail_all()]>\n",
      "Task was destroyed but it is pending!\n",
      "task: <Task pending name='Task-3350' coro=<Sender._sender_routine() running at /home/saifulkhan/CODE/SKA/streaming-vis-perf/broker/venv/lib/python3.9/site-packages/aiokafka/producer/sender.py:147> wait_for=<Future pending cb=[<TaskWakeupMethWrapper object at 0x7fe8b89a3520>()]> cb=[Sender._fail_all()]>\n",
      "Task was destroyed but it is pending!\n",
      "task: <Task pending name='Task-3380' coro=<Sender._sender_routine() running at /home/saifulkhan/CODE/SKA/streaming-vis-perf/broker/venv/lib/python3.9/site-packages/aiokafka/producer/sender.py:147> wait_for=<Future pending cb=[<TaskWakeupMethWrapper object at 0x7fe8bb178d30>()]> cb=[Sender._fail_all()]>\n",
      "Task was destroyed but it is pending!\n",
      "task: <Task pending name='Task-3400' coro=<Sender._sender_routine() running at /home/saifulkhan/CODE/SKA/streaming-vis-perf/broker/venv/lib/python3.9/site-packages/aiokafka/producer/sender.py:147> wait_for=<Future pending cb=[<TaskWakeupMethWrapper object at 0x7fe8b895a7f0>()]> cb=[Sender._fail_all()]>\n",
      "Task was destroyed but it is pending!\n",
      "task: <Task pending name='Task-3410' coro=<Sender._sender_routine() running at /home/saifulkhan/CODE/SKA/streaming-vis-perf/broker/venv/lib/python3.9/site-packages/aiokafka/producer/sender.py:147> wait_for=<Future pending cb=[<TaskWakeupMethWrapper object at 0x7fe8b895a490>()]> cb=[Sender._fail_all()]>\n",
      "Task was destroyed but it is pending!\n",
      "task: <Task pending name='Task-3430' coro=<Sender._sender_routine() running at /home/saifulkhan/CODE/SKA/streaming-vis-perf/broker/venv/lib/python3.9/site-packages/aiokafka/producer/sender.py:147> wait_for=<Future pending cb=[<TaskWakeupMethWrapper object at 0x7fe8bdf65c40>()]> cb=[Sender._fail_all()]>\n",
      "Task was destroyed but it is pending!\n",
      "task: <Task pending name='Task-3440' coro=<Sender._sender_routine() running at /home/saifulkhan/CODE/SKA/streaming-vis-perf/broker/venv/lib/python3.9/site-packages/aiokafka/producer/sender.py:147> wait_for=<Future pending cb=[<TaskWakeupMethWrapper object at 0x7fe8b88438e0>()]> cb=[Sender._fail_all()]>\n"
     ]
    },
    {
     "name": "stdout",
     "output_type": "stream",
     "text": [
      "idx = 7, channels[idx] = 200000\n"
     ]
    },
    {
     "name": "stderr",
     "output_type": "stream",
     "text": [
      "Unclosed AIOKafkaProducer\n",
      "producer: <aiokafka.producer.producer.AIOKafkaProducer object at 0x7fe8b8843c70>\n"
     ]
    },
    {
     "name": "stdout",
     "output_type": "stream",
     "text": [
      "idx = 7, channels[idx] = 200000\n"
     ]
    },
    {
     "name": "stderr",
     "output_type": "stream",
     "text": [
      "Unclosed AIOKafkaProducer\n",
      "producer: <aiokafka.producer.producer.AIOKafkaProducer object at 0x7fe8b88437c0>\n",
      "Task was destroyed but it is pending!\n",
      "task: <Task pending name='Task-3470' coro=<Sender._sender_routine() running at /home/saifulkhan/CODE/SKA/streaming-vis-perf/broker/venv/lib/python3.9/site-packages/aiokafka/producer/sender.py:147> wait_for=<Future pending cb=[<TaskWakeupMethWrapper object at 0x7fe8b88438e0>()]> cb=[Sender._fail_all()]>\n"
     ]
    },
    {
     "name": "stdout",
     "output_type": "stream",
     "text": [
      "idx = 7, channels[idx] = 200000\n"
     ]
    },
    {
     "name": "stderr",
     "output_type": "stream",
     "text": [
      "Unclosed AIOKafkaProducer\n",
      "producer: <aiokafka.producer.producer.AIOKafkaProducer object at 0x7fe8bdbbfdc0>\n"
     ]
    },
    {
     "name": "stdout",
     "output_type": "stream",
     "text": [
      "idx = 7, channels[idx] = 200000\n"
     ]
    },
    {
     "name": "stderr",
     "output_type": "stream",
     "text": [
      "Unclosed AIOKafkaProducer\n",
      "producer: <aiokafka.producer.producer.AIOKafkaProducer object at 0x7fe8bcb022b0>\n",
      "Task was destroyed but it is pending!\n",
      "task: <Task pending name='Task-3490' coro=<Sender._sender_routine() running at /home/saifulkhan/CODE/SKA/streaming-vis-perf/broker/venv/lib/python3.9/site-packages/aiokafka/producer/sender.py:147> wait_for=<Future pending cb=[<TaskWakeupMethWrapper object at 0x7fe8bb2e3e80>()]> cb=[Sender._fail_all()]>\n"
     ]
    },
    {
     "name": "stdout",
     "output_type": "stream",
     "text": [
      "idx = 8, channels[idx] = 225000\n"
     ]
    },
    {
     "name": "stderr",
     "output_type": "stream",
     "text": [
      "Unclosed AIOKafkaProducer\n",
      "producer: <aiokafka.producer.producer.AIOKafkaProducer object at 0x7fe8bbb94a60>\n"
     ]
    },
    {
     "name": "stdout",
     "output_type": "stream",
     "text": [
      "idx = 8, channels[idx] = 225000\n"
     ]
    },
    {
     "name": "stderr",
     "output_type": "stream",
     "text": [
      "Unclosed AIOKafkaProducer\n",
      "producer: <aiokafka.producer.producer.AIOKafkaProducer object at 0x7fe8b8b6b6d0>\n"
     ]
    },
    {
     "name": "stdout",
     "output_type": "stream",
     "text": [
      "idx = 8, channels[idx] = 225000\n"
     ]
    },
    {
     "name": "stderr",
     "output_type": "stream",
     "text": [
      "Unclosed AIOKafkaProducer\n",
      "producer: <aiokafka.producer.producer.AIOKafkaProducer object at 0x7fe8b9e916a0>\n",
      "Task was destroyed but it is pending!\n",
      "task: <Task pending name='Task-3520' coro=<Sender._sender_routine() running at /home/saifulkhan/CODE/SKA/streaming-vis-perf/broker/venv/lib/python3.9/site-packages/aiokafka/producer/sender.py:147> wait_for=<Future pending cb=[<TaskWakeupMethWrapper object at 0x7fe8b9e91640>()]> cb=[Sender._fail_all()]>\n"
     ]
    },
    {
     "name": "stdout",
     "output_type": "stream",
     "text": [
      "idx = 8, channels[idx] = 225000\n"
     ]
    },
    {
     "name": "stderr",
     "output_type": "stream",
     "text": [
      "Unclosed AIOKafkaProducer\n",
      "producer: <aiokafka.producer.producer.AIOKafkaProducer object at 0x7fe8b9e91b50>\n"
     ]
    },
    {
     "name": "stdout",
     "output_type": "stream",
     "text": [
      "idx = 8, channels[idx] = 225000\n"
     ]
    },
    {
     "name": "stderr",
     "output_type": "stream",
     "text": [
      "Unclosed AIOKafkaProducer\n",
      "producer: <aiokafka.producer.producer.AIOKafkaProducer object at 0x7fe8b9e91f10>\n"
     ]
    },
    {
     "name": "stdout",
     "output_type": "stream",
     "text": [
      "idx = 8, channels[idx] = 225000\n"
     ]
    },
    {
     "name": "stderr",
     "output_type": "stream",
     "text": [
      "Task was destroyed but it is pending!\n",
      "task: <Task pending name='Task-3540' coro=<Sender._sender_routine() running at /home/saifulkhan/CODE/SKA/streaming-vis-perf/broker/venv/lib/python3.9/site-packages/aiokafka/producer/sender.py:147> wait_for=<Future pending cb=[<TaskWakeupMethWrapper object at 0x7fe8ba3a8280>()]> cb=[Sender._fail_all()]>\n",
      "Unclosed AIOKafkaProducer\n",
      "producer: <aiokafka.producer.producer.AIOKafkaProducer object at 0x7fe8ba3a80d0>\n"
     ]
    },
    {
     "name": "stdout",
     "output_type": "stream",
     "text": [
      "idx = 8, channels[idx] = 225000\n"
     ]
    },
    {
     "name": "stderr",
     "output_type": "stream",
     "text": [
      "Unclosed AIOKafkaProducer\n",
      "producer: <aiokafka.producer.producer.AIOKafkaProducer object at 0x7fe8ba3a8af0>\n"
     ]
    },
    {
     "name": "stdout",
     "output_type": "stream",
     "text": [
      "idx = 8, channels[idx] = 225000\n"
     ]
    },
    {
     "name": "stderr",
     "output_type": "stream",
     "text": [
      "Unclosed AIOKafkaProducer\n",
      "producer: <aiokafka.producer.producer.AIOKafkaProducer object at 0x7fe8ba3a8be0>\n"
     ]
    },
    {
     "name": "stdout",
     "output_type": "stream",
     "text": [
      "idx = 8, channels[idx] = 225000\n"
     ]
    },
    {
     "name": "stderr",
     "output_type": "stream",
     "text": [
      "Unclosed AIOKafkaProducer\n",
      "producer: <aiokafka.producer.producer.AIOKafkaProducer object at 0x7fe8b86d99d0>\n"
     ]
    },
    {
     "name": "stdout",
     "output_type": "stream",
     "text": [
      "idx = 8, channels[idx] = 225000\n"
     ]
    },
    {
     "name": "stderr",
     "output_type": "stream",
     "text": [
      "Unclosed AIOKafkaProducer\n",
      "producer: <aiokafka.producer.producer.AIOKafkaProducer object at 0x7fe8b86d9cd0>\n",
      "Task was destroyed but it is pending!\n",
      "task: <Task pending name='Task-3580' coro=<Sender._sender_routine() running at /home/saifulkhan/CODE/SKA/streaming-vis-perf/broker/venv/lib/python3.9/site-packages/aiokafka/producer/sender.py:147> wait_for=<Future pending cb=[<TaskWakeupMethWrapper object at 0x7fe8b86d9940>()]> cb=[Sender._fail_all()]>\n",
      "Task was destroyed but it is pending!\n",
      "task: <Task pending name='Task-3590' coro=<Sender._sender_routine() done, defined at /home/saifulkhan/CODE/SKA/streaming-vis-perf/broker/venv/lib/python3.9/site-packages/aiokafka/producer/sender.py:81> wait_for=<Future pending cb=[<TaskWakeupMethWrapper object at 0x7fe8ba28c760>()]> cb=[Sender._fail_all()]>\n"
     ]
    },
    {
     "name": "stdout",
     "output_type": "stream",
     "text": [
      "idx = 9, channels[idx] = 250000\n"
     ]
    },
    {
     "name": "stderr",
     "output_type": "stream",
     "text": [
      "Unclosed AIOKafkaProducer\n",
      "producer: <aiokafka.producer.producer.AIOKafkaProducer object at 0x7fe8ba28c340>\n"
     ]
    },
    {
     "name": "stdout",
     "output_type": "stream",
     "text": [
      "idx = 9, channels[idx] = 250000\n"
     ]
    },
    {
     "name": "stderr",
     "output_type": "stream",
     "text": [
      "Unclosed AIOKafkaProducer\n",
      "producer: <aiokafka.producer.producer.AIOKafkaProducer object at 0x7fe8ba28c9a0>\n",
      "Task was destroyed but it is pending!\n",
      "task: <Task pending name='Task-3610' coro=<Sender._sender_routine() running at /home/saifulkhan/CODE/SKA/streaming-vis-perf/broker/venv/lib/python3.9/site-packages/aiokafka/producer/sender.py:147> wait_for=<Future pending cb=[<TaskWakeupMethWrapper object at 0x7fe8ba28c550>()]> cb=[Sender._fail_all()]>\n"
     ]
    },
    {
     "name": "stdout",
     "output_type": "stream",
     "text": [
      "idx = 9, channels[idx] = 250000\n"
     ]
    },
    {
     "name": "stderr",
     "output_type": "stream",
     "text": [
      "Unclosed AIOKafkaProducer\n",
      "producer: <aiokafka.producer.producer.AIOKafkaProducer object at 0x7fe8ba28cb50>\n"
     ]
    },
    {
     "name": "stdout",
     "output_type": "stream",
     "text": [
      "idx = 9, channels[idx] = 250000\n"
     ]
    },
    {
     "name": "stderr",
     "output_type": "stream",
     "text": [
      "Unclosed AIOKafkaProducer\n",
      "producer: <aiokafka.producer.producer.AIOKafkaProducer object at 0x7fe8b9c18580>\n"
     ]
    },
    {
     "name": "stdout",
     "output_type": "stream",
     "text": [
      "idx = 9, channels[idx] = 250000\n"
     ]
    },
    {
     "name": "stderr",
     "output_type": "stream",
     "text": [
      "Unclosed AIOKafkaProducer\n",
      "producer: <aiokafka.producer.producer.AIOKafkaProducer object at 0x7fe8b9c18ee0>\n"
     ]
    },
    {
     "name": "stdout",
     "output_type": "stream",
     "text": [
      "idx = 9, channels[idx] = 250000\n"
     ]
    },
    {
     "name": "stderr",
     "output_type": "stream",
     "text": [
      "Unclosed AIOKafkaProducer\n",
      "producer: <aiokafka.producer.producer.AIOKafkaProducer object at 0x7fe8b9c18c70>\n",
      "Task was destroyed but it is pending!\n",
      "task: <Task pending name='Task-3640' coro=<Sender._sender_routine() running at /home/saifulkhan/CODE/SKA/streaming-vis-perf/broker/venv/lib/python3.9/site-packages/aiokafka/producer/sender.py:147> wait_for=<Future pending cb=[<TaskWakeupMethWrapper object at 0x7fe8b9c18be0>()]> cb=[Sender._fail_all()]>\n",
      "Task was destroyed but it is pending!\n",
      "task: <Task pending name='Task-3650' coro=<Sender._sender_routine() running at /home/saifulkhan/CODE/SKA/streaming-vis-perf/broker/venv/lib/python3.9/site-packages/aiokafka/producer/sender.py:147> wait_for=<Future pending cb=[<TaskWakeupMethWrapper object at 0x7fe8bb924310>()]> cb=[Sender._fail_all()]>\n"
     ]
    },
    {
     "name": "stdout",
     "output_type": "stream",
     "text": [
      "idx = 9, channels[idx] = 250000\n"
     ]
    },
    {
     "name": "stderr",
     "output_type": "stream",
     "text": [
      "Unclosed AIOKafkaProducer\n",
      "producer: <aiokafka.producer.producer.AIOKafkaProducer object at 0x7fe8bb9241f0>\n"
     ]
    },
    {
     "name": "stdout",
     "output_type": "stream",
     "text": [
      "idx = 9, channels[idx] = 250000\n"
     ]
    },
    {
     "name": "stderr",
     "output_type": "stream",
     "text": [
      "Task was destroyed but it is pending!\n",
      "task: <Task pending name='Task-3460' coro=<Sender._sender_routine() running at /home/saifulkhan/CODE/SKA/streaming-vis-perf/broker/venv/lib/python3.9/site-packages/aiokafka/producer/sender.py:147> wait_for=<Future pending cb=[<TaskWakeupMethWrapper object at 0x7fe8ba4f2eb0>()]> cb=[Sender._fail_all()]>\n",
      "Task was destroyed but it is pending!\n",
      "task: <Task pending name='Task-3480' coro=<Sender._sender_routine() running at /home/saifulkhan/CODE/SKA/streaming-vis-perf/broker/venv/lib/python3.9/site-packages/aiokafka/producer/sender.py:147> wait_for=<Future pending cb=[<TaskWakeupMethWrapper object at 0x7fe8b9f687f0>()]> cb=[Sender._fail_all()]>\n",
      "Task was destroyed but it is pending!\n",
      "task: <Task pending name='Task-3500' coro=<Sender._sender_routine() running at /home/saifulkhan/CODE/SKA/streaming-vis-perf/broker/venv/lib/python3.9/site-packages/aiokafka/producer/sender.py:147> wait_for=<Future pending cb=[<TaskWakeupMethWrapper object at 0x7fe8bc674760>()]> cb=[Sender._fail_all()]>\n",
      "Task was destroyed but it is pending!\n",
      "task: <Task pending name='Task-3510' coro=<Sender._sender_routine() running at /home/saifulkhan/CODE/SKA/streaming-vis-perf/broker/venv/lib/python3.9/site-packages/aiokafka/producer/sender.py:147> wait_for=<Future pending cb=[<TaskWakeupMethWrapper object at 0x7fe8ba494ac0>()]> cb=[Sender._fail_all()]>\n",
      "Task was destroyed but it is pending!\n",
      "task: <Task pending name='Task-3530' coro=<Sender._sender_routine() running at /home/saifulkhan/CODE/SKA/streaming-vis-perf/broker/venv/lib/python3.9/site-packages/aiokafka/producer/sender.py:147> wait_for=<Future pending cb=[<TaskWakeupMethWrapper object at 0x7fe8b9e91fd0>()]> cb=[Sender._fail_all()]>\n",
      "Task was destroyed but it is pending!\n",
      "task: <Task pending name='Task-3550' coro=<Sender._sender_routine() running at /home/saifulkhan/CODE/SKA/streaming-vis-perf/broker/venv/lib/python3.9/site-packages/aiokafka/producer/sender.py:147> wait_for=<Future pending cb=[<TaskWakeupMethWrapper object at 0x7fe8ba3a8310>()]> cb=[Sender._fail_all()]>\n",
      "Task was destroyed but it is pending!\n",
      "task: <Task pending name='Task-3560' coro=<Sender._sender_routine() running at /home/saifulkhan/CODE/SKA/streaming-vis-perf/broker/venv/lib/python3.9/site-packages/aiokafka/producer/sender.py:147> wait_for=<Future pending cb=[<TaskWakeupMethWrapper object at 0x7fe8ba3870a0>()]> cb=[Sender._fail_all()]>\n",
      "Task was destroyed but it is pending!\n",
      "task: <Task pending name='Task-3570' coro=<Sender._sender_routine() running at /home/saifulkhan/CODE/SKA/streaming-vis-perf/broker/venv/lib/python3.9/site-packages/aiokafka/producer/sender.py:147> wait_for=<Future pending cb=[<TaskWakeupMethWrapper object at 0x7fe8b86d9700>()]> cb=[Sender._fail_all()]>\n",
      "Task was destroyed but it is pending!\n",
      "task: <Task pending name='Task-3600' coro=<Sender._sender_routine() running at /home/saifulkhan/CODE/SKA/streaming-vis-perf/broker/venv/lib/python3.9/site-packages/aiokafka/producer/sender.py:147> wait_for=<Future pending cb=[<TaskWakeupMethWrapper object at 0x7fe8ba28cd90>()]> cb=[Sender._fail_all()]>\n",
      "Task was destroyed but it is pending!\n",
      "task: <Task pending name='Task-3620' coro=<Sender._sender_routine() running at /home/saifulkhan/CODE/SKA/streaming-vis-perf/broker/venv/lib/python3.9/site-packages/aiokafka/producer/sender.py:147> wait_for=<Future pending cb=[<TaskWakeupMethWrapper object at 0x7fe8ba28c490>()]> cb=[Sender._fail_all()]>\n",
      "Task was destroyed but it is pending!\n",
      "task: <Task pending name='Task-3630' coro=<Sender._sender_routine() running at /home/saifulkhan/CODE/SKA/streaming-vis-perf/broker/venv/lib/python3.9/site-packages/aiokafka/producer/sender.py:147> wait_for=<Future pending cb=[<TaskWakeupMethWrapper object at 0x7fe8b9c182b0>()]> cb=[Sender._fail_all()]>\n",
      "Task was destroyed but it is pending!\n",
      "task: <Task pending name='Task-3660' coro=<Sender._sender_routine() running at /home/saifulkhan/CODE/SKA/streaming-vis-perf/broker/venv/lib/python3.9/site-packages/aiokafka/producer/sender.py:147> wait_for=<Future pending cb=[<TaskWakeupMethWrapper object at 0x7fe8bb924b80>()]> cb=[Sender._fail_all()]>\n",
      "Unclosed AIOKafkaProducer\n",
      "producer: <aiokafka.producer.producer.AIOKafkaProducer object at 0x7fe8bb924fd0>\n"
     ]
    },
    {
     "name": "stdout",
     "output_type": "stream",
     "text": [
      "idx = 9, channels[idx] = 250000\n"
     ]
    },
    {
     "name": "stderr",
     "output_type": "stream",
     "text": [
      "Unclosed AIOKafkaProducer\n",
      "producer: <aiokafka.producer.producer.AIOKafkaProducer object at 0x7fe8bb9248b0>\n"
     ]
    },
    {
     "name": "stdout",
     "output_type": "stream",
     "text": [
      "idx = 9, channels[idx] = 250000\n"
     ]
    },
    {
     "name": "stderr",
     "output_type": "stream",
     "text": [
      "Unclosed AIOKafkaProducer\n",
      "producer: <aiokafka.producer.producer.AIOKafkaProducer object at 0x7fe8bb86d4f0>\n",
      "Task was destroyed but it is pending!\n",
      "task: <Task pending name='Task-3680' coro=<Sender._sender_routine() running at /home/saifulkhan/CODE/SKA/streaming-vis-perf/broker/venv/lib/python3.9/site-packages/aiokafka/producer/sender.py:147> wait_for=<Future pending cb=[<TaskWakeupMethWrapper object at 0x7fe8bb924df0>()]> cb=[Sender._fail_all()]>\n",
      "Task was destroyed but it is pending!\n",
      "task: <Task pending name='Task-3690' coro=<Sender._sender_routine() running at /home/saifulkhan/CODE/SKA/streaming-vis-perf/broker/venv/lib/python3.9/site-packages/aiokafka/producer/sender.py:147> wait_for=<Future pending cb=[<TaskWakeupMethWrapper object at 0x7fe8bb857fd0>()]> cb=[Sender._fail_all()]>\n"
     ]
    },
    {
     "name": "stdout",
     "output_type": "stream",
     "text": [
      "idx = 10, channels[idx] = 275000\n"
     ]
    },
    {
     "name": "stderr",
     "output_type": "stream",
     "text": [
      "Unclosed AIOKafkaProducer\n",
      "producer: <aiokafka.producer.producer.AIOKafkaProducer object at 0x7fe8b9c18190>\n"
     ]
    },
    {
     "name": "stdout",
     "output_type": "stream",
     "text": [
      "idx = 10, channels[idx] = 275000\n"
     ]
    },
    {
     "name": "stderr",
     "output_type": "stream",
     "text": [
      "Unclosed AIOKafkaProducer\n",
      "producer: <aiokafka.producer.producer.AIOKafkaProducer object at 0x7fe8b9f457c0>\n"
     ]
    },
    {
     "name": "stdout",
     "output_type": "stream",
     "text": [
      "idx = 10, channels[idx] = 275000\n"
     ]
    },
    {
     "name": "stderr",
     "output_type": "stream",
     "text": [
      "Task was destroyed but it is pending!\n",
      "task: <Task pending name='Task-3710' coro=<Sender._sender_routine() running at /home/saifulkhan/CODE/SKA/streaming-vis-perf/broker/venv/lib/python3.9/site-packages/aiokafka/producer/sender.py:147> wait_for=<Future pending cb=[<TaskWakeupMethWrapper object at 0x7fe8bb754070>()]> cb=[Sender._fail_all()]>\n",
      "Unclosed AIOKafkaProducer\n",
      "producer: <aiokafka.producer.producer.AIOKafkaProducer object at 0x7fe8bb857e20>\n"
     ]
    },
    {
     "name": "stdout",
     "output_type": "stream",
     "text": [
      "idx = 10, channels[idx] = 275000\n"
     ]
    },
    {
     "name": "stderr",
     "output_type": "stream",
     "text": [
      "Unclosed AIOKafkaProducer\n",
      "producer: <aiokafka.producer.producer.AIOKafkaProducer object at 0x7fe8bb754910>\n",
      "Task was destroyed but it is pending!\n",
      "task: <Task pending name='Task-3730' coro=<Sender._sender_routine() running at /home/saifulkhan/CODE/SKA/streaming-vis-perf/broker/venv/lib/python3.9/site-packages/aiokafka/producer/sender.py:147> wait_for=<Future pending cb=[<TaskWakeupMethWrapper object at 0x7fe8b84e69d0>()]> cb=[Sender._fail_all()]>\n"
     ]
    },
    {
     "name": "stdout",
     "output_type": "stream",
     "text": [
      "idx = 10, channels[idx] = 275000\n"
     ]
    },
    {
     "name": "stderr",
     "output_type": "stream",
     "text": [
      "Unclosed AIOKafkaProducer\n",
      "producer: <aiokafka.producer.producer.AIOKafkaProducer object at 0x7fe8ba191b20>\n"
     ]
    },
    {
     "name": "stdout",
     "output_type": "stream",
     "text": [
      "idx = 10, channels[idx] = 275000\n"
     ]
    },
    {
     "name": "stderr",
     "output_type": "stream",
     "text": [
      "Unclosed AIOKafkaProducer\n",
      "producer: <aiokafka.producer.producer.AIOKafkaProducer object at 0x7fe8b84e6f10>\n",
      "Task was destroyed but it is pending!\n",
      "task: <Task pending name='Task-3750' coro=<Sender._sender_routine() running at /home/saifulkhan/CODE/SKA/streaming-vis-perf/broker/venv/lib/python3.9/site-packages/aiokafka/producer/sender.py:147> wait_for=<Future pending cb=[<TaskWakeupMethWrapper object at 0x7fe8b8de2280>()]> cb=[Sender._fail_all()]>\n"
     ]
    },
    {
     "name": "stdout",
     "output_type": "stream",
     "text": [
      "idx = 10, channels[idx] = 275000\n"
     ]
    },
    {
     "name": "stderr",
     "output_type": "stream",
     "text": [
      "Unclosed AIOKafkaProducer\n",
      "producer: <aiokafka.producer.producer.AIOKafkaProducer object at 0x7fe8b8de2130>\n"
     ]
    },
    {
     "name": "stdout",
     "output_type": "stream",
     "text": [
      "idx = 10, channels[idx] = 275000\n"
     ]
    },
    {
     "name": "stderr",
     "output_type": "stream",
     "text": [
      "Unclosed AIOKafkaProducer\n",
      "producer: <aiokafka.producer.producer.AIOKafkaProducer object at 0x7fe8b8de2070>\n",
      "Task was destroyed but it is pending!\n",
      "task: <Task pending name='Task-3770' coro=<Sender._sender_routine() running at /home/saifulkhan/CODE/SKA/streaming-vis-perf/broker/venv/lib/python3.9/site-packages/aiokafka/producer/sender.py:147> wait_for=<Future pending cb=[<TaskWakeupMethWrapper object at 0x7fe8b8de2970>()]> cb=[Sender._fail_all()]>\n"
     ]
    },
    {
     "name": "stdout",
     "output_type": "stream",
     "text": [
      "idx = 10, channels[idx] = 275000\n"
     ]
    },
    {
     "name": "stderr",
     "output_type": "stream",
     "text": [
      "Unclosed AIOKafkaProducer\n",
      "producer: <aiokafka.producer.producer.AIOKafkaProducer object at 0x7fe8b8df3b80>\n"
     ]
    },
    {
     "name": "stdout",
     "output_type": "stream",
     "text": [
      "idx = 10, channels[idx] = 275000\n"
     ]
    },
    {
     "name": "stderr",
     "output_type": "stream",
     "text": [
      "Unclosed AIOKafkaProducer\n",
      "producer: <aiokafka.producer.producer.AIOKafkaProducer object at 0x7fe8b8d70280>\n",
      "Task was destroyed but it is pending!\n",
      "task: <Task pending name='Task-3790' coro=<Sender._sender_routine() running at /home/saifulkhan/CODE/SKA/streaming-vis-perf/broker/venv/lib/python3.9/site-packages/aiokafka/producer/sender.py:147> wait_for=<Future pending cb=[<TaskWakeupMethWrapper object at 0x7fe8b8d70490>()]> cb=[Sender._fail_all()]>\n"
     ]
    },
    {
     "name": "stdout",
     "output_type": "stream",
     "text": [
      "idx = 11, channels[idx] = 300000\n"
     ]
    },
    {
     "name": "stderr",
     "output_type": "stream",
     "text": [
      "Unclosed AIOKafkaProducer\n",
      "producer: <aiokafka.producer.producer.AIOKafkaProducer object at 0x7fe8b8d70be0>\n"
     ]
    },
    {
     "name": "stdout",
     "output_type": "stream",
     "text": [
      "idx = 11, channels[idx] = 300000\n"
     ]
    },
    {
     "name": "stderr",
     "output_type": "stream",
     "text": [
      "Unclosed AIOKafkaProducer\n",
      "producer: <aiokafka.producer.producer.AIOKafkaProducer object at 0x7fe8b838f130>\n"
     ]
    },
    {
     "name": "stdout",
     "output_type": "stream",
     "text": [
      "idx = 11, channels[idx] = 300000\n"
     ]
    },
    {
     "name": "stderr",
     "output_type": "stream",
     "text": [
      "Task was destroyed but it is pending!\n",
      "task: <Task pending name='Task-3810' coro=<Sender._sender_routine() running at /home/saifulkhan/CODE/SKA/streaming-vis-perf/broker/venv/lib/python3.9/site-packages/aiokafka/producer/sender.py:147> wait_for=<Future pending cb=[<TaskWakeupMethWrapper object at 0x7fe8b838feb0>()]> cb=[Sender._fail_all()]>\n",
      "Unclosed AIOKafkaProducer\n",
      "producer: <aiokafka.producer.producer.AIOKafkaProducer object at 0x7fe8b838f8e0>\n"
     ]
    },
    {
     "name": "stdout",
     "output_type": "stream",
     "text": [
      "idx = 11, channels[idx] = 300000\n"
     ]
    },
    {
     "name": "stderr",
     "output_type": "stream",
     "text": [
      "Unclosed AIOKafkaProducer\n",
      "producer: <aiokafka.producer.producer.AIOKafkaProducer object at 0x7fe8b838f790>\n",
      "Task was destroyed but it is pending!\n",
      "task: <Task pending name='Task-3830' coro=<Sender._sender_routine() running at /home/saifulkhan/CODE/SKA/streaming-vis-perf/broker/venv/lib/python3.9/site-packages/aiokafka/producer/sender.py:147> wait_for=<Future pending cb=[<TaskWakeupMethWrapper object at 0x7fe8b82d14f0>()]> cb=[Sender._fail_all()]>\n"
     ]
    },
    {
     "name": "stdout",
     "output_type": "stream",
     "text": [
      "idx = 11, channels[idx] = 300000\n"
     ]
    },
    {
     "name": "stderr",
     "output_type": "stream",
     "text": [
      "Unclosed AIOKafkaProducer\n",
      "producer: <aiokafka.producer.producer.AIOKafkaProducer object at 0x7fe8b82d1520>\n"
     ]
    },
    {
     "name": "stdout",
     "output_type": "stream",
     "text": [
      "idx = 11, channels[idx] = 300000\n"
     ]
    },
    {
     "name": "stderr",
     "output_type": "stream",
     "text": [
      "Unclosed AIOKafkaProducer\n",
      "producer: <aiokafka.producer.producer.AIOKafkaProducer object at 0x7fe8b82d1ac0>\n"
     ]
    },
    {
     "name": "stdout",
     "output_type": "stream",
     "text": [
      "idx = 11, channels[idx] = 300000\n"
     ]
    },
    {
     "name": "stderr",
     "output_type": "stream",
     "text": [
      "Unclosed AIOKafkaProducer\n",
      "producer: <aiokafka.producer.producer.AIOKafkaProducer object at 0x7fe8b82d1460>\n",
      "Task was destroyed but it is pending!\n",
      "task: <Task pending name='Task-3860' coro=<Sender._sender_routine() running at /home/saifulkhan/CODE/SKA/streaming-vis-perf/broker/venv/lib/python3.9/site-packages/aiokafka/producer/sender.py:147> wait_for=<Future pending cb=[<TaskWakeupMethWrapper object at 0x7fe8b8b87040>()]> cb=[Sender._fail_all()]>\n"
     ]
    },
    {
     "name": "stdout",
     "output_type": "stream",
     "text": [
      "idx = 11, channels[idx] = 300000\n"
     ]
    },
    {
     "name": "stderr",
     "output_type": "stream",
     "text": [
      "Unclosed AIOKafkaProducer\n",
      "producer: <aiokafka.producer.producer.AIOKafkaProducer object at 0x7fe8b8b875e0>\n"
     ]
    },
    {
     "name": "stdout",
     "output_type": "stream",
     "text": [
      "idx = 11, channels[idx] = 300000\n"
     ]
    },
    {
     "name": "stderr",
     "output_type": "stream",
     "text": [
      "Unclosed AIOKafkaProducer\n",
      "producer: <aiokafka.producer.producer.AIOKafkaProducer object at 0x7fe8b8b879a0>\n"
     ]
    },
    {
     "name": "stdout",
     "output_type": "stream",
     "text": [
      "idx = 11, channels[idx] = 300000\n"
     ]
    },
    {
     "name": "stderr",
     "output_type": "stream",
     "text": [
      "Unclosed AIOKafkaProducer\n",
      "producer: <aiokafka.producer.producer.AIOKafkaProducer object at 0x7fe8b8b98550>\n",
      "Task was destroyed but it is pending!\n",
      "task: <Task pending name='Task-3890' coro=<Sender._sender_routine() running at /home/saifulkhan/CODE/SKA/streaming-vis-perf/broker/venv/lib/python3.9/site-packages/aiokafka/producer/sender.py:147> wait_for=<Future pending cb=[<TaskWakeupMethWrapper object at 0x7fe8b8b984f0>()]> cb=[Sender._fail_all()]>\n",
      "Task was destroyed but it is pending!\n",
      "task: <Task pending name='Task-3670' coro=<Sender._sender_routine() running at /home/saifulkhan/CODE/SKA/streaming-vis-perf/broker/venv/lib/python3.9/site-packages/aiokafka/producer/sender.py:147> wait_for=<Future pending cb=[<TaskWakeupMethWrapper object at 0x7fe8b9c18a00>()]> cb=[Sender._fail_all()]>\n",
      "Task was destroyed but it is pending!\n",
      "task: <Task pending name='Task-3700' coro=<Sender._sender_routine() running at /home/saifulkhan/CODE/SKA/streaming-vis-perf/broker/venv/lib/python3.9/site-packages/aiokafka/producer/sender.py:147> wait_for=<Future pending cb=[<TaskWakeupMethWrapper object at 0x7fe8b9f45af0>()]> cb=[Sender._fail_all()]>\n",
      "Task was destroyed but it is pending!\n",
      "task: <Task pending name='Task-3720' coro=<Sender._sender_routine() running at /home/saifulkhan/CODE/SKA/streaming-vis-perf/broker/venv/lib/python3.9/site-packages/aiokafka/producer/sender.py:147> wait_for=<Future pending cb=[<TaskWakeupMethWrapper object at 0x7fe8b84e6790>()]> cb=[Sender._fail_all()]>\n",
      "Task was destroyed but it is pending!\n",
      "task: <Task pending name='Task-3740' coro=<Sender._sender_routine() running at /home/saifulkhan/CODE/SKA/streaming-vis-perf/broker/venv/lib/python3.9/site-packages/aiokafka/producer/sender.py:147> wait_for=<Future pending cb=[<TaskWakeupMethWrapper object at 0x7fe8b84e6910>()]> cb=[Sender._fail_all()]>\n",
      "Task was destroyed but it is pending!\n",
      "task: <Task pending name='Task-3760' coro=<Sender._sender_routine() running at /home/saifulkhan/CODE/SKA/streaming-vis-perf/broker/venv/lib/python3.9/site-packages/aiokafka/producer/sender.py:147> wait_for=<Future pending cb=[<TaskWakeupMethWrapper object at 0x7fe8b8de2c10>()]> cb=[Sender._fail_all()]>\n",
      "Task was destroyed but it is pending!\n",
      "task: <Task pending name='Task-3780' coro=<Sender._sender_routine() running at /home/saifulkhan/CODE/SKA/streaming-vis-perf/broker/venv/lib/python3.9/site-packages/aiokafka/producer/sender.py:147> wait_for=<Future pending cb=[<TaskWakeupMethWrapper object at 0x7fe8b8de2970>()]> cb=[Sender._fail_all()]>\n",
      "Task was destroyed but it is pending!\n",
      "task: <Task pending name='Task-3800' coro=<Sender._sender_routine() running at /home/saifulkhan/CODE/SKA/streaming-vis-perf/broker/venv/lib/python3.9/site-packages/aiokafka/producer/sender.py:147> wait_for=<Future pending cb=[<TaskWakeupMethWrapper object at 0x7fe8bb754df0>()]> cb=[Sender._fail_all()]>\n",
      "Task was destroyed but it is pending!\n",
      "task: <Task pending name='Task-3820' coro=<Sender._sender_routine() running at /home/saifulkhan/CODE/SKA/streaming-vis-perf/broker/venv/lib/python3.9/site-packages/aiokafka/producer/sender.py:147> wait_for=<Future pending cb=[<TaskWakeupMethWrapper object at 0x7fe8b838fac0>()]> cb=[Sender._fail_all()]>\n",
      "Task was destroyed but it is pending!\n",
      "task: <Task pending name='Task-3840' coro=<Sender._sender_routine() running at /home/saifulkhan/CODE/SKA/streaming-vis-perf/broker/venv/lib/python3.9/site-packages/aiokafka/producer/sender.py:147> wait_for=<Future pending cb=[<TaskWakeupMethWrapper object at 0x7fe8b82d1c40>()]> cb=[Sender._fail_all()]>\n",
      "Task was destroyed but it is pending!\n",
      "task: <Task pending name='Task-3850' coro=<Sender._sender_routine() running at /home/saifulkhan/CODE/SKA/streaming-vis-perf/broker/venv/lib/python3.9/site-packages/aiokafka/producer/sender.py:147> wait_for=<Future pending cb=[<TaskWakeupMethWrapper object at 0x7fe8b82d1820>()]> cb=[Sender._fail_all()]>\n",
      "Task was destroyed but it is pending!\n",
      "task: <Task pending name='Task-3870' coro=<Sender._sender_routine() running at /home/saifulkhan/CODE/SKA/streaming-vis-perf/broker/venv/lib/python3.9/site-packages/aiokafka/producer/sender.py:147> wait_for=<Future pending cb=[<TaskWakeupMethWrapper object at 0x7fe8b8b87910>()]> cb=[Sender._fail_all()]>\n",
      "Task was destroyed but it is pending!\n",
      "task: <Task pending name='Task-3880' coro=<Sender._sender_routine() running at /home/saifulkhan/CODE/SKA/streaming-vis-perf/broker/venv/lib/python3.9/site-packages/aiokafka/producer/sender.py:147> wait_for=<Future pending cb=[<TaskWakeupMethWrapper object at 0x7fe8b8b870d0>()]> cb=[Sender._fail_all()]>\n"
     ]
    },
    {
     "name": "stdout",
     "output_type": "stream",
     "text": [
      "idx = 12, channels[idx] = 325000\n"
     ]
    },
    {
     "name": "stderr",
     "output_type": "stream",
     "text": [
      "Unclosed AIOKafkaProducer\n",
      "producer: <aiokafka.producer.producer.AIOKafkaProducer object at 0x7fe8b8b98d30>\n"
     ]
    },
    {
     "name": "stdout",
     "output_type": "stream",
     "text": [
      "idx = 12, channels[idx] = 325000\n"
     ]
    },
    {
     "name": "stderr",
     "output_type": "stream",
     "text": [
      "Unclosed AIOKafkaProducer\n",
      "producer: <aiokafka.producer.producer.AIOKafkaProducer object at 0x7fe8b8c9ba00>\n"
     ]
    },
    {
     "name": "stdout",
     "output_type": "stream",
     "text": [
      "idx = 12, channels[idx] = 325000\n"
     ]
    },
    {
     "name": "stderr",
     "output_type": "stream",
     "text": [
      "Unclosed AIOKafkaProducer\n",
      "producer: <aiokafka.producer.producer.AIOKafkaProducer object at 0x7fe8b8d65ac0>\n"
     ]
    },
    {
     "name": "stdout",
     "output_type": "stream",
     "text": [
      "idx = 12, channels[idx] = 325000\n"
     ]
    },
    {
     "name": "stderr",
     "output_type": "stream",
     "text": [
      "Task was destroyed but it is pending!\n",
      "task: <Task pending name='Task-3920' coro=<Sender._sender_routine() running at /home/saifulkhan/CODE/SKA/streaming-vis-perf/broker/venv/lib/python3.9/site-packages/aiokafka/producer/sender.py:147> wait_for=<Future pending cb=[<TaskWakeupMethWrapper object at 0x7fe8b82d1940>()]> cb=[Sender._fail_all()]>\n",
      "Unclosed AIOKafkaProducer\n",
      "producer: <aiokafka.producer.producer.AIOKafkaProducer object at 0x7fe8b8b98cd0>\n"
     ]
    },
    {
     "name": "stdout",
     "output_type": "stream",
     "text": [
      "idx = 12, channels[idx] = 325000\n"
     ]
    },
    {
     "name": "stderr",
     "output_type": "stream",
     "text": [
      "Unclosed AIOKafkaProducer\n",
      "producer: <aiokafka.producer.producer.AIOKafkaProducer object at 0x7fe8b8a60a00>\n",
      "Task was destroyed but it is pending!\n",
      "task: <Task pending name='Task-3940' coro=<Sender._sender_routine() running at /home/saifulkhan/CODE/SKA/streaming-vis-perf/broker/venv/lib/python3.9/site-packages/aiokafka/producer/sender.py:147> wait_for=<Future pending cb=[<TaskWakeupMethWrapper object at 0x7fe8bb9046a0>()]> cb=[Sender._fail_all()]>\n"
     ]
    },
    {
     "name": "stdout",
     "output_type": "stream",
     "text": [
      "idx = 12, channels[idx] = 325000\n"
     ]
    },
    {
     "name": "stderr",
     "output_type": "stream",
     "text": [
      "Unclosed AIOKafkaProducer\n",
      "producer: <aiokafka.producer.producer.AIOKafkaProducer object at 0x7fe8b82d1ca0>\n"
     ]
    },
    {
     "name": "stdout",
     "output_type": "stream",
     "text": [
      "idx = 12, channels[idx] = 325000\n"
     ]
    },
    {
     "name": "stderr",
     "output_type": "stream",
     "text": [
      "Unclosed AIOKafkaProducer\n",
      "producer: <aiokafka.producer.producer.AIOKafkaProducer object at 0x7fe8bca4c070>\n"
     ]
    },
    {
     "name": "stdout",
     "output_type": "stream",
     "text": [
      "idx = 12, channels[idx] = 325000\n"
     ]
    },
    {
     "name": "stderr",
     "output_type": "stream",
     "text": [
      "Unclosed AIOKafkaProducer\n",
      "producer: <aiokafka.producer.producer.AIOKafkaProducer object at 0x7fe8bed81670>\n"
     ]
    },
    {
     "name": "stdout",
     "output_type": "stream",
     "text": [
      "idx = 12, channels[idx] = 325000\n"
     ]
    },
    {
     "name": "stderr",
     "output_type": "stream",
     "text": [
      "Unclosed AIOKafkaProducer\n",
      "producer: <aiokafka.producer.producer.AIOKafkaProducer object at 0x7fe8b89bb610>\n",
      "Task was destroyed but it is pending!\n",
      "task: <Task pending name='Task-3980' coro=<Sender._sender_routine() running at /home/saifulkhan/CODE/SKA/streaming-vis-perf/broker/venv/lib/python3.9/site-packages/aiokafka/producer/sender.py:147> wait_for=<Future pending cb=[<TaskWakeupMethWrapper object at 0x7fe8b89bb3a0>()]> cb=[Sender._fail_all()]>\n"
     ]
    },
    {
     "name": "stdout",
     "output_type": "stream",
     "text": [
      "idx = 12, channels[idx] = 325000\n"
     ]
    },
    {
     "name": "stderr",
     "output_type": "stream",
     "text": [
      "Unclosed AIOKafkaProducer\n",
      "producer: <aiokafka.producer.producer.AIOKafkaProducer object at 0x7fe8b89bb760>\n"
     ]
    },
    {
     "name": "stdout",
     "output_type": "stream",
     "text": [
      "idx = 13, channels[idx] = 350000\n"
     ]
    },
    {
     "name": "stderr",
     "output_type": "stream",
     "text": [
      "Unclosed AIOKafkaProducer\n",
      "producer: <aiokafka.producer.producer.AIOKafkaProducer object at 0x7fe8b89bb850>\n"
     ]
    },
    {
     "name": "stdout",
     "output_type": "stream",
     "text": [
      "idx = 13, channels[idx] = 350000\n"
     ]
    },
    {
     "name": "stderr",
     "output_type": "stream",
     "text": [
      "Unclosed AIOKafkaProducer\n",
      "producer: <aiokafka.producer.producer.AIOKafkaProducer object at 0x7fe8b73f63d0>\n"
     ]
    },
    {
     "name": "stdout",
     "output_type": "stream",
     "text": [
      "idx = 13, channels[idx] = 350000\n"
     ]
    },
    {
     "name": "stderr",
     "output_type": "stream",
     "text": [
      "Unclosed AIOKafkaProducer\n",
      "producer: <aiokafka.producer.producer.AIOKafkaProducer object at 0x7fe8b73f6f10>\n"
     ]
    },
    {
     "name": "stdout",
     "output_type": "stream",
     "text": [
      "idx = 13, channels[idx] = 350000\n"
     ]
    },
    {
     "name": "stderr",
     "output_type": "stream",
     "text": [
      "Unclosed AIOKafkaProducer\n",
      "producer: <aiokafka.producer.producer.AIOKafkaProducer object at 0x7fe8b73f6490>\n"
     ]
    },
    {
     "name": "stdout",
     "output_type": "stream",
     "text": [
      "idx = 13, channels[idx] = 350000\n"
     ]
    },
    {
     "name": "stderr",
     "output_type": "stream",
     "text": [
      "Unclosed AIOKafkaProducer\n",
      "producer: <aiokafka.producer.producer.AIOKafkaProducer object at 0x7fe8bc79faf0>\n",
      "Task was destroyed but it is pending!\n",
      "task: <Task pending name='Task-4040' coro=<Sender._sender_routine() running at /home/saifulkhan/CODE/SKA/streaming-vis-perf/broker/venv/lib/python3.9/site-packages/aiokafka/producer/sender.py:147> wait_for=<Future pending cb=[<TaskWakeupMethWrapper object at 0x7fe8bc79fb50>()]> cb=[Sender._fail_all()]>\n"
     ]
    },
    {
     "name": "stdout",
     "output_type": "stream",
     "text": [
      "idx = 13, channels[idx] = 350000\n"
     ]
    },
    {
     "name": "stderr",
     "output_type": "stream",
     "text": [
      "Unclosed AIOKafkaProducer\n",
      "producer: <aiokafka.producer.producer.AIOKafkaProducer object at 0x7fe8bdb12970>\n"
     ]
    },
    {
     "name": "stdout",
     "output_type": "stream",
     "text": [
      "idx = 13, channels[idx] = 350000\n"
     ]
    },
    {
     "name": "stderr",
     "output_type": "stream",
     "text": [
      "Unclosed AIOKafkaProducer\n",
      "producer: <aiokafka.producer.producer.AIOKafkaProducer object at 0x7fe8b87eb160>\n"
     ]
    },
    {
     "name": "stdout",
     "output_type": "stream",
     "text": [
      "idx = 13, channels[idx] = 350000\n"
     ]
    },
    {
     "name": "stderr",
     "output_type": "stream",
     "text": [
      "Task was destroyed but it is pending!\n",
      "task: <Task pending name='Task-3900' coro=<Sender._sender_routine() running at /home/saifulkhan/CODE/SKA/streaming-vis-perf/broker/venv/lib/python3.9/site-packages/aiokafka/producer/sender.py:147> wait_for=<Future pending cb=[<TaskWakeupMethWrapper object at 0x7fe8b8b6bac0>()]> cb=[Sender._fail_all()]>\n",
      "Task was destroyed but it is pending!\n",
      "task: <Task pending name='Task-3910' coro=<Sender._sender_routine() running at /home/saifulkhan/CODE/SKA/streaming-vis-perf/broker/venv/lib/python3.9/site-packages/aiokafka/producer/sender.py:147> wait_for=<Future pending cb=[<TaskWakeupMethWrapper object at 0x7fe8b8b87a30>()]> cb=[Sender._fail_all()]>\n",
      "Task was destroyed but it is pending!\n",
      "task: <Task pending name='Task-3930' coro=<Sender._sender_routine() running at /home/saifulkhan/CODE/SKA/streaming-vis-perf/broker/venv/lib/python3.9/site-packages/aiokafka/producer/sender.py:147> wait_for=<Future pending cb=[<TaskWakeupMethWrapper object at 0x7fe8b82d18b0>()]> cb=[Sender._fail_all()]>\n",
      "Task was destroyed but it is pending!\n",
      "task: <Task pending name='Task-3950' coro=<Sender._sender_routine() running at /home/saifulkhan/CODE/SKA/streaming-vis-perf/broker/venv/lib/python3.9/site-packages/aiokafka/producer/sender.py:147> wait_for=<Future pending cb=[<TaskWakeupMethWrapper object at 0x7fe8bca4c8e0>()]> cb=[Sender._fail_all()]>\n",
      "Task was destroyed but it is pending!\n",
      "task: <Task pending name='Task-3960' coro=<Sender._sender_routine() running at /home/saifulkhan/CODE/SKA/streaming-vis-perf/broker/venv/lib/python3.9/site-packages/aiokafka/producer/sender.py:147> wait_for=<Future pending cb=[<TaskWakeupMethWrapper object at 0x7fe8bca4c580>()]> cb=[Sender._fail_all()]>\n",
      "Task was destroyed but it is pending!\n",
      "task: <Task pending name='Task-3970' coro=<Sender._sender_routine() running at /home/saifulkhan/CODE/SKA/streaming-vis-perf/broker/venv/lib/python3.9/site-packages/aiokafka/producer/sender.py:147> wait_for=<Future pending cb=[<TaskWakeupMethWrapper object at 0x7fe8bca4ce50>()]> cb=[Sender._fail_all()]>\n",
      "Task was destroyed but it is pending!\n",
      "task: <Task pending name='Task-3990' coro=<Sender._sender_routine() running at /home/saifulkhan/CODE/SKA/streaming-vis-perf/broker/venv/lib/python3.9/site-packages/aiokafka/producer/sender.py:147> wait_for=<Future pending cb=[<TaskWakeupMethWrapper object at 0x7fe8b89bb280>()]> cb=[Sender._fail_all()]>\n",
      "Task was destroyed but it is pending!\n",
      "task: <Task pending name='Task-4000' coro=<Sender._sender_routine() running at /home/saifulkhan/CODE/SKA/streaming-vis-perf/broker/venv/lib/python3.9/site-packages/aiokafka/producer/sender.py:147> wait_for=<Future pending cb=[<TaskWakeupMethWrapper object at 0x7fe8b73f67c0>()]> cb=[Sender._fail_all()]>\n",
      "Task was destroyed but it is pending!\n",
      "task: <Task pending name='Task-4010' coro=<Sender._sender_routine() running at /home/saifulkhan/CODE/SKA/streaming-vis-perf/broker/venv/lib/python3.9/site-packages/aiokafka/producer/sender.py:147> wait_for=<Future pending cb=[<TaskWakeupMethWrapper object at 0x7fe8b73f65e0>()]> cb=[Sender._fail_all()]>\n",
      "Task was destroyed but it is pending!\n",
      "task: <Task pending name='Task-4020' coro=<Sender._sender_routine() running at /home/saifulkhan/CODE/SKA/streaming-vis-perf/broker/venv/lib/python3.9/site-packages/aiokafka/producer/sender.py:147> wait_for=<Future pending cb=[<TaskWakeupMethWrapper object at 0x7fe8bdf65d90>()]> cb=[Sender._fail_all()]>\n",
      "Task was destroyed but it is pending!\n",
      "task: <Task pending name='Task-4030' coro=<Sender._sender_routine() running at /home/saifulkhan/CODE/SKA/streaming-vis-perf/broker/venv/lib/python3.9/site-packages/aiokafka/producer/sender.py:147> wait_for=<Future pending cb=[<TaskWakeupMethWrapper object at 0x7fe8bc79f070>()]> cb=[Sender._fail_all()]>\n",
      "Task was destroyed but it is pending!\n",
      "task: <Task pending name='Task-4050' coro=<Sender._sender_routine() running at /home/saifulkhan/CODE/SKA/streaming-vis-perf/broker/venv/lib/python3.9/site-packages/aiokafka/producer/sender.py:147> wait_for=<Future pending cb=[<TaskWakeupMethWrapper object at 0x7fe8bc79fd90>()]> cb=[Sender._fail_all()]>\n",
      "Task was destroyed but it is pending!\n",
      "task: <Task pending name='Task-4060' coro=<Sender._sender_routine() running at /home/saifulkhan/CODE/SKA/streaming-vis-perf/broker/venv/lib/python3.9/site-packages/aiokafka/producer/sender.py:147> wait_for=<Future pending cb=[<TaskWakeupMethWrapper object at 0x7fe8b87eb310>()]> cb=[Sender._fail_all()]>\n",
      "Unclosed AIOKafkaProducer\n",
      "producer: <aiokafka.producer.producer.AIOKafkaProducer object at 0x7fe8b87eb7f0>\n"
     ]
    },
    {
     "name": "stdout",
     "output_type": "stream",
     "text": [
      "idx = 13, channels[idx] = 350000\n"
     ]
    },
    {
     "name": "stderr",
     "output_type": "stream",
     "text": [
      "Unclosed AIOKafkaProducer\n",
      "producer: <aiokafka.producer.producer.AIOKafkaProducer object at 0x7fe8bcb02b20>\n",
      "Task was destroyed but it is pending!\n",
      "task: <Task pending name='Task-4080' coro=<Sender._sender_routine() running at /home/saifulkhan/CODE/SKA/streaming-vis-perf/broker/venv/lib/python3.9/site-packages/aiokafka/producer/sender.py:147> wait_for=<Future pending cb=[<TaskWakeupMethWrapper object at 0x7fe8b87ebee0>()]> cb=[Sender._fail_all()]>\n"
     ]
    },
    {
     "name": "stdout",
     "output_type": "stream",
     "text": [
      "idx = 13, channels[idx] = 350000\n"
     ]
    },
    {
     "name": "stderr",
     "output_type": "stream",
     "text": [
      "Unclosed AIOKafkaProducer\n",
      "producer: <aiokafka.producer.producer.AIOKafkaProducer object at 0x7fe8f2f449d0>\n"
     ]
    },
    {
     "name": "stdout",
     "output_type": "stream",
     "text": [
      "idx = 14, channels[idx] = 375000\n"
     ]
    },
    {
     "name": "stderr",
     "output_type": "stream",
     "text": [
      "Unclosed AIOKafkaProducer\n",
      "producer: <aiokafka.producer.producer.AIOKafkaProducer object at 0x7fe8bc79f250>\n"
     ]
    },
    {
     "name": "stdout",
     "output_type": "stream",
     "text": [
      "idx = 14, channels[idx] = 375000\n"
     ]
    },
    {
     "name": "stderr",
     "output_type": "stream",
     "text": [
      "Unclosed AIOKafkaProducer\n",
      "producer: <aiokafka.producer.producer.AIOKafkaProducer object at 0x7fe8bb2e3e80>\n",
      "Task was destroyed but it is pending!\n",
      "task: <Task pending name='Task-4110' coro=<Sender._sender_routine() running at /home/saifulkhan/CODE/SKA/streaming-vis-perf/broker/venv/lib/python3.9/site-packages/aiokafka/producer/sender.py:147> wait_for=<Future pending cb=[<TaskWakeupMethWrapper object at 0x7fe8ba3a81f0>()]> cb=[Sender._fail_all()]>\n"
     ]
    },
    {
     "name": "stdout",
     "output_type": "stream",
     "text": [
      "idx = 14, channels[idx] = 375000\n"
     ]
    },
    {
     "name": "stderr",
     "output_type": "stream",
     "text": [
      "Unclosed AIOKafkaProducer\n",
      "producer: <aiokafka.producer.producer.AIOKafkaProducer object at 0x7fe8ba387550>\n"
     ]
    },
    {
     "name": "stdout",
     "output_type": "stream",
     "text": [
      "idx = 14, channels[idx] = 375000\n"
     ]
    },
    {
     "name": "stderr",
     "output_type": "stream",
     "text": [
      "Unclosed AIOKafkaProducer\n",
      "producer: <aiokafka.producer.producer.AIOKafkaProducer object at 0x7fe8bbbb1af0>\n"
     ]
    },
    {
     "name": "stdout",
     "output_type": "stream",
     "text": [
      "idx = 14, channels[idx] = 375000\n"
     ]
    },
    {
     "name": "stderr",
     "output_type": "stream",
     "text": [
      "Unclosed AIOKafkaProducer\n",
      "producer: <aiokafka.producer.producer.AIOKafkaProducer object at 0x7fe8ba30b580>\n",
      "Task was destroyed but it is pending!\n",
      "task: <Task pending name='Task-4140' coro=<Sender._sender_routine() running at /home/saifulkhan/CODE/SKA/streaming-vis-perf/broker/venv/lib/python3.9/site-packages/aiokafka/producer/sender.py:147> wait_for=<Future pending cb=[<TaskWakeupMethWrapper object at 0x7fe8bbbb1b20>()]> cb=[Sender._fail_all()]>\n"
     ]
    },
    {
     "name": "stdout",
     "output_type": "stream",
     "text": [
      "idx = 14, channels[idx] = 375000\n"
     ]
    },
    {
     "name": "stderr",
     "output_type": "stream",
     "text": [
      "Unclosed AIOKafkaProducer\n",
      "producer: <aiokafka.producer.producer.AIOKafkaProducer object at 0x7fe8b72056d0>\n"
     ]
    },
    {
     "name": "stdout",
     "output_type": "stream",
     "text": [
      "idx = 14, channels[idx] = 375000\n"
     ]
    },
    {
     "name": "stderr",
     "output_type": "stream",
     "text": [
      "Unclosed AIOKafkaProducer\n",
      "producer: <aiokafka.producer.producer.AIOKafkaProducer object at 0x7fe8b72050d0>\n"
     ]
    },
    {
     "name": "stdout",
     "output_type": "stream",
     "text": [
      "idx = 14, channels[idx] = 375000\n"
     ]
    },
    {
     "name": "stderr",
     "output_type": "stream",
     "text": [
      "Unclosed AIOKafkaProducer\n",
      "producer: <aiokafka.producer.producer.AIOKafkaProducer object at 0x7fe8b7205760>\n"
     ]
    },
    {
     "name": "stdout",
     "output_type": "stream",
     "text": [
      "idx = 14, channels[idx] = 375000\n"
     ]
    },
    {
     "name": "stderr",
     "output_type": "stream",
     "text": [
      "Unclosed AIOKafkaProducer\n",
      "producer: <aiokafka.producer.producer.AIOKafkaProducer object at 0x7fe8b71ba820>\n"
     ]
    },
    {
     "name": "stdout",
     "output_type": "stream",
     "text": [
      "idx = 14, channels[idx] = 375000\n"
     ]
    },
    {
     "name": "stderr",
     "output_type": "stream",
     "text": [
      "Unclosed AIOKafkaProducer\n",
      "producer: <aiokafka.producer.producer.AIOKafkaProducer object at 0x7fe8b71baa00>\n"
     ]
    },
    {
     "name": "stdout",
     "output_type": "stream",
     "text": [
      "idx = 15, channels[idx] = 400000\n"
     ]
    },
    {
     "name": "stderr",
     "output_type": "stream",
     "text": [
      "Unclosed AIOKafkaProducer\n",
      "producer: <aiokafka.producer.producer.AIOKafkaProducer object at 0x7fe8b71baa00>\n",
      "Task was destroyed but it is pending!\n",
      "task: <Task pending name='Task-4200' coro=<Sender._sender_routine() running at /home/saifulkhan/CODE/SKA/streaming-vis-perf/broker/venv/lib/python3.9/site-packages/aiokafka/producer/sender.py:147> wait_for=<Future pending cb=[<TaskWakeupMethWrapper object at 0x7fe8b9bda610>()]> cb=[Sender._fail_all()]>\n"
     ]
    },
    {
     "name": "stdout",
     "output_type": "stream",
     "text": [
      "idx = 15, channels[idx] = 400000\n"
     ]
    },
    {
     "name": "stderr",
     "output_type": "stream",
     "text": [
      "Unclosed AIOKafkaProducer\n",
      "producer: <aiokafka.producer.producer.AIOKafkaProducer object at 0x7fe8b9bda880>\n"
     ]
    },
    {
     "name": "stdout",
     "output_type": "stream",
     "text": [
      "idx = 15, channels[idx] = 400000\n"
     ]
    },
    {
     "name": "stderr",
     "output_type": "stream",
     "text": [
      "Unclosed AIOKafkaProducer\n",
      "producer: <aiokafka.producer.producer.AIOKafkaProducer object at 0x7fe8b9bda790>\n"
     ]
    },
    {
     "name": "stdout",
     "output_type": "stream",
     "text": [
      "idx = 15, channels[idx] = 400000\n"
     ]
    },
    {
     "name": "stderr",
     "output_type": "stream",
     "text": [
      "Unclosed AIOKafkaProducer\n",
      "producer: <aiokafka.producer.producer.AIOKafkaProducer object at 0x7fe8b710c520>\n",
      "Task was destroyed but it is pending!\n",
      "task: <Task pending name='Task-4230' coro=<Sender._sender_routine() running at /home/saifulkhan/CODE/SKA/streaming-vis-perf/broker/venv/lib/python3.9/site-packages/aiokafka/producer/sender.py:147> wait_for=<Future pending cb=[<TaskWakeupMethWrapper object at 0x7fe8b710c760>()]> cb=[Sender._fail_all()]>\n"
     ]
    },
    {
     "name": "stdout",
     "output_type": "stream",
     "text": [
      "idx = 15, channels[idx] = 400000\n"
     ]
    },
    {
     "name": "stderr",
     "output_type": "stream",
     "text": [
      "Task was destroyed but it is pending!\n",
      "task: <Task pending name='Task-4070' coro=<Sender._sender_routine() running at /home/saifulkhan/CODE/SKA/streaming-vis-perf/broker/venv/lib/python3.9/site-packages/aiokafka/producer/sender.py:147> wait_for=<Future pending cb=[<TaskWakeupMethWrapper object at 0x7fe8b87ebfd0>()]> cb=[Sender._fail_all()]>\n",
      "Task was destroyed but it is pending!\n",
      "task: <Task pending name='Task-4090' coro=<Sender._sender_routine() running at /home/saifulkhan/CODE/SKA/streaming-vis-perf/broker/venv/lib/python3.9/site-packages/aiokafka/producer/sender.py:147> wait_for=<Future pending cb=[<TaskWakeupMethWrapper object at 0x7fe8bdb12a00>()]> cb=[Sender._fail_all()]>\n",
      "Task was destroyed but it is pending!\n",
      "task: <Task pending name='Task-4100' coro=<Sender._sender_routine() running at /home/saifulkhan/CODE/SKA/streaming-vis-perf/broker/venv/lib/python3.9/site-packages/aiokafka/producer/sender.py:147> wait_for=<Future pending cb=[<TaskWakeupMethWrapper object at 0x7fe8bdd03430>()]> cb=[Sender._fail_all()]>\n",
      "Task was destroyed but it is pending!\n",
      "task: <Task pending name='Task-4120' coro=<Sender._sender_routine() running at /home/saifulkhan/CODE/SKA/streaming-vis-perf/broker/venv/lib/python3.9/site-packages/aiokafka/producer/sender.py:147> wait_for=<Future pending cb=[<TaskWakeupMethWrapper object at 0x7fe8ba3872e0>()]> cb=[Sender._fail_all()]>\n",
      "Task was destroyed but it is pending!\n",
      "task: <Task pending name='Task-4130' coro=<Sender._sender_routine() running at /home/saifulkhan/CODE/SKA/streaming-vis-perf/broker/venv/lib/python3.9/site-packages/aiokafka/producer/sender.py:147> wait_for=<Future pending cb=[<TaskWakeupMethWrapper object at 0x7fe8bbbb13d0>()]> cb=[Sender._fail_all()]>\n",
      "Task was destroyed but it is pending!\n",
      "task: <Task pending name='Task-4150' coro=<Sender._sender_routine() running at /home/saifulkhan/CODE/SKA/streaming-vis-perf/broker/venv/lib/python3.9/site-packages/aiokafka/producer/sender.py:147> wait_for=<Future pending cb=[<TaskWakeupMethWrapper object at 0x7fe8b7205730>()]> cb=[Sender._fail_all()]>\n",
      "Task was destroyed but it is pending!\n",
      "task: <Task pending name='Task-4160' coro=<Sender._sender_routine() running at /home/saifulkhan/CODE/SKA/streaming-vis-perf/broker/venv/lib/python3.9/site-packages/aiokafka/producer/sender.py:147> wait_for=<Future pending cb=[<TaskWakeupMethWrapper object at 0x7fe8b7205af0>()]> cb=[Sender._fail_all()]>\n",
      "Task was destroyed but it is pending!\n",
      "task: <Task pending name='Task-4170' coro=<Sender._sender_routine() running at /home/saifulkhan/CODE/SKA/streaming-vis-perf/broker/venv/lib/python3.9/site-packages/aiokafka/producer/sender.py:147> wait_for=<Future pending cb=[<TaskWakeupMethWrapper object at 0x7fe8b71ba8e0>()]> cb=[Sender._fail_all()]>\n",
      "Task was destroyed but it is pending!\n",
      "task: <Task pending name='Task-4180' coro=<Sender._sender_routine() running at /home/saifulkhan/CODE/SKA/streaming-vis-perf/broker/venv/lib/python3.9/site-packages/aiokafka/producer/sender.py:147> wait_for=<Future pending cb=[<TaskWakeupMethWrapper object at 0x7fe8b71ba700>()]> cb=[Sender._fail_all()]>\n",
      "Task was destroyed but it is pending!\n",
      "task: <Task pending name='Task-4190' coro=<Sender._sender_routine() running at /home/saifulkhan/CODE/SKA/streaming-vis-perf/broker/venv/lib/python3.9/site-packages/aiokafka/producer/sender.py:147> wait_for=<Future pending cb=[<TaskWakeupMethWrapper object at 0x7fe8b71bafd0>()]> cb=[Sender._fail_all()]>\n",
      "Task was destroyed but it is pending!\n",
      "task: <Task pending name='Task-4210' coro=<Sender._sender_routine() running at /home/saifulkhan/CODE/SKA/streaming-vis-perf/broker/venv/lib/python3.9/site-packages/aiokafka/producer/sender.py:147> wait_for=<Future pending cb=[<TaskWakeupMethWrapper object at 0x7fe8b9bdadc0>()]> cb=[Sender._fail_all()]>\n",
      "Task was destroyed but it is pending!\n",
      "task: <Task pending name='Task-4220' coro=<Sender._sender_routine() running at /home/saifulkhan/CODE/SKA/streaming-vis-perf/broker/venv/lib/python3.9/site-packages/aiokafka/producer/sender.py:147> wait_for=<Future pending cb=[<TaskWakeupMethWrapper object at 0x7fe8b9bda310>()]> cb=[Sender._fail_all()]>\n",
      "Unclosed AIOKafkaProducer\n",
      "producer: <aiokafka.producer.producer.AIOKafkaProducer object at 0x7fe8b710cf10>\n"
     ]
    },
    {
     "name": "stdout",
     "output_type": "stream",
     "text": [
      "idx = 15, channels[idx] = 400000\n"
     ]
    },
    {
     "name": "stderr",
     "output_type": "stream",
     "text": [
      "Unclosed AIOKafkaProducer\n",
      "producer: <aiokafka.producer.producer.AIOKafkaProducer object at 0x7fe8b710cf10>\n"
     ]
    },
    {
     "name": "stdout",
     "output_type": "stream",
     "text": [
      "idx = 15, channels[idx] = 400000\n"
     ]
    },
    {
     "name": "stderr",
     "output_type": "stream",
     "text": [
      "Task was destroyed but it is pending!\n",
      "task: <Task pending name='Task-4250' coro=<Sender._sender_routine() running at /home/saifulkhan/CODE/SKA/streaming-vis-perf/broker/venv/lib/python3.9/site-packages/aiokafka/producer/sender.py:147> wait_for=<Future pending cb=[<TaskWakeupMethWrapper object at 0x7fe8bb924a00>()]> cb=[Sender._fail_all()]>\n",
      "Unclosed AIOKafkaProducer\n",
      "producer: <aiokafka.producer.producer.AIOKafkaProducer object at 0x7fe8b71ba700>\n"
     ]
    },
    {
     "name": "stdout",
     "output_type": "stream",
     "text": [
      "idx = 15, channels[idx] = 400000\n"
     ]
    },
    {
     "name": "stderr",
     "output_type": "stream",
     "text": [
      "Unclosed AIOKafkaProducer\n",
      "producer: <aiokafka.producer.producer.AIOKafkaProducer object at 0x7fe8b9ebcca0>\n"
     ]
    },
    {
     "name": "stdout",
     "output_type": "stream",
     "text": [
      "idx = 15, channels[idx] = 400000\n"
     ]
    },
    {
     "name": "stderr",
     "output_type": "stream",
     "text": [
      "Unclosed AIOKafkaProducer\n",
      "producer: <aiokafka.producer.producer.AIOKafkaProducer object at 0x7fe8b9ebcca0>\n"
     ]
    },
    {
     "name": "stdout",
     "output_type": "stream",
     "text": [
      "idx = 15, channels[idx] = 400000\n"
     ]
    },
    {
     "name": "stderr",
     "output_type": "stream",
     "text": [
      "Unclosed AIOKafkaProducer\n",
      "producer: <aiokafka.producer.producer.AIOKafkaProducer object at 0x7fe8b70de7f0>\n",
      "Task was destroyed but it is pending!\n",
      "task: <Task pending name='Task-4290' coro=<Sender._sender_routine() running at /home/saifulkhan/CODE/SKA/streaming-vis-perf/broker/venv/lib/python3.9/site-packages/aiokafka/producer/sender.py:147> wait_for=<Future pending cb=[<TaskWakeupMethWrapper object at 0x7fe8b70de490>()]> cb=[Sender._fail_all()]>\n"
     ]
    },
    {
     "name": "stdout",
     "output_type": "stream",
     "text": [
      "idx = 16, channels[idx] = 425000\n"
     ]
    },
    {
     "name": "stderr",
     "output_type": "stream",
     "text": [
      "Unclosed AIOKafkaProducer\n",
      "producer: <aiokafka.producer.producer.AIOKafkaProducer object at 0x7fe8b70de3a0>\n"
     ]
    },
    {
     "name": "stdout",
     "output_type": "stream",
     "text": [
      "idx = 16, channels[idx] = 425000\n"
     ]
    },
    {
     "name": "stderr",
     "output_type": "stream",
     "text": [
      "Unclosed AIOKafkaProducer\n",
      "producer: <aiokafka.producer.producer.AIOKafkaProducer object at 0x7fe8b70de820>\n",
      "Task was destroyed but it is pending!\n",
      "task: <Task pending name='Task-4310' coro=<Sender._sender_routine() done, defined at /home/saifulkhan/CODE/SKA/streaming-vis-perf/broker/venv/lib/python3.9/site-packages/aiokafka/producer/sender.py:81> wait_for=<Future pending cb=[<TaskWakeupMethWrapper object at 0x7fe8b8d79220>()]> cb=[Sender._fail_all()]>\n"
     ]
    },
    {
     "name": "stdout",
     "output_type": "stream",
     "text": [
      "idx = 16, channels[idx] = 425000\n"
     ]
    },
    {
     "name": "stderr",
     "output_type": "stream",
     "text": [
      "Unclosed AIOKafkaProducer\n",
      "producer: <aiokafka.producer.producer.AIOKafkaProducer object at 0x7fe8b8d79370>\n"
     ]
    },
    {
     "name": "stdout",
     "output_type": "stream",
     "text": [
      "idx = 16, channels[idx] = 425000\n"
     ]
    },
    {
     "name": "stderr",
     "output_type": "stream",
     "text": [
      "Unclosed AIOKafkaProducer\n",
      "producer: <aiokafka.producer.producer.AIOKafkaProducer object at 0x7fe8bccf48e0>\n"
     ]
    },
    {
     "name": "stdout",
     "output_type": "stream",
     "text": [
      "idx = 16, channels[idx] = 425000\n"
     ]
    },
    {
     "name": "stderr",
     "output_type": "stream",
     "text": [
      "Unclosed AIOKafkaProducer\n",
      "producer: <aiokafka.producer.producer.AIOKafkaProducer object at 0x7fe8bccf48e0>\n"
     ]
    },
    {
     "name": "stdout",
     "output_type": "stream",
     "text": [
      "idx = 16, channels[idx] = 425000\n"
     ]
    },
    {
     "name": "stderr",
     "output_type": "stream",
     "text": [
      "Unclosed AIOKafkaProducer\n",
      "producer: <aiokafka.producer.producer.AIOKafkaProducer object at 0x7fe8b6f7dc10>\n"
     ]
    },
    {
     "name": "stdout",
     "output_type": "stream",
     "text": [
      "idx = 16, channels[idx] = 425000\n"
     ]
    },
    {
     "name": "stderr",
     "output_type": "stream",
     "text": [
      "Unclosed AIOKafkaProducer\n",
      "producer: <aiokafka.producer.producer.AIOKafkaProducer object at 0x7fe8ba539040>\n",
      "Task was destroyed but it is pending!\n",
      "task: <Task pending name='Task-4360' coro=<Sender._sender_routine() running at /home/saifulkhan/CODE/SKA/streaming-vis-perf/broker/venv/lib/python3.9/site-packages/aiokafka/producer/sender.py:147> wait_for=<Future pending cb=[<TaskWakeupMethWrapper object at 0x7fe8b8c75790>()]> cb=[Sender._fail_all()]>\n"
     ]
    },
    {
     "name": "stdout",
     "output_type": "stream",
     "text": [
      "idx = 16, channels[idx] = 425000\n"
     ]
    },
    {
     "name": "stderr",
     "output_type": "stream",
     "text": [
      "Unclosed AIOKafkaProducer\n",
      "producer: <aiokafka.producer.producer.AIOKafkaProducer object at 0x7fe8b8c75640>\n"
     ]
    },
    {
     "name": "stdout",
     "output_type": "stream",
     "text": [
      "idx = 16, channels[idx] = 425000\n"
     ]
    },
    {
     "name": "stderr",
     "output_type": "stream",
     "text": [
      "Unclosed AIOKafkaProducer\n",
      "producer: <aiokafka.producer.producer.AIOKafkaProducer object at 0x7fe8b8c755b0>\n"
     ]
    },
    {
     "name": "stdout",
     "output_type": "stream",
     "text": [
      "idx = 16, channels[idx] = 425000\n"
     ]
    },
    {
     "name": "stderr",
     "output_type": "stream",
     "text": [
      "Unclosed AIOKafkaProducer\n",
      "producer: <aiokafka.producer.producer.AIOKafkaProducer object at 0x7fe8ba4f2460>\n"
     ]
    },
    {
     "name": "stdout",
     "output_type": "stream",
     "text": [
      "idx = 17, channels[idx] = 450000\n"
     ]
    },
    {
     "name": "stderr",
     "output_type": "stream",
     "text": [
      "Task was destroyed but it is pending!\n",
      "task: <Task pending name='Task-4240' coro=<Sender._sender_routine() running at /home/saifulkhan/CODE/SKA/streaming-vis-perf/broker/venv/lib/python3.9/site-packages/aiokafka/producer/sender.py:147> wait_for=<Future pending cb=[<TaskWakeupMethWrapper object at 0x7fe8b710ce50>()]> cb=[Sender._fail_all()]>\n",
      "Task was destroyed but it is pending!\n",
      "task: <Task pending name='Task-4260' coro=<Sender._sender_routine() running at /home/saifulkhan/CODE/SKA/streaming-vis-perf/broker/venv/lib/python3.9/site-packages/aiokafka/producer/sender.py:147> wait_for=<Future pending cb=[<TaskWakeupMethWrapper object at 0x7fe8b87ebe20>()]> cb=[Sender._fail_all()]>\n",
      "Task was destroyed but it is pending!\n",
      "task: <Task pending name='Task-4270' coro=<Sender._sender_routine() running at /home/saifulkhan/CODE/SKA/streaming-vis-perf/broker/venv/lib/python3.9/site-packages/aiokafka/producer/sender.py:147> wait_for=<Future pending cb=[<TaskWakeupMethWrapper object at 0x7fe8ba191580>()]> cb=[Sender._fail_all()]>\n",
      "Task was destroyed but it is pending!\n",
      "task: <Task pending name='Task-4280' coro=<Sender._sender_routine() running at /home/saifulkhan/CODE/SKA/streaming-vis-perf/broker/venv/lib/python3.9/site-packages/aiokafka/producer/sender.py:147> wait_for=<Future pending cb=[<TaskWakeupMethWrapper object at 0x7fe8ba191490>()]> cb=[Sender._fail_all()]>\n",
      "Task was destroyed but it is pending!\n",
      "task: <Task pending name='Task-4300' coro=<Sender._sender_routine() running at /home/saifulkhan/CODE/SKA/streaming-vis-perf/broker/venv/lib/python3.9/site-packages/aiokafka/producer/sender.py:147> wait_for=<Future pending cb=[<TaskWakeupMethWrapper object at 0x7fe8b70def70>()]> cb=[Sender._fail_all()]>\n",
      "Task was destroyed but it is pending!\n",
      "task: <Task pending name='Task-4320' coro=<Sender._sender_routine() running at /home/saifulkhan/CODE/SKA/streaming-vis-perf/broker/venv/lib/python3.9/site-packages/aiokafka/producer/sender.py:147> wait_for=<Future pending cb=[<TaskWakeupMethWrapper object at 0x7fe8b8d79a30>()]> cb=[Sender._fail_all()]>\n",
      "Task was destroyed but it is pending!\n",
      "task: <Task pending name='Task-4330' coro=<Sender._sender_routine() running at /home/saifulkhan/CODE/SKA/streaming-vis-perf/broker/venv/lib/python3.9/site-packages/aiokafka/producer/sender.py:147> wait_for=<Future pending cb=[<TaskWakeupMethWrapper object at 0x7fe8b8d79370>()]> cb=[Sender._fail_all()]>\n",
      "Task was destroyed but it is pending!\n",
      "task: <Task pending name='Task-4340' coro=<Sender._sender_routine() running at /home/saifulkhan/CODE/SKA/streaming-vis-perf/broker/venv/lib/python3.9/site-packages/aiokafka/producer/sender.py:147> wait_for=<Future pending cb=[<TaskWakeupMethWrapper object at 0x7fe8b6f7d5e0>()]> cb=[Sender._fail_all()]>\n",
      "Task was destroyed but it is pending!\n",
      "task: <Task pending name='Task-4350' coro=<Sender._sender_routine() running at /home/saifulkhan/CODE/SKA/streaming-vis-perf/broker/venv/lib/python3.9/site-packages/aiokafka/producer/sender.py:147> wait_for=<Future pending cb=[<TaskWakeupMethWrapper object at 0x7fe8b8c9b880>()]> cb=[Sender._fail_all()]>\n",
      "Task was destroyed but it is pending!\n",
      "task: <Task pending name='Task-4370' coro=<Sender._sender_routine() running at /home/saifulkhan/CODE/SKA/streaming-vis-perf/broker/venv/lib/python3.9/site-packages/aiokafka/producer/sender.py:147> wait_for=<Future pending cb=[<TaskWakeupMethWrapper object at 0x7fe8b8c758e0>()]> cb=[Sender._fail_all()]>\n",
      "Task was destroyed but it is pending!\n",
      "task: <Task pending name='Task-4380' coro=<Sender._sender_routine() running at /home/saifulkhan/CODE/SKA/streaming-vis-perf/broker/venv/lib/python3.9/site-packages/aiokafka/producer/sender.py:147> wait_for=<Future pending cb=[<TaskWakeupMethWrapper object at 0x7fe8b8c75c70>()]> cb=[Sender._fail_all()]>\n",
      "Task was destroyed but it is pending!\n",
      "task: <Task pending name='Task-4390' coro=<Sender._sender_routine() running at /home/saifulkhan/CODE/SKA/streaming-vis-perf/broker/venv/lib/python3.9/site-packages/aiokafka/producer/sender.py:147> wait_for=<Future pending cb=[<TaskWakeupMethWrapper object at 0x7fe8ba036700>()]> cb=[Sender._fail_all()]>\n",
      "Unclosed AIOKafkaProducer\n",
      "producer: <aiokafka.producer.producer.AIOKafkaProducer object at 0x7fe8ba0363d0>\n"
     ]
    },
    {
     "name": "stdout",
     "output_type": "stream",
     "text": [
      "idx = 17, channels[idx] = 450000\n"
     ]
    },
    {
     "name": "stderr",
     "output_type": "stream",
     "text": [
      "Unclosed AIOKafkaProducer\n",
      "producer: <aiokafka.producer.producer.AIOKafkaProducer object at 0x7fe8b6f7da60>\n",
      "Task was destroyed but it is pending!\n",
      "task: <Task pending name='Task-4410' coro=<Sender._sender_routine() running at /home/saifulkhan/CODE/SKA/streaming-vis-perf/broker/venv/lib/python3.9/site-packages/aiokafka/producer/sender.py:147> wait_for=<Future pending cb=[<TaskWakeupMethWrapper object at 0x7fe8bb754be0>()]> cb=[Sender._fail_all()]>\n"
     ]
    },
    {
     "name": "stdout",
     "output_type": "stream",
     "text": [
      "idx = 17, channels[idx] = 450000\n"
     ]
    },
    {
     "name": "stderr",
     "output_type": "stream",
     "text": [
      "Unclosed AIOKafkaProducer\n",
      "producer: <aiokafka.producer.producer.AIOKafkaProducer object at 0x7fe8ba036250>\n"
     ]
    },
    {
     "name": "stdout",
     "output_type": "stream",
     "text": [
      "idx = 17, channels[idx] = 450000\n"
     ]
    },
    {
     "name": "stderr",
     "output_type": "stream",
     "text": [
      "Unclosed AIOKafkaProducer\n",
      "producer: <aiokafka.producer.producer.AIOKafkaProducer object at 0x7fe8b8b98e80>\n"
     ]
    },
    {
     "name": "stdout",
     "output_type": "stream",
     "text": [
      "idx = 17, channels[idx] = 450000\n"
     ]
    },
    {
     "name": "stderr",
     "output_type": "stream",
     "text": [
      "Unclosed AIOKafkaProducer\n",
      "producer: <aiokafka.producer.producer.AIOKafkaProducer object at 0x7fe8ba387880>\n"
     ]
    },
    {
     "name": "stdout",
     "output_type": "stream",
     "text": [
      "idx = 17, channels[idx] = 450000\n"
     ]
    },
    {
     "name": "stderr",
     "output_type": "stream",
     "text": [
      "Unclosed AIOKafkaProducer\n",
      "producer: <aiokafka.producer.producer.AIOKafkaProducer object at 0x7fe8b710c520>\n"
     ]
    },
    {
     "name": "stdout",
     "output_type": "stream",
     "text": [
      "idx = 17, channels[idx] = 450000\n"
     ]
    },
    {
     "name": "stderr",
     "output_type": "stream",
     "text": [
      "Unclosed AIOKafkaProducer\n",
      "producer: <aiokafka.producer.producer.AIOKafkaProducer object at 0x7fe8b75367c0>\n"
     ]
    },
    {
     "name": "stdout",
     "output_type": "stream",
     "text": [
      "idx = 17, channels[idx] = 450000\n"
     ]
    },
    {
     "name": "stderr",
     "output_type": "stream",
     "text": [
      "Unclosed AIOKafkaProducer\n",
      "producer: <aiokafka.producer.producer.AIOKafkaProducer object at 0x7fe8b7536070>\n"
     ]
    },
    {
     "name": "stdout",
     "output_type": "stream",
     "text": [
      "idx = 17, channels[idx] = 450000\n"
     ]
    },
    {
     "name": "stderr",
     "output_type": "stream",
     "text": [
      "Unclosed AIOKafkaProducer\n",
      "producer: <aiokafka.producer.producer.AIOKafkaProducer object at 0x7fe8b896d520>\n"
     ]
    },
    {
     "name": "stdout",
     "output_type": "stream",
     "text": [
      "idx = 17, channels[idx] = 450000\n"
     ]
    },
    {
     "name": "stderr",
     "output_type": "stream",
     "text": [
      "Task was destroyed but it is pending!\n",
      "task: <Task pending name='Task-4480' coro=<Sender._sender_routine() running at /home/saifulkhan/CODE/SKA/streaming-vis-perf/broker/venv/lib/python3.9/site-packages/aiokafka/producer/sender.py:147> wait_for=<Future pending cb=[<TaskWakeupMethWrapper object at 0x7fe8b896d100>()]> cb=[Sender._fail_all()]>\n",
      "Unclosed AIOKafkaProducer\n",
      "producer: <aiokafka.producer.producer.AIOKafkaProducer object at 0x7fe8b896d8e0>\n"
     ]
    },
    {
     "name": "stdout",
     "output_type": "stream",
     "text": [
      "idx = 18, channels[idx] = 475000\n"
     ]
    },
    {
     "name": "stderr",
     "output_type": "stream",
     "text": [
      "Unclosed AIOKafkaProducer\n",
      "producer: <aiokafka.producer.producer.AIOKafkaProducer object at 0x7fe8bb13ddc0>\n"
     ]
    },
    {
     "name": "stdout",
     "output_type": "stream",
     "text": [
      "idx = 18, channels[idx] = 475000\n"
     ]
    },
    {
     "name": "stderr",
     "output_type": "stream",
     "text": [
      "Unclosed AIOKafkaProducer\n",
      "producer: <aiokafka.producer.producer.AIOKafkaProducer object at 0x7fe8b6ce7760>\n"
     ]
    },
    {
     "name": "stdout",
     "output_type": "stream",
     "text": [
      "idx = 18, channels[idx] = 475000\n"
     ]
    },
    {
     "name": "stderr",
     "output_type": "stream",
     "text": [
      "Unclosed AIOKafkaProducer\n",
      "producer: <aiokafka.producer.producer.AIOKafkaProducer object at 0x7fe8bc79f670>\n"
     ]
    },
    {
     "name": "stdout",
     "output_type": "stream",
     "text": [
      "idx = 18, channels[idx] = 475000\n"
     ]
    },
    {
     "name": "stderr",
     "output_type": "stream",
     "text": [
      "Unclosed AIOKafkaProducer\n",
      "producer: <aiokafka.producer.producer.AIOKafkaProducer object at 0x7fe8ba535910>\n"
     ]
    },
    {
     "name": "stdout",
     "output_type": "stream",
     "text": [
      "idx = 18, channels[idx] = 475000\n"
     ]
    },
    {
     "name": "stderr",
     "output_type": "stream",
     "text": [
      "Task was destroyed but it is pending!\n",
      "task: <Task pending name='Task-4400' coro=<Sender._sender_routine() running at /home/saifulkhan/CODE/SKA/streaming-vis-perf/broker/venv/lib/python3.9/site-packages/aiokafka/producer/sender.py:147> wait_for=<Future pending cb=[<TaskWakeupMethWrapper object at 0x7fe8ba036d90>()]> cb=[Sender._fail_all()]>\n",
      "Task was destroyed but it is pending!\n",
      "task: <Task pending name='Task-4420' coro=<Sender._sender_routine() running at /home/saifulkhan/CODE/SKA/streaming-vis-perf/broker/venv/lib/python3.9/site-packages/aiokafka/producer/sender.py:147> wait_for=<Future pending cb=[<TaskWakeupMethWrapper object at 0x7fe8ba036ca0>()]> cb=[Sender._fail_all()]>\n",
      "Task was destroyed but it is pending!\n",
      "task: <Task pending name='Task-4430' coro=<Sender._sender_routine() running at /home/saifulkhan/CODE/SKA/streaming-vis-perf/broker/venv/lib/python3.9/site-packages/aiokafka/producer/sender.py:147> wait_for=<Future pending cb=[<TaskWakeupMethWrapper object at 0x7fe8b8c75d00>()]> cb=[Sender._fail_all()]>\n",
      "Task was destroyed but it is pending!\n",
      "task: <Task pending name='Task-4440' coro=<Sender._sender_routine() running at /home/saifulkhan/CODE/SKA/streaming-vis-perf/broker/venv/lib/python3.9/site-packages/aiokafka/producer/sender.py:147> wait_for=<Future pending cb=[<TaskWakeupMethWrapper object at 0x7fe8bca8e670>()]> cb=[Sender._fail_all()]>\n",
      "Task was destroyed but it is pending!\n",
      "task: <Task pending name='Task-4450' coro=<Sender._sender_routine() running at /home/saifulkhan/CODE/SKA/streaming-vis-perf/broker/venv/lib/python3.9/site-packages/aiokafka/producer/sender.py:147> wait_for=<Future pending cb=[<TaskWakeupMethWrapper object at 0x7fe8b7536220>()]> cb=[Sender._fail_all()]>\n",
      "Task was destroyed but it is pending!\n",
      "task: <Task pending name='Task-4460' coro=<Sender._sender_routine() running at /home/saifulkhan/CODE/SKA/streaming-vis-perf/broker/venv/lib/python3.9/site-packages/aiokafka/producer/sender.py:147> wait_for=<Future pending cb=[<TaskWakeupMethWrapper object at 0x7fe8b75362b0>()]> cb=[Sender._fail_all()]>\n",
      "Task was destroyed but it is pending!\n",
      "task: <Task pending name='Task-4470' coro=<Sender._sender_routine() running at /home/saifulkhan/CODE/SKA/streaming-vis-perf/broker/venv/lib/python3.9/site-packages/aiokafka/producer/sender.py:147> wait_for=<Future pending cb=[<TaskWakeupMethWrapper object at 0x7fe8b75369a0>()]> cb=[Sender._fail_all()]>\n",
      "Task was destroyed but it is pending!\n",
      "task: <Task pending name='Task-4490' coro=<Sender._sender_routine() running at /home/saifulkhan/CODE/SKA/streaming-vis-perf/broker/venv/lib/python3.9/site-packages/aiokafka/producer/sender.py:147> wait_for=<Future pending cb=[<TaskWakeupMethWrapper object at 0x7fe8b896dd30>()]> cb=[Sender._fail_all()]>\n",
      "Task was destroyed but it is pending!\n",
      "task: <Task pending name='Task-4500' coro=<Sender._sender_routine() running at /home/saifulkhan/CODE/SKA/streaming-vis-perf/broker/venv/lib/python3.9/site-packages/aiokafka/producer/sender.py:147> wait_for=<Future pending cb=[<TaskWakeupMethWrapper object at 0x7fe8bc8119d0>()]> cb=[Sender._fail_all()]>\n",
      "Task was destroyed but it is pending!\n",
      "task: <Task pending name='Task-4510' coro=<Sender._sender_routine() running at /home/saifulkhan/CODE/SKA/streaming-vis-perf/broker/venv/lib/python3.9/site-packages/aiokafka/producer/sender.py:147> wait_for=<Future pending cb=[<TaskWakeupMethWrapper object at 0x7fe8b6ce7d90>()]> cb=[Sender._fail_all()]>\n",
      "Task was destroyed but it is pending!\n",
      "task: <Task pending name='Task-4520' coro=<Sender._sender_routine() running at /home/saifulkhan/CODE/SKA/streaming-vis-perf/broker/venv/lib/python3.9/site-packages/aiokafka/producer/sender.py:147> wait_for=<Future pending cb=[<TaskWakeupMethWrapper object at 0x7fe8b6ce74f0>()]> cb=[Sender._fail_all()]>\n",
      "Task was destroyed but it is pending!\n",
      "task: <Task pending name='Task-4530' coro=<Sender._sender_routine() running at /home/saifulkhan/CODE/SKA/streaming-vis-perf/broker/venv/lib/python3.9/site-packages/aiokafka/producer/sender.py:147> wait_for=<Future pending cb=[<TaskWakeupMethWrapper object at 0x7fe8ba535820>()]> cb=[Sender._fail_all()]>\n",
      "Unclosed AIOKafkaProducer\n",
      "producer: <aiokafka.producer.producer.AIOKafkaProducer object at 0x7fe8ba535940>\n"
     ]
    },
    {
     "name": "stdout",
     "output_type": "stream",
     "text": [
      "idx = 18, channels[idx] = 475000\n"
     ]
    },
    {
     "name": "stderr",
     "output_type": "stream",
     "text": [
      "Unclosed AIOKafkaProducer\n",
      "producer: <aiokafka.producer.producer.AIOKafkaProducer object at 0x7fe8b8d3f670>\n"
     ]
    },
    {
     "name": "stdout",
     "output_type": "stream",
     "text": [
      "idx = 18, channels[idx] = 475000\n"
     ]
    },
    {
     "name": "stderr",
     "output_type": "stream",
     "text": [
      "Unclosed AIOKafkaProducer\n",
      "producer: <aiokafka.producer.producer.AIOKafkaProducer object at 0x7fe8bb178970>\n"
     ]
    },
    {
     "name": "stdout",
     "output_type": "stream",
     "text": [
      "idx = 18, channels[idx] = 475000\n"
     ]
    },
    {
     "name": "stderr",
     "output_type": "stream",
     "text": [
      "Unclosed AIOKafkaProducer\n",
      "producer: <aiokafka.producer.producer.AIOKafkaProducer object at 0x7fe8b896d520>\n",
      "Task was destroyed but it is pending!\n",
      "task: <Task pending name='Task-4570' coro=<Sender._sender_routine() running at /home/saifulkhan/CODE/SKA/streaming-vis-perf/broker/venv/lib/python3.9/site-packages/aiokafka/producer/sender.py:147> wait_for=<Future pending cb=[<TaskWakeupMethWrapper object at 0x7fe8b75365e0>()]> cb=[Sender._fail_all()]>\n"
     ]
    },
    {
     "name": "stdout",
     "output_type": "stream",
     "text": [
      "idx = 18, channels[idx] = 475000\n"
     ]
    },
    {
     "name": "stderr",
     "output_type": "stream",
     "text": [
      "Unclosed AIOKafkaProducer\n",
      "producer: <aiokafka.producer.producer.AIOKafkaProducer object at 0x7fe8bbb5d910>\n"
     ]
    },
    {
     "name": "stdout",
     "output_type": "stream",
     "text": [
      "idx = 18, channels[idx] = 475000\n"
     ]
    },
    {
     "name": "stderr",
     "output_type": "stream",
     "text": [
      "Unclosed AIOKafkaProducer\n",
      "producer: <aiokafka.producer.producer.AIOKafkaProducer object at 0x7fe8bdc6d850>\n"
     ]
    },
    {
     "name": "stdout",
     "output_type": "stream",
     "text": [
      "idx = 19, channels[idx] = 500000\n"
     ]
    },
    {
     "name": "stderr",
     "output_type": "stream",
     "text": [
      "Unclosed AIOKafkaProducer\n",
      "producer: <aiokafka.producer.producer.AIOKafkaProducer object at 0x7fe8bddacd60>\n"
     ]
    },
    {
     "name": "stdout",
     "output_type": "stream",
     "text": [
      "idx = 19, channels[idx] = 500000\n"
     ]
    },
    {
     "name": "stderr",
     "output_type": "stream",
     "text": [
      "Unclosed AIOKafkaProducer\n",
      "producer: <aiokafka.producer.producer.AIOKafkaProducer object at 0x7fe8ba352f70>\n",
      "Task was destroyed but it is pending!\n",
      "task: <Task pending name='Task-4610' coro=<Sender._sender_routine() running at /home/saifulkhan/CODE/SKA/streaming-vis-perf/broker/venv/lib/python3.9/site-packages/aiokafka/producer/sender.py:147> wait_for=<Future pending cb=[<TaskWakeupMethWrapper object at 0x7fe8b9db30a0>()]> cb=[Sender._fail_all()]>\n"
     ]
    },
    {
     "name": "stdout",
     "output_type": "stream",
     "text": [
      "idx = 19, channels[idx] = 500000\n"
     ]
    },
    {
     "name": "stderr",
     "output_type": "stream",
     "text": [
      "Unclosed AIOKafkaProducer\n",
      "producer: <aiokafka.producer.producer.AIOKafkaProducer object at 0x7fe8b9db3310>\n"
     ]
    },
    {
     "name": "stdout",
     "output_type": "stream",
     "text": [
      "idx = 19, channels[idx] = 500000\n"
     ]
    },
    {
     "name": "stderr",
     "output_type": "stream",
     "text": [
      "Unclosed AIOKafkaProducer\n",
      "producer: <aiokafka.producer.producer.AIOKafkaProducer object at 0x7fe8b9db3520>\n"
     ]
    },
    {
     "name": "stdout",
     "output_type": "stream",
     "text": [
      "idx = 19, channels[idx] = 500000\n"
     ]
    },
    {
     "name": "stderr",
     "output_type": "stream",
     "text": [
      "Unclosed AIOKafkaProducer\n",
      "producer: <aiokafka.producer.producer.AIOKafkaProducer object at 0x7fe8b865d2b0>\n",
      "Task was destroyed but it is pending!\n",
      "task: <Task pending name='Task-4640' coro=<Sender._sender_routine() running at /home/saifulkhan/CODE/SKA/streaming-vis-perf/broker/venv/lib/python3.9/site-packages/aiokafka/producer/sender.py:147> wait_for=<Future pending cb=[<TaskWakeupMethWrapper object at 0x7fe8b865d7c0>()]> cb=[Sender._fail_all()]>\n"
     ]
    },
    {
     "name": "stdout",
     "output_type": "stream",
     "text": [
      "idx = 19, channels[idx] = 500000\n"
     ]
    },
    {
     "name": "stderr",
     "output_type": "stream",
     "text": [
      "Unclosed AIOKafkaProducer\n",
      "producer: <aiokafka.producer.producer.AIOKafkaProducer object at 0x7fe8b865d850>\n"
     ]
    },
    {
     "name": "stdout",
     "output_type": "stream",
     "text": [
      "idx = 19, channels[idx] = 500000\n"
     ]
    },
    {
     "name": "stderr",
     "output_type": "stream",
     "text": [
      "Unclosed AIOKafkaProducer\n",
      "producer: <aiokafka.producer.producer.AIOKafkaProducer object at 0x7fe8b865d850>\n"
     ]
    },
    {
     "name": "stdout",
     "output_type": "stream",
     "text": [
      "idx = 19, channels[idx] = 500000\n"
     ]
    },
    {
     "name": "stderr",
     "output_type": "stream",
     "text": [
      "Unclosed AIOKafkaProducer\n",
      "producer: <aiokafka.producer.producer.AIOKafkaProducer object at 0x7fe8b715d460>\n"
     ]
    },
    {
     "name": "stdout",
     "output_type": "stream",
     "text": [
      "idx = 19, channels[idx] = 500000\n"
     ]
    },
    {
     "name": "stderr",
     "output_type": "stream",
     "text": [
      "Unclosed AIOKafkaProducer\n",
      "producer: <aiokafka.producer.producer.AIOKafkaProducer object at 0x7fe8b715dca0>\n",
      "Task was destroyed but it is pending!\n",
      "task: <Task pending name='Task-4540' coro=<Sender._sender_routine() running at /home/saifulkhan/CODE/SKA/streaming-vis-perf/broker/venv/lib/python3.9/site-packages/aiokafka/producer/sender.py:147> wait_for=<Future pending cb=[<TaskWakeupMethWrapper object at 0x7fe8ba535550>()]> cb=[Sender._fail_all()]>\n",
      "Task was destroyed but it is pending!\n",
      "task: <Task pending name='Task-4550' coro=<Sender._sender_routine() running at /home/saifulkhan/CODE/SKA/streaming-vis-perf/broker/venv/lib/python3.9/site-packages/aiokafka/producer/sender.py:147> wait_for=<Future pending cb=[<TaskWakeupMethWrapper object at 0x7fe8b6ce7280>()]> cb=[Sender._fail_all()]>\n",
      "Task was destroyed but it is pending!\n",
      "task: <Task pending name='Task-4560' coro=<Sender._sender_routine() running at /home/saifulkhan/CODE/SKA/streaming-vis-perf/broker/venv/lib/python3.9/site-packages/aiokafka/producer/sender.py:147> wait_for=<Future pending cb=[<TaskWakeupMethWrapper object at 0x7fe8ba535b80>()]> cb=[Sender._fail_all()]>\n",
      "Task was destroyed but it is pending!\n",
      "task: <Task pending name='Task-4580' coro=<Sender._sender_routine() running at /home/saifulkhan/CODE/SKA/streaming-vis-perf/broker/venv/lib/python3.9/site-packages/aiokafka/producer/sender.py:147> wait_for=<Future pending cb=[<TaskWakeupMethWrapper object at 0x7fe8ba494b50>()]> cb=[Sender._fail_all()]>\n",
      "Task was destroyed but it is pending!\n",
      "task: <Task pending name='Task-4590' coro=<Sender._sender_routine() running at /home/saifulkhan/CODE/SKA/streaming-vis-perf/broker/venv/lib/python3.9/site-packages/aiokafka/producer/sender.py:147> wait_for=<Future pending cb=[<TaskWakeupMethWrapper object at 0x7fe8bddac370>()]> cb=[Sender._fail_all()]>\n",
      "Task was destroyed but it is pending!\n",
      "task: <Task pending name='Task-4600' coro=<Sender._sender_routine() running at /home/saifulkhan/CODE/SKA/streaming-vis-perf/broker/venv/lib/python3.9/site-packages/aiokafka/producer/sender.py:147> wait_for=<Future pending cb=[<TaskWakeupMethWrapper object at 0x7fe8bbbb1e50>()]> cb=[Sender._fail_all()]>\n",
      "Task was destroyed but it is pending!\n",
      "task: <Task pending name='Task-4620' coro=<Sender._sender_routine() running at /home/saifulkhan/CODE/SKA/streaming-vis-perf/broker/venv/lib/python3.9/site-packages/aiokafka/producer/sender.py:147> wait_for=<Future pending cb=[<TaskWakeupMethWrapper object at 0x7fe8b9db3be0>()]> cb=[Sender._fail_all()]>\n",
      "Task was destroyed but it is pending!\n",
      "task: <Task pending name='Task-4630' coro=<Sender._sender_routine() running at /home/saifulkhan/CODE/SKA/streaming-vis-perf/broker/venv/lib/python3.9/site-packages/aiokafka/producer/sender.py:147> wait_for=<Future pending cb=[<TaskWakeupMethWrapper object at 0x7fe8c3941b80>()]> cb=[Sender._fail_all()]>\n",
      "Task was destroyed but it is pending!\n",
      "task: <Task pending name='Task-4650' coro=<Sender._sender_routine() running at /home/saifulkhan/CODE/SKA/streaming-vis-perf/broker/venv/lib/python3.9/site-packages/aiokafka/producer/sender.py:147> wait_for=<Future pending cb=[<TaskWakeupMethWrapper object at 0x7fe8b865db50>()]> cb=[Sender._fail_all()]>\n",
      "Task was destroyed but it is pending!\n",
      "task: <Task pending name='Task-4660' coro=<Sender._sender_routine() running at /home/saifulkhan/CODE/SKA/streaming-vis-perf/broker/venv/lib/python3.9/site-packages/aiokafka/producer/sender.py:147> wait_for=<Future pending cb=[<TaskWakeupMethWrapper object at 0x7fe8b9fda190>()]> cb=[Sender._fail_all()]>\n",
      "Task was destroyed but it is pending!\n",
      "task: <Task pending name='Task-4670' coro=<Sender._sender_routine() running at /home/saifulkhan/CODE/SKA/streaming-vis-perf/broker/venv/lib/python3.9/site-packages/aiokafka/producer/sender.py:147> wait_for=<Future pending cb=[<TaskWakeupMethWrapper object at 0x7fe8b715d700>()]> cb=[Sender._fail_all()]>\n",
      "Task was destroyed but it is pending!\n",
      "task: <Task pending name='Task-4680' coro=<Sender._sender_routine() running at /home/saifulkhan/CODE/SKA/streaming-vis-perf/broker/venv/lib/python3.9/site-packages/aiokafka/producer/sender.py:147> wait_for=<Future pending cb=[<TaskWakeupMethWrapper object at 0x7fe8bb857370>()]> cb=[Sender._fail_all()]>\n"
     ]
    },
    {
     "name": "stdout",
     "output_type": "stream",
     "text": [
      "idx = 19, channels[idx] = 500000\n"
     ]
    },
    {
     "name": "stderr",
     "output_type": "stream",
     "text": [
      "Unclosed AIOKafkaProducer\n",
      "producer: <aiokafka.producer.producer.AIOKafkaProducer object at 0x7fe8b715dca0>\n"
     ]
    },
    {
     "name": "stdout",
     "output_type": "stream",
     "text": [
      "idx = 20, channels[idx] = 525000\n"
     ]
    },
    {
     "name": "stderr",
     "output_type": "stream",
     "text": [
      "Unclosed AIOKafkaProducer\n",
      "producer: <aiokafka.producer.producer.AIOKafkaProducer object at 0x7fe8b9c18d00>\n"
     ]
    },
    {
     "name": "stdout",
     "output_type": "stream",
     "text": [
      "idx = 20, channels[idx] = 525000\n"
     ]
    },
    {
     "name": "stderr",
     "output_type": "stream",
     "text": [
      "Unclosed AIOKafkaProducer\n",
      "producer: <aiokafka.producer.producer.AIOKafkaProducer object at 0x7fe8ba494970>\n"
     ]
    },
    {
     "name": "stdout",
     "output_type": "stream",
     "text": [
      "idx = 20, channels[idx] = 525000\n"
     ]
    },
    {
     "name": "stderr",
     "output_type": "stream",
     "text": [
      "Unclosed AIOKafkaProducer\n",
      "producer: <aiokafka.producer.producer.AIOKafkaProducer object at 0x7fe8bcf68ee0>\n"
     ]
    },
    {
     "name": "stdout",
     "output_type": "stream",
     "text": [
      "idx = 20, channels[idx] = 525000\n"
     ]
    },
    {
     "name": "stderr",
     "output_type": "stream",
     "text": [
      "Unclosed AIOKafkaProducer\n",
      "producer: <aiokafka.producer.producer.AIOKafkaProducer object at 0x7fe8b851d6d0>\n"
     ]
    },
    {
     "name": "stdout",
     "output_type": "stream",
     "text": [
      "idx = 20, channels[idx] = 525000\n"
     ]
    },
    {
     "name": "stderr",
     "output_type": "stream",
     "text": [
      "Unclosed AIOKafkaProducer\n",
      "producer: <aiokafka.producer.producer.AIOKafkaProducer object at 0x7fe8b851de80>\n"
     ]
    },
    {
     "name": "stdout",
     "output_type": "stream",
     "text": [
      "idx = 20, channels[idx] = 525000\n"
     ]
    },
    {
     "name": "stderr",
     "output_type": "stream",
     "text": [
      "Unclosed AIOKafkaProducer\n",
      "producer: <aiokafka.producer.producer.AIOKafkaProducer object at 0x7fe8b851df10>\n"
     ]
    },
    {
     "name": "stdout",
     "output_type": "stream",
     "text": [
      "idx = 20, channels[idx] = 525000\n"
     ]
    },
    {
     "name": "stderr",
     "output_type": "stream",
     "text": [
      "Task was destroyed but it is pending!\n",
      "task: <Task pending name='Task-4750' coro=<Sender._sender_routine() running at /home/saifulkhan/CODE/SKA/streaming-vis-perf/broker/venv/lib/python3.9/site-packages/aiokafka/producer/sender.py:147> wait_for=<Future pending cb=[<TaskWakeupMethWrapper object at 0x7fe8b8d7b670>()]> cb=[Sender._fail_all()]>\n",
      "Unclosed AIOKafkaProducer\n",
      "producer: <aiokafka.producer.producer.AIOKafkaProducer object at 0x7fe8b8d7b220>\n"
     ]
    },
    {
     "name": "stdout",
     "output_type": "stream",
     "text": [
      "idx = 20, channels[idx] = 525000\n"
     ]
    },
    {
     "name": "stderr",
     "output_type": "stream",
     "text": [
      "Unclosed AIOKafkaProducer\n",
      "producer: <aiokafka.producer.producer.AIOKafkaProducer object at 0x7fe8bb60fdc0>\n"
     ]
    },
    {
     "name": "stdout",
     "output_type": "stream",
     "text": [
      "idx = 20, channels[idx] = 525000\n"
     ]
    },
    {
     "name": "stderr",
     "output_type": "stream",
     "text": [
      "Unclosed AIOKafkaProducer\n",
      "producer: <aiokafka.producer.producer.AIOKafkaProducer object at 0x7fe8b6fd8b20>\n"
     ]
    },
    {
     "name": "stdout",
     "output_type": "stream",
     "text": [
      "idx = 20, channels[idx] = 525000\n"
     ]
    },
    {
     "name": "stderr",
     "output_type": "stream",
     "text": [
      "Unclosed AIOKafkaProducer\n",
      "producer: <aiokafka.producer.producer.AIOKafkaProducer object at 0x7fe8b6f7dcd0>\n"
     ]
    },
    {
     "name": "stdout",
     "output_type": "stream",
     "text": [
      "idx = 21, channels[idx] = 550000\n"
     ]
    },
    {
     "name": "stderr",
     "output_type": "stream",
     "text": [
      "Unclosed AIOKafkaProducer\n",
      "producer: <aiokafka.producer.producer.AIOKafkaProducer object at 0x7fe8b6f034f0>\n"
     ]
    },
    {
     "name": "stdout",
     "output_type": "stream",
     "text": [
      "idx = 21, channels[idx] = 550000\n"
     ]
    },
    {
     "name": "stderr",
     "output_type": "stream",
     "text": [
      "Unclosed AIOKafkaProducer\n",
      "producer: <aiokafka.producer.producer.AIOKafkaProducer object at 0x7fe8b6f03df0>\n"
     ]
    },
    {
     "name": "stdout",
     "output_type": "stream",
     "text": [
      "idx = 21, channels[idx] = 550000\n"
     ]
    },
    {
     "name": "stderr",
     "output_type": "stream",
     "text": [
      "Task was destroyed but it is pending!\n",
      "task: <Task pending name='Task-4690' coro=<Sender._sender_routine() running at /home/saifulkhan/CODE/SKA/streaming-vis-perf/broker/venv/lib/python3.9/site-packages/aiokafka/producer/sender.py:147> wait_for=<Future pending cb=[<TaskWakeupMethWrapper object at 0x7fe8ba28c4c0>()]> cb=[Sender._fail_all()]>\n",
      "Task was destroyed but it is pending!\n",
      "task: <Task pending name='Task-4700' coro=<Sender._sender_routine() running at /home/saifulkhan/CODE/SKA/streaming-vis-perf/broker/venv/lib/python3.9/site-packages/aiokafka/producer/sender.py:147> wait_for=<Future pending cb=[<TaskWakeupMethWrapper object at 0x7fe8bcf68e50>()]> cb=[Sender._fail_all()]>\n",
      "Task was destroyed but it is pending!\n",
      "task: <Task pending name='Task-4710' coro=<Sender._sender_routine() running at /home/saifulkhan/CODE/SKA/streaming-vis-perf/broker/venv/lib/python3.9/site-packages/aiokafka/producer/sender.py:147> wait_for=<Future pending cb=[<TaskWakeupMethWrapper object at 0x7fe8bce5fa00>()]> cb=[Sender._fail_all()]>\n",
      "Task was destroyed but it is pending!\n",
      "task: <Task pending name='Task-4720' coro=<Sender._sender_routine() running at /home/saifulkhan/CODE/SKA/streaming-vis-perf/broker/venv/lib/python3.9/site-packages/aiokafka/producer/sender.py:147> wait_for=<Future pending cb=[<TaskWakeupMethWrapper object at 0x7fe8b851d880>()]> cb=[Sender._fail_all()]>\n",
      "Task was destroyed but it is pending!\n",
      "task: <Task pending name='Task-4730' coro=<Sender._sender_routine() running at /home/saifulkhan/CODE/SKA/streaming-vis-perf/broker/venv/lib/python3.9/site-packages/aiokafka/producer/sender.py:147> wait_for=<Future pending cb=[<TaskWakeupMethWrapper object at 0x7fe8b851d070>()]> cb=[Sender._fail_all()]>\n",
      "Task was destroyed but it is pending!\n",
      "task: <Task pending name='Task-4740' coro=<Sender._sender_routine() running at /home/saifulkhan/CODE/SKA/streaming-vis-perf/broker/venv/lib/python3.9/site-packages/aiokafka/producer/sender.py:147> wait_for=<Future pending cb=[<TaskWakeupMethWrapper object at 0x7fe8b851d7f0>()]> cb=[Sender._fail_all()]>\n",
      "Task was destroyed but it is pending!\n",
      "task: <Task pending name='Task-4760' coro=<Sender._sender_routine() running at /home/saifulkhan/CODE/SKA/streaming-vis-perf/broker/venv/lib/python3.9/site-packages/aiokafka/producer/sender.py:147> wait_for=<Future pending cb=[<TaskWakeupMethWrapper object at 0x7fe8b8d7bca0>()]> cb=[Sender._fail_all()]>\n",
      "Task was destroyed but it is pending!\n",
      "task: <Task pending name='Task-4770' coro=<Sender._sender_routine() running at /home/saifulkhan/CODE/SKA/streaming-vis-perf/broker/venv/lib/python3.9/site-packages/aiokafka/producer/sender.py:147> wait_for=<Future pending cb=[<TaskWakeupMethWrapper object at 0x7fe8b8d7b4f0>()]> cb=[Sender._fail_all()]>\n",
      "Task was destroyed but it is pending!\n",
      "task: <Task pending name='Task-4780' coro=<Sender._sender_routine() running at /home/saifulkhan/CODE/SKA/streaming-vis-perf/broker/venv/lib/python3.9/site-packages/aiokafka/producer/sender.py:147> wait_for=<Future pending cb=[<TaskWakeupMethWrapper object at 0x7fe8b6fd8d00>()]> cb=[Sender._fail_all()]>\n",
      "Task was destroyed but it is pending!\n",
      "task: <Task pending name='Task-4790' coro=<Sender._sender_routine() running at /home/saifulkhan/CODE/SKA/streaming-vis-perf/broker/venv/lib/python3.9/site-packages/aiokafka/producer/sender.py:147> wait_for=<Future pending cb=[<TaskWakeupMethWrapper object at 0x7fe8b6fd8070>()]> cb=[Sender._fail_all()]>\n",
      "Task was destroyed but it is pending!\n",
      "task: <Task pending name='Task-4800' coro=<Sender._sender_routine() running at /home/saifulkhan/CODE/SKA/streaming-vis-perf/broker/venv/lib/python3.9/site-packages/aiokafka/producer/sender.py:147> wait_for=<Future pending cb=[<TaskWakeupMethWrapper object at 0x7fe8b6f030d0>()]> cb=[Sender._fail_all()]>\n",
      "Task was destroyed but it is pending!\n",
      "task: <Task pending name='Task-4810' coro=<Sender._sender_routine() running at /home/saifulkhan/CODE/SKA/streaming-vis-perf/broker/venv/lib/python3.9/site-packages/aiokafka/producer/sender.py:147> wait_for=<Future pending cb=[<TaskWakeupMethWrapper object at 0x7fe8b6f036d0>()]> cb=[Sender._fail_all()]>\n",
      "Unclosed AIOKafkaProducer\n",
      "producer: <aiokafka.producer.producer.AIOKafkaProducer object at 0x7fe8b6f03850>\n"
     ]
    },
    {
     "name": "stdout",
     "output_type": "stream",
     "text": [
      "idx = 21, channels[idx] = 550000\n"
     ]
    },
    {
     "name": "stderr",
     "output_type": "stream",
     "text": [
      "Unclosed AIOKafkaProducer\n",
      "producer: <aiokafka.producer.producer.AIOKafkaProducer object at 0x7fe8bb86d2b0>\n"
     ]
    },
    {
     "name": "stdout",
     "output_type": "stream",
     "text": [
      "idx = 21, channels[idx] = 550000\n"
     ]
    },
    {
     "name": "stderr",
     "output_type": "stream",
     "text": [
      "Unclosed AIOKafkaProducer\n",
      "producer: <aiokafka.producer.producer.AIOKafkaProducer object at 0x7fe8b8d7bfa0>\n"
     ]
    },
    {
     "name": "stdout",
     "output_type": "stream",
     "text": [
      "idx = 21, channels[idx] = 550000\n"
     ]
    },
    {
     "name": "stderr",
     "output_type": "stream",
     "text": [
      "Unclosed AIOKafkaProducer\n",
      "producer: <aiokafka.producer.producer.AIOKafkaProducer object at 0x7fe8bcb02730>\n"
     ]
    },
    {
     "name": "stdout",
     "output_type": "stream",
     "text": [
      "idx = 21, channels[idx] = 550000\n"
     ]
    },
    {
     "name": "stderr",
     "output_type": "stream",
     "text": [
      "Unclosed AIOKafkaProducer\n",
      "producer: <aiokafka.producer.producer.AIOKafkaProducer object at 0x7fe8b8b6b6a0>\n"
     ]
    },
    {
     "name": "stdout",
     "output_type": "stream",
     "text": [
      "idx = 21, channels[idx] = 550000\n"
     ]
    },
    {
     "name": "stderr",
     "output_type": "stream",
     "text": [
      "Unclosed AIOKafkaProducer\n",
      "producer: <aiokafka.producer.producer.AIOKafkaProducer object at 0x7fe8bca46430>\n"
     ]
    },
    {
     "name": "stdout",
     "output_type": "stream",
     "text": [
      "idx = 21, channels[idx] = 550000\n"
     ]
    },
    {
     "name": "stderr",
     "output_type": "stream",
     "text": [
      "Unclosed AIOKafkaProducer\n",
      "producer: <aiokafka.producer.producer.AIOKafkaProducer object at 0x7fe8b75cadc0>\n"
     ]
    },
    {
     "name": "stdout",
     "output_type": "stream",
     "text": [
      "idx = 21, channels[idx] = 550000\n"
     ]
    },
    {
     "name": "stderr",
     "output_type": "stream",
     "text": [
      "Unclosed AIOKafkaProducer\n",
      "producer: <aiokafka.producer.producer.AIOKafkaProducer object at 0x7fe8bb221070>\n"
     ]
    },
    {
     "name": "stdout",
     "output_type": "stream",
     "text": [
      "idx = 22, channels[idx] = 575000\n"
     ]
    },
    {
     "name": "stderr",
     "output_type": "stream",
     "text": [
      "Unclosed AIOKafkaProducer\n",
      "producer: <aiokafka.producer.producer.AIOKafkaProducer object at 0x7fe8b9f45d60>\n"
     ]
    },
    {
     "name": "stdout",
     "output_type": "stream",
     "text": [
      "idx = 22, channels[idx] = 575000\n"
     ]
    },
    {
     "name": "stderr",
     "output_type": "stream",
     "text": [
      "Unclosed AIOKafkaProducer\n",
      "producer: <aiokafka.producer.producer.AIOKafkaProducer object at 0x7fe8b896dc10>\n"
     ]
    },
    {
     "name": "stdout",
     "output_type": "stream",
     "text": [
      "idx = 22, channels[idx] = 575000\n"
     ]
    },
    {
     "name": "stderr",
     "output_type": "stream",
     "text": [
      "Unclosed AIOKafkaProducer\n",
      "producer: <aiokafka.producer.producer.AIOKafkaProducer object at 0x7fe8be1377c0>\n"
     ]
    },
    {
     "name": "stdout",
     "output_type": "stream",
     "text": [
      "idx = 22, channels[idx] = 575000\n"
     ]
    },
    {
     "name": "stderr",
     "output_type": "stream",
     "text": [
      "Unclosed AIOKafkaProducer\n",
      "producer: <aiokafka.producer.producer.AIOKafkaProducer object at 0x7fe8bb1784f0>\n",
      "Task was destroyed but it is pending!\n",
      "task: <Task pending name='Task-4820' coro=<Sender._sender_routine() running at /home/saifulkhan/CODE/SKA/streaming-vis-perf/broker/venv/lib/python3.9/site-packages/aiokafka/producer/sender.py:147> wait_for=<Future pending cb=[<TaskWakeupMethWrapper object at 0x7fe8b6fd8d00>()]> cb=[Sender._fail_all()]>\n",
      "Task was destroyed but it is pending!\n",
      "task: <Task pending name='Task-4830' coro=<Sender._sender_routine() running at /home/saifulkhan/CODE/SKA/streaming-vis-perf/broker/venv/lib/python3.9/site-packages/aiokafka/producer/sender.py:147> wait_for=<Future pending cb=[<TaskWakeupMethWrapper object at 0x7fe8b6fd8910>()]> cb=[Sender._fail_all()]>\n",
      "Task was destroyed but it is pending!\n",
      "task: <Task pending name='Task-4840' coro=<Sender._sender_routine() running at /home/saifulkhan/CODE/SKA/streaming-vis-perf/broker/venv/lib/python3.9/site-packages/aiokafka/producer/sender.py:147> wait_for=<Future pending cb=[<TaskWakeupMethWrapper object at 0x7fe8b9f45340>()]> cb=[Sender._fail_all()]>\n",
      "Task was destroyed but it is pending!\n",
      "task: <Task pending name='Task-4850' coro=<Sender._sender_routine() running at /home/saifulkhan/CODE/SKA/streaming-vis-perf/broker/venv/lib/python3.9/site-packages/aiokafka/producer/sender.py:147> wait_for=<Future pending cb=[<TaskWakeupMethWrapper object at 0x7fe8b6f03670>()]> cb=[Sender._fail_all()]>\n",
      "Task was destroyed but it is pending!\n",
      "task: <Task pending name='Task-4860' coro=<Sender._sender_routine() running at /home/saifulkhan/CODE/SKA/streaming-vis-perf/broker/venv/lib/python3.9/site-packages/aiokafka/producer/sender.py:147> wait_for=<Future pending cb=[<TaskWakeupMethWrapper object at 0x7fe8b75ca970>()]> cb=[Sender._fail_all()]>\n",
      "Task was destroyed but it is pending!\n",
      "task: <Task pending name='Task-4870' coro=<Sender._sender_routine() running at /home/saifulkhan/CODE/SKA/streaming-vis-perf/broker/venv/lib/python3.9/site-packages/aiokafka/producer/sender.py:147> wait_for=<Future pending cb=[<TaskWakeupMethWrapper object at 0x7fe8b8b6b7f0>()]> cb=[Sender._fail_all()]>\n",
      "Task was destroyed but it is pending!\n",
      "task: <Task pending name='Task-4880' coro=<Sender._sender_routine() running at /home/saifulkhan/CODE/SKA/streaming-vis-perf/broker/venv/lib/python3.9/site-packages/aiokafka/producer/sender.py:147> wait_for=<Future pending cb=[<TaskWakeupMethWrapper object at 0x7fe8bb221220>()]> cb=[Sender._fail_all()]>\n",
      "Task was destroyed but it is pending!\n",
      "task: <Task pending name='Task-4890' coro=<Sender._sender_routine() running at /home/saifulkhan/CODE/SKA/streaming-vis-perf/broker/venv/lib/python3.9/site-packages/aiokafka/producer/sender.py:147> wait_for=<Future pending cb=[<TaskWakeupMethWrapper object at 0x7fe8bb221550>()]> cb=[Sender._fail_all()]>\n",
      "Task was destroyed but it is pending!\n",
      "task: <Task pending name='Task-4900' coro=<Sender._sender_routine() running at /home/saifulkhan/CODE/SKA/streaming-vis-perf/broker/venv/lib/python3.9/site-packages/aiokafka/producer/sender.py:147> wait_for=<Future pending cb=[<TaskWakeupMethWrapper object at 0x7fe8be2211c0>()]> cb=[Sender._fail_all()]>\n",
      "Task was destroyed but it is pending!\n",
      "task: <Task pending name='Task-4910' coro=<Sender._sender_routine() running at /home/saifulkhan/CODE/SKA/streaming-vis-perf/broker/venv/lib/python3.9/site-packages/aiokafka/producer/sender.py:147> wait_for=<Future pending cb=[<TaskWakeupMethWrapper object at 0x7fe8bb178a60>()]> cb=[Sender._fail_all()]>\n",
      "Task was destroyed but it is pending!\n",
      "task: <Task pending name='Task-4920' coro=<Sender._sender_routine() running at /home/saifulkhan/CODE/SKA/streaming-vis-perf/broker/venv/lib/python3.9/site-packages/aiokafka/producer/sender.py:147> wait_for=<Future pending cb=[<TaskWakeupMethWrapper object at 0x7fe8bc7222e0>()]> cb=[Sender._fail_all()]>\n",
      "Task was destroyed but it is pending!\n",
      "task: <Task pending name='Task-4930' coro=<Sender._sender_routine() running at /home/saifulkhan/CODE/SKA/streaming-vis-perf/broker/venv/lib/python3.9/site-packages/aiokafka/producer/sender.py:147> wait_for=<Future pending cb=[<TaskWakeupMethWrapper object at 0x7fe8b5997580>()]> cb=[Sender._fail_all()]>\n"
     ]
    },
    {
     "name": "stdout",
     "output_type": "stream",
     "text": [
      "idx = 22, channels[idx] = 575000\n"
     ]
    },
    {
     "name": "stderr",
     "output_type": "stream",
     "text": [
      "Unclosed AIOKafkaProducer\n",
      "producer: <aiokafka.producer.producer.AIOKafkaProducer object at 0x7fe8b5997be0>\n"
     ]
    },
    {
     "name": "stdout",
     "output_type": "stream",
     "text": [
      "idx = 22, channels[idx] = 575000\n"
     ]
    },
    {
     "name": "stderr",
     "output_type": "stream",
     "text": [
      "Unclosed AIOKafkaProducer\n",
      "producer: <aiokafka.producer.producer.AIOKafkaProducer object at 0x7fe8b59971c0>\n"
     ]
    },
    {
     "name": "stdout",
     "output_type": "stream",
     "text": [
      "idx = 22, channels[idx] = 575000\n"
     ]
    },
    {
     "name": "stderr",
     "output_type": "stream",
     "text": [
      "Unclosed AIOKafkaProducer\n",
      "producer: <aiokafka.producer.producer.AIOKafkaProducer object at 0x7fe8b896dc10>\n"
     ]
    },
    {
     "name": "stdout",
     "output_type": "stream",
     "text": [
      "idx = 22, channels[idx] = 575000\n"
     ]
    },
    {
     "name": "stderr",
     "output_type": "stream",
     "text": [
      "Unclosed AIOKafkaProducer\n",
      "producer: <aiokafka.producer.producer.AIOKafkaProducer object at 0x7fe8b75ca970>\n"
     ]
    },
    {
     "name": "stdout",
     "output_type": "stream",
     "text": [
      "idx = 22, channels[idx] = 575000\n"
     ]
    },
    {
     "name": "stderr",
     "output_type": "stream",
     "text": [
      "Unclosed AIOKafkaProducer\n",
      "producer: <aiokafka.producer.producer.AIOKafkaProducer object at 0x7fe8b8b6bc40>\n"
     ]
    },
    {
     "name": "stdout",
     "output_type": "stream",
     "text": [
      "idx = 22, channels[idx] = 575000\n"
     ]
    },
    {
     "name": "stderr",
     "output_type": "stream",
     "text": [
      "Unclosed AIOKafkaProducer\n",
      "producer: <aiokafka.producer.producer.AIOKafkaProducer object at 0x7fe8b7335880>\n"
     ]
    },
    {
     "name": "stdout",
     "output_type": "stream",
     "text": [
      "idx = 23, channels[idx] = 600000\n"
     ]
    },
    {
     "name": "stderr",
     "output_type": "stream",
     "text": [
      "Unclosed AIOKafkaProducer\n",
      "producer: <aiokafka.producer.producer.AIOKafkaProducer object at 0x7fe8b73357f0>\n"
     ]
    },
    {
     "name": "stdout",
     "output_type": "stream",
     "text": [
      "idx = 23, channels[idx] = 600000\n"
     ]
    },
    {
     "name": "stderr",
     "output_type": "stream",
     "text": [
      "Unclosed AIOKafkaProducer\n",
      "producer: <aiokafka.producer.producer.AIOKafkaProducer object at 0x7fe8b7335970>\n",
      "Task was destroyed but it is pending!\n",
      "task: <Task pending name='Task-5010' coro=<Sender._sender_routine() running at /home/saifulkhan/CODE/SKA/streaming-vis-perf/broker/venv/lib/python3.9/site-packages/aiokafka/producer/sender.py:147> wait_for=<Future pending cb=[<TaskWakeupMethWrapper object at 0x7fe8b58ef400>()]> cb=[Sender._fail_all()]>\n"
     ]
    },
    {
     "name": "stdout",
     "output_type": "stream",
     "text": [
      "idx = 23, channels[idx] = 600000\n"
     ]
    },
    {
     "name": "stderr",
     "output_type": "stream",
     "text": [
      "Unclosed AIOKafkaProducer\n",
      "producer: <aiokafka.producer.producer.AIOKafkaProducer object at 0x7fe8b58ef970>\n"
     ]
    },
    {
     "name": "stdout",
     "output_type": "stream",
     "text": [
      "idx = 23, channels[idx] = 600000\n"
     ]
    },
    {
     "name": "stderr",
     "output_type": "stream",
     "text": [
      "Unclosed AIOKafkaProducer\n",
      "producer: <aiokafka.producer.producer.AIOKafkaProducer object at 0x7fe8b58ef100>\n"
     ]
    },
    {
     "name": "stdout",
     "output_type": "stream",
     "text": [
      "idx = 23, channels[idx] = 600000\n"
     ]
    },
    {
     "name": "stderr",
     "output_type": "stream",
     "text": [
      "Unclosed AIOKafkaProducer\n",
      "producer: <aiokafka.producer.producer.AIOKafkaProducer object at 0x7fe8b869b8b0>\n"
     ]
    },
    {
     "name": "stdout",
     "output_type": "stream",
     "text": [
      "idx = 23, channels[idx] = 600000\n"
     ]
    },
    {
     "name": "stderr",
     "output_type": "stream",
     "text": [
      "Unclosed AIOKafkaProducer\n",
      "producer: <aiokafka.producer.producer.AIOKafkaProducer object at 0x7fe8b869bdc0>\n"
     ]
    },
    {
     "name": "stdout",
     "output_type": "stream",
     "text": [
      "idx = 23, channels[idx] = 600000\n"
     ]
    },
    {
     "name": "stderr",
     "output_type": "stream",
     "text": [
      "Task was destroyed but it is pending!\n",
      "task: <Task pending name='Task-4940' coro=<Sender._sender_routine() running at /home/saifulkhan/CODE/SKA/streaming-vis-perf/broker/venv/lib/python3.9/site-packages/aiokafka/producer/sender.py:147> wait_for=<Future pending cb=[<TaskWakeupMethWrapper object at 0x7fe8b5997790>()]> cb=[Sender._fail_all()]>\n",
      "Task was destroyed but it is pending!\n",
      "task: <Task pending name='Task-4950' coro=<Sender._sender_routine() running at /home/saifulkhan/CODE/SKA/streaming-vis-perf/broker/venv/lib/python3.9/site-packages/aiokafka/producer/sender.py:147> wait_for=<Future pending cb=[<TaskWakeupMethWrapper object at 0x7fe8b5997760>()]> cb=[Sender._fail_all()]>\n",
      "Task was destroyed but it is pending!\n",
      "task: <Task pending name='Task-4960' coro=<Sender._sender_routine() running at /home/saifulkhan/CODE/SKA/streaming-vis-perf/broker/venv/lib/python3.9/site-packages/aiokafka/producer/sender.py:147> wait_for=<Future pending cb=[<TaskWakeupMethWrapper object at 0x7fe8bc6ecd90>()]> cb=[Sender._fail_all()]>\n",
      "Task was destroyed but it is pending!\n",
      "task: <Task pending name='Task-4970' coro=<Sender._sender_routine() running at /home/saifulkhan/CODE/SKA/streaming-vis-perf/broker/venv/lib/python3.9/site-packages/aiokafka/producer/sender.py:147> wait_for=<Future pending cb=[<TaskWakeupMethWrapper object at 0x7fe8b896d070>()]> cb=[Sender._fail_all()]>\n",
      "Task was destroyed but it is pending!\n",
      "task: <Task pending name='Task-4980' coro=<Sender._sender_routine() running at /home/saifulkhan/CODE/SKA/streaming-vis-perf/broker/venv/lib/python3.9/site-packages/aiokafka/producer/sender.py:147> wait_for=<Future pending cb=[<TaskWakeupMethWrapper object at 0x7fe8b87eb310>()]> cb=[Sender._fail_all()]>\n",
      "Task was destroyed but it is pending!\n",
      "task: <Task pending name='Task-4990' coro=<Sender._sender_routine() running at /home/saifulkhan/CODE/SKA/streaming-vis-perf/broker/venv/lib/python3.9/site-packages/aiokafka/producer/sender.py:147> wait_for=<Future pending cb=[<TaskWakeupMethWrapper object at 0x7fe8b73355e0>()]> cb=[Sender._fail_all()]>\n",
      "Task was destroyed but it is pending!\n",
      "task: <Task pending name='Task-5000' coro=<Sender._sender_routine() running at /home/saifulkhan/CODE/SKA/streaming-vis-perf/broker/venv/lib/python3.9/site-packages/aiokafka/producer/sender.py:147> wait_for=<Future pending cb=[<TaskWakeupMethWrapper object at 0x7fe8bddac6d0>()]> cb=[Sender._fail_all()]>\n",
      "Task was destroyed but it is pending!\n",
      "task: <Task pending name='Task-5020' coro=<Sender._sender_routine() running at /home/saifulkhan/CODE/SKA/streaming-vis-perf/broker/venv/lib/python3.9/site-packages/aiokafka/producer/sender.py:147> wait_for=<Future pending cb=[<TaskWakeupMethWrapper object at 0x7fe8b58efd90>()]> cb=[Sender._fail_all()]>\n",
      "Task was destroyed but it is pending!\n",
      "task: <Task pending name='Task-5030' coro=<Sender._sender_routine() running at /home/saifulkhan/CODE/SKA/streaming-vis-perf/broker/venv/lib/python3.9/site-packages/aiokafka/producer/sender.py:147> wait_for=<Future pending cb=[<TaskWakeupMethWrapper object at 0x7fe8b869bc10>()]> cb=[Sender._fail_all()]>\n",
      "Task was destroyed but it is pending!\n",
      "task: <Task pending name='Task-5040' coro=<Sender._sender_routine() running at /home/saifulkhan/CODE/SKA/streaming-vis-perf/broker/venv/lib/python3.9/site-packages/aiokafka/producer/sender.py:147> wait_for=<Future pending cb=[<TaskWakeupMethWrapper object at 0x7fe8b869baf0>()]> cb=[Sender._fail_all()]>\n",
      "Task was destroyed but it is pending!\n",
      "task: <Task pending name='Task-5050' coro=<Sender._sender_routine() running at /home/saifulkhan/CODE/SKA/streaming-vis-perf/broker/venv/lib/python3.9/site-packages/aiokafka/producer/sender.py:147> wait_for=<Future pending cb=[<TaskWakeupMethWrapper object at 0x7fe8b869ba00>()]> cb=[Sender._fail_all()]>\n",
      "Unclosed AIOKafkaProducer\n",
      "producer: <aiokafka.producer.producer.AIOKafkaProducer object at 0x7fe8b869bb50>\n"
     ]
    },
    {
     "name": "stdout",
     "output_type": "stream",
     "text": [
      "idx = 23, channels[idx] = 600000\n"
     ]
    },
    {
     "name": "stderr",
     "output_type": "stream",
     "text": [
      "Unclosed AIOKafkaProducer\n",
      "producer: <aiokafka.producer.producer.AIOKafkaProducer object at 0x7fe8bb178a60>\n"
     ]
    },
    {
     "name": "stdout",
     "output_type": "stream",
     "text": [
      "idx = 23, channels[idx] = 600000\n"
     ]
    },
    {
     "name": "stderr",
     "output_type": "stream",
     "text": [
      "Unclosed AIOKafkaProducer\n",
      "producer: <aiokafka.producer.producer.AIOKafkaProducer object at 0x7fe8b87eb580>\n"
     ]
    },
    {
     "name": "stdout",
     "output_type": "stream",
     "text": [
      "idx = 23, channels[idx] = 600000\n"
     ]
    },
    {
     "name": "stderr",
     "output_type": "stream",
     "text": [
      "Unclosed AIOKafkaProducer\n",
      "producer: <aiokafka.producer.producer.AIOKafkaProducer object at 0x7fe8b896df40>\n",
      "Task was destroyed but it is pending!\n",
      "task: <Task pending name='Task-5090' coro=<Sender._sender_routine() running at /home/saifulkhan/CODE/SKA/streaming-vis-perf/broker/venv/lib/python3.9/site-packages/aiokafka/producer/sender.py:147> wait_for=<Future pending cb=[<TaskWakeupMethWrapper object at 0x7fe8b7335790>()]> cb=[Sender._fail_all()]>\n",
      "Task was destroyed but it is pending!\n",
      "task: <Task pending name='Task-5060' coro=<Sender._sender_routine() running at /home/saifulkhan/CODE/SKA/streaming-vis-perf/broker/venv/lib/python3.9/site-packages/aiokafka/producer/sender.py:147> wait_for=<Future pending cb=[<TaskWakeupMethWrapper object at 0x7fe8b9fa7ac0>()]> cb=[Sender._fail_all()]>\n",
      "Task was destroyed but it is pending!\n",
      "task: <Task pending name='Task-5070' coro=<Sender._sender_routine() running at /home/saifulkhan/CODE/SKA/streaming-vis-perf/broker/venv/lib/python3.9/site-packages/aiokafka/producer/sender.py:147> wait_for=<Future pending cb=[<TaskWakeupMethWrapper object at 0x7fe8bb924310>()]> cb=[Sender._fail_all()]>\n",
      "Task was destroyed but it is pending!\n",
      "task: <Task pending name='Task-5080' coro=<Sender._sender_routine() running at /home/saifulkhan/CODE/SKA/streaming-vis-perf/broker/venv/lib/python3.9/site-packages/aiokafka/producer/sender.py:147> wait_for=<Future pending cb=[<TaskWakeupMethWrapper object at 0x7fe8b710c370>()]> cb=[Sender._fail_all()]>\n"
     ]
    }
   ],
   "source": [
    "for idx in range(len(channels)):\n",
    "    for d in range(num_iter):\n",
    "        sleep(2)\n",
    "        print(f\"idx = {idx}, channels[idx] = {channels[idx]}\")\n",
    "        await produce(utf_payloads[idx], \"spectrum-json\")\n",
    "\n",
    "    sleep(5)\n"
   ]
  },
  {
   "cell_type": "markdown",
   "metadata": {},
   "source": [
    "Results"
   ]
  },
  {
   "cell_type": "code",
   "execution_count": 7,
   "metadata": {},
   "outputs": [],
   "source": [
    "utf_decoding_time = [\n",
    "    # delete first two data points\n",
    "    4.599999997764826,\n",
    "    3.399999998509884,\n",
    "    3.600000001490116,\n",
    "    3.599999997764826,\n",
    "    3.800000000745058,\n",
    "    3.699999999254942,\n",
    "    3.5,\n",
    "    3.5,\n",
    "    3.399999998509884,\n",
    "    3.699999999254942,\n",
    "    6.800000000745058,\n",
    "    7.199999999254942,\n",
    "    7.400000002235174,\n",
    "    6.900000002235174,\n",
    "    7.800000000745058,\n",
    "    6.699999999254942,\n",
    "    7,\n",
    "    7.099999997764826,\n",
    "    7.300000000745058,\n",
    "    7.199999999254942,\n",
    "    11.399999998509884,\n",
    "    11.300000000745058,\n",
    "    12.300000000745058,\n",
    "    12.299999997019768,\n",
    "    10.900000002235174,\n",
    "    11,\n",
    "    11.600000001490116,\n",
    "    10.800000000745058,\n",
    "    10.5,\n",
    "    10.599999997764826,\n",
    "    17.900000002235174,\n",
    "    15.699999999254942,\n",
    "    14.700000002980232,\n",
    "    14.600000001490116,\n",
    "    15,\n",
    "    15,\n",
    "    14.600000001490116,\n",
    "    14.5,\n",
    "    14.800000000745058,\n",
    "    14.400000002235174,\n",
    "    17.600000001490116,\n",
    "    17.5,\n",
    "    17.800000000745058,\n",
    "    18.300000000745058,\n",
    "    18.099999997764826,\n",
    "    17.800000000745058,\n",
    "    18.300000000745058,\n",
    "    17.800000000745058,\n",
    "    17.699999999254942,\n",
    "    17.600000001490116,\n",
    "    21.399999998509884,\n",
    "    26.400000002235174,\n",
    "    25.200000002980232,\n",
    "    24,\n",
    "    24.699999999254942,\n",
    "    21.300000000745058,\n",
    "    23.5,\n",
    "    20.900000002235174,\n",
    "    24.100000001490116,\n",
    "    23.899999998509884,\n",
    "    26.899999998509884,\n",
    "    26.599999997764826,\n",
    "    26.699999999254942,\n",
    "    25.199999999254942,\n",
    "    25.099999997764826,\n",
    "    25,\n",
    "    25,\n",
    "    26.100000001490116,\n",
    "    27.100000001490116,\n",
    "    24.600000001490116,\n",
    "    28.600000001490116,\n",
    "    40.30000000074506,\n",
    "    32,\n",
    "    28.099999997764826,\n",
    "    29.400000002235174,\n",
    "    29.600000001490116,\n",
    "    28.900000002235174,\n",
    "    29.300000000745058,\n",
    "    28.199999999254942,\n",
    "    28.400000002235174,\n",
    "    37.30000000074506,\n",
    "    33.600000001490116,\n",
    "    38.100000001490116,\n",
    "    33.900000002235174,\n",
    "    37.69999999925494,\n",
    "    34,\n",
    "    39.19999999925494,\n",
    "    34.899999998509884,\n",
    "    37.80000000074506,\n",
    "    32.399999998509884,\n",
    "    44.099999997764826,\n",
    "    38.20000000298023,\n",
    "    44.29999999701977,\n",
    "    39,\n",
    "    44.100000001490116,\n",
    "    36.600000001490116,\n",
    "    44.5,\n",
    "    37.399999998509884,\n",
    "    41.400000002235174,\n",
    "    37.69999999925494,\n",
    "    48.80000000074506,\n",
    "    51.30000000074506,\n",
    "    45.599999997764826,\n",
    "    45.79999999701977,\n",
    "    39.80000000074506,\n",
    "    46.599999997764826,\n",
    "    41.400000002235174,\n",
    "    46.19999999925494,\n",
    "    39.899999998509884,\n",
    "    47.30000000074506,\n",
    "    60.20000000298023,\n",
    "    48.899999998509884,\n",
    "    49.29999999701977,\n",
    "    51.099999997764826,\n",
    "    55.900000002235174,\n",
    "    47.099999997764826,\n",
    "    54.30000000074506,\n",
    "    48,\n",
    "    54.30000000074506,\n",
    "    47.599999997764826,\n",
    "    60.69999999925494,\n",
    "    49.19999999925494,\n",
    "    52.599999997764826,\n",
    "    48,\n",
    "    51,\n",
    "    47.899999998509884,\n",
    "    53.399999998509884,\n",
    "    48.600000001490116,\n",
    "    52.70000000298023,\n",
    "    50.099999997764826,\n",
    "    66.5,\n",
    "    63.100000001490116,\n",
    "    57.899999998509884,\n",
    "    61.69999999925494,\n",
    "    57.600000001490116,\n",
    "    61.100000001490116,\n",
    "    59.79999999701977,\n",
    "    64.10000000149012,\n",
    "    63.80000000074506,\n",
    "    55.5,\n",
    "    70.10000000149012,\n",
    "    67.19999999925494,\n",
    "    69.5,\n",
    "    67.80000000074506,\n",
    "    67.79999999701977,\n",
    "    66.80000000074506,\n",
    "    67.19999999925494,\n",
    "    67.69999999925494,\n",
    "    69.5,\n",
    "    67.60000000149012,\n",
    "    73.69999999925494,\n",
    "    67.89999999850988,\n",
    "    70.30000000074506,\n",
    "    68.5,\n",
    "    72.29999999701977,\n",
    "    67.90000000223517,\n",
    "    70,\n",
    "    68.90000000223517,\n",
    "    70.39999999850988,\n",
    "    69.5,\n",
    "    106,\n",
    "    76.10000000149012,\n",
    "    77.39999999850988,\n",
    "    81.39999999850988,\n",
    "    82.19999999925494,\n",
    "    79.80000000074506,\n",
    "    83.30000000074506,\n",
    "    80.80000000074506,\n",
    "    82.5,\n",
    "    81.09999999776483,\n",
    "    101.39999999850988,\n",
    "    81.5,\n",
    "    83.89999999850988,\n",
    "    86.30000000074506,\n",
    "    84,\n",
    "    83.39999999850988,\n",
    "    82.69999999925494,\n",
    "    84.39999999850988,\n",
    "    81.69999999925494,\n",
    "    84.59999999776483,\n",
    "    110.60000000149012,\n",
    "    76.19999999925494,\n",
    "    84.20000000298023,\n",
    "    84.39999999850988,\n",
    "    87.60000000149012,\n",
    "    84.40000000223517,\n",
    "    85.39999999850988,\n",
    "    87.30000000074506,\n",
    "    82.80000000074506,\n",
    "    85,\n",
    "    119,\n",
    "    85.90000000223517,\n",
    "    85.89999999850988,\n",
    "    86.10000000149012,\n",
    "    86.60000000149012,\n",
    "    88.19999999925494,\n",
    "    86.70000000298023,\n",
    "    88.90000000223517,\n",
    "    84.19999999925494,\n",
    "    86.30000000074506,\n",
    "    150.69999999925494,\n",
    "    90.59999999776483,\n",
    "    88,\n",
    "    89.80000000074506,\n",
    "    89,\n",
    "    90.39999999850988,\n",
    "    88.20000000298023,\n",
    "    91.19999999925494,\n",
    "    88.39999999850988,\n",
    "    89.10000000149012,\n",
    "    139.80000000074506,\n",
    "    101.29999999701977,\n",
    "    90.69999999925494,\n",
    "    90.20000000298023,\n",
    "    91.30000000074506,\n",
    "    90.09999999776483,\n",
    "    91.69999999925494,\n",
    "    88.59999999776483,\n",
    "    89.40000000223517,\n",
    "    91.60000000149012,\n",
    "    150.19999999925494,\n",
    "    99.5,\n",
    "    103.30000000074506,\n",
    "    102.69999999925494,\n",
    "    102.80000000074506,\n",
    "    102.89999999850988,\n",
    "    101.89999999850988,\n",
    "    101.09999999776483,\n",
    "    102.10000000149012,\n",
    "    108.19999999925494,\n",
    "    159.09999999776483,\n",
    "    103,\n",
    "    105.19999999925494,\n",
    "    102.60000000149012,\n",
    "    103.69999999925494,\n",
    "    106.90000000223517,\n",
    "    102.10000000149012,\n",
    "    103.69999999925494,\n",
    "    127.30000000074506,\n",
    "    104.09999999776483\n",
    "]"
   ]
  },
  {
   "cell_type": "markdown",
   "metadata": {},
   "source": [
    "Convert to DataFrame and plot"
   ]
  },
  {
   "cell_type": "code",
   "execution_count": 8,
   "metadata": {},
   "outputs": [
    {
     "data": {
      "image/png": "[encoded data removed]",
      "text/plain": [
       "<Figure size 432x216 with 1 Axes>"
      ]
     },
     "metadata": {},
     "output_type": "display_data"
    }
   ],
   "source": [
    "df = create_decoding_time_df(num_iter, channels, protobuf_decoding_time, utf_decoding_time)\n",
    "plot_decoding_time(df)"
   ]
  },
  {
   "cell_type": "markdown",
   "metadata": {},
   "source": [
    "### Browser Performance\n",
    "- Start performance recording at browser inspector \n",
    "- Send Protobuf payloads to browser"
   ]
  },
  {
   "cell_type": "code",
   "execution_count": 2,
   "metadata": {},
   "outputs": [
    {
     "name": "stderr",
     "output_type": "stream",
     "text": [
      "Unclosed AIOKafkaProducer\n",
      "producer: <aiokafka.producer.producer.AIOKafkaProducer object at 0x7fd9d941afd0>\n",
      "Unclosed AIOKafkaProducer\n",
      "producer: <aiokafka.producer.producer.AIOKafkaProducer object at 0x7fd956a96880>\n",
      "Unclosed AIOKafkaProducer\n",
      "producer: <aiokafka.producer.producer.AIOKafkaProducer object at 0x7fd9d80d4b20>\n",
      "Unclosed AIOKafkaProducer\n",
      "producer: <aiokafka.producer.producer.AIOKafkaProducer object at 0x7fd956a96880>\n",
      "Task was destroyed but it is pending!\n",
      "task: <Task pending name='Task-11' coro=<Sender._sender_routine() running at /usr/local/lib/python3.9/site-packages/aiokafka/producer/sender.py:147> wait_for=<Future pending cb=[<TaskWakeupMethWrapper object at 0x7fd955d21a90>()]> cb=[Sender._fail_all()]>\n",
      "Task was destroyed but it is pending!\n",
      "task: <Task pending name='Task-21' coro=<Sender._sender_routine() running at /usr/local/lib/python3.9/site-packages/aiokafka/producer/sender.py:147> wait_for=<Future pending cb=[<TaskWakeupMethWrapper object at 0x7fd955d21520>()]> cb=[Sender._fail_all()]>\n",
      "Task was destroyed but it is pending!\n",
      "task: <Task pending name='Task-31' coro=<Sender._sender_routine() running at /usr/local/lib/python3.9/site-packages/aiokafka/producer/sender.py:147> wait_for=<Future pending cb=[<TaskWakeupMethWrapper object at 0x7fd955a4b6d0>()]> cb=[Sender._fail_all()]>\n",
      "Task was destroyed but it is pending!\n",
      "task: <Task pending name='Task-41' coro=<Sender._sender_routine() done, defined at /usr/local/lib/python3.9/site-packages/aiokafka/producer/sender.py:81> wait_for=<Future pending cb=[<TaskWakeupMethWrapper object at 0x7fd955a4b790>()]> cb=[Sender._fail_all()]>\n",
      "Unclosed AIOKafkaProducer\n",
      "producer: <aiokafka.producer.producer.AIOKafkaProducer object at 0x7fd9d80d4b20>\n",
      "Unclosed AIOKafkaProducer\n",
      "producer: <aiokafka.producer.producer.AIOKafkaProducer object at 0x7fd9d83ad0a0>\n",
      "Unclosed AIOKafkaProducer\n",
      "producer: <aiokafka.producer.producer.AIOKafkaProducer object at 0x7fd9d80d4b20>\n",
      "Unclosed AIOKafkaProducer\n",
      "producer: <aiokafka.producer.producer.AIOKafkaProducer object at 0x7fd9d83d02e0>\n",
      "Unclosed AIOKafkaProducer\n",
      "producer: <aiokafka.producer.producer.AIOKafkaProducer object at 0x7fd9d80d4b20>\n",
      "Unclosed AIOKafkaProducer\n",
      "producer: <aiokafka.producer.producer.AIOKafkaProducer object at 0x7fd9d83d02e0>\n",
      "Task was destroyed but it is pending!\n",
      "task: <Task pending name='Task-61' coro=<Sender._sender_routine() running at /usr/local/lib/python3.9/site-packages/aiokafka/producer/sender.py:147> wait_for=<Future pending cb=[<TaskWakeupMethWrapper object at 0x7fd955d21c70>()]> cb=[Sender._fail_all()]>\n",
      "Task was destroyed but it is pending!\n",
      "task: <Task pending name='Task-71' coro=<Sender._sender_routine() running at /usr/local/lib/python3.9/site-packages/aiokafka/producer/sender.py:147> wait_for=<Future pending cb=[<TaskWakeupMethWrapper object at 0x7fd954b98670>()]> cb=[Sender._fail_all()]>\n",
      "Task was destroyed but it is pending!\n",
      "task: <Task pending name='Task-81' coro=<Sender._sender_routine() running at /usr/local/lib/python3.9/site-packages/aiokafka/producer/sender.py:147> wait_for=<Future pending cb=[<TaskWakeupMethWrapper object at 0x7fd954b98790>()]> cb=[Sender._fail_all()]>\n",
      "Task was destroyed but it is pending!\n",
      "task: <Task pending name='Task-91' coro=<Sender._sender_routine() running at /usr/local/lib/python3.9/site-packages/aiokafka/producer/sender.py:147> wait_for=<Future pending cb=[<TaskWakeupMethWrapper object at 0x7fd94fefe6a0>()]> cb=[Sender._fail_all()]>\n",
      "Task was destroyed but it is pending!\n",
      "task: <Task pending name='Task-101' coro=<Sender._sender_routine() done, defined at /usr/local/lib/python3.9/site-packages/aiokafka/producer/sender.py:81> wait_for=<Future pending cb=[<TaskWakeupMethWrapper object at 0x7fd94fefe5b0>()]> cb=[Sender._fail_all()]>\n",
      "Unclosed AIOKafkaProducer\n",
      "producer: <aiokafka.producer.producer.AIOKafkaProducer object at 0x7fd9d83ad0a0>\n",
      "Unclosed AIOKafkaProducer\n",
      "producer: <aiokafka.producer.producer.AIOKafkaProducer object at 0x7fd955d21940>\n",
      "Unclosed AIOKafkaProducer\n",
      "producer: <aiokafka.producer.producer.AIOKafkaProducer object at 0x7fd9d83ad0a0>\n",
      "Task was destroyed but it is pending!\n",
      "task: <Task pending name='Task-121' coro=<Sender._sender_routine() running at /usr/local/lib/python3.9/site-packages/aiokafka/producer/sender.py:147> wait_for=<Future pending cb=[<TaskWakeupMethWrapper object at 0x7fd954b98b80>()]> cb=[Sender._fail_all()]>\n",
      "Task was destroyed but it is pending!\n",
      "task: <Task pending name='Task-131' coro=<Sender._sender_routine() running at /usr/local/lib/python3.9/site-packages/aiokafka/producer/sender.py:147> wait_for=<Future pending cb=[<TaskWakeupMethWrapper object at 0x7fd94ef26220>()]> cb=[Sender._fail_all()]>\n",
      "Task was destroyed but it is pending!\n",
      "task: <Task pending name='Task-51' coro=<Sender._sender_routine() running at /usr/local/lib/python3.9/site-packages/aiokafka/producer/sender.py:147> wait_for=<Future pending cb=[<TaskWakeupMethWrapper object at 0x7fd955a4bd30>()]> cb=[Sender._fail_all()]>\n",
      "Task was destroyed but it is pending!\n",
      "task: <Task pending name='Task-111' coro=<Sender._sender_routine() running at /usr/local/lib/python3.9/site-packages/aiokafka/producer/sender.py:147> wait_for=<Future pending cb=[<TaskWakeupMethWrapper object at 0x7fd94fefef70>()]> cb=[Sender._fail_all()]>\n"
     ]
    },
    {
     "ename": "CancelledError",
     "evalue": "",
     "output_type": "error",
     "traceback": [
      "\u001b[0;31m---------------------------------------------------------------------------\u001b[0m",
      "\u001b[0;31mCancelledError\u001b[0m                            Traceback (most recent call last)",
      "\u001b[1;32m/app/tests/spectrum_benchmark.ipynb Cell 20'\u001b[0m in \u001b[0;36m<cell line: 3>\u001b[0;34m()\u001b[0m\n\u001b[1;32m      <a href='vscode-notebook-cell://attached-container%2B7b22636f6e7461696e65724e616d65223a222f70726f6475636572227d/app/tests/spectrum_benchmark.ipynb#ch0000020vscode-remote?line=3'>4</a>\u001b[0m sleep(\u001b[39m1\u001b[39m)\n\u001b[1;32m      <a href='vscode-notebook-cell://attached-container%2B7b22636f6e7461696e65724e616d65223a222f70726f6475636572227d/app/tests/spectrum_benchmark.ipynb#ch0000020vscode-remote?line=4'>5</a>\u001b[0m payload, _ \u001b[39m=\u001b[39m gp\u001b[39m.\u001b[39mspectrum_protobuf(channel)\n\u001b[0;32m----> <a href='vscode-notebook-cell://attached-container%2B7b22636f6e7461696e65724e616d65223a222f70726f6475636572227d/app/tests/spectrum_benchmark.ipynb#ch0000020vscode-remote?line=5'>6</a>\u001b[0m \u001b[39mawait\u001b[39;00m producer\u001b[39m.\u001b[39mproduce(payload, \u001b[39m\"\u001b[39m\u001b[39mspectrum-protobuf\u001b[39m\u001b[39m\"\u001b[39m)\n",
      "File \u001b[0;32m/app/tests/producer.py:19\u001b[0m, in \u001b[0;36mproduce\u001b[0;34m(payload, topic)\u001b[0m\n\u001b[1;32m     <a href='file:///app/tests/producer.py?line=11'>12</a>\u001b[0m aioproducer \u001b[39m=\u001b[39m AIOKafkaProducer(\n\u001b[1;32m     <a href='file:///app/tests/producer.py?line=12'>13</a>\u001b[0m     bootstrap_servers\u001b[39m=\u001b[39mBROKER_INSTANCE,\n\u001b[1;32m     <a href='file:///app/tests/producer.py?line=13'>14</a>\u001b[0m     compression_type\u001b[39m=\u001b[39m\u001b[39m\"\u001b[39m\u001b[39mgzip\u001b[39m\u001b[39m\"\u001b[39m,\n\u001b[1;32m     <a href='file:///app/tests/producer.py?line=14'>15</a>\u001b[0m     max_request_size\u001b[39m=\u001b[39mMAX_REQ_SIZE,\n\u001b[1;32m     <a href='file:///app/tests/producer.py?line=15'>16</a>\u001b[0m )\n\u001b[1;32m     <a href='file:///app/tests/producer.py?line=17'>18</a>\u001b[0m \u001b[39mawait\u001b[39;00m aioproducer\u001b[39m.\u001b[39mstart()\n\u001b[0;32m---> <a href='file:///app/tests/producer.py?line=18'>19</a>\u001b[0m res \u001b[39m=\u001b[39m \u001b[39mawait\u001b[39;00m aioproducer\u001b[39m.\u001b[39msend_and_wait(topic, payload)\n\u001b[1;32m     <a href='file:///app/tests/producer.py?line=19'>20</a>\u001b[0m \u001b[39m# print(f\"produce: sent, response = {res}\")\u001b[39;00m\n\u001b[1;32m     <a href='file:///app/tests/producer.py?line=21'>22</a>\u001b[0m \u001b[39mreturn\u001b[39;00m\n",
      "File \u001b[0;32m/usr/local/lib/python3.9/site-packages/aiokafka/producer/producer.py:463\u001b[0m, in \u001b[0;36mAIOKafkaProducer.send_and_wait\u001b[0;34m(self, topic, value, key, partition, timestamp_ms, headers)\u001b[0m\n\u001b[1;32m    <a href='file:///usr/local/lib/python3.9/site-packages/aiokafka/producer/producer.py?line=459'>460</a>\u001b[0m \u001b[39m\"\"\"Publish a message to a topic and wait the result\"\"\"\u001b[39;00m\n\u001b[1;32m    <a href='file:///usr/local/lib/python3.9/site-packages/aiokafka/producer/producer.py?line=460'>461</a>\u001b[0m future \u001b[39m=\u001b[39m \u001b[39mawait\u001b[39;00m \u001b[39mself\u001b[39m\u001b[39m.\u001b[39msend(\n\u001b[1;32m    <a href='file:///usr/local/lib/python3.9/site-packages/aiokafka/producer/producer.py?line=461'>462</a>\u001b[0m     topic, value, key, partition, timestamp_ms, headers)\n\u001b[0;32m--> <a href='file:///usr/local/lib/python3.9/site-packages/aiokafka/producer/producer.py?line=462'>463</a>\u001b[0m \u001b[39mreturn\u001b[39;00m (\u001b[39mawait\u001b[39;00m future)\n",
      "\u001b[0;31mCancelledError\u001b[0m: "
     ]
    }
   ],
   "source": [
    "import producer\n",
    "\n",
    "for channel in range(25000, 610000, 25000):\n",
    "    sleep(1)\n",
    "    payload, _ = gp.spectrum_protobuf(channel)\n",
    "    await producer.produce(payload, \"spectrum-protobuf\")"
   ]
  },
  {
   "cell_type": "markdown",
   "metadata": {},
   "source": [
    "Send payloads **frequently** to browser and calculate heap memory size"
   ]
  },
  {
   "cell_type": "code",
   "execution_count": null,
   "metadata": {},
   "outputs": [],
   "source": [
    "for channel in range(25000, 610000, 25000):\n",
    "    sleep(0.1)\n",
    "    payload, _ = generate_spectrum_pb(channel)\n",
    "    await produce(payload, \"spectrum-protobuf\")"
   ]
  },
  {
   "cell_type": "markdown",
   "metadata": {},
   "source": [
    "JSON payload"
   ]
  },
  {
   "cell_type": "code",
   "execution_count": 8,
   "metadata": {},
   "outputs": [
    {
     "name": "stderr",
     "output_type": "stream",
     "text": [
      "Unclosed AIOKafkaProducer\n",
      "producer: <aiokafka.producer.producer.AIOKafkaProducer object at 0x7fbbb5508610>\n",
      "Unclosed AIOKafkaProducer\n",
      "producer: <aiokafka.producer.producer.AIOKafkaProducer object at 0x7fbbb55085e0>\n",
      "Unclosed AIOKafkaProducer\n",
      "producer: <aiokafka.producer.producer.AIOKafkaProducer object at 0x7fbbb55085e0>\n",
      "Unclosed AIOKafkaProducer\n",
      "producer: <aiokafka.producer.producer.AIOKafkaProducer object at 0x7fbbb55085e0>\n",
      "Task was destroyed but it is pending!\n",
      "task: <Task pending name='Task-205' coro=<Sender._sender_routine() running at /home/saifulkhan/CODE/SKA/streaming-vis-perf/broker/venv/lib/python3.9/site-packages/aiokafka/producer/sender.py:147> wait_for=<Future pending cb=[<TaskWakeupMethWrapper object at 0x7fbbb9d5c1f0>()]> cb=[Sender._fail_all()]>\n",
      "Task was destroyed but it is pending!\n",
      "task: <Task pending name='Task-215' coro=<Sender._sender_routine() running at /home/saifulkhan/CODE/SKA/streaming-vis-perf/broker/venv/lib/python3.9/site-packages/aiokafka/producer/sender.py:147> wait_for=<Future pending cb=[<TaskWakeupMethWrapper object at 0x7fbbb9e599a0>()]> cb=[Sender._fail_all()]>\n",
      "Task was destroyed but it is pending!\n",
      "task: <Task pending name='Task-225' coro=<Sender._sender_routine() running at /home/saifulkhan/CODE/SKA/streaming-vis-perf/broker/venv/lib/python3.9/site-packages/aiokafka/producer/sender.py:147> wait_for=<Future pending cb=[<TaskWakeupMethWrapper object at 0x7fbbb9da3730>()]> cb=[Sender._fail_all()]>\n"
     ]
    },
    {
     "ename": "CancelledError",
     "evalue": "",
     "output_type": "error",
     "traceback": [
      "\u001b[0;31m---------------------------------------------------------------------------\u001b[0m",
      "\u001b[0;31mCancelledError\u001b[0m                            Traceback (most recent call last)",
      "\u001b[1;32m/home/saifulkhan/CODE/SKA/streaming-vis-perf/broker/tests/spectrum_benchmark.ipynb Cell 16'\u001b[0m in \u001b[0;36m<module>\u001b[0;34m\u001b[0m\n\u001b[1;32m      <a href='vscode-notebook-cell:/home/saifulkhan/CODE/SKA/streaming-vis-perf/broker/tests/spectrum_benchmark.ipynb#ch0000015?line=0'>1</a>\u001b[0m \u001b[39mfor\u001b[39;00m d \u001b[39min\u001b[39;00m utf_payloads:\n\u001b[1;32m      <a href='vscode-notebook-cell:/home/saifulkhan/CODE/SKA/streaming-vis-perf/broker/tests/spectrum_benchmark.ipynb#ch0000015?line=1'>2</a>\u001b[0m     sleep(\u001b[39m1\u001b[39m)\n\u001b[0;32m----> <a href='vscode-notebook-cell:/home/saifulkhan/CODE/SKA/streaming-vis-perf/broker/tests/spectrum_benchmark.ipynb#ch0000015?line=2'>3</a>\u001b[0m     \u001b[39mawait\u001b[39;00m produce(d, \u001b[39m\"\u001b[39m\u001b[39mspectrum-utf\u001b[39m\u001b[39m\"\u001b[39m)\n",
      "File \u001b[0;32m~/CODE/SKA/streaming-vis-perf/broker/tests/producer.py:17\u001b[0m, in \u001b[0;36mproduce\u001b[0;34m(payload, topic)\u001b[0m\n\u001b[1;32m      <a href='file:///~/CODE/SKA/streaming-vis-perf/broker/tests/producer.py?line=7'>8</a>\u001b[0m \u001b[39m\"\"\"\u001b[39;00m\n\u001b[1;32m      <a href='file:///~/CODE/SKA/streaming-vis-perf/broker/tests/producer.py?line=8'>9</a>\u001b[0m \u001b[39minput: serialized payload\u001b[39;00m\n\u001b[1;32m     <a href='file:///~/CODE/SKA/streaming-vis-perf/broker/tests/producer.py?line=9'>10</a>\u001b[0m \u001b[39m\"\"\"\u001b[39;00m\n\u001b[1;32m     <a href='file:///~/CODE/SKA/streaming-vis-perf/broker/tests/producer.py?line=10'>11</a>\u001b[0m aioproducer \u001b[39m=\u001b[39m AIOKafkaProducer(\n\u001b[1;32m     <a href='file:///~/CODE/SKA/streaming-vis-perf/broker/tests/producer.py?line=11'>12</a>\u001b[0m     bootstrap_servers\u001b[39m=\u001b[39mBROKER_INSTANCE,\n\u001b[1;32m     <a href='file:///~/CODE/SKA/streaming-vis-perf/broker/tests/producer.py?line=12'>13</a>\u001b[0m     compression_type\u001b[39m=\u001b[39m\u001b[39m\"\u001b[39m\u001b[39mgzip\u001b[39m\u001b[39m\"\u001b[39m,\n\u001b[1;32m     <a href='file:///~/CODE/SKA/streaming-vis-perf/broker/tests/producer.py?line=13'>14</a>\u001b[0m     max_request_size\u001b[39m=\u001b[39mMAX_REQ_SIZE,\n\u001b[1;32m     <a href='file:///~/CODE/SKA/streaming-vis-perf/broker/tests/producer.py?line=14'>15</a>\u001b[0m )\n\u001b[0;32m---> <a href='file:///~/CODE/SKA/streaming-vis-perf/broker/tests/producer.py?line=16'>17</a>\u001b[0m \u001b[39mawait\u001b[39;00m aioproducer\u001b[39m.\u001b[39mstart()\n\u001b[1;32m     <a href='file:///~/CODE/SKA/streaming-vis-perf/broker/tests/producer.py?line=17'>18</a>\u001b[0m res \u001b[39m=\u001b[39m \u001b[39mawait\u001b[39;00m aioproducer\u001b[39m.\u001b[39msend_and_wait(topic, payload)\n\u001b[1;32m     <a href='file:///~/CODE/SKA/streaming-vis-perf/broker/tests/producer.py?line=18'>19</a>\u001b[0m \u001b[39m# print(f\"produce: sent, response = {res}\")\u001b[39;00m\n",
      "File \u001b[0;32m~/CODE/SKA/streaming-vis-perf/broker/venv/lib/python3.9/site-packages/aiokafka/producer/producer.py:296\u001b[0m, in \u001b[0;36mAIOKafkaProducer.start\u001b[0;34m(self)\u001b[0m\n\u001b[1;32m    <a href='file:///~/CODE/SKA/streaming-vis-perf/broker/venv/lib/python3.9/site-packages/aiokafka/producer/producer.py?line=291'>292</a>\u001b[0m \u001b[39massert\u001b[39;00m \u001b[39mself\u001b[39m\u001b[39m.\u001b[39m_loop \u001b[39mis\u001b[39;00m get_running_loop(), (\n\u001b[1;32m    <a href='file:///~/CODE/SKA/streaming-vis-perf/broker/venv/lib/python3.9/site-packages/aiokafka/producer/producer.py?line=292'>293</a>\u001b[0m     \u001b[39m\"\u001b[39m\u001b[39mPlease create objects with the same loop as running with\u001b[39m\u001b[39m\"\u001b[39m\n\u001b[1;32m    <a href='file:///~/CODE/SKA/streaming-vis-perf/broker/venv/lib/python3.9/site-packages/aiokafka/producer/producer.py?line=293'>294</a>\u001b[0m )\n\u001b[1;32m    <a href='file:///~/CODE/SKA/streaming-vis-perf/broker/venv/lib/python3.9/site-packages/aiokafka/producer/producer.py?line=294'>295</a>\u001b[0m log\u001b[39m.\u001b[39mdebug(\u001b[39m\"\u001b[39m\u001b[39mStarting the Kafka producer\u001b[39m\u001b[39m\"\u001b[39m)  \u001b[39m# trace\u001b[39;00m\n\u001b[0;32m--> <a href='file:///~/CODE/SKA/streaming-vis-perf/broker/venv/lib/python3.9/site-packages/aiokafka/producer/producer.py?line=295'>296</a>\u001b[0m \u001b[39mawait\u001b[39;00m \u001b[39mself\u001b[39m\u001b[39m.\u001b[39mclient\u001b[39m.\u001b[39mbootstrap()\n\u001b[1;32m    <a href='file:///~/CODE/SKA/streaming-vis-perf/broker/venv/lib/python3.9/site-packages/aiokafka/producer/producer.py?line=297'>298</a>\u001b[0m \u001b[39mif\u001b[39;00m \u001b[39mself\u001b[39m\u001b[39m.\u001b[39m_compression_type \u001b[39m==\u001b[39m \u001b[39m'\u001b[39m\u001b[39mlz4\u001b[39m\u001b[39m'\u001b[39m:\n\u001b[1;32m    <a href='file:///~/CODE/SKA/streaming-vis-perf/broker/venv/lib/python3.9/site-packages/aiokafka/producer/producer.py?line=298'>299</a>\u001b[0m     \u001b[39massert\u001b[39;00m \u001b[39mself\u001b[39m\u001b[39m.\u001b[39mclient\u001b[39m.\u001b[39mapi_version \u001b[39m>\u001b[39m\u001b[39m=\u001b[39m (\u001b[39m0\u001b[39m, \u001b[39m8\u001b[39m, \u001b[39m2\u001b[39m), \\\n\u001b[1;32m    <a href='file:///~/CODE/SKA/streaming-vis-perf/broker/venv/lib/python3.9/site-packages/aiokafka/producer/producer.py?line=299'>300</a>\u001b[0m         \u001b[39m'\u001b[39m\u001b[39mLZ4 Requires >= Kafka 0.8.2 Brokers\u001b[39m\u001b[39m'\u001b[39m\n",
      "File \u001b[0;32m~/CODE/SKA/streaming-vis-perf/broker/venv/lib/python3.9/site-packages/aiokafka/client.py:210\u001b[0m, in \u001b[0;36mAIOKafkaClient.bootstrap\u001b[0;34m(self)\u001b[0m\n\u001b[1;32m    <a href='file:///~/CODE/SKA/streaming-vis-perf/broker/venv/lib/python3.9/site-packages/aiokafka/client.py?line=206'>207</a>\u001b[0m log\u001b[39m.\u001b[39mdebug(\u001b[39m\"\u001b[39m\u001b[39mAttempting to bootstrap via node at \u001b[39m\u001b[39m%s\u001b[39;00m\u001b[39m:\u001b[39m\u001b[39m%s\u001b[39;00m\u001b[39m\"\u001b[39m, host, port)\n\u001b[1;32m    <a href='file:///~/CODE/SKA/streaming-vis-perf/broker/venv/lib/python3.9/site-packages/aiokafka/client.py?line=208'>209</a>\u001b[0m \u001b[39mtry\u001b[39;00m:\n\u001b[0;32m--> <a href='file:///~/CODE/SKA/streaming-vis-perf/broker/venv/lib/python3.9/site-packages/aiokafka/client.py?line=209'>210</a>\u001b[0m     bootstrap_conn \u001b[39m=\u001b[39m \u001b[39mawait\u001b[39;00m create_conn(\n\u001b[1;32m    <a href='file:///~/CODE/SKA/streaming-vis-perf/broker/venv/lib/python3.9/site-packages/aiokafka/client.py?line=210'>211</a>\u001b[0m         host, port, client_id\u001b[39m=\u001b[39m\u001b[39mself\u001b[39m\u001b[39m.\u001b[39m_client_id,\n\u001b[1;32m    <a href='file:///~/CODE/SKA/streaming-vis-perf/broker/venv/lib/python3.9/site-packages/aiokafka/client.py?line=211'>212</a>\u001b[0m         request_timeout_ms\u001b[39m=\u001b[39m\u001b[39mself\u001b[39m\u001b[39m.\u001b[39m_request_timeout_ms,\n\u001b[1;32m    <a href='file:///~/CODE/SKA/streaming-vis-perf/broker/venv/lib/python3.9/site-packages/aiokafka/client.py?line=212'>213</a>\u001b[0m         ssl_context\u001b[39m=\u001b[39m\u001b[39mself\u001b[39m\u001b[39m.\u001b[39m_ssl_context,\n\u001b[1;32m    <a href='file:///~/CODE/SKA/streaming-vis-perf/broker/venv/lib/python3.9/site-packages/aiokafka/client.py?line=213'>214</a>\u001b[0m         security_protocol\u001b[39m=\u001b[39m\u001b[39mself\u001b[39m\u001b[39m.\u001b[39m_security_protocol,\n\u001b[1;32m    <a href='file:///~/CODE/SKA/streaming-vis-perf/broker/venv/lib/python3.9/site-packages/aiokafka/client.py?line=214'>215</a>\u001b[0m         max_idle_ms\u001b[39m=\u001b[39m\u001b[39mself\u001b[39m\u001b[39m.\u001b[39m_connections_max_idle_ms,\n\u001b[1;32m    <a href='file:///~/CODE/SKA/streaming-vis-perf/broker/venv/lib/python3.9/site-packages/aiokafka/client.py?line=215'>216</a>\u001b[0m         sasl_mechanism\u001b[39m=\u001b[39m\u001b[39mself\u001b[39m\u001b[39m.\u001b[39m_sasl_mechanism,\n\u001b[1;32m    <a href='file:///~/CODE/SKA/streaming-vis-perf/broker/venv/lib/python3.9/site-packages/aiokafka/client.py?line=216'>217</a>\u001b[0m         sasl_plain_username\u001b[39m=\u001b[39m\u001b[39mself\u001b[39m\u001b[39m.\u001b[39m_sasl_plain_username,\n\u001b[1;32m    <a href='file:///~/CODE/SKA/streaming-vis-perf/broker/venv/lib/python3.9/site-packages/aiokafka/client.py?line=217'>218</a>\u001b[0m         sasl_plain_password\u001b[39m=\u001b[39m\u001b[39mself\u001b[39m\u001b[39m.\u001b[39m_sasl_plain_password,\n\u001b[1;32m    <a href='file:///~/CODE/SKA/streaming-vis-perf/broker/venv/lib/python3.9/site-packages/aiokafka/client.py?line=218'>219</a>\u001b[0m         sasl_kerberos_service_name\u001b[39m=\u001b[39m\u001b[39mself\u001b[39m\u001b[39m.\u001b[39m_sasl_kerberos_service_name,  \u001b[39m# noqa: ignore=E501\u001b[39;00m\n\u001b[1;32m    <a href='file:///~/CODE/SKA/streaming-vis-perf/broker/venv/lib/python3.9/site-packages/aiokafka/client.py?line=219'>220</a>\u001b[0m         sasl_kerberos_domain_name\u001b[39m=\u001b[39m\u001b[39mself\u001b[39m\u001b[39m.\u001b[39m_sasl_kerberos_domain_name,\n\u001b[1;32m    <a href='file:///~/CODE/SKA/streaming-vis-perf/broker/venv/lib/python3.9/site-packages/aiokafka/client.py?line=220'>221</a>\u001b[0m         sasl_oauth_token_provider\u001b[39m=\u001b[39m\u001b[39mself\u001b[39m\u001b[39m.\u001b[39m_sasl_oauth_token_provider,\n\u001b[1;32m    <a href='file:///~/CODE/SKA/streaming-vis-perf/broker/venv/lib/python3.9/site-packages/aiokafka/client.py?line=221'>222</a>\u001b[0m         version_hint\u001b[39m=\u001b[39mversion_hint)\n\u001b[1;32m    <a href='file:///~/CODE/SKA/streaming-vis-perf/broker/venv/lib/python3.9/site-packages/aiokafka/client.py?line=222'>223</a>\u001b[0m \u001b[39mexcept\u001b[39;00m (\u001b[39mOSError\u001b[39;00m, asyncio\u001b[39m.\u001b[39mTimeoutError) \u001b[39mas\u001b[39;00m err:\n\u001b[1;32m    <a href='file:///~/CODE/SKA/streaming-vis-perf/broker/venv/lib/python3.9/site-packages/aiokafka/client.py?line=223'>224</a>\u001b[0m     log\u001b[39m.\u001b[39merror(\u001b[39m'\u001b[39m\u001b[39mUnable connect to \u001b[39m\u001b[39m\"\u001b[39m\u001b[39m%s\u001b[39;00m\u001b[39m:\u001b[39m\u001b[39m%s\u001b[39;00m\u001b[39m\"\u001b[39m\u001b[39m: \u001b[39m\u001b[39m%s\u001b[39;00m\u001b[39m'\u001b[39m, host, port, err)\n",
      "File \u001b[0;32m~/CODE/SKA/streaming-vis-perf/broker/venv/lib/python3.9/site-packages/aiokafka/conn.py:96\u001b[0m, in \u001b[0;36mcreate_conn\u001b[0;34m(host, port, client_id, request_timeout_ms, api_version, ssl_context, security_protocol, max_idle_ms, on_close, sasl_mechanism, sasl_plain_username, sasl_plain_password, sasl_kerberos_service_name, sasl_kerberos_domain_name, sasl_oauth_token_provider, version_hint)\u001b[0m\n\u001b[1;32m     <a href='file:///~/CODE/SKA/streaming-vis-perf/broker/venv/lib/python3.9/site-packages/aiokafka/conn.py?line=69'>70</a>\u001b[0m \u001b[39masync\u001b[39;00m \u001b[39mdef\u001b[39;00m \u001b[39mcreate_conn\u001b[39m(\n\u001b[1;32m     <a href='file:///~/CODE/SKA/streaming-vis-perf/broker/venv/lib/python3.9/site-packages/aiokafka/conn.py?line=70'>71</a>\u001b[0m     host, port, \u001b[39m*\u001b[39m, client_id\u001b[39m=\u001b[39m\u001b[39m'\u001b[39m\u001b[39maiokafka\u001b[39m\u001b[39m'\u001b[39m,\n\u001b[1;32m     <a href='file:///~/CODE/SKA/streaming-vis-perf/broker/venv/lib/python3.9/site-packages/aiokafka/conn.py?line=71'>72</a>\u001b[0m     request_timeout_ms\u001b[39m=\u001b[39m\u001b[39m40000\u001b[39m, api_version\u001b[39m=\u001b[39m(\u001b[39m0\u001b[39m, \u001b[39m8\u001b[39m, \u001b[39m2\u001b[39m),\n\u001b[0;32m   (...)\u001b[0m\n\u001b[1;32m     <a href='file:///~/CODE/SKA/streaming-vis-perf/broker/venv/lib/python3.9/site-packages/aiokafka/conn.py?line=80'>81</a>\u001b[0m     version_hint\u001b[39m=\u001b[39m\u001b[39mNone\u001b[39;00m\n\u001b[1;32m     <a href='file:///~/CODE/SKA/streaming-vis-perf/broker/venv/lib/python3.9/site-packages/aiokafka/conn.py?line=81'>82</a>\u001b[0m ):\n\u001b[1;32m     <a href='file:///~/CODE/SKA/streaming-vis-perf/broker/venv/lib/python3.9/site-packages/aiokafka/conn.py?line=82'>83</a>\u001b[0m     conn \u001b[39m=\u001b[39m AIOKafkaConnection(\n\u001b[1;32m     <a href='file:///~/CODE/SKA/streaming-vis-perf/broker/venv/lib/python3.9/site-packages/aiokafka/conn.py?line=83'>84</a>\u001b[0m         host, port, client_id\u001b[39m=\u001b[39mclient_id,\n\u001b[1;32m     <a href='file:///~/CODE/SKA/streaming-vis-perf/broker/venv/lib/python3.9/site-packages/aiokafka/conn.py?line=84'>85</a>\u001b[0m         request_timeout_ms\u001b[39m=\u001b[39mrequest_timeout_ms,\n\u001b[0;32m   (...)\u001b[0m\n\u001b[1;32m     <a href='file:///~/CODE/SKA/streaming-vis-perf/broker/venv/lib/python3.9/site-packages/aiokafka/conn.py?line=93'>94</a>\u001b[0m         sasl_oauth_token_provider\u001b[39m=\u001b[39msasl_oauth_token_provider,\n\u001b[1;32m     <a href='file:///~/CODE/SKA/streaming-vis-perf/broker/venv/lib/python3.9/site-packages/aiokafka/conn.py?line=94'>95</a>\u001b[0m         version_hint\u001b[39m=\u001b[39mversion_hint)\n\u001b[0;32m---> <a href='file:///~/CODE/SKA/streaming-vis-perf/broker/venv/lib/python3.9/site-packages/aiokafka/conn.py?line=95'>96</a>\u001b[0m     \u001b[39mawait\u001b[39;00m conn\u001b[39m.\u001b[39mconnect()\n\u001b[1;32m     <a href='file:///~/CODE/SKA/streaming-vis-perf/broker/venv/lib/python3.9/site-packages/aiokafka/conn.py?line=96'>97</a>\u001b[0m     \u001b[39mreturn\u001b[39;00m conn\n",
      "File \u001b[0;32m~/CODE/SKA/streaming-vis-perf/broker/venv/lib/python3.9/site-packages/aiokafka/conn.py:215\u001b[0m, in \u001b[0;36mAIOKafkaConnection.connect\u001b[0;34m(self)\u001b[0m\n\u001b[1;32m    <a href='file:///~/CODE/SKA/streaming-vis-perf/broker/venv/lib/python3.9/site-packages/aiokafka/conn.py?line=212'>213</a>\u001b[0m reader \u001b[39m=\u001b[39m asyncio\u001b[39m.\u001b[39mStreamReader(limit\u001b[39m=\u001b[39mREADER_LIMIT, loop\u001b[39m=\u001b[39mloop)\n\u001b[1;32m    <a href='file:///~/CODE/SKA/streaming-vis-perf/broker/venv/lib/python3.9/site-packages/aiokafka/conn.py?line=213'>214</a>\u001b[0m protocol \u001b[39m=\u001b[39m AIOKafkaProtocol(\u001b[39mself\u001b[39m\u001b[39m.\u001b[39m_closed_fut, reader, loop\u001b[39m=\u001b[39mloop)\n\u001b[0;32m--> <a href='file:///~/CODE/SKA/streaming-vis-perf/broker/venv/lib/python3.9/site-packages/aiokafka/conn.py?line=214'>215</a>\u001b[0m transport, _ \u001b[39m=\u001b[39m \u001b[39mawait\u001b[39;00m asyncio\u001b[39m.\u001b[39mwait_for(\n\u001b[1;32m    <a href='file:///~/CODE/SKA/streaming-vis-perf/broker/venv/lib/python3.9/site-packages/aiokafka/conn.py?line=215'>216</a>\u001b[0m     loop\u001b[39m.\u001b[39mcreate_connection(\n\u001b[1;32m    <a href='file:///~/CODE/SKA/streaming-vis-perf/broker/venv/lib/python3.9/site-packages/aiokafka/conn.py?line=216'>217</a>\u001b[0m         \u001b[39mlambda\u001b[39;00m: protocol, \u001b[39mself\u001b[39m\u001b[39m.\u001b[39mhost, \u001b[39mself\u001b[39m\u001b[39m.\u001b[39mport, ssl\u001b[39m=\u001b[39mssl),\n\u001b[1;32m    <a href='file:///~/CODE/SKA/streaming-vis-perf/broker/venv/lib/python3.9/site-packages/aiokafka/conn.py?line=217'>218</a>\u001b[0m     timeout\u001b[39m=\u001b[39m\u001b[39mself\u001b[39m\u001b[39m.\u001b[39m_request_timeout)\n\u001b[1;32m    <a href='file:///~/CODE/SKA/streaming-vis-perf/broker/venv/lib/python3.9/site-packages/aiokafka/conn.py?line=218'>219</a>\u001b[0m writer \u001b[39m=\u001b[39m asyncio\u001b[39m.\u001b[39mStreamWriter(transport, protocol, reader, loop)\n\u001b[1;32m    <a href='file:///~/CODE/SKA/streaming-vis-perf/broker/venv/lib/python3.9/site-packages/aiokafka/conn.py?line=219'>220</a>\u001b[0m \u001b[39mself\u001b[39m\u001b[39m.\u001b[39m_reader, \u001b[39mself\u001b[39m\u001b[39m.\u001b[39m_writer, \u001b[39mself\u001b[39m\u001b[39m.\u001b[39m_protocol \u001b[39m=\u001b[39m reader, writer, protocol\n",
      "File \u001b[0;32m~/anaconda3/lib/python3.9/asyncio/tasks.py:468\u001b[0m, in \u001b[0;36mwait_for\u001b[0;34m(fut, timeout, loop)\u001b[0m\n\u001b[1;32m    <a href='file:///~/anaconda3/lib/python3.9/asyncio/tasks.py?line=464'>465</a>\u001b[0m \u001b[39mtry\u001b[39;00m:\n\u001b[1;32m    <a href='file:///~/anaconda3/lib/python3.9/asyncio/tasks.py?line=465'>466</a>\u001b[0m     \u001b[39m# wait until the future completes or the timeout\u001b[39;00m\n\u001b[1;32m    <a href='file:///~/anaconda3/lib/python3.9/asyncio/tasks.py?line=466'>467</a>\u001b[0m     \u001b[39mtry\u001b[39;00m:\n\u001b[0;32m--> <a href='file:///~/anaconda3/lib/python3.9/asyncio/tasks.py?line=467'>468</a>\u001b[0m         \u001b[39mawait\u001b[39;00m waiter\n\u001b[1;32m    <a href='file:///~/anaconda3/lib/python3.9/asyncio/tasks.py?line=468'>469</a>\u001b[0m     \u001b[39mexcept\u001b[39;00m exceptions\u001b[39m.\u001b[39mCancelledError:\n\u001b[1;32m    <a href='file:///~/anaconda3/lib/python3.9/asyncio/tasks.py?line=469'>470</a>\u001b[0m         \u001b[39mif\u001b[39;00m fut\u001b[39m.\u001b[39mdone():\n",
      "\u001b[0;31mCancelledError\u001b[0m: "
     ]
    },
    {
     "name": "stderr",
     "output_type": "stream",
     "text": [
      "Unclosed AIOKafkaProducer\n",
      "producer: <aiokafka.producer.producer.AIOKafkaProducer object at 0x7fbbbcd82f40>\n",
      "Task was destroyed but it is pending!\n",
      "task: <Task pending name='Task-123' coro=<Sender._sender_routine() running at /home/saifulkhan/CODE/SKA/streaming-vis-perf/broker/venv/lib/python3.9/site-packages/aiokafka/producer/sender.py:147> wait_for=<Future pending cb=[<TaskWakeupMethWrapper object at 0x7fbbbc04f9a0>()]> cb=[Sender._fail_all()]>\n",
      "Task was destroyed but it is pending!\n",
      "task: <Task pending name='Task-183' coro=<Sender._sender_routine() running at /home/saifulkhan/CODE/SKA/streaming-vis-perf/broker/venv/lib/python3.9/site-packages/aiokafka/producer/sender.py:147> wait_for=<Future pending cb=[<TaskWakeupMethWrapper object at 0x7fbbb9e4daf0>()]> cb=[Sender._fail_all()]>\n",
      "Unclosed AIOKafkaProducer\n",
      "producer: <aiokafka.producer.producer.AIOKafkaProducer object at 0x7fbbbcd983d0>\n",
      "Task was destroyed but it is pending!\n",
      "task: <Task pending name='Task-195' coro=<Sender._sender_routine() running at /home/saifulkhan/CODE/SKA/streaming-vis-perf/broker/venv/lib/python3.9/site-packages/aiokafka/producer/sender.py:147> wait_for=<Future pending cb=[<TaskWakeupMethWrapper object at 0x7fbbb9d5c460>()]> cb=[Sender._fail_all()]>\n"
     ]
    }
   ],
   "source": [
    "for channel in range(25000, 610000, 25000):\n",
    "    sleep(1)\n",
    "    payload, _ = generate_spectrum_utf(channel)\n",
    "    await produce(payload, \"spectrum-json\")"
   ]
  }
 ],
 "metadata": {
  "interpreter": {
   "hash": "b8752089daaf8554189c0a3218ede8c2fd27b59dccca5e4f78a63b2a9260d483"
  },
  "kernelspec": {
   "display_name": "Python 3 (ipykernel)",
   "language": "python",
   "name": "python3"
  },
  "language_info": {
   "codemirror_mode": {
    "name": "ipython",
    "version": 3
   },
   "file_extension": ".py",
   "mimetype": "text/x-python",
   "name": "python",
   "nbconvert_exporter": "python",
   "pygments_lexer": "ipython3",
   "version": "3.9.10"
  },
  "orig_nbformat": 4
 },
 "nbformat": 4,
 "nbformat_minor": 2
}

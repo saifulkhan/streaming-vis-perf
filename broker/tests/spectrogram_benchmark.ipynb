{
 "cells": [
  {
   "cell_type": "markdown",
   "metadata": {},
   "source": [
    "This notebook is used for generating different benchmark"
   ]
  },
  {
   "cell_type": "code",
   "execution_count": 1,
   "metadata": {},
   "outputs": [],
   "source": [
    "from time import sleep\n",
    "\n",
    "from payload import generate_spectrogram_protobuf\n",
    "from utils import convert_bytes, create_payload_size_df, create_decoding_time_df\n",
    "from plots import plot_payload_size, plot_decoding_time\n",
    "from producer import produce"
   ]
  },
  {
   "cell_type": "markdown",
   "metadata": {},
   "source": [
    "### Test Payload"
   ]
  },
  {
   "cell_type": "code",
   "execution_count": 2,
   "metadata": {},
   "outputs": [
    {
     "name": "stdout",
     "output_type": "stream",
     "text": [
      "b'\\n1\\n\\x132022-02-15 16:34:32\\x12\\x0200\\x1a\\x02XX\"\\x12\\x88\\x01\\xdd\\x01\\x9b\\x02\\x02\\xae\\x02\\xc1\\x01\\xee\\x01\\x8d\\x02\\x1d\\xa1\\x02\\n.\\n\\x132022-02-15 16:34:32\\x12\\x0200\\x1a\\x02XX\"\\x0fl\\x12<\\x8e\\x02\\xbe\\x02\\x80\\x01~\\xcb\\x02\\xcf\\x02E\\n-\\n\\x132022-02-15 16:34:32\\x12\\x0200\\x1a\\x02XX\"\\x0e25\\xba\\x01\\xc5\\x01D^\\x9a\\x02\\xdb\\x01DX\\n0\\n\\x132022-02-15 16:34:32\\x12\\x0200\\x1a\\x02XX\"\\x11\\xac\\x01\\x1a\\xe3\\x02\\xb8\\x02\\xe9\\x01i\\xa8\\x01\\r\\xb6\\x02\\xa4\\x02' 229\n"
     ]
    }
   ],
   "source": [
    "payload, size = generate_spectrogram_protobuf(10)\n",
    "print(payload, size)"
   ]
  },
  {
   "cell_type": "markdown",
   "metadata": {},
   "source": [
    "### Plot Payload Size Statistics"
   ]
  },
  {
   "cell_type": "code",
   "execution_count": 3,
   "metadata": {},
   "outputs": [
    {
     "ename": "NameError",
     "evalue": "name 'generate_spectrum_utf' is not defined",
     "output_type": "error",
     "traceback": [
      "\u001b[0;31m---------------------------------------------------------------------------\u001b[0m",
      "\u001b[0;31mNameError\u001b[0m                                 Traceback (most recent call last)",
      "Input \u001b[0;32mIn [3]\u001b[0m, in \u001b[0;36m<module>\u001b[0;34m\u001b[0m\n\u001b[1;32m      9\u001b[0m \u001b[39mfor\u001b[39;00m channel \u001b[39min\u001b[39;00m \u001b[39mrange\u001b[39m(\u001b[39m10000\u001b[39m, \u001b[39m600000\u001b[39m, \u001b[39m30000\u001b[39m):\n\u001b[1;32m     10\u001b[0m     channels\u001b[39m.\u001b[39mappend(channel)\n\u001b[0;32m---> 12\u001b[0m     payload, size \u001b[39m=\u001b[39m generate_spectrum_utf(channel)\n\u001b[1;32m     13\u001b[0m     utf_size\u001b[39m.\u001b[39mappend(convert_bytes(size, unit))\n\u001b[1;32m     14\u001b[0m     utf_payloads\u001b[39m.\u001b[39mappend(payload)\n",
      "\u001b[0;31mNameError\u001b[0m: name 'generate_spectrum_utf' is not defined"
     ]
    }
   ],
   "source": [
    "channels = []\n",
    "utf_size = []\n",
    "pb_size = []\n",
    "unit = \"MB\"\n",
    "\n",
    "pb_payloads = []\n",
    "utf_payloads = []\n",
    "\n",
    "for channel in range(10000, 600000, 30000):\n",
    "    channels.append(channel)\n",
    "\n",
    "    payload, size = generate_spectrum_utf(channel)\n",
    "    utf_size.append(convert_bytes(size, unit))\n",
    "    utf_payloads.append(payload)\n",
    "\n",
    "    payload, size = generate_spectrum_pb(channel)\n",
    "    pb_size.append(convert_bytes(size, unit))\n",
    "    pb_payloads.append(payload)\n",
    "\n",
    "plot_payload_size(channels, utf_size, pb_size, unit)\n"
   ]
  },
  {
   "cell_type": "code",
   "execution_count": 51,
   "metadata": {},
   "outputs": [
    {
     "name": "stdout",
     "output_type": "stream",
     "text": [
      "20\n",
      "20\n",
      "580000\n"
     ]
    }
   ],
   "source": [
    "# test\n",
    "print(len(channels))\n",
    "print(len(utf_payloads))\n",
    "print(channels[19])"
   ]
  },
  {
   "cell_type": "markdown",
   "metadata": {},
   "source": [
    "#### Browser Performance\n",
    "- Start performance recording at browser inspector \n",
    "- Send Protobuf payloads to browser"
   ]
  },
  {
   "cell_type": "code",
   "execution_count": 5,
   "metadata": {},
   "outputs": [
    {
     "name": "stderr",
     "output_type": "stream",
     "text": [
      "Unclosed AIOKafkaProducer\n",
      "producer: <aiokafka.producer.producer.AIOKafkaProducer object at 0x7f2402a51ca0>\n",
      "Unclosed AIOKafkaProducer\n",
      "producer: <aiokafka.producer.producer.AIOKafkaProducer object at 0x7f24841e3e50>\n",
      "Task was destroyed but it is pending!\n",
      "task: <Task pending name='Task-62' coro=<Sender._sender_routine() running at /home/saifulkhan/CODE/SKA/streaming-vis-perf/broker/venv/lib/python3.9/site-packages/aiokafka/producer/sender.py:147> wait_for=<Future pending cb=[<TaskWakeupMethWrapper object at 0x7f242f705af0>()]> cb=[Sender._fail_all()]>\n",
      "Task was destroyed but it is pending!\n",
      "task: <Task pending name='Task-73' coro=<Sender._sender_routine() running at /home/saifulkhan/CODE/SKA/streaming-vis-perf/broker/venv/lib/python3.9/site-packages/aiokafka/producer/sender.py:147> wait_for=<Future pending cb=[<TaskWakeupMethWrapper object at 0x7f246ee94be0>()]> cb=[Sender._fail_all()]>\n",
      "Task was destroyed but it is pending!\n",
      "task: <Task pending name='Task-83' coro=<Sender._sender_routine() running at /home/saifulkhan/CODE/SKA/streaming-vis-perf/broker/venv/lib/python3.9/site-packages/aiokafka/producer/sender.py:147> wait_for=<Future pending cb=[<TaskWakeupMethWrapper object at 0x7f2402ae40a0>()]> cb=[Sender._fail_all()]>\n",
      "Unclosed AIOKafkaProducer\n",
      "producer: <aiokafka.producer.producer.AIOKafkaProducer object at 0x7f24882a26d0>\n",
      "Task was destroyed but it is pending!\n",
      "task: <Task pending name='Task-11' coro=<Sender._sender_routine() running at /home/saifulkhan/CODE/SKA/streaming-vis-perf/broker/venv/lib/python3.9/site-packages/aiokafka/producer/sender.py:147> wait_for=<Future pending cb=[<TaskWakeupMethWrapper object at 0x7f246ee94550>()]> cb=[Sender._fail_all()]>\n",
      "Task was destroyed but it is pending!\n",
      "task: <Task pending name='Task-52' coro=<Sender._sender_routine() running at /home/saifulkhan/CODE/SKA/streaming-vis-perf/broker/venv/lib/python3.9/site-packages/aiokafka/producer/sender.py:147> wait_for=<Future pending cb=[<TaskWakeupMethWrapper object at 0x7f2403403760>()]> cb=[Sender._fail_all()]>\n",
      "Task was destroyed but it is pending!\n",
      "task: <Task pending name='Task-93' coro=<Sender._sender_routine() running at /home/saifulkhan/CODE/SKA/streaming-vis-perf/broker/venv/lib/python3.9/site-packages/aiokafka/producer/sender.py:147> wait_for=<Future pending cb=[<TaskWakeupMethWrapper object at 0x7f2402a51ca0>()]> cb=[Sender._fail_all()]>\n"
     ]
    }
   ],
   "source": [
    "for channel in range(25000, 100000, 25000):\n",
    "    sleep(1)\n",
    "    payload, _ = generate_spectrogram_protobuf(channel)\n",
    "    await produce(payload, \"spectrogram-protobuf\")"
   ]
  },
  {
   "cell_type": "markdown",
   "metadata": {},
   "source": [
    "### Deserialisation Cost"
   ]
  },
  {
   "cell_type": "code",
   "execution_count": 63,
   "metadata": {},
   "outputs": [
    {
     "name": "stderr",
     "output_type": "stream",
     "text": [
      "Unclosed AIOKafkaProducer\n",
      "producer: <aiokafka.producer.producer.AIOKafkaProducer object at 0x7fda75d788b0>\n"
     ]
    },
    {
     "name": "stdout",
     "output_type": "stream",
     "text": [
      "produce: sent, response = RecordMetadata(topic='spectrum-pb', partition=0, topic_partition=TopicPartition(topic='spectrum-pb', partition=0), offset=627, timestamp=1644701751179, timestamp_type=0)\n"
     ]
    },
    {
     "name": "stderr",
     "output_type": "stream",
     "text": [
      "Task was destroyed but it is pending!\n",
      "task: <Task pending name='Task-5941' coro=<Sender._sender_routine() done, defined at /home/saifulkhan/CODE/SKA/streaming-vis-perf/broker/venv/lib/python3.9/site-packages/aiokafka/producer/sender.py:81> wait_for=<Future pending cb=[<TaskWakeupMethWrapper object at 0x7fda747f4940>()]> cb=[Sender._fail_all()]>\n",
      "Unclosed AIOKafkaProducer\n",
      "producer: <aiokafka.producer.producer.AIOKafkaProducer object at 0x7fda747f47f0>\n"
     ]
    },
    {
     "name": "stdout",
     "output_type": "stream",
     "text": [
      "produce: sent, response = RecordMetadata(topic='spectrum-pb', partition=0, topic_partition=TopicPartition(topic='spectrum-pb', partition=0), offset=628, timestamp=1644701751458, timestamp_type=0)\n"
     ]
    },
    {
     "name": "stderr",
     "output_type": "stream",
     "text": [
      "Unclosed AIOKafkaProducer\n",
      "producer: <aiokafka.producer.producer.AIOKafkaProducer object at 0x7fda747f47f0>\n"
     ]
    },
    {
     "name": "stdout",
     "output_type": "stream",
     "text": [
      "produce: sent, response = RecordMetadata(topic='spectrum-pb', partition=0, topic_partition=TopicPartition(topic='spectrum-pb', partition=0), offset=629, timestamp=1644701751802, timestamp_type=0)\n"
     ]
    },
    {
     "name": "stderr",
     "output_type": "stream",
     "text": [
      "Unclosed AIOKafkaProducer\n",
      "producer: <aiokafka.producer.producer.AIOKafkaProducer object at 0x7fda77cb2220>\n"
     ]
    },
    {
     "name": "stdout",
     "output_type": "stream",
     "text": [
      "produce: sent, response = RecordMetadata(topic='spectrum-pb', partition=0, topic_partition=TopicPartition(topic='spectrum-pb', partition=0), offset=630, timestamp=1644701752195, timestamp_type=0)\n"
     ]
    },
    {
     "name": "stderr",
     "output_type": "stream",
     "text": [
      "Unclosed AIOKafkaProducer\n",
      "producer: <aiokafka.producer.producer.AIOKafkaProducer object at 0x7fda747f47f0>\n"
     ]
    },
    {
     "name": "stdout",
     "output_type": "stream",
     "text": [
      "produce: sent, response = RecordMetadata(topic='spectrum-pb', partition=0, topic_partition=TopicPartition(topic='spectrum-pb', partition=0), offset=631, timestamp=1644701752661, timestamp_type=0)\n"
     ]
    },
    {
     "name": "stderr",
     "output_type": "stream",
     "text": [
      "Task was destroyed but it is pending!\n",
      "task: <Task pending name='Task-5961' coro=<Sender._sender_routine() running at /home/saifulkhan/CODE/SKA/streaming-vis-perf/broker/venv/lib/python3.9/site-packages/aiokafka/producer/sender.py:147> wait_for=<Future pending cb=[<TaskWakeupMethWrapper object at 0x7fda7c943b80>()]> cb=[Sender._fail_all()]>\n",
      "Task was destroyed but it is pending!\n",
      "task: <Task pending name='Task-5971' coro=<Sender._sender_routine() running at /home/saifulkhan/CODE/SKA/streaming-vis-perf/broker/venv/lib/python3.9/site-packages/aiokafka/producer/sender.py:147> wait_for=<Future pending cb=[<TaskWakeupMethWrapper object at 0x7fda81057850>()]> cb=[Sender._fail_all()]>\n",
      "Task was destroyed but it is pending!\n",
      "task: <Task pending name='Task-5981' coro=<Sender._sender_routine() running at /home/saifulkhan/CODE/SKA/streaming-vis-perf/broker/venv/lib/python3.9/site-packages/aiokafka/producer/sender.py:147> wait_for=<Future pending cb=[<TaskWakeupMethWrapper object at 0x7fda7495bd60>()]> cb=[Sender._fail_all()]>\n",
      "Unclosed AIOKafkaProducer\n",
      "producer: <aiokafka.producer.producer.AIOKafkaProducer object at 0x7fda745f26d0>\n"
     ]
    },
    {
     "name": "stdout",
     "output_type": "stream",
     "text": [
      "produce: sent, response = RecordMetadata(topic='spectrum-pb', partition=0, topic_partition=TopicPartition(topic='spectrum-pb', partition=0), offset=632, timestamp=1644701753193, timestamp_type=0)\n"
     ]
    },
    {
     "name": "stderr",
     "output_type": "stream",
     "text": [
      "Unclosed AIOKafkaProducer\n",
      "producer: <aiokafka.producer.producer.AIOKafkaProducer object at 0x7fda77cb2220>\n"
     ]
    },
    {
     "name": "stdout",
     "output_type": "stream",
     "text": [
      "produce: sent, response = RecordMetadata(topic='spectrum-pb', partition=0, topic_partition=TopicPartition(topic='spectrum-pb', partition=0), offset=633, timestamp=1644701753781, timestamp_type=0)\n"
     ]
    },
    {
     "name": "stderr",
     "output_type": "stream",
     "text": [
      "Task was destroyed but it is pending!\n",
      "task: <Task pending name='Task-6001' coro=<Sender._sender_routine() running at /home/saifulkhan/CODE/SKA/streaming-vis-perf/broker/venv/lib/python3.9/site-packages/aiokafka/producer/sender.py:147> wait_for=<Future pending cb=[<TaskWakeupMethWrapper object at 0x7fda7495bdc0>()]> cb=[Sender._fail_all()]>\n"
     ]
    },
    {
     "ename": "CancelledError",
     "evalue": "",
     "output_type": "error",
     "traceback": [
      "\u001b[0;31m---------------------------------------------------------------------------\u001b[0m",
      "\u001b[0;31mCancelledError\u001b[0m                            Traceback (most recent call last)",
      "\u001b[1;32m/home/saifulkhan/CODE/SKA/streaming-vis-perf/broker/tests/benchmark.ipynb Cell 12'\u001b[0m in \u001b[0;36m<module>\u001b[0;34m\u001b[0m\n\u001b[1;32m      <a href='vscode-notebook-cell:/home/saifulkhan/CODE/SKA/streaming-vis-perf/broker/tests/benchmark.ipynb#ch0000019?line=0'>1</a>\u001b[0m \u001b[39mfor\u001b[39;00m channel \u001b[39min\u001b[39;00m \u001b[39mrange\u001b[39m(\u001b[39mlen\u001b[39m(channels)):\n\u001b[1;32m      <a href='vscode-notebook-cell:/home/saifulkhan/CODE/SKA/streaming-vis-perf/broker/tests/benchmark.ipynb#ch0000019?line=1'>2</a>\u001b[0m     \u001b[39mfor\u001b[39;00m d \u001b[39min\u001b[39;00m \u001b[39mrange\u001b[39m(\u001b[39m10\u001b[39m):\n\u001b[0;32m----> <a href='vscode-notebook-cell:/home/saifulkhan/CODE/SKA/streaming-vis-perf/broker/tests/benchmark.ipynb#ch0000019?line=2'>3</a>\u001b[0m         \u001b[39mawait\u001b[39;00m produce(pb_payloads[d], \u001b[39m\"\u001b[39m\u001b[39mspectrum-pb\u001b[39m\u001b[39m\"\u001b[39m)\n\u001b[1;32m      <a href='vscode-notebook-cell:/home/saifulkhan/CODE/SKA/streaming-vis-perf/broker/tests/benchmark.ipynb#ch0000019?line=3'>4</a>\u001b[0m         sleep(\u001b[39m.25\u001b[39m)\n\u001b[1;32m      <a href='vscode-notebook-cell:/home/saifulkhan/CODE/SKA/streaming-vis-perf/broker/tests/benchmark.ipynb#ch0000019?line=5'>6</a>\u001b[0m     sleep(\u001b[39m10\u001b[39m)\n",
      "File \u001b[0;32m~/CODE/SKA/streaming-vis-perf/broker/tests/producer.py:18\u001b[0m, in \u001b[0;36mproduce\u001b[0;34m(payload, topic)\u001b[0m\n\u001b[1;32m     <a href='file:///~/CODE/SKA/streaming-vis-perf/broker/tests/producer.py?line=10'>11</a>\u001b[0m aioproducer \u001b[39m=\u001b[39m AIOKafkaProducer(\n\u001b[1;32m     <a href='file:///~/CODE/SKA/streaming-vis-perf/broker/tests/producer.py?line=11'>12</a>\u001b[0m     bootstrap_servers\u001b[39m=\u001b[39mBROKER_INSTANCE,\n\u001b[1;32m     <a href='file:///~/CODE/SKA/streaming-vis-perf/broker/tests/producer.py?line=12'>13</a>\u001b[0m     compression_type\u001b[39m=\u001b[39m\u001b[39m\"\u001b[39m\u001b[39mgzip\u001b[39m\u001b[39m\"\u001b[39m,\n\u001b[1;32m     <a href='file:///~/CODE/SKA/streaming-vis-perf/broker/tests/producer.py?line=13'>14</a>\u001b[0m     max_request_size\u001b[39m=\u001b[39mMAX_REQ_SIZE,\n\u001b[1;32m     <a href='file:///~/CODE/SKA/streaming-vis-perf/broker/tests/producer.py?line=14'>15</a>\u001b[0m )\n\u001b[1;32m     <a href='file:///~/CODE/SKA/streaming-vis-perf/broker/tests/producer.py?line=16'>17</a>\u001b[0m \u001b[39mawait\u001b[39;00m aioproducer\u001b[39m.\u001b[39mstart()\n\u001b[0;32m---> <a href='file:///~/CODE/SKA/streaming-vis-perf/broker/tests/producer.py?line=17'>18</a>\u001b[0m res \u001b[39m=\u001b[39m \u001b[39mawait\u001b[39;00m aioproducer\u001b[39m.\u001b[39msend_and_wait(topic, payload)\n\u001b[1;32m     <a href='file:///~/CODE/SKA/streaming-vis-perf/broker/tests/producer.py?line=18'>19</a>\u001b[0m \u001b[39mprint\u001b[39m(\u001b[39mf\u001b[39m\u001b[39m\"\u001b[39m\u001b[39mproduce: sent, response = \u001b[39m\u001b[39m{\u001b[39;00mres\u001b[39m}\u001b[39;00m\u001b[39m\"\u001b[39m)\n\u001b[1;32m     <a href='file:///~/CODE/SKA/streaming-vis-perf/broker/tests/producer.py?line=20'>21</a>\u001b[0m \u001b[39mreturn\u001b[39;00m\n",
      "File \u001b[0;32m~/CODE/SKA/streaming-vis-perf/broker/venv/lib/python3.9/site-packages/aiokafka/producer/producer.py:463\u001b[0m, in \u001b[0;36mAIOKafkaProducer.send_and_wait\u001b[0;34m(self, topic, value, key, partition, timestamp_ms, headers)\u001b[0m\n\u001b[1;32m    <a href='file:///~/CODE/SKA/streaming-vis-perf/broker/venv/lib/python3.9/site-packages/aiokafka/producer/producer.py?line=459'>460</a>\u001b[0m \u001b[39m\"\"\"Publish a message to a topic and wait the result\"\"\"\u001b[39;00m\n\u001b[1;32m    <a href='file:///~/CODE/SKA/streaming-vis-perf/broker/venv/lib/python3.9/site-packages/aiokafka/producer/producer.py?line=460'>461</a>\u001b[0m future \u001b[39m=\u001b[39m \u001b[39mawait\u001b[39;00m \u001b[39mself\u001b[39m\u001b[39m.\u001b[39msend(\n\u001b[1;32m    <a href='file:///~/CODE/SKA/streaming-vis-perf/broker/venv/lib/python3.9/site-packages/aiokafka/producer/producer.py?line=461'>462</a>\u001b[0m     topic, value, key, partition, timestamp_ms, headers)\n\u001b[0;32m--> <a href='file:///~/CODE/SKA/streaming-vis-perf/broker/venv/lib/python3.9/site-packages/aiokafka/producer/producer.py?line=462'>463</a>\u001b[0m \u001b[39mreturn\u001b[39;00m (\u001b[39mawait\u001b[39;00m future)\n",
      "\u001b[0;31mCancelledError\u001b[0m: "
     ]
    }
   ],
   "source": [
    "for channel in range(len(channels)):\n",
    "    for d in range(10):\n",
    "        await produce(pb_payloads[d], \"spectrum-pb\")\n",
    "        sleep(.25)\n",
    "    \n",
    "    sleep(10)"
   ]
  },
  {
   "cell_type": "code",
   "execution_count": 23,
   "metadata": {},
   "outputs": [
    {
     "data": {
      "image/png": "[encoded data removed]",
      "text/plain": [
       "<Figure size 576x288 with 1 Axes>"
      ]
     },
     "metadata": {
      "needs_background": "light"
     },
     "output_type": "display_data"
    }
   ],
   "source": [
    "\n",
    "y = [\n",
    "    [2.699999999254942, 1.5, 0.7000000011175871, 0.8000000007450581, 0.6000000014901161, 0.7999999988824129, 0.6999999992549419, 0.6999999992549419, 0.6999999992549419],\n",
    "    [3.800000000745058, 4.699999999254942, 1.200000001117587, 1.299999998882413, 1.099999999627471, 1.099999999627471, 1.099999999627471, 1.099999999627471, 1],\n",
    "    [4.800000000745058, 5, 1.700000001117587, 1.800000000745058, 1.6000000014901161, 1.700000001117587, 1.5, 1.699999999254942, 1.699999999254942],\n",
    "    [10.800000000745058, 3, 5.400000000372529, 2.599999999627471, 3.300000000745058, 2.599999999627471, 4.600000001490116, 2.200000001117587, 2.900000000372529],\n",
    "    [15.400000000372529, 7.900000000372529, 5.900000000372529, 2.5, 3.5, 2.599999999627471, 2.599999999627471, 2.899999998509884, 3],\n",
    "    [12.799999998882413, 7.800000000745058, 6.5, 4.099999999627471, 3.199999999254942, 3.699999999254942, 3.5, 3.700000001117587, 4.400000000372529],\n",
    "    [12.800000000745058, 11.900000000372529, 6.699999999254942, 3.699999999254942, 4, 3.599999999627471, 4.300000000745058, 3.5, 3.900000000372529]\n",
    "]\n",
    "\n",
    "channels = [10000, 20000, 30000, 40000, 50000, 60000, 70000]\n",
    "\n",
    "plot_deserialisation_time(y, channels)"
   ]
  },
  {
   "cell_type": "code",
   "execution_count": null,
   "metadata": {},
   "outputs": [],
   "source": []
  },
  {
   "cell_type": "markdown",
   "metadata": {},
   "source": [
    "### Spectrogram"
   ]
  },
  {
   "cell_type": "code",
   "execution_count": null,
   "metadata": {},
   "outputs": [],
   "source": []
  },
  {
   "cell_type": "markdown",
   "metadata": {},
   "source": [
    "### Windmap"
   ]
  },
  {
   "cell_type": "code",
   "execution_count": null,
   "metadata": {},
   "outputs": [],
   "source": []
  },
  {
   "cell_type": "markdown",
   "metadata": {},
   "source": [
    "### Misc"
   ]
  },
  {
   "cell_type": "markdown",
   "metadata": {},
   "source": []
  }
 ],
 "metadata": {
  "interpreter": {
   "hash": "b8752089daaf8554189c0a3218ede8c2fd27b59dccca5e4f78a63b2a9260d483"
  },
  "kernelspec": {
   "display_name": "Python 3.8.8 ('venv': venv)",
   "language": "python",
   "name": "python3"
  },
  "language_info": {
   "codemirror_mode": {
    "name": "ipython",
    "version": 3
   },
   "file_extension": ".py",
   "mimetype": "text/x-python",
   "name": "python",
   "nbconvert_exporter": "python",
   "pygments_lexer": "ipython3",
   "version": "3.9.7"
  },
  "orig_nbformat": 4
 },
 "nbformat": 4,
 "nbformat_minor": 2
}

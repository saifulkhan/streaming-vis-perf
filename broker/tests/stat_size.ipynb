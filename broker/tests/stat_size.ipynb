{
 "cells": [
  {
   "cell_type": "markdown",
   "metadata": {},
   "source": []
  },
  {
   "cell_type": "markdown",
   "metadata": {},
   "source": []
  },
  {
   "cell_type": "code",
   "execution_count": 19,
   "metadata": {},
   "outputs": [],
   "source": [
    "def convert_bytes(size, unit=None):\n",
    "    if unit == \"KB\":\n",
    "        return round(size / 1024, 0)\n",
    "    elif unit == \"MB\":\n",
    "        return round(size / (1024 * 1024), 0)\n",
    "    elif unit == \"GB\":\n",
    "        round(size / (1024 * 1024 * 1024), 0)\n",
    "    else:\n",
    "        return size\n"
   ]
  },
  {
   "cell_type": "code",
   "execution_count": 20,
   "metadata": {},
   "outputs": [],
   "source": [
    "import random\n",
    "import json\n",
    "from datetime import datetime\n",
    "import sys\n",
    "\n",
    "sys.path.append(\"..\")\n",
    "\n",
    "from app.models.spectrum_pb2 import Spectrum\n",
    "\n",
    "\n",
    "def payload_spectrum_pb(num_data):\n",
    "    \"\"\"\n",
    "    Generate UTF-8 payload of spectrum plot\n",
    "    \"\"\"\n",
    "    d = []\n",
    "    sd_u = []\n",
    "    sd_l = []\n",
    "    x_max = num_data\n",
    "    y_min = 1\n",
    "    y_max = 20\n",
    "\n",
    "    for i in range(x_max):\n",
    "        d.append(random.randrange(y_min, y_max - 1, 1))\n",
    "        sd_u.append(0.4)\n",
    "        sd_l.append(0.2)\n",
    "\n",
    "    payload_pb = Spectrum(\n",
    "        timestamp=datetime.now().strftime(\"%Y-%m-%d %H:%M:%S\"),\n",
    "        x_min=0,\n",
    "        x_max=x_max,\n",
    "        y_min=y_min,\n",
    "        y_max=y_max,\n",
    "        data=d,\n",
    "        sd_l=sd_l,\n",
    "        sd_u=sd_u,\n",
    "    )\n",
    "\n",
    "    payload_ser = payload_pb.SerializeToString()\n",
    "    return [payload_ser, sys.getsizeof(payload_ser)]\n"
   ]
  },
  {
   "cell_type": "code",
   "execution_count": 21,
   "metadata": {},
   "outputs": [],
   "source": [
    "def payload_spectrum_utf(num_data):\n",
    "    \"\"\"\n",
    "    Generate UTF-8 payload of spectrum plot\n",
    "    Returns payload and its size\n",
    "    \"\"\"\n",
    "    d = []\n",
    "    sd_u = []\n",
    "    sd_l = []\n",
    "    x_max = num_data\n",
    "    y_min = 1\n",
    "    y_max = 20\n",
    "\n",
    "    for i in range(x_max):\n",
    "        d.append(random.randrange(y_min, y_max - 1, 1))\n",
    "        sd_u.append(0.4)\n",
    "        sd_l.append(0.4)\n",
    "\n",
    "    payload_text = {\n",
    "        \"timestamp\": datetime.now().strftime(\"%Y-%m-%d %H:%M:%S\"),\n",
    "        \"x_min\": 0,\n",
    "        \"x_max\": x_max,\n",
    "        \"y_min\": y_min,\n",
    "        \"y_max\": y_max,\n",
    "        \"data\": d,\n",
    "        \"sd_l\": sd_l,\n",
    "        \"sd_u\": sd_u,\n",
    "    }\n",
    "\n",
    "    payload_ser = json.dumps(payload_text).encode(\"utf-8\")\n",
    "    return [payload_ser, sys.getsizeof(payload_ser)]\n"
   ]
  },
  {
   "cell_type": "code",
   "execution_count": 147,
   "metadata": {},
   "outputs": [],
   "source": [
    "import matplotlib.pyplot as plt\n",
    "import math\n",
    "\n",
    "def plot_payload_size(x, y1, y2, unit=\"bytes\"):\n",
    "    \"\"\" \"\"\"\n",
    "    fig = plt.figure(figsize=(6, 3), tight_layout=True)\n",
    "    ax = fig.gca()\n",
    "\n",
    "    plt.plot(x, y1, \"-\", linewidth=2, color=\"tomato\", label=\"UTF-8\")\n",
    "    plt.plot(x, y2, \"-\", linewidth=2, color=\"royalblue\", label=\"ProtoBuf\")\n",
    "\n",
    "    # x, y labels\n",
    "    plt.xlabel(\"frequency channels\", fontsize=12)\n",
    "    plt.ylabel(f\"payload size (in {unit})\", fontsize=12)\n",
    "\n",
    "    # change x, y range to start from min and max data\n",
    "    ax.set_xlim([x[0], x[-1]])\n",
    "    ax.set_ylim([math.floor(min(y1[0], y2[0])), math.ceil(max(y1[-1], y2[-1]))])\n",
    "\n",
    "    # tick labels font\n",
    "    ax.tick_params(axis=\"both\", which=\"major\", labelsize=12)\n",
    "    ax.tick_params(axis=\"both\", which=\"minor\", labelsize=12)\n",
    "\n",
    "    # title\n",
    "    # plt.title('Two or more lines on same plot with suitable legends ')\n",
    "\n",
    "    # legend\n",
    "    plt.legend(fontsize=12, loc=\"lower right\")\n",
    "\n",
    "    # grid\n",
    "    plt.grid(linestyle=\"--\", linewidth=\"1\", color=\"black\", alpha=0.2)\n",
    "\n",
    "    # spines: https://matplotlib.org/stable/api/spines_api.html\n",
    "    ax.spines[\"top\"].set(\n",
    "        visible=True, linestyle=\"--\", linewidth=\"1\", color=\"black\", alpha=0.2\n",
    "    )\n",
    "    ax.spines[\"right\"].set(\n",
    "        visible=True, linestyle=\"--\", linewidth=\"1\", color=\"black\", alpha=0.2\n",
    "    )\n",
    "\n",
    "    plt.show()\n"
   ]
  },
  {
   "cell_type": "markdown",
   "metadata": {},
   "source": [
    "### Payload Size"
   ]
  },
  {
   "cell_type": "code",
   "execution_count": 148,
   "metadata": {},
   "outputs": [
    {
     "data": {
      "image/png": "[encoded data removed]",
      "text/plain": [
       "<Figure size 432x216 with 1 Axes>"
      ]
     },
     "metadata": {
      "needs_background": "light"
     },
     "output_type": "display_data"
    }
   ],
   "source": [
    "x = []\n",
    "y1 = []\n",
    "y2 = []\n",
    "unit = \"KB\"\n",
    "\n",
    "for i in range(1, 65000, 1000):\n",
    "    x.append(i)\n",
    "    y1.append(convert_bytes(payload_spectrum_utf(i)[1], unit))\n",
    "    y2.append(convert_bytes(payload_spectrum_pb(i)[1], unit))\n",
    "\n",
    "plot_payload_size(x, y1, y2, unit)\n"
   ]
  },
  {
   "cell_type": "markdown",
   "metadata": {},
   "source": [
    "## Kafka"
   ]
  },
  {
   "cell_type": "code",
   "execution_count": 26,
   "metadata": {},
   "outputs": [],
   "source": [
    "from aiokafka import AIOKafkaProducer\n",
    "\n",
    "BROKER_INSTANCE = \"localhost:9092\"\n",
    "MAX_REQ_SIZE = 15 * 1024 * 1024  # 15MB\n",
    "\n",
    "\n",
    "async def produce(payload, topic):\n",
    "    \"\"\"\n",
    "    input: serialized payload\n",
    "    \"\"\"\n",
    "    aioproducer = AIOKafkaProducer(\n",
    "        bootstrap_servers=BROKER_INSTANCE,\n",
    "        compression_type=\"gzip\",\n",
    "        max_request_size=MAX_REQ_SIZE,\n",
    "    )\n",
    "\n",
    "    await aioproducer.start()\n",
    "    res = await aioproducer.send_and_wait(topic, payload)\n",
    "    print(f\"produce: sent, response = {res}\")\n",
    "\n",
    "    return\n"
   ]
  },
  {
   "cell_type": "code",
   "execution_count": 61,
   "metadata": {},
   "outputs": [
    {
     "name": "stderr",
     "output_type": "stream",
     "text": [
      "Unclosed AIOKafkaProducer\n",
      "producer: <aiokafka.producer.producer.AIOKafkaProducer object at 0x7fc3005216a0>\n",
      "Unclosed AIOKafkaProducer\n",
      "producer: <aiokafka.producer.producer.AIOKafkaProducer object at 0x7fc300703340>\n"
     ]
    },
    {
     "name": "stdout",
     "output_type": "stream",
     "text": [
      "produce: sent, response = RecordMetadata(topic='spectrum-pb', partition=0, topic_partition=TopicPartition(topic='spectrum-pb', partition=0), offset=141, timestamp=1644331131209, timestamp_type=0)\n",
      "produce: sent, response = RecordMetadata(topic='spectrum-pb', partition=0, topic_partition=TopicPartition(topic='spectrum-pb', partition=0), offset=142, timestamp=1644331131387, timestamp_type=0)\n"
     ]
    },
    {
     "name": "stderr",
     "output_type": "stream",
     "text": [
      "Unclosed AIOKafkaProducer\n",
      "producer: <aiokafka.producer.producer.AIOKafkaProducer object at 0x7fc3004fa670>\n",
      "Unclosed AIOKafkaProducer\n",
      "producer: <aiokafka.producer.producer.AIOKafkaProducer object at 0x7fc300469c10>\n",
      "Task was destroyed but it is pending!\n",
      "task: <Task pending name='Task-1246' coro=<Sender._sender_routine() running at /home/saifulkhan/CODE/SKA/streaming-vis-perf/broker/venv/lib/python3.8/site-packages/aiokafka/producer/sender.py:147> wait_for=<Future pending cb=[<TaskWakeupMethWrapper object at 0x7fc3004fac10>()]> cb=[Sender._fail_all()]>\n",
      "Task was destroyed but it is pending!\n",
      "task: <Task pending name='Task-1256' coro=<Sender._sender_routine() running at /home/saifulkhan/CODE/SKA/streaming-vis-perf/broker/venv/lib/python3.8/site-packages/aiokafka/producer/sender.py:147> wait_for=<Future pending cb=[<TaskWakeupMethWrapper object at 0x7fc3004693a0>()]> cb=[Sender._fail_all()]>\n",
      "Task was destroyed but it is pending!\n",
      "task: <Task pending name='Task-1266' coro=<Sender._sender_routine() running at /home/saifulkhan/CODE/SKA/streaming-vis-perf/broker/venv/lib/python3.8/site-packages/aiokafka/producer/sender.py:147> wait_for=<Future pending cb=[<TaskWakeupMethWrapper object at 0x7fc3004690a0>()]> cb=[Sender._fail_all()]>\n",
      "Task was destroyed but it is pending!\n",
      "task: <Task pending name='Task-1276' coro=<Sender._sender_routine() done, defined at /home/saifulkhan/CODE/SKA/streaming-vis-perf/broker/venv/lib/python3.8/site-packages/aiokafka/producer/sender.py:81> wait_for=<Future pending cb=[<TaskWakeupMethWrapper object at 0x7fc3003f54f0>()]> cb=[Sender._fail_all()]>\n"
     ]
    },
    {
     "name": "stdout",
     "output_type": "stream",
     "text": [
      "produce: sent, response = RecordMetadata(topic='spectrum-pb', partition=0, topic_partition=TopicPartition(topic='spectrum-pb', partition=0), offset=143, timestamp=1644331131558, timestamp_type=0)\n",
      "produce: sent, response = RecordMetadata(topic='spectrum-pb', partition=0, topic_partition=TopicPartition(topic='spectrum-pb', partition=0), offset=144, timestamp=1644331131732, timestamp_type=0)\n"
     ]
    },
    {
     "name": "stderr",
     "output_type": "stream",
     "text": [
      "Unclosed AIOKafkaProducer\n",
      "producer: <aiokafka.producer.producer.AIOKafkaProducer object at 0x7fc300469c10>\n",
      "Unclosed AIOKafkaProducer\n",
      "producer: <aiokafka.producer.producer.AIOKafkaProducer object at 0x7fc3003f55e0>\n"
     ]
    },
    {
     "name": "stdout",
     "output_type": "stream",
     "text": [
      "produce: sent, response = RecordMetadata(topic='spectrum-pb', partition=0, topic_partition=TopicPartition(topic='spectrum-pb', partition=0), offset=145, timestamp=1644331131902, timestamp_type=0)\n",
      "produce: sent, response = RecordMetadata(topic='spectrum-pb', partition=0, topic_partition=TopicPartition(topic='spectrum-pb', partition=0), offset=146, timestamp=1644331132071, timestamp_type=0)\n"
     ]
    },
    {
     "name": "stderr",
     "output_type": "stream",
     "text": [
      "Unclosed AIOKafkaProducer\n",
      "producer: <aiokafka.producer.producer.AIOKafkaProducer object at 0x7fc3003f55e0>\n",
      "Unclosed AIOKafkaProducer\n",
      "producer: <aiokafka.producer.producer.AIOKafkaProducer object at 0x7fc3003f55e0>\n"
     ]
    },
    {
     "name": "stdout",
     "output_type": "stream",
     "text": [
      "produce: sent, response = RecordMetadata(topic='spectrum-pb', partition=0, topic_partition=TopicPartition(topic='spectrum-pb', partition=0), offset=147, timestamp=1644331132243, timestamp_type=0)\n",
      "produce: sent, response = RecordMetadata(topic='spectrum-pb', partition=0, topic_partition=TopicPartition(topic='spectrum-pb', partition=0), offset=148, timestamp=1644331132425, timestamp_type=0)\n"
     ]
    },
    {
     "name": "stderr",
     "output_type": "stream",
     "text": [
      "Unclosed AIOKafkaProducer\n",
      "producer: <aiokafka.producer.producer.AIOKafkaProducer object at 0x7fc3003f55e0>\n"
     ]
    },
    {
     "name": "stdout",
     "output_type": "stream",
     "text": [
      "produce: sent, response = RecordMetadata(topic='spectrum-pb', partition=0, topic_partition=TopicPartition(topic='spectrum-pb', partition=0), offset=149, timestamp=1644331132598, timestamp_type=0)\n"
     ]
    }
   ],
   "source": [
    "from time import sleep\n",
    "\n",
    "size = 40000\n",
    "\n",
    "for i in range(1, 10, 1):\n",
    "    [payload_pb, _] = payload_spectrum_pb(size)\n",
    "    await produce(payload_pb, \"spectrum-pb\")\n",
    "    #sleep(1)"
   ]
  },
  {
   "cell_type": "markdown",
   "metadata": {},
   "source": [
    "### Box Plot"
   ]
  },
  {
   "cell_type": "code",
   "execution_count": 153,
   "metadata": {},
   "outputs": [],
   "source": [
    "import numpy as np\n",
    "\n",
    "def plot_deserialisation_time(y, x=[]):\n",
    "    \"\"\" \"\"\"\n",
    "    fig = plt.figure(figsize=(8, 4), tight_layout=True)\n",
    "    ax = fig.gca()\n",
    "\n",
    "    # plt.plot(x, y1, \"-\", linewidth=2, color=\"tomato\", label=\"UTF-8\")\n",
    "    # plt.plot(x, y2, \"-\", linewidth=2, color=\"royalblue\", label=\"ProtoBuf\")\n",
    "\n",
    "    # x, y labels\n",
    "    plt.xlabel(\"frequency channels\", fontsize=12)\n",
    "    plt.ylabel(f\"time (in ms)\", fontsize=12)\n",
    "\n",
    "    # change x, y range to start from min and max data\n",
    "    # ax.set_xlim([x[0], x[-1]])\n",
    "    # ax.set_ylim([math.floor(min(y1[0], y2[0])), math.ceil(max(y1[-1], y2[-1]))])\n",
    "\n",
    "    # tick labels font\n",
    "    ax.tick_params(axis=\"both\", which=\"major\", labelsize=12)\n",
    "    ax.tick_params(axis=\"both\", which=\"minor\", labelsize=12)\n",
    "\n",
    "    # title\n",
    "    # plt.title('Two or more lines on same plot with suitable legends ')\n",
    "\n",
    "    # legend\n",
    "    # plt.legend(fontsize=12, loc=\"lower right\")\n",
    "\n",
    "    # grid\n",
    "    plt.grid(linestyle=\"--\", linewidth=\"1\", color=\"black\", alpha=0.2)\n",
    "\n",
    "    # spines: https://matplotlib.org/stable/api/spines_api.html\n",
    "    ax.spines[\"top\"].set(\n",
    "        visible=True, linestyle=\"--\", linewidth=\"1\", color=\"black\", alpha=0.2\n",
    "    )\n",
    "    ax.spines[\"right\"].set(\n",
    "        visible=True, linestyle=\"--\", linewidth=\"1\", color=\"black\", alpha=0.2\n",
    "    )\n",
    "\n",
    "    ax.boxplot(y, labels=x)\n",
    "\n",
    "    plt.show()\n"
   ]
  },
  {
   "cell_type": "code",
   "execution_count": 152,
   "metadata": {},
   "outputs": [
    {
     "data": {
      "image/png": "[encoded data removed]",
      "text/plain": [
       "<Figure size 576x288 with 1 Axes>"
      ]
     },
     "metadata": {
      "needs_background": "light"
     },
     "output_type": "display_data"
    }
   ],
   "source": [
    "\n",
    "data_1 = [2.699999999254942, 1.5, 0.7000000011175871, 0.8000000007450581, 0.6000000014901161, 0.7999999988824129, 0.6999999992549419, 0.6999999992549419, 0.6999999992549419]\n",
    "data_2 = [3.800000000745058, 4.699999999254942, 1.200000001117587, 1.299999998882413, 1.099999999627471, 1.099999999627471, 1.099999999627471, 1.099999999627471, 1]\n",
    "data_3 = [4.800000000745058, 5, 1.700000001117587, 1.800000000745058, 1.6000000014901161, 1.700000001117587, 1.5, 1.699999999254942, 1.699999999254942]\n",
    "data_4 = [10.800000000745058, 3, 5.400000000372529, 2.599999999627471, 3.300000000745058, 2.599999999627471, 4.600000001490116, 2.200000001117587, 2.900000000372529]\n",
    "data_5 = [15.400000000372529, 7.900000000372529, 5.900000000372529, 2.5, 3.5, 2.599999999627471, 2.599999999627471, 2.899999998509884, 3]\n",
    "data_6 = [12.799999998882413, 7.800000000745058, 6.5, 4.099999999627471, 3.199999999254942, 3.699999999254942, 3.5, 3.700000001117587, 4.400000000372529]\n",
    "data_7 = [12.800000000745058, 11.900000000372529, 6.699999999254942, 3.699999999254942, 4, 3.599999999627471, 4.300000000745058, 3.5, 3.900000000372529]\n",
    "\n",
    "y = [data_1, data_2, data_3, data_4, data_5, data_6, data_7]\n",
    "x = [10000, 20000, 30000, 40000, 50000, 60000, 70000]\n",
    "\n",
    "plot_deserialisation_time(y, x)"
   ]
  },
  {
   "cell_type": "code",
   "execution_count": 127,
   "metadata": {},
   "outputs": [],
   "source": [
    "x = [39.30000000074506, 35, 35.59999999962747, 36.40000000037253, 38.09999999962747, 32, 30.300000000745058]"
   ]
  },
  {
   "cell_type": "code",
   "execution_count": null,
   "metadata": {},
   "outputs": [],
   "source": []
  }
 ],
 "metadata": {
  "interpreter": {
   "hash": "b8752089daaf8554189c0a3218ede8c2fd27b59dccca5e4f78a63b2a9260d483"
  },
  "kernelspec": {
   "display_name": "Python 3.8.8 ('venv': venv)",
   "language": "python",
   "name": "python3"
  },
  "language_info": {
   "codemirror_mode": {
    "name": "ipython",
    "version": 3
   },
   "file_extension": ".py",
   "mimetype": "text/x-python",
   "name": "python",
   "nbconvert_exporter": "python",
   "pygments_lexer": "ipython3",
   "version": "3.8.8"
  },
  "orig_nbformat": 4
 },
 "nbformat": 4,
 "nbformat_minor": 2
}

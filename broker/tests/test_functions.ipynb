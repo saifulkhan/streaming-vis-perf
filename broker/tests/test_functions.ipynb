{
 "cells": [
  {
   "cell_type": "markdown",
   "metadata": {},
   "source": [
    "This notebook is used for testing Python functions"
   ]
  },
  {
   "cell_type": "markdown",
   "metadata": {},
   "source": [
    "# Spectrum"
   ]
  },
  {
   "cell_type": "markdown",
   "metadata": {},
   "source": [
    "### Payload"
   ]
  },
  {
   "cell_type": "code",
   "execution_count": 1,
   "metadata": {},
   "outputs": [
    {
     "name": "stdout",
     "output_type": "stream",
     "text": [
      "b'\\n\\x132022-02-18 13:04:03\\x18\\x05(\\n2\\x05\\x00\\x01\\x02\\x03\\x04:\\x14\\x00\\x00\\x80?\\xcd\\xcc\\xfc@\\xcd\\xcc\\x04A\\x00\\x00\\xa0@\\x9a\\x99\\x89@B\\x14\\xf6(\\x1c?H\\xe1:?\\xecQ8?\\\\\\x8fB?\\x85\\xeb\\xd1>J\\x14{\\x14.>)\\\\\\x0f?{\\x14\\xae>=\\nW?\\\\\\x8fB?' 131\n",
      "b'{\"timestamp\": \"2022-02-18 13:04:03\", \"x_min\": 0, \"x_max\": 5, \"y_min\": 0, \"y_max\": 10, \"channels\": [0, 1, 2, 3, 4], \"power\": [7.3, 6.6000000000000005, 6.800000000000001, 4.3, 6.2], \"sd_l\": [0.47, 0.04, 0.83, 0.67, 0.33], \"sd_u\": [0.34, 0.24, 0.09, 0.15, 0.18]}' 292\n"
     ]
    }
   ],
   "source": [
    "import generate_payload as gp\n",
    "\n",
    "payload, size  = gp.spectrum_protobuf(num_channels=5)\n",
    "print(payload, size)\n",
    "\n",
    "payload, size  = gp.spectrum_json(num_channels=5)\n",
    "print(payload, size)"
   ]
  },
  {
   "cell_type": "markdown",
   "metadata": {},
   "source": [
    "# Spectrogram"
   ]
  },
  {
   "cell_type": "markdown",
   "metadata": {},
   "source": [
    "### Payload"
   ]
  },
  {
   "cell_type": "code",
   "execution_count": 1,
   "metadata": {},
   "outputs": [
    {
     "name": "stdout",
     "output_type": "stream",
     "text": [
      "b'\\n)\\n\\x132022-02-18 13:54:57\\x12\\x0200\\x1a\\x02XX\"\\n\\x83\\x01\\xbf\\x02\\xb2\\x01\\xc1\\x02\\xd0\\x02\\n\\'\\n\\x132022-02-18 13:54:57\\x12\\x0200\\x1a\\x02XX\"\\x08a\\xd5\\x01\\xdb\\x02*\\xdd\\x01' 117\n",
      "b'{\"spectrogram\": [{\"timestamp\": \"2022-02-18 13:54:57\", \"baseline\": \"00\", \"polarisation\": \"XX\", \"phase\": [319, 225, 38, 353, 327]}, {\"timestamp\": \"2022-02-18 13:54:57\", \"baseline\": \"00\", \"polarisation\": \"XX\", \"phase\": [326, 307, 353, 204, 161]}]}' 277\n"
     ]
    }
   ],
   "source": [
    "import generate_payload as gp\n",
    "\n",
    "payload, size  = gp.spectrogram_protobus(num_spectrograms=2, num_channels=5)\n",
    "print(payload, size)\n",
    "\n",
    "payload, size  = gp.spectrogram_json(num_spectrograms=2, num_channels=5)\n",
    "print(payload, size)\n"
   ]
  },
  {
   "cell_type": "markdown",
   "metadata": {},
   "source": [
    "# Plots"
   ]
  },
  {
   "cell_type": "code",
   "execution_count": 1,
   "metadata": {},
   "outputs": [
    {
     "data": {
      "image/png": "[encoded data removed]",
      "text/plain": [
       "<Figure size 432x288 with 2 Axes>"
      ]
     },
     "metadata": {},
     "output_type": "display_data"
    }
   ],
   "source": [
    "import plots\n",
    "\n",
    "import seaborn as sns\n",
    "df = sns.load_dataset(\"flights\")\n",
    "df = df.pivot(\"month\", \"year\", \"passengers\")\n",
    "\n",
    "plots.heatmap(df)"
   ]
  },
  {
   "cell_type": "code",
   "execution_count": null,
   "metadata": {},
   "outputs": [],
   "source": []
  }
 ],
 "metadata": {
  "interpreter": {
   "hash": "b8752089daaf8554189c0a3218ede8c2fd27b59dccca5e4f78a63b2a9260d483"
  },
  "kernelspec": {
   "display_name": "Python 3.8.8 ('venv': venv)",
   "language": "python",
   "name": "python3"
  },
  "language_info": {
   "codemirror_mode": {
    "name": "ipython",
    "version": 3
   },
   "file_extension": ".py",
   "mimetype": "text/x-python",
   "name": "python",
   "nbconvert_exporter": "python",
   "pygments_lexer": "ipython3",
   "version": "3.9.7"
  },
  "orig_nbformat": 4
 },
 "nbformat": 4,
 "nbformat_minor": 2
}

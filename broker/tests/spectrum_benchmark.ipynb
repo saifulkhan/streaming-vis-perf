{
 "cells": [
  {
   "cell_type": "markdown",
   "metadata": {},
   "source": [
    "This notebook is used for generating different benchmark"
   ]
  },
  {
   "cell_type": "code",
   "execution_count": 1,
   "metadata": {},
   "outputs": [],
   "source": [
    "from utils import convert_bytes\n",
    "from payload import generate_spectrum_pb, generate_spectrum_utf\n",
    "from plots import plot_payload_size, plot_deserialisation_time\n",
    "from producer import produce"
   ]
  },
  {
   "cell_type": "markdown",
   "metadata": {},
   "source": [
    "#### Payload"
   ]
  },
  {
   "cell_type": "code",
   "execution_count": 2,
   "metadata": {},
   "outputs": [
    {
     "name": "stdout",
     "output_type": "stream",
     "text": [
      "b'{\"timestamp\": \"2022-02-13 21:13:29\", \"x_min\": 0, \"x_max\": 10, \"y_min\": 0, \"y_max\": 10, \"channels\": [0, 1, 2, 3, 4, 5, 6, 7, 8, 9], \"power\": [6.6000000000000005, 8.100000000000001, 4.8, 1.1, 4.2, 7.1, 8.100000000000001, 5.699999999999999, 6.2, 7.3], \"sd_l\": [0.11, 0.46, 0.84, 0.59, 0.28, 0.05, 0.04, 0.3, 0.28, 0.76], \"sd_u\": [0.69, 0.21, 0.59, 0.47, 0.73, 0.45, 0.01, 0.42, 0.71, 0.36]}' 420\n"
     ]
    }
   ],
   "source": [
    "# test\n",
    "payload, size = generate_spectrum_utf(10)\n",
    "print(payload, size)"
   ]
  },
  {
   "cell_type": "code",
   "execution_count": 4,
   "metadata": {},
   "outputs": [
    {
     "data": {
      "image/png": "[encoded data removed]",
      "text/plain": [
       "<Figure size 432x216 with 1 Axes>"
      ]
     },
     "metadata": {
      "needs_background": "light"
     },
     "output_type": "display_data"
    }
   ],
   "source": [
    "channels = []\n",
    "utf_size = []\n",
    "pb_size = []\n",
    "unit = \"MB\"\n",
    "\n",
    "pb_payloads = []\n",
    "utf_payloads = []\n",
    "\n",
    "# 10000, 600000, 30000\n",
    "for channel in range(10000, 600000, 30000):\n",
    "    channels.append(channel)\n",
    "\n",
    "    payload, size = generate_spectrum_utf(channel)\n",
    "    utf_size.append(convert_bytes(size, unit))\n",
    "    utf_payloads.append(payload)\n",
    "\n",
    "    payload, size = generate_spectrum_pb(channel)\n",
    "    pb_size.append(convert_bytes(size, unit))\n",
    "    pb_payloads.append(payload)\n",
    "\n",
    "plot_payload_size(channels, utf_size, pb_size, unit)\n"
   ]
  },
  {
   "cell_type": "code",
   "execution_count": null,
   "metadata": {},
   "outputs": [
    {
     "name": "stdout",
     "output_type": "stream",
     "text": [
      "1\n",
      "1\n"
     ]
    }
   ],
   "source": [
    "\n",
    "# test\n",
    "print(len(channels))\n",
    "print(len(utf_payloads))\n",
    "#print(channels[19])"
   ]
  },
  {
   "cell_type": "markdown",
   "metadata": {},
   "source": [
    "#### Browser Performance"
   ]
  },
  {
   "cell_type": "code",
   "execution_count": 17,
   "metadata": {},
   "outputs": [
    {
     "name": "stderr",
     "output_type": "stream",
     "text": [
      "Unclosed AIOKafkaProducer\n",
      "producer: <aiokafka.producer.producer.AIOKafkaProducer object at 0x7fe8ea6d94f0>\n"
     ]
    },
    {
     "name": "stdout",
     "output_type": "stream",
     "text": [
      "produce: sent, response = RecordMetadata(topic='spectrum-pb', partition=0, topic_partition=TopicPartition(topic='spectrum-pb', partition=0), offset=43, timestamp=1644764996695, timestamp_type=0)\n"
     ]
    },
    {
     "name": "stderr",
     "output_type": "stream",
     "text": [
      "Unclosed AIOKafkaProducer\n",
      "producer: <aiokafka.producer.producer.AIOKafkaProducer object at 0x7fe8eac728b0>\n"
     ]
    },
    {
     "name": "stdout",
     "output_type": "stream",
     "text": [
      "produce: sent, response = RecordMetadata(topic='spectrum-pb', partition=0, topic_partition=TopicPartition(topic='spectrum-pb', partition=0), offset=44, timestamp=1644764999922, timestamp_type=0)\n"
     ]
    },
    {
     "name": "stderr",
     "output_type": "stream",
     "text": [
      "Task was destroyed but it is pending!\n",
      "task: <Task pending name='Task-126' coro=<Sender._sender_routine() running at /Users/saifulkhan/CODE/SKA/streaming-vis-perf/broker/venv/lib/python3.8/site-packages/aiokafka/producer/sender.py:147> wait_for=<Future pending cb=[<TaskWakeupMethWrapper object at 0x7fe8eaab7e80>()]> cb=[Sender._fail_all()]>\n",
      "Task was destroyed but it is pending!\n",
      "task: <Task pending name='Task-137' coro=<Sender._sender_routine() running at /Users/saifulkhan/CODE/SKA/streaming-vis-perf/broker/venv/lib/python3.8/site-packages/aiokafka/producer/sender.py:147> wait_for=<Future pending cb=[<TaskWakeupMethWrapper object at 0x7fe8eaab7640>()]> cb=[Sender._fail_all()]>\n",
      "Task was destroyed but it is pending!\n",
      "task: <Task pending name='Task-147' coro=<Sender._sender_routine() running at /Users/saifulkhan/CODE/SKA/streaming-vis-perf/broker/venv/lib/python3.8/site-packages/aiokafka/producer/sender.py:147> wait_for=<Future pending cb=[<TaskWakeupMethWrapper object at 0x7fe8eaac5c10>()]> cb=[Sender._fail_all()]>\n"
     ]
    }
   ],
   "source": [
    "from time import sleep\n",
    "\n",
    "for d in pb_payloads:\n",
    "    await produce(d, \"spectrum-pb\")\n",
    "    sleep(3)"
   ]
  },
  {
   "cell_type": "code",
   "execution_count": 64,
   "metadata": {},
   "outputs": [
    {
     "name": "stderr",
     "output_type": "stream",
     "text": [
      "Unclosed AIOKafkaProducer\n",
      "producer: <aiokafka.producer.producer.AIOKafkaProducer object at 0x7fda7468baf0>\n"
     ]
    },
    {
     "name": "stdout",
     "output_type": "stream",
     "text": [
      "produce: sent, response = RecordMetadata(topic='spectrum-utf', partition=0, topic_partition=TopicPartition(topic='spectrum-utf', partition=0), offset=145, timestamp=1644701772272, timestamp_type=0)\n"
     ]
    },
    {
     "name": "stderr",
     "output_type": "stream",
     "text": [
      "Unclosed AIOKafkaProducer\n",
      "producer: <aiokafka.producer.producer.AIOKafkaProducer object at 0x7fda7468baf0>\n"
     ]
    },
    {
     "name": "stdout",
     "output_type": "stream",
     "text": [
      "produce: sent, response = RecordMetadata(topic='spectrum-utf', partition=0, topic_partition=TopicPartition(topic='spectrum-utf', partition=0), offset=146, timestamp=1644701772624, timestamp_type=0)\n"
     ]
    },
    {
     "name": "stderr",
     "output_type": "stream",
     "text": [
      "Unclosed AIOKafkaProducer\n",
      "producer: <aiokafka.producer.producer.AIOKafkaProducer object at 0x7fda746fed60>\n"
     ]
    },
    {
     "name": "stdout",
     "output_type": "stream",
     "text": [
      "produce: sent, response = RecordMetadata(topic='spectrum-utf', partition=0, topic_partition=TopicPartition(topic='spectrum-utf', partition=0), offset=147, timestamp=1644701773247, timestamp_type=0)\n"
     ]
    },
    {
     "name": "stderr",
     "output_type": "stream",
     "text": [
      "Unclosed AIOKafkaProducer\n",
      "producer: <aiokafka.producer.producer.AIOKafkaProducer object at 0x7fda746e2ee0>\n"
     ]
    },
    {
     "name": "stdout",
     "output_type": "stream",
     "text": [
      "produce: sent, response = RecordMetadata(topic='spectrum-utf', partition=0, topic_partition=TopicPartition(topic='spectrum-utf', partition=0), offset=148, timestamp=1644701774148, timestamp_type=0)\n"
     ]
    },
    {
     "name": "stderr",
     "output_type": "stream",
     "text": [
      "Task was destroyed but it is pending!\n",
      "task: <Task pending name='Task-6022' coro=<Sender._sender_routine() running at /home/saifulkhan/CODE/SKA/streaming-vis-perf/broker/venv/lib/python3.9/site-packages/aiokafka/producer/sender.py:147> wait_for=<Future pending cb=[<TaskWakeupMethWrapper object at 0x7fda75743820>()]> cb=[Sender._fail_all()]>\n",
      "Task was destroyed but it is pending!\n",
      "task: <Task pending name='Task-6032' coro=<Sender._sender_routine() running at /home/saifulkhan/CODE/SKA/streaming-vis-perf/broker/venv/lib/python3.9/site-packages/aiokafka/producer/sender.py:147> wait_for=<Future pending cb=[<TaskWakeupMethWrapper object at 0x7fda7495bdc0>()]> cb=[Sender._fail_all()]>\n",
      "Task was destroyed but it is pending!\n",
      "task: <Task pending name='Task-6042' coro=<Sender._sender_routine() running at /home/saifulkhan/CODE/SKA/streaming-vis-perf/broker/venv/lib/python3.9/site-packages/aiokafka/producer/sender.py:147> wait_for=<Future pending cb=[<TaskWakeupMethWrapper object at 0x7fda746e2070>()]> cb=[Sender._fail_all()]>\n",
      "Task was destroyed but it is pending!\n",
      "task: <Task pending name='Task-6052' coro=<Sender._sender_routine() running at /home/saifulkhan/CODE/SKA/streaming-vis-perf/broker/venv/lib/python3.9/site-packages/aiokafka/producer/sender.py:147> wait_for=<Future pending cb=[<TaskWakeupMethWrapper object at 0x7fda746ce9d0>()]> cb=[Sender._fail_all()]>\n",
      "Unclosed AIOKafkaProducer\n",
      "producer: <aiokafka.producer.producer.AIOKafkaProducer object at 0x7fda745e9fd0>\n",
      "Task was destroyed but it is pending!\n",
      "task: <Task pending name='Task-5729' coro=<Sender._sender_routine() running at /home/saifulkhan/CODE/SKA/streaming-vis-perf/broker/venv/lib/python3.9/site-packages/aiokafka/producer/sender.py:147> wait_for=<Future pending cb=[<TaskWakeupMethWrapper object at 0x7fda745f2be0>()]> cb=[Sender._fail_all()]>\n",
      "Task was destroyed but it is pending!\n",
      "task: <Task pending name='Task-5951' coro=<Sender._sender_routine() running at /home/saifulkhan/CODE/SKA/streaming-vis-perf/broker/venv/lib/python3.9/site-packages/aiokafka/producer/sender.py:147> wait_for=<Future pending cb=[<TaskWakeupMethWrapper object at 0x7fda747f42e0>()]> cb=[Sender._fail_all()]>\n",
      "Task was destroyed but it is pending!\n",
      "task: <Task pending name='Task-5991' coro=<Sender._sender_routine() running at /home/saifulkhan/CODE/SKA/streaming-vis-perf/broker/venv/lib/python3.9/site-packages/aiokafka/producer/sender.py:147> wait_for=<Future pending cb=[<TaskWakeupMethWrapper object at 0x7fda74845430>()]> cb=[Sender._fail_all()]>\n",
      "Unclosed AIOKafkaProducer\n",
      "producer: <aiokafka.producer.producer.AIOKafkaProducer object at 0x7fda746e2ee0>\n"
     ]
    },
    {
     "name": "stdout",
     "output_type": "stream",
     "text": [
      "produce: sent, response = RecordMetadata(topic='spectrum-utf', partition=0, topic_partition=TopicPartition(topic='spectrum-utf', partition=0), offset=149, timestamp=1644701775334, timestamp_type=0)\n"
     ]
    },
    {
     "name": "stderr",
     "output_type": "stream",
     "text": [
      "Unclosed AIOKafkaProducer\n",
      "producer: <aiokafka.producer.producer.AIOKafkaProducer object at 0x7fda77c3cbe0>\n"
     ]
    },
    {
     "name": "stdout",
     "output_type": "stream",
     "text": [
      "produce: sent, response = RecordMetadata(topic='spectrum-utf', partition=0, topic_partition=TopicPartition(topic='spectrum-utf', partition=0), offset=150, timestamp=1644701777045, timestamp_type=0)\n"
     ]
    },
    {
     "name": "stderr",
     "output_type": "stream",
     "text": [
      "Unclosed AIOKafkaProducer\n",
      "producer: <aiokafka.producer.producer.AIOKafkaProducer object at 0x7fda77c3cbe0>\n"
     ]
    },
    {
     "name": "stdout",
     "output_type": "stream",
     "text": [
      "produce: sent, response = RecordMetadata(topic='spectrum-utf', partition=0, topic_partition=TopicPartition(topic='spectrum-utf', partition=0), offset=151, timestamp=1644701778794, timestamp_type=0)\n"
     ]
    },
    {
     "name": "stderr",
     "output_type": "stream",
     "text": [
      "Task was destroyed but it is pending!\n",
      "task: <Task pending name='Task-6072' coro=<Sender._sender_routine() running at /home/saifulkhan/CODE/SKA/streaming-vis-perf/broker/venv/lib/python3.9/site-packages/aiokafka/producer/sender.py:147> wait_for=<Future pending cb=[<TaskWakeupMethWrapper object at 0x7fda746ce910>()]> cb=[Sender._fail_all()]>\n",
      "Task was destroyed but it is pending!\n",
      "task: <Task pending name='Task-6082' coro=<Sender._sender_routine() running at /home/saifulkhan/CODE/SKA/streaming-vis-perf/broker/venv/lib/python3.9/site-packages/aiokafka/producer/sender.py:147> wait_for=<Future pending cb=[<TaskWakeupMethWrapper object at 0x7fda7495b4c0>()]> cb=[Sender._fail_all()]>\n",
      "Unclosed AIOKafkaProducer\n",
      "producer: <aiokafka.producer.producer.AIOKafkaProducer object at 0x7fda74c87430>\n"
     ]
    },
    {
     "name": "stdout",
     "output_type": "stream",
     "text": [
      "produce: sent, response = RecordMetadata(topic='spectrum-utf', partition=0, topic_partition=TopicPartition(topic='spectrum-utf', partition=0), offset=152, timestamp=1644701780907, timestamp_type=0)\n"
     ]
    },
    {
     "name": "stderr",
     "output_type": "stream",
     "text": [
      "Unclosed AIOKafkaProducer\n",
      "producer: <aiokafka.producer.producer.AIOKafkaProducer object at 0x7fda7748deb0>\n"
     ]
    },
    {
     "name": "stdout",
     "output_type": "stream",
     "text": [
      "produce: sent, response = RecordMetadata(topic='spectrum-utf', partition=0, topic_partition=TopicPartition(topic='spectrum-utf', partition=0), offset=153, timestamp=1644701783258, timestamp_type=0)\n"
     ]
    },
    {
     "name": "stderr",
     "output_type": "stream",
     "text": [
      "Unclosed AIOKafkaProducer\n",
      "producer: <aiokafka.producer.producer.AIOKafkaProducer object at 0x7fda77ff31c0>\n"
     ]
    },
    {
     "name": "stdout",
     "output_type": "stream",
     "text": [
      "produce: sent, response = RecordMetadata(topic='spectrum-utf', partition=0, topic_partition=TopicPartition(topic='spectrum-utf', partition=0), offset=154, timestamp=1644701785885, timestamp_type=0)\n"
     ]
    },
    {
     "name": "stderr",
     "output_type": "stream",
     "text": [
      "Task was destroyed but it is pending!\n",
      "task: <Task pending name='Task-6112' coro=<Sender._sender_routine() running at /home/saifulkhan/CODE/SKA/streaming-vis-perf/broker/venv/lib/python3.9/site-packages/aiokafka/producer/sender.py:147> wait_for=<Future pending cb=[<TaskWakeupMethWrapper object at 0x7fda7468bfd0>()]> cb=[Sender._fail_all()]>\n",
      "Unclosed AIOKafkaProducer\n",
      "producer: <aiokafka.producer.producer.AIOKafkaProducer object at 0x7fda746e2b20>\n"
     ]
    },
    {
     "name": "stdout",
     "output_type": "stream",
     "text": [
      "produce: sent, response = RecordMetadata(topic='spectrum-utf', partition=0, topic_partition=TopicPartition(topic='spectrum-utf', partition=0), offset=155, timestamp=1644701788783, timestamp_type=0)\n"
     ]
    },
    {
     "name": "stderr",
     "output_type": "stream",
     "text": [
      "Unclosed AIOKafkaProducer\n",
      "producer: <aiokafka.producer.producer.AIOKafkaProducer object at 0x7fda74bc89d0>\n"
     ]
    },
    {
     "name": "stdout",
     "output_type": "stream",
     "text": [
      "produce: sent, response = RecordMetadata(topic='spectrum-utf', partition=0, topic_partition=TopicPartition(topic='spectrum-utf', partition=0), offset=156, timestamp=1644701791947, timestamp_type=0)\n"
     ]
    },
    {
     "name": "stderr",
     "output_type": "stream",
     "text": [
      "Unclosed AIOKafkaProducer\n",
      "producer: <aiokafka.producer.producer.AIOKafkaProducer object at 0x7fda77ff31c0>\n"
     ]
    },
    {
     "name": "stdout",
     "output_type": "stream",
     "text": [
      "produce: sent, response = RecordMetadata(topic='spectrum-utf', partition=0, topic_partition=TopicPartition(topic='spectrum-utf', partition=0), offset=157, timestamp=1644701795405, timestamp_type=0)\n"
     ]
    },
    {
     "name": "stderr",
     "output_type": "stream",
     "text": [
      "Unclosed AIOKafkaProducer\n",
      "producer: <aiokafka.producer.producer.AIOKafkaProducer object at 0x7fda80b2a760>\n"
     ]
    },
    {
     "name": "stdout",
     "output_type": "stream",
     "text": [
      "produce: sent, response = RecordMetadata(topic='spectrum-utf', partition=0, topic_partition=TopicPartition(topic='spectrum-utf', partition=0), offset=158, timestamp=1644701799117, timestamp_type=0)\n"
     ]
    },
    {
     "name": "stderr",
     "output_type": "stream",
     "text": [
      "Unclosed AIOKafkaProducer\n",
      "producer: <aiokafka.producer.producer.AIOKafkaProducer object at 0x7fda77ff31c0>\n"
     ]
    },
    {
     "name": "stdout",
     "output_type": "stream",
     "text": [
      "produce: sent, response = RecordMetadata(topic='spectrum-utf', partition=0, topic_partition=TopicPartition(topic='spectrum-utf', partition=0), offset=159, timestamp=1644701803103, timestamp_type=0)\n"
     ]
    },
    {
     "name": "stderr",
     "output_type": "stream",
     "text": [
      "Unclosed AIOKafkaProducer\n",
      "producer: <aiokafka.producer.producer.AIOKafkaProducer object at 0x7fda7561c1c0>\n"
     ]
    },
    {
     "name": "stdout",
     "output_type": "stream",
     "text": [
      "produce: sent, response = RecordMetadata(topic='spectrum-utf', partition=0, topic_partition=TopicPartition(topic='spectrum-utf', partition=0), offset=160, timestamp=1644701807382, timestamp_type=0)\n"
     ]
    },
    {
     "name": "stderr",
     "output_type": "stream",
     "text": [
      "Unclosed AIOKafkaProducer\n",
      "producer: <aiokafka.producer.producer.AIOKafkaProducer object at 0x7fda80b2a760>\n"
     ]
    },
    {
     "name": "stdout",
     "output_type": "stream",
     "text": [
      "produce: sent, response = RecordMetadata(topic='spectrum-utf', partition=0, topic_partition=TopicPartition(topic='spectrum-utf', partition=0), offset=161, timestamp=1644701811936, timestamp_type=0)\n"
     ]
    },
    {
     "name": "stderr",
     "output_type": "stream",
     "text": [
      "Unclosed AIOKafkaProducer\n",
      "producer: <aiokafka.producer.producer.AIOKafkaProducer object at 0x7fda7561c1c0>\n"
     ]
    },
    {
     "name": "stdout",
     "output_type": "stream",
     "text": [
      "produce: sent, response = RecordMetadata(topic='spectrum-utf', partition=0, topic_partition=TopicPartition(topic='spectrum-utf', partition=0), offset=162, timestamp=1644701816757, timestamp_type=0)\n"
     ]
    },
    {
     "name": "stderr",
     "output_type": "stream",
     "text": [
      "Unclosed AIOKafkaProducer\n",
      "producer: <aiokafka.producer.producer.AIOKafkaProducer object at 0x7fda7561c1c0>\n"
     ]
    },
    {
     "name": "stdout",
     "output_type": "stream",
     "text": [
      "produce: sent, response = RecordMetadata(topic='spectrum-utf', partition=0, topic_partition=TopicPartition(topic='spectrum-utf', partition=0), offset=163, timestamp=1644701821869, timestamp_type=0)\n"
     ]
    },
    {
     "name": "stderr",
     "output_type": "stream",
     "text": [
      "Unclosed AIOKafkaProducer\n",
      "producer: <aiokafka.producer.producer.AIOKafkaProducer object at 0x7fda74433be0>\n"
     ]
    },
    {
     "name": "stdout",
     "output_type": "stream",
     "text": [
      "produce: sent, response = RecordMetadata(topic='spectrum-utf', partition=0, topic_partition=TopicPartition(topic='spectrum-utf', partition=0), offset=164, timestamp=1644701827278, timestamp_type=0)\n"
     ]
    },
    {
     "name": "stderr",
     "output_type": "stream",
     "text": [
      "Task was destroyed but it is pending!\n",
      "task: <Task pending name='Task-6062' coro=<Sender._sender_routine() running at /home/saifulkhan/CODE/SKA/streaming-vis-perf/broker/venv/lib/python3.9/site-packages/aiokafka/producer/sender.py:147> wait_for=<Future pending cb=[<TaskWakeupMethWrapper object at 0x7fda746ceb50>()]> cb=[Sender._fail_all()]>\n",
      "Task was destroyed but it is pending!\n",
      "task: <Task pending name='Task-6092' coro=<Sender._sender_routine() running at /home/saifulkhan/CODE/SKA/streaming-vis-perf/broker/venv/lib/python3.9/site-packages/aiokafka/producer/sender.py:147> wait_for=<Future pending cb=[<TaskWakeupMethWrapper object at 0x7fda804ae6a0>()]> cb=[Sender._fail_all()]>\n",
      "Task was destroyed but it is pending!\n",
      "task: <Task pending name='Task-6102' coro=<Sender._sender_routine() running at /home/saifulkhan/CODE/SKA/streaming-vis-perf/broker/venv/lib/python3.9/site-packages/aiokafka/producer/sender.py:147> wait_for=<Future pending cb=[<TaskWakeupMethWrapper object at 0x7fda762e3ee0>()]> cb=[Sender._fail_all()]>\n",
      "Task was destroyed but it is pending!\n",
      "task: <Task pending name='Task-6122' coro=<Sender._sender_routine() running at /home/saifulkhan/CODE/SKA/streaming-vis-perf/broker/venv/lib/python3.9/site-packages/aiokafka/producer/sender.py:147> wait_for=<Future pending cb=[<TaskWakeupMethWrapper object at 0x7fda73f98760>()]> cb=[Sender._fail_all()]>\n",
      "Task was destroyed but it is pending!\n",
      "task: <Task pending name='Task-6132' coro=<Sender._sender_routine() running at /home/saifulkhan/CODE/SKA/streaming-vis-perf/broker/venv/lib/python3.9/site-packages/aiokafka/producer/sender.py:147> wait_for=<Future pending cb=[<TaskWakeupMethWrapper object at 0x7fda73f986a0>()]> cb=[Sender._fail_all()]>\n",
      "Task was destroyed but it is pending!\n",
      "task: <Task pending name='Task-6142' coro=<Sender._sender_routine() running at /home/saifulkhan/CODE/SKA/streaming-vis-perf/broker/venv/lib/python3.9/site-packages/aiokafka/producer/sender.py:147> wait_for=<Future pending cb=[<TaskWakeupMethWrapper object at 0x7fda74bc8130>()]> cb=[Sender._fail_all()]>\n",
      "Task was destroyed but it is pending!\n",
      "task: <Task pending name='Task-6152' coro=<Sender._sender_routine() running at /home/saifulkhan/CODE/SKA/streaming-vis-perf/broker/venv/lib/python3.9/site-packages/aiokafka/producer/sender.py:147> wait_for=<Future pending cb=[<TaskWakeupMethWrapper object at 0x7fda77571610>()]> cb=[Sender._fail_all()]>\n",
      "Task was destroyed but it is pending!\n",
      "task: <Task pending name='Task-6162' coro=<Sender._sender_routine() running at /home/saifulkhan/CODE/SKA/streaming-vis-perf/broker/venv/lib/python3.9/site-packages/aiokafka/producer/sender.py:147> wait_for=<Future pending cb=[<TaskWakeupMethWrapper object at 0x7fda74fba820>()]> cb=[Sender._fail_all()]>\n",
      "Task was destroyed but it is pending!\n",
      "task: <Task pending name='Task-6172' coro=<Sender._sender_routine() running at /home/saifulkhan/CODE/SKA/streaming-vis-perf/broker/venv/lib/python3.9/site-packages/aiokafka/producer/sender.py:147> wait_for=<Future pending cb=[<TaskWakeupMethWrapper object at 0x7fda74fbaca0>()]> cb=[Sender._fail_all()]>\n",
      "Task was destroyed but it is pending!\n",
      "task: <Task pending name='Task-6182' coro=<Sender._sender_routine() running at /home/saifulkhan/CODE/SKA/streaming-vis-perf/broker/venv/lib/python3.9/site-packages/aiokafka/producer/sender.py:147> wait_for=<Future pending cb=[<TaskWakeupMethWrapper object at 0x7fda73c66490>()]> cb=[Sender._fail_all()]>\n",
      "Task was destroyed but it is pending!\n",
      "task: <Task pending name='Task-6192' coro=<Sender._sender_routine() running at /home/saifulkhan/CODE/SKA/streaming-vis-perf/broker/venv/lib/python3.9/site-packages/aiokafka/producer/sender.py:147> wait_for=<Future pending cb=[<TaskWakeupMethWrapper object at 0x7fda73c661f0>()]> cb=[Sender._fail_all()]>\n",
      "Task was destroyed but it is pending!\n",
      "task: <Task pending name='Task-6202' coro=<Sender._sender_routine() running at /home/saifulkhan/CODE/SKA/streaming-vis-perf/broker/venv/lib/python3.9/site-packages/aiokafka/producer/sender.py:147> wait_for=<Future pending cb=[<TaskWakeupMethWrapper object at 0x7fda73c66970>()]> cb=[Sender._fail_all()]>\n",
      "Task was destroyed but it is pending!\n",
      "task: <Task pending name='Task-6212' coro=<Sender._sender_routine() running at /home/saifulkhan/CODE/SKA/streaming-vis-perf/broker/venv/lib/python3.9/site-packages/aiokafka/producer/sender.py:147> wait_for=<Future pending cb=[<TaskWakeupMethWrapper object at 0x7fda75d78d30>()]> cb=[Sender._fail_all()]>\n"
     ]
    }
   ],
   "source": [
    "from time import sleep\n",
    "\n",
    "for d in utf_payloads:\n",
    "    await produce(d, \"spectrum-utf\")\n",
    "    sleep(0.25)"
   ]
  },
  {
   "cell_type": "markdown",
   "metadata": {},
   "source": [
    "#### Deserialisation Cost"
   ]
  },
  {
   "cell_type": "code",
   "execution_count": 63,
   "metadata": {},
   "outputs": [
    {
     "name": "stderr",
     "output_type": "stream",
     "text": [
      "Unclosed AIOKafkaProducer\n",
      "producer: <aiokafka.producer.producer.AIOKafkaProducer object at 0x7fda75d788b0>\n"
     ]
    },
    {
     "name": "stdout",
     "output_type": "stream",
     "text": [
      "produce: sent, response = RecordMetadata(topic='spectrum-pb', partition=0, topic_partition=TopicPartition(topic='spectrum-pb', partition=0), offset=627, timestamp=1644701751179, timestamp_type=0)\n"
     ]
    },
    {
     "name": "stderr",
     "output_type": "stream",
     "text": [
      "Task was destroyed but it is pending!\n",
      "task: <Task pending name='Task-5941' coro=<Sender._sender_routine() done, defined at /home/saifulkhan/CODE/SKA/streaming-vis-perf/broker/venv/lib/python3.9/site-packages/aiokafka/producer/sender.py:81> wait_for=<Future pending cb=[<TaskWakeupMethWrapper object at 0x7fda747f4940>()]> cb=[Sender._fail_all()]>\n",
      "Unclosed AIOKafkaProducer\n",
      "producer: <aiokafka.producer.producer.AIOKafkaProducer object at 0x7fda747f47f0>\n"
     ]
    },
    {
     "name": "stdout",
     "output_type": "stream",
     "text": [
      "produce: sent, response = RecordMetadata(topic='spectrum-pb', partition=0, topic_partition=TopicPartition(topic='spectrum-pb', partition=0), offset=628, timestamp=1644701751458, timestamp_type=0)\n"
     ]
    },
    {
     "name": "stderr",
     "output_type": "stream",
     "text": [
      "Unclosed AIOKafkaProducer\n",
      "producer: <aiokafka.producer.producer.AIOKafkaProducer object at 0x7fda747f47f0>\n"
     ]
    },
    {
     "name": "stdout",
     "output_type": "stream",
     "text": [
      "produce: sent, response = RecordMetadata(topic='spectrum-pb', partition=0, topic_partition=TopicPartition(topic='spectrum-pb', partition=0), offset=629, timestamp=1644701751802, timestamp_type=0)\n"
     ]
    },
    {
     "name": "stderr",
     "output_type": "stream",
     "text": [
      "Unclosed AIOKafkaProducer\n",
      "producer: <aiokafka.producer.producer.AIOKafkaProducer object at 0x7fda77cb2220>\n"
     ]
    },
    {
     "name": "stdout",
     "output_type": "stream",
     "text": [
      "produce: sent, response = RecordMetadata(topic='spectrum-pb', partition=0, topic_partition=TopicPartition(topic='spectrum-pb', partition=0), offset=630, timestamp=1644701752195, timestamp_type=0)\n"
     ]
    },
    {
     "name": "stderr",
     "output_type": "stream",
     "text": [
      "Unclosed AIOKafkaProducer\n",
      "producer: <aiokafka.producer.producer.AIOKafkaProducer object at 0x7fda747f47f0>\n"
     ]
    },
    {
     "name": "stdout",
     "output_type": "stream",
     "text": [
      "produce: sent, response = RecordMetadata(topic='spectrum-pb', partition=0, topic_partition=TopicPartition(topic='spectrum-pb', partition=0), offset=631, timestamp=1644701752661, timestamp_type=0)\n"
     ]
    },
    {
     "name": "stderr",
     "output_type": "stream",
     "text": [
      "Task was destroyed but it is pending!\n",
      "task: <Task pending name='Task-5961' coro=<Sender._sender_routine() running at /home/saifulkhan/CODE/SKA/streaming-vis-perf/broker/venv/lib/python3.9/site-packages/aiokafka/producer/sender.py:147> wait_for=<Future pending cb=[<TaskWakeupMethWrapper object at 0x7fda7c943b80>()]> cb=[Sender._fail_all()]>\n",
      "Task was destroyed but it is pending!\n",
      "task: <Task pending name='Task-5971' coro=<Sender._sender_routine() running at /home/saifulkhan/CODE/SKA/streaming-vis-perf/broker/venv/lib/python3.9/site-packages/aiokafka/producer/sender.py:147> wait_for=<Future pending cb=[<TaskWakeupMethWrapper object at 0x7fda81057850>()]> cb=[Sender._fail_all()]>\n",
      "Task was destroyed but it is pending!\n",
      "task: <Task pending name='Task-5981' coro=<Sender._sender_routine() running at /home/saifulkhan/CODE/SKA/streaming-vis-perf/broker/venv/lib/python3.9/site-packages/aiokafka/producer/sender.py:147> wait_for=<Future pending cb=[<TaskWakeupMethWrapper object at 0x7fda7495bd60>()]> cb=[Sender._fail_all()]>\n",
      "Unclosed AIOKafkaProducer\n",
      "producer: <aiokafka.producer.producer.AIOKafkaProducer object at 0x7fda745f26d0>\n"
     ]
    },
    {
     "name": "stdout",
     "output_type": "stream",
     "text": [
      "produce: sent, response = RecordMetadata(topic='spectrum-pb', partition=0, topic_partition=TopicPartition(topic='spectrum-pb', partition=0), offset=632, timestamp=1644701753193, timestamp_type=0)\n"
     ]
    },
    {
     "name": "stderr",
     "output_type": "stream",
     "text": [
      "Unclosed AIOKafkaProducer\n",
      "producer: <aiokafka.producer.producer.AIOKafkaProducer object at 0x7fda77cb2220>\n"
     ]
    },
    {
     "name": "stdout",
     "output_type": "stream",
     "text": [
      "produce: sent, response = RecordMetadata(topic='spectrum-pb', partition=0, topic_partition=TopicPartition(topic='spectrum-pb', partition=0), offset=633, timestamp=1644701753781, timestamp_type=0)\n"
     ]
    },
    {
     "name": "stderr",
     "output_type": "stream",
     "text": [
      "Task was destroyed but it is pending!\n",
      "task: <Task pending name='Task-6001' coro=<Sender._sender_routine() running at /home/saifulkhan/CODE/SKA/streaming-vis-perf/broker/venv/lib/python3.9/site-packages/aiokafka/producer/sender.py:147> wait_for=<Future pending cb=[<TaskWakeupMethWrapper object at 0x7fda7495bdc0>()]> cb=[Sender._fail_all()]>\n"
     ]
    },
    {
     "ename": "CancelledError",
     "evalue": "",
     "output_type": "error",
     "traceback": [
      "\u001b[0;31m---------------------------------------------------------------------------\u001b[0m",
      "\u001b[0;31mCancelledError\u001b[0m                            Traceback (most recent call last)",
      "\u001b[1;32m/home/saifulkhan/CODE/SKA/streaming-vis-perf/broker/tests/benchmark.ipynb Cell 12'\u001b[0m in \u001b[0;36m<module>\u001b[0;34m\u001b[0m\n\u001b[1;32m      <a href='vscode-notebook-cell:/home/saifulkhan/CODE/SKA/streaming-vis-perf/broker/tests/benchmark.ipynb#ch0000019?line=0'>1</a>\u001b[0m \u001b[39mfor\u001b[39;00m channel \u001b[39min\u001b[39;00m \u001b[39mrange\u001b[39m(\u001b[39mlen\u001b[39m(channels)):\n\u001b[1;32m      <a href='vscode-notebook-cell:/home/saifulkhan/CODE/SKA/streaming-vis-perf/broker/tests/benchmark.ipynb#ch0000019?line=1'>2</a>\u001b[0m     \u001b[39mfor\u001b[39;00m d \u001b[39min\u001b[39;00m \u001b[39mrange\u001b[39m(\u001b[39m10\u001b[39m):\n\u001b[0;32m----> <a href='vscode-notebook-cell:/home/saifulkhan/CODE/SKA/streaming-vis-perf/broker/tests/benchmark.ipynb#ch0000019?line=2'>3</a>\u001b[0m         \u001b[39mawait\u001b[39;00m produce(pb_payloads[d], \u001b[39m\"\u001b[39m\u001b[39mspectrum-pb\u001b[39m\u001b[39m\"\u001b[39m)\n\u001b[1;32m      <a href='vscode-notebook-cell:/home/saifulkhan/CODE/SKA/streaming-vis-perf/broker/tests/benchmark.ipynb#ch0000019?line=3'>4</a>\u001b[0m         sleep(\u001b[39m.25\u001b[39m)\n\u001b[1;32m      <a href='vscode-notebook-cell:/home/saifulkhan/CODE/SKA/streaming-vis-perf/broker/tests/benchmark.ipynb#ch0000019?line=5'>6</a>\u001b[0m     sleep(\u001b[39m10\u001b[39m)\n",
      "File \u001b[0;32m~/CODE/SKA/streaming-vis-perf/broker/tests/producer.py:18\u001b[0m, in \u001b[0;36mproduce\u001b[0;34m(payload, topic)\u001b[0m\n\u001b[1;32m     <a href='file:///~/CODE/SKA/streaming-vis-perf/broker/tests/producer.py?line=10'>11</a>\u001b[0m aioproducer \u001b[39m=\u001b[39m AIOKafkaProducer(\n\u001b[1;32m     <a href='file:///~/CODE/SKA/streaming-vis-perf/broker/tests/producer.py?line=11'>12</a>\u001b[0m     bootstrap_servers\u001b[39m=\u001b[39mBROKER_INSTANCE,\n\u001b[1;32m     <a href='file:///~/CODE/SKA/streaming-vis-perf/broker/tests/producer.py?line=12'>13</a>\u001b[0m     compression_type\u001b[39m=\u001b[39m\u001b[39m\"\u001b[39m\u001b[39mgzip\u001b[39m\u001b[39m\"\u001b[39m,\n\u001b[1;32m     <a href='file:///~/CODE/SKA/streaming-vis-perf/broker/tests/producer.py?line=13'>14</a>\u001b[0m     max_request_size\u001b[39m=\u001b[39mMAX_REQ_SIZE,\n\u001b[1;32m     <a href='file:///~/CODE/SKA/streaming-vis-perf/broker/tests/producer.py?line=14'>15</a>\u001b[0m )\n\u001b[1;32m     <a href='file:///~/CODE/SKA/streaming-vis-perf/broker/tests/producer.py?line=16'>17</a>\u001b[0m \u001b[39mawait\u001b[39;00m aioproducer\u001b[39m.\u001b[39mstart()\n\u001b[0;32m---> <a href='file:///~/CODE/SKA/streaming-vis-perf/broker/tests/producer.py?line=17'>18</a>\u001b[0m res \u001b[39m=\u001b[39m \u001b[39mawait\u001b[39;00m aioproducer\u001b[39m.\u001b[39msend_and_wait(topic, payload)\n\u001b[1;32m     <a href='file:///~/CODE/SKA/streaming-vis-perf/broker/tests/producer.py?line=18'>19</a>\u001b[0m \u001b[39mprint\u001b[39m(\u001b[39mf\u001b[39m\u001b[39m\"\u001b[39m\u001b[39mproduce: sent, response = \u001b[39m\u001b[39m{\u001b[39;00mres\u001b[39m}\u001b[39;00m\u001b[39m\"\u001b[39m)\n\u001b[1;32m     <a href='file:///~/CODE/SKA/streaming-vis-perf/broker/tests/producer.py?line=20'>21</a>\u001b[0m \u001b[39mreturn\u001b[39;00m\n",
      "File \u001b[0;32m~/CODE/SKA/streaming-vis-perf/broker/venv/lib/python3.9/site-packages/aiokafka/producer/producer.py:463\u001b[0m, in \u001b[0;36mAIOKafkaProducer.send_and_wait\u001b[0;34m(self, topic, value, key, partition, timestamp_ms, headers)\u001b[0m\n\u001b[1;32m    <a href='file:///~/CODE/SKA/streaming-vis-perf/broker/venv/lib/python3.9/site-packages/aiokafka/producer/producer.py?line=459'>460</a>\u001b[0m \u001b[39m\"\"\"Publish a message to a topic and wait the result\"\"\"\u001b[39;00m\n\u001b[1;32m    <a href='file:///~/CODE/SKA/streaming-vis-perf/broker/venv/lib/python3.9/site-packages/aiokafka/producer/producer.py?line=460'>461</a>\u001b[0m future \u001b[39m=\u001b[39m \u001b[39mawait\u001b[39;00m \u001b[39mself\u001b[39m\u001b[39m.\u001b[39msend(\n\u001b[1;32m    <a href='file:///~/CODE/SKA/streaming-vis-perf/broker/venv/lib/python3.9/site-packages/aiokafka/producer/producer.py?line=461'>462</a>\u001b[0m     topic, value, key, partition, timestamp_ms, headers)\n\u001b[0;32m--> <a href='file:///~/CODE/SKA/streaming-vis-perf/broker/venv/lib/python3.9/site-packages/aiokafka/producer/producer.py?line=462'>463</a>\u001b[0m \u001b[39mreturn\u001b[39;00m (\u001b[39mawait\u001b[39;00m future)\n",
      "\u001b[0;31mCancelledError\u001b[0m: "
     ]
    }
   ],
   "source": [
    "for channel in range(len(channels)):\n",
    "    for d in range(10):\n",
    "        await produce(pb_payloads[d], \"spectrum-pb\")\n",
    "        sleep(.25)\n",
    "    \n",
    "    sleep(10)"
   ]
  },
  {
   "cell_type": "code",
   "execution_count": 23,
   "metadata": {},
   "outputs": [
    {
     "data": {
      "image/png": "[encoded data removed]",
      "text/plain": [
       "<Figure size 576x288 with 1 Axes>"
      ]
     },
     "metadata": {
      "needs_background": "light"
     },
     "output_type": "display_data"
    }
   ],
   "source": [
    "\n",
    "y = [\n",
    "    [2.699999999254942, 1.5, 0.7000000011175871, 0.8000000007450581, 0.6000000014901161, 0.7999999988824129, 0.6999999992549419, 0.6999999992549419, 0.6999999992549419],\n",
    "    [3.800000000745058, 4.699999999254942, 1.200000001117587, 1.299999998882413, 1.099999999627471, 1.099999999627471, 1.099999999627471, 1.099999999627471, 1],\n",
    "    [4.800000000745058, 5, 1.700000001117587, 1.800000000745058, 1.6000000014901161, 1.700000001117587, 1.5, 1.699999999254942, 1.699999999254942],\n",
    "    [10.800000000745058, 3, 5.400000000372529, 2.599999999627471, 3.300000000745058, 2.599999999627471, 4.600000001490116, 2.200000001117587, 2.900000000372529],\n",
    "    [15.400000000372529, 7.900000000372529, 5.900000000372529, 2.5, 3.5, 2.599999999627471, 2.599999999627471, 2.899999998509884, 3],\n",
    "    [12.799999998882413, 7.800000000745058, 6.5, 4.099999999627471, 3.199999999254942, 3.699999999254942, 3.5, 3.700000001117587, 4.400000000372529],\n",
    "    [12.800000000745058, 11.900000000372529, 6.699999999254942, 3.699999999254942, 4, 3.599999999627471, 4.300000000745058, 3.5, 3.900000000372529]\n",
    "]\n",
    "\n",
    "channels = [10000, 20000, 30000, 40000, 50000, 60000, 70000]\n",
    "\n",
    "plot_deserialisation_time(y, channels)"
   ]
  }
 ],
 "metadata": {
  "interpreter": {
   "hash": "b8752089daaf8554189c0a3218ede8c2fd27b59dccca5e4f78a63b2a9260d483"
  },
  "kernelspec": {
   "display_name": "Python 3.8.8 ('venv': venv)",
   "language": "python",
   "name": "python3"
  },
  "language_info": {
   "codemirror_mode": {
    "name": "ipython",
    "version": 3
   },
   "file_extension": ".py",
   "mimetype": "text/x-python",
   "name": "python",
   "nbconvert_exporter": "python",
   "pygments_lexer": "ipython3",
   "version": "3.9.7"
  },
  "orig_nbformat": 4
 },
 "nbformat": 4,
 "nbformat_minor": 2
}

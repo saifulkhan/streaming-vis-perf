{
 "cells": [
  {
   "cell_type": "markdown",
   "metadata": {},
   "source": [
    "This notebook is used for generating different benchmark using the spectrum plot data."
   ]
  },
  {
   "cell_type": "markdown",
   "metadata": {},
   "source": [
    "Import required packages."
   ]
  },
  {
   "cell_type": "code",
   "execution_count": 1,
   "metadata": {},
   "outputs": [],
   "source": [
    "from time import sleep\n",
    "\n",
    "from payload import generate_spectrum_pb, generate_spectrum_utf\n",
    "from utils import convert_bytes, create_payload_size_df, create_decoding_time_df\n",
    "from plots import plot_payload_size, plot_decoding_time\n",
    "from producer import produce"
   ]
  },
  {
   "cell_type": "markdown",
   "metadata": {},
   "source": [
    "#### Payload"
   ]
  },
  {
   "cell_type": "markdown",
   "metadata": {},
   "source": [
    "Test"
   ]
  },
  {
   "cell_type": "code",
   "execution_count": 2,
   "metadata": {},
   "outputs": [
    {
     "name": "stdout",
     "output_type": "stream",
     "text": [
      "b'{\"timestamp\": \"2022-02-14 15:57:13\", \"x_min\": 0, \"x_max\": 10, \"y_min\": 0, \"y_max\": 10, \"channels\": [0, 1, 2, 3, 4, 5, 6, 7, 8, 9], \"power\": [0.3, 5.2, 8.2, 0.3, 1.5, 0.6, 6.7, 2.8000000000000003, 6.7, 5.8], \"sd_l\": [0.46, 0.66, 0.17, 0.52, 0.71, 0.75, 0.52, 0.33, 0.83, 0.48], \"sd_u\": [0.25, 0.69, 0.77, 0.6, 0.7, 0.38, 0.53, 0.3, 0.44, 0.04]}' 376\n"
     ]
    }
   ],
   "source": [
    "payload, size = generate_spectrum_utf(10)\n",
    "print(payload, size)\n"
   ]
  },
  {
   "cell_type": "code",
   "execution_count": 3,
   "metadata": {},
   "outputs": [],
   "source": [
    "channels = []\n",
    "utf_payload_size = []\n",
    "protobuf_payload_size = []\n",
    "unit = \"MB\"\n",
    "\n",
    "protobuf_payloads = []\n",
    "utf_payloads = []\n",
    "\n",
    "# 10000, 600000, 30000\n",
    "for channel in range(25000, 610000, 25000):\n",
    "    channels.append(channel)\n",
    "\n",
    "    payload, size = generate_spectrum_utf(channel)\n",
    "    utf_payload_size.append(convert_bytes(size, unit))\n",
    "    utf_payloads.append(payload)\n",
    "\n",
    "    payload, size = generate_spectrum_pb(channel)\n",
    "    protobuf_payload_size.append(convert_bytes(size, unit))\n",
    "    protobuf_payloads.append(payload)\n"
   ]
  },
  {
   "cell_type": "code",
   "execution_count": 4,
   "metadata": {},
   "outputs": [
    {
     "name": "stdout",
     "output_type": "stream",
     "text": [
      "channels = [25000, 50000, 75000, 100000, 125000, 150000, 175000, 200000, 225000, 250000, 275000, 300000, 325000, 350000, 375000, 400000, 425000, 450000, 475000, 500000, 525000, 550000, 575000, 600000], len(channels) = 24\n"
     ]
    }
   ],
   "source": [
    "# check\n",
    "print(f\"channels = {channels}, len(channels) = {len(channels)}\")"
   ]
  },
  {
   "cell_type": "code",
   "execution_count": 6,
   "metadata": {},
   "outputs": [
    {
     "name": "stderr",
     "output_type": "stream",
     "text": [
      "No artists with labels found to put in legend.  Note that artists whose label start with an underscore are ignored when legend() is called with no argument.\n"
     ]
    },
    {
     "data": {
      "image/png": "[encoded data removed]",
      "text/plain": [
       "<Figure size 432x216 with 1 Axes>"
      ]
     },
     "metadata": {},
     "output_type": "display_data"
    }
   ],
   "source": [
    "df = create_payload_size_df(channels, protobuf_payload_size, utf_payload_size)\n",
    "plot_payload_size(df, unit)\n"
   ]
  },
  {
   "cell_type": "markdown",
   "metadata": {},
   "source": [
    "#### Browser Performance"
   ]
  },
  {
   "cell_type": "markdown",
   "metadata": {},
   "source": [
    "- Start performance recording at browser inspector \n",
    "- Send payloads to browser\n",
    "\n",
    "Protobuf payload"
   ]
  },
  {
   "cell_type": "code",
   "execution_count": 17,
   "metadata": {},
   "outputs": [
    {
     "name": "stderr",
     "output_type": "stream",
     "text": [
      "Unclosed AIOKafkaProducer\n",
      "producer: <aiokafka.producer.producer.AIOKafkaProducer object at 0x7fe8ea6d94f0>\n"
     ]
    },
    {
     "name": "stdout",
     "output_type": "stream",
     "text": [
      "produce: sent, response = RecordMetadata(topic='spectrum-pb', partition=0, topic_partition=TopicPartition(topic='spectrum-pb', partition=0), offset=43, timestamp=1644764996695, timestamp_type=0)\n"
     ]
    },
    {
     "name": "stderr",
     "output_type": "stream",
     "text": [
      "Unclosed AIOKafkaProducer\n",
      "producer: <aiokafka.producer.producer.AIOKafkaProducer object at 0x7fe8eac728b0>\n"
     ]
    },
    {
     "name": "stdout",
     "output_type": "stream",
     "text": [
      "produce: sent, response = RecordMetadata(topic='spectrum-pb', partition=0, topic_partition=TopicPartition(topic='spectrum-pb', partition=0), offset=44, timestamp=1644764999922, timestamp_type=0)\n"
     ]
    },
    {
     "name": "stderr",
     "output_type": "stream",
     "text": [
      "Task was destroyed but it is pending!\n",
      "task: <Task pending name='Task-126' coro=<Sender._sender_routine() running at /Users/saifulkhan/CODE/SKA/streaming-vis-perf/broker/venv/lib/python3.8/site-packages/aiokafka/producer/sender.py:147> wait_for=<Future pending cb=[<TaskWakeupMethWrapper object at 0x7fe8eaab7e80>()]> cb=[Sender._fail_all()]>\n",
      "Task was destroyed but it is pending!\n",
      "task: <Task pending name='Task-137' coro=<Sender._sender_routine() running at /Users/saifulkhan/CODE/SKA/streaming-vis-perf/broker/venv/lib/python3.8/site-packages/aiokafka/producer/sender.py:147> wait_for=<Future pending cb=[<TaskWakeupMethWrapper object at 0x7fe8eaab7640>()]> cb=[Sender._fail_all()]>\n",
      "Task was destroyed but it is pending!\n",
      "task: <Task pending name='Task-147' coro=<Sender._sender_routine() running at /Users/saifulkhan/CODE/SKA/streaming-vis-perf/broker/venv/lib/python3.8/site-packages/aiokafka/producer/sender.py:147> wait_for=<Future pending cb=[<TaskWakeupMethWrapper object at 0x7fe8eaac5c10>()]> cb=[Sender._fail_all()]>\n"
     ]
    }
   ],
   "source": [
    "for d in protobuf_payloads:\n",
    "    sleep(1)\n",
    "    await produce(d, \"spectrum-pb\")\n"
   ]
  },
  {
   "cell_type": "markdown",
   "metadata": {},
   "source": [
    "Send payloads frequently to browser and calculate heap memory size"
   ]
  },
  {
   "cell_type": "code",
   "execution_count": null,
   "metadata": {},
   "outputs": [],
   "source": [
    "for d in protobuf_payloads:\n",
    "    sleep(0.1)\n",
    "    await produce(d, \"spectrum-pb\")\n"
   ]
  },
  {
   "cell_type": "markdown",
   "metadata": {},
   "source": [
    "JSON payload"
   ]
  },
  {
   "cell_type": "code",
   "execution_count": 64,
   "metadata": {},
   "outputs": [
    {
     "name": "stderr",
     "output_type": "stream",
     "text": [
      "Unclosed AIOKafkaProducer\n",
      "producer: <aiokafka.producer.producer.AIOKafkaProducer object at 0x7fda7468baf0>\n"
     ]
    },
    {
     "name": "stdout",
     "output_type": "stream",
     "text": [
      "produce: sent, response = RecordMetadata(topic='spectrum-utf', partition=0, topic_partition=TopicPartition(topic='spectrum-utf', partition=0), offset=145, timestamp=1644701772272, timestamp_type=0)\n"
     ]
    },
    {
     "name": "stderr",
     "output_type": "stream",
     "text": [
      "Unclosed AIOKafkaProducer\n",
      "producer: <aiokafka.producer.producer.AIOKafkaProducer object at 0x7fda7468baf0>\n"
     ]
    },
    {
     "name": "stdout",
     "output_type": "stream",
     "text": [
      "produce: sent, response = RecordMetadata(topic='spectrum-utf', partition=0, topic_partition=TopicPartition(topic='spectrum-utf', partition=0), offset=146, timestamp=1644701772624, timestamp_type=0)\n"
     ]
    },
    {
     "name": "stderr",
     "output_type": "stream",
     "text": [
      "Unclosed AIOKafkaProducer\n",
      "producer: <aiokafka.producer.producer.AIOKafkaProducer object at 0x7fda746fed60>\n"
     ]
    },
    {
     "name": "stdout",
     "output_type": "stream",
     "text": [
      "produce: sent, response = RecordMetadata(topic='spectrum-utf', partition=0, topic_partition=TopicPartition(topic='spectrum-utf', partition=0), offset=147, timestamp=1644701773247, timestamp_type=0)\n"
     ]
    },
    {
     "name": "stderr",
     "output_type": "stream",
     "text": [
      "Unclosed AIOKafkaProducer\n",
      "producer: <aiokafka.producer.producer.AIOKafkaProducer object at 0x7fda746e2ee0>\n"
     ]
    },
    {
     "name": "stdout",
     "output_type": "stream",
     "text": [
      "produce: sent, response = RecordMetadata(topic='spectrum-utf', partition=0, topic_partition=TopicPartition(topic='spectrum-utf', partition=0), offset=148, timestamp=1644701774148, timestamp_type=0)\n"
     ]
    },
    {
     "name": "stderr",
     "output_type": "stream",
     "text": [
      "Task was destroyed but it is pending!\n",
      "task: <Task pending name='Task-6022' coro=<Sender._sender_routine() running at /home/saifulkhan/CODE/SKA/streaming-vis-perf/broker/venv/lib/python3.9/site-packages/aiokafka/producer/sender.py:147> wait_for=<Future pending cb=[<TaskWakeupMethWrapper object at 0x7fda75743820>()]> cb=[Sender._fail_all()]>\n",
      "Task was destroyed but it is pending!\n",
      "task: <Task pending name='Task-6032' coro=<Sender._sender_routine() running at /home/saifulkhan/CODE/SKA/streaming-vis-perf/broker/venv/lib/python3.9/site-packages/aiokafka/producer/sender.py:147> wait_for=<Future pending cb=[<TaskWakeupMethWrapper object at 0x7fda7495bdc0>()]> cb=[Sender._fail_all()]>\n",
      "Task was destroyed but it is pending!\n",
      "task: <Task pending name='Task-6042' coro=<Sender._sender_routine() running at /home/saifulkhan/CODE/SKA/streaming-vis-perf/broker/venv/lib/python3.9/site-packages/aiokafka/producer/sender.py:147> wait_for=<Future pending cb=[<TaskWakeupMethWrapper object at 0x7fda746e2070>()]> cb=[Sender._fail_all()]>\n",
      "Task was destroyed but it is pending!\n",
      "task: <Task pending name='Task-6052' coro=<Sender._sender_routine() running at /home/saifulkhan/CODE/SKA/streaming-vis-perf/broker/venv/lib/python3.9/site-packages/aiokafka/producer/sender.py:147> wait_for=<Future pending cb=[<TaskWakeupMethWrapper object at 0x7fda746ce9d0>()]> cb=[Sender._fail_all()]>\n",
      "Unclosed AIOKafkaProducer\n",
      "producer: <aiokafka.producer.producer.AIOKafkaProducer object at 0x7fda745e9fd0>\n",
      "Task was destroyed but it is pending!\n",
      "task: <Task pending name='Task-5729' coro=<Sender._sender_routine() running at /home/saifulkhan/CODE/SKA/streaming-vis-perf/broker/venv/lib/python3.9/site-packages/aiokafka/producer/sender.py:147> wait_for=<Future pending cb=[<TaskWakeupMethWrapper object at 0x7fda745f2be0>()]> cb=[Sender._fail_all()]>\n",
      "Task was destroyed but it is pending!\n",
      "task: <Task pending name='Task-5951' coro=<Sender._sender_routine() running at /home/saifulkhan/CODE/SKA/streaming-vis-perf/broker/venv/lib/python3.9/site-packages/aiokafka/producer/sender.py:147> wait_for=<Future pending cb=[<TaskWakeupMethWrapper object at 0x7fda747f42e0>()]> cb=[Sender._fail_all()]>\n",
      "Task was destroyed but it is pending!\n",
      "task: <Task pending name='Task-5991' coro=<Sender._sender_routine() running at /home/saifulkhan/CODE/SKA/streaming-vis-perf/broker/venv/lib/python3.9/site-packages/aiokafka/producer/sender.py:147> wait_for=<Future pending cb=[<TaskWakeupMethWrapper object at 0x7fda74845430>()]> cb=[Sender._fail_all()]>\n",
      "Unclosed AIOKafkaProducer\n",
      "producer: <aiokafka.producer.producer.AIOKafkaProducer object at 0x7fda746e2ee0>\n"
     ]
    },
    {
     "name": "stdout",
     "output_type": "stream",
     "text": [
      "produce: sent, response = RecordMetadata(topic='spectrum-utf', partition=0, topic_partition=TopicPartition(topic='spectrum-utf', partition=0), offset=149, timestamp=1644701775334, timestamp_type=0)\n"
     ]
    },
    {
     "name": "stderr",
     "output_type": "stream",
     "text": [
      "Unclosed AIOKafkaProducer\n",
      "producer: <aiokafka.producer.producer.AIOKafkaProducer object at 0x7fda77c3cbe0>\n"
     ]
    },
    {
     "name": "stdout",
     "output_type": "stream",
     "text": [
      "produce: sent, response = RecordMetadata(topic='spectrum-utf', partition=0, topic_partition=TopicPartition(topic='spectrum-utf', partition=0), offset=150, timestamp=1644701777045, timestamp_type=0)\n"
     ]
    },
    {
     "name": "stderr",
     "output_type": "stream",
     "text": [
      "Unclosed AIOKafkaProducer\n",
      "producer: <aiokafka.producer.producer.AIOKafkaProducer object at 0x7fda77c3cbe0>\n"
     ]
    },
    {
     "name": "stdout",
     "output_type": "stream",
     "text": [
      "produce: sent, response = RecordMetadata(topic='spectrum-utf', partition=0, topic_partition=TopicPartition(topic='spectrum-utf', partition=0), offset=151, timestamp=1644701778794, timestamp_type=0)\n"
     ]
    },
    {
     "name": "stderr",
     "output_type": "stream",
     "text": [
      "Task was destroyed but it is pending!\n",
      "task: <Task pending name='Task-6072' coro=<Sender._sender_routine() running at /home/saifulkhan/CODE/SKA/streaming-vis-perf/broker/venv/lib/python3.9/site-packages/aiokafka/producer/sender.py:147> wait_for=<Future pending cb=[<TaskWakeupMethWrapper object at 0x7fda746ce910>()]> cb=[Sender._fail_all()]>\n",
      "Task was destroyed but it is pending!\n",
      "task: <Task pending name='Task-6082' coro=<Sender._sender_routine() running at /home/saifulkhan/CODE/SKA/streaming-vis-perf/broker/venv/lib/python3.9/site-packages/aiokafka/producer/sender.py:147> wait_for=<Future pending cb=[<TaskWakeupMethWrapper object at 0x7fda7495b4c0>()]> cb=[Sender._fail_all()]>\n",
      "Unclosed AIOKafkaProducer\n",
      "producer: <aiokafka.producer.producer.AIOKafkaProducer object at 0x7fda74c87430>\n"
     ]
    },
    {
     "name": "stdout",
     "output_type": "stream",
     "text": [
      "produce: sent, response = RecordMetadata(topic='spectrum-utf', partition=0, topic_partition=TopicPartition(topic='spectrum-utf', partition=0), offset=152, timestamp=1644701780907, timestamp_type=0)\n"
     ]
    },
    {
     "name": "stderr",
     "output_type": "stream",
     "text": [
      "Unclosed AIOKafkaProducer\n",
      "producer: <aiokafka.producer.producer.AIOKafkaProducer object at 0x7fda7748deb0>\n"
     ]
    },
    {
     "name": "stdout",
     "output_type": "stream",
     "text": [
      "produce: sent, response = RecordMetadata(topic='spectrum-utf', partition=0, topic_partition=TopicPartition(topic='spectrum-utf', partition=0), offset=153, timestamp=1644701783258, timestamp_type=0)\n"
     ]
    },
    {
     "name": "stderr",
     "output_type": "stream",
     "text": [
      "Unclosed AIOKafkaProducer\n",
      "producer: <aiokafka.producer.producer.AIOKafkaProducer object at 0x7fda77ff31c0>\n"
     ]
    },
    {
     "name": "stdout",
     "output_type": "stream",
     "text": [
      "produce: sent, response = RecordMetadata(topic='spectrum-utf', partition=0, topic_partition=TopicPartition(topic='spectrum-utf', partition=0), offset=154, timestamp=1644701785885, timestamp_type=0)\n"
     ]
    },
    {
     "name": "stderr",
     "output_type": "stream",
     "text": [
      "Task was destroyed but it is pending!\n",
      "task: <Task pending name='Task-6112' coro=<Sender._sender_routine() running at /home/saifulkhan/CODE/SKA/streaming-vis-perf/broker/venv/lib/python3.9/site-packages/aiokafka/producer/sender.py:147> wait_for=<Future pending cb=[<TaskWakeupMethWrapper object at 0x7fda7468bfd0>()]> cb=[Sender._fail_all()]>\n",
      "Unclosed AIOKafkaProducer\n",
      "producer: <aiokafka.producer.producer.AIOKafkaProducer object at 0x7fda746e2b20>\n"
     ]
    },
    {
     "name": "stdout",
     "output_type": "stream",
     "text": [
      "produce: sent, response = RecordMetadata(topic='spectrum-utf', partition=0, topic_partition=TopicPartition(topic='spectrum-utf', partition=0), offset=155, timestamp=1644701788783, timestamp_type=0)\n"
     ]
    },
    {
     "name": "stderr",
     "output_type": "stream",
     "text": [
      "Unclosed AIOKafkaProducer\n",
      "producer: <aiokafka.producer.producer.AIOKafkaProducer object at 0x7fda74bc89d0>\n"
     ]
    },
    {
     "name": "stdout",
     "output_type": "stream",
     "text": [
      "produce: sent, response = RecordMetadata(topic='spectrum-utf', partition=0, topic_partition=TopicPartition(topic='spectrum-utf', partition=0), offset=156, timestamp=1644701791947, timestamp_type=0)\n"
     ]
    },
    {
     "name": "stderr",
     "output_type": "stream",
     "text": [
      "Unclosed AIOKafkaProducer\n",
      "producer: <aiokafka.producer.producer.AIOKafkaProducer object at 0x7fda77ff31c0>\n"
     ]
    },
    {
     "name": "stdout",
     "output_type": "stream",
     "text": [
      "produce: sent, response = RecordMetadata(topic='spectrum-utf', partition=0, topic_partition=TopicPartition(topic='spectrum-utf', partition=0), offset=157, timestamp=1644701795405, timestamp_type=0)\n"
     ]
    },
    {
     "name": "stderr",
     "output_type": "stream",
     "text": [
      "Unclosed AIOKafkaProducer\n",
      "producer: <aiokafka.producer.producer.AIOKafkaProducer object at 0x7fda80b2a760>\n"
     ]
    },
    {
     "name": "stdout",
     "output_type": "stream",
     "text": [
      "produce: sent, response = RecordMetadata(topic='spectrum-utf', partition=0, topic_partition=TopicPartition(topic='spectrum-utf', partition=0), offset=158, timestamp=1644701799117, timestamp_type=0)\n"
     ]
    },
    {
     "name": "stderr",
     "output_type": "stream",
     "text": [
      "Unclosed AIOKafkaProducer\n",
      "producer: <aiokafka.producer.producer.AIOKafkaProducer object at 0x7fda77ff31c0>\n"
     ]
    },
    {
     "name": "stdout",
     "output_type": "stream",
     "text": [
      "produce: sent, response = RecordMetadata(topic='spectrum-utf', partition=0, topic_partition=TopicPartition(topic='spectrum-utf', partition=0), offset=159, timestamp=1644701803103, timestamp_type=0)\n"
     ]
    },
    {
     "name": "stderr",
     "output_type": "stream",
     "text": [
      "Unclosed AIOKafkaProducer\n",
      "producer: <aiokafka.producer.producer.AIOKafkaProducer object at 0x7fda7561c1c0>\n"
     ]
    },
    {
     "name": "stdout",
     "output_type": "stream",
     "text": [
      "produce: sent, response = RecordMetadata(topic='spectrum-utf', partition=0, topic_partition=TopicPartition(topic='spectrum-utf', partition=0), offset=160, timestamp=1644701807382, timestamp_type=0)\n"
     ]
    },
    {
     "name": "stderr",
     "output_type": "stream",
     "text": [
      "Unclosed AIOKafkaProducer\n",
      "producer: <aiokafka.producer.producer.AIOKafkaProducer object at 0x7fda80b2a760>\n"
     ]
    },
    {
     "name": "stdout",
     "output_type": "stream",
     "text": [
      "produce: sent, response = RecordMetadata(topic='spectrum-utf', partition=0, topic_partition=TopicPartition(topic='spectrum-utf', partition=0), offset=161, timestamp=1644701811936, timestamp_type=0)\n"
     ]
    },
    {
     "name": "stderr",
     "output_type": "stream",
     "text": [
      "Unclosed AIOKafkaProducer\n",
      "producer: <aiokafka.producer.producer.AIOKafkaProducer object at 0x7fda7561c1c0>\n"
     ]
    },
    {
     "name": "stdout",
     "output_type": "stream",
     "text": [
      "produce: sent, response = RecordMetadata(topic='spectrum-utf', partition=0, topic_partition=TopicPartition(topic='spectrum-utf', partition=0), offset=162, timestamp=1644701816757, timestamp_type=0)\n"
     ]
    },
    {
     "name": "stderr",
     "output_type": "stream",
     "text": [
      "Unclosed AIOKafkaProducer\n",
      "producer: <aiokafka.producer.producer.AIOKafkaProducer object at 0x7fda7561c1c0>\n"
     ]
    },
    {
     "name": "stdout",
     "output_type": "stream",
     "text": [
      "produce: sent, response = RecordMetadata(topic='spectrum-utf', partition=0, topic_partition=TopicPartition(topic='spectrum-utf', partition=0), offset=163, timestamp=1644701821869, timestamp_type=0)\n"
     ]
    },
    {
     "name": "stderr",
     "output_type": "stream",
     "text": [
      "Unclosed AIOKafkaProducer\n",
      "producer: <aiokafka.producer.producer.AIOKafkaProducer object at 0x7fda74433be0>\n"
     ]
    },
    {
     "name": "stdout",
     "output_type": "stream",
     "text": [
      "produce: sent, response = RecordMetadata(topic='spectrum-utf', partition=0, topic_partition=TopicPartition(topic='spectrum-utf', partition=0), offset=164, timestamp=1644701827278, timestamp_type=0)\n"
     ]
    },
    {
     "name": "stderr",
     "output_type": "stream",
     "text": [
      "Task was destroyed but it is pending!\n",
      "task: <Task pending name='Task-6062' coro=<Sender._sender_routine() running at /home/saifulkhan/CODE/SKA/streaming-vis-perf/broker/venv/lib/python3.9/site-packages/aiokafka/producer/sender.py:147> wait_for=<Future pending cb=[<TaskWakeupMethWrapper object at 0x7fda746ceb50>()]> cb=[Sender._fail_all()]>\n",
      "Task was destroyed but it is pending!\n",
      "task: <Task pending name='Task-6092' coro=<Sender._sender_routine() running at /home/saifulkhan/CODE/SKA/streaming-vis-perf/broker/venv/lib/python3.9/site-packages/aiokafka/producer/sender.py:147> wait_for=<Future pending cb=[<TaskWakeupMethWrapper object at 0x7fda804ae6a0>()]> cb=[Sender._fail_all()]>\n",
      "Task was destroyed but it is pending!\n",
      "task: <Task pending name='Task-6102' coro=<Sender._sender_routine() running at /home/saifulkhan/CODE/SKA/streaming-vis-perf/broker/venv/lib/python3.9/site-packages/aiokafka/producer/sender.py:147> wait_for=<Future pending cb=[<TaskWakeupMethWrapper object at 0x7fda762e3ee0>()]> cb=[Sender._fail_all()]>\n",
      "Task was destroyed but it is pending!\n",
      "task: <Task pending name='Task-6122' coro=<Sender._sender_routine() running at /home/saifulkhan/CODE/SKA/streaming-vis-perf/broker/venv/lib/python3.9/site-packages/aiokafka/producer/sender.py:147> wait_for=<Future pending cb=[<TaskWakeupMethWrapper object at 0x7fda73f98760>()]> cb=[Sender._fail_all()]>\n",
      "Task was destroyed but it is pending!\n",
      "task: <Task pending name='Task-6132' coro=<Sender._sender_routine() running at /home/saifulkhan/CODE/SKA/streaming-vis-perf/broker/venv/lib/python3.9/site-packages/aiokafka/producer/sender.py:147> wait_for=<Future pending cb=[<TaskWakeupMethWrapper object at 0x7fda73f986a0>()]> cb=[Sender._fail_all()]>\n",
      "Task was destroyed but it is pending!\n",
      "task: <Task pending name='Task-6142' coro=<Sender._sender_routine() running at /home/saifulkhan/CODE/SKA/streaming-vis-perf/broker/venv/lib/python3.9/site-packages/aiokafka/producer/sender.py:147> wait_for=<Future pending cb=[<TaskWakeupMethWrapper object at 0x7fda74bc8130>()]> cb=[Sender._fail_all()]>\n",
      "Task was destroyed but it is pending!\n",
      "task: <Task pending name='Task-6152' coro=<Sender._sender_routine() running at /home/saifulkhan/CODE/SKA/streaming-vis-perf/broker/venv/lib/python3.9/site-packages/aiokafka/producer/sender.py:147> wait_for=<Future pending cb=[<TaskWakeupMethWrapper object at 0x7fda77571610>()]> cb=[Sender._fail_all()]>\n",
      "Task was destroyed but it is pending!\n",
      "task: <Task pending name='Task-6162' coro=<Sender._sender_routine() running at /home/saifulkhan/CODE/SKA/streaming-vis-perf/broker/venv/lib/python3.9/site-packages/aiokafka/producer/sender.py:147> wait_for=<Future pending cb=[<TaskWakeupMethWrapper object at 0x7fda74fba820>()]> cb=[Sender._fail_all()]>\n",
      "Task was destroyed but it is pending!\n",
      "task: <Task pending name='Task-6172' coro=<Sender._sender_routine() running at /home/saifulkhan/CODE/SKA/streaming-vis-perf/broker/venv/lib/python3.9/site-packages/aiokafka/producer/sender.py:147> wait_for=<Future pending cb=[<TaskWakeupMethWrapper object at 0x7fda74fbaca0>()]> cb=[Sender._fail_all()]>\n",
      "Task was destroyed but it is pending!\n",
      "task: <Task pending name='Task-6182' coro=<Sender._sender_routine() running at /home/saifulkhan/CODE/SKA/streaming-vis-perf/broker/venv/lib/python3.9/site-packages/aiokafka/producer/sender.py:147> wait_for=<Future pending cb=[<TaskWakeupMethWrapper object at 0x7fda73c66490>()]> cb=[Sender._fail_all()]>\n",
      "Task was destroyed but it is pending!\n",
      "task: <Task pending name='Task-6192' coro=<Sender._sender_routine() running at /home/saifulkhan/CODE/SKA/streaming-vis-perf/broker/venv/lib/python3.9/site-packages/aiokafka/producer/sender.py:147> wait_for=<Future pending cb=[<TaskWakeupMethWrapper object at 0x7fda73c661f0>()]> cb=[Sender._fail_all()]>\n",
      "Task was destroyed but it is pending!\n",
      "task: <Task pending name='Task-6202' coro=<Sender._sender_routine() running at /home/saifulkhan/CODE/SKA/streaming-vis-perf/broker/venv/lib/python3.9/site-packages/aiokafka/producer/sender.py:147> wait_for=<Future pending cb=[<TaskWakeupMethWrapper object at 0x7fda73c66970>()]> cb=[Sender._fail_all()]>\n",
      "Task was destroyed but it is pending!\n",
      "task: <Task pending name='Task-6212' coro=<Sender._sender_routine() running at /home/saifulkhan/CODE/SKA/streaming-vis-perf/broker/venv/lib/python3.9/site-packages/aiokafka/producer/sender.py:147> wait_for=<Future pending cb=[<TaskWakeupMethWrapper object at 0x7fda75d78d30>()]> cb=[Sender._fail_all()]>\n"
     ]
    }
   ],
   "source": [
    "for d in utf_payloads:\n",
    "    sleep(1)\n",
    "    await produce(d, \"spectrum-utf\")\n"
   ]
  },
  {
   "cell_type": "markdown",
   "metadata": {},
   "source": [
    "#### Deserialisation Cost"
   ]
  },
  {
   "cell_type": "markdown",
   "metadata": {},
   "source": [
    "Send each Protobuf payload 10 times and collect decoding/deserialisation time."
   ]
  },
  {
   "cell_type": "code",
   "execution_count": 10,
   "metadata": {},
   "outputs": [],
   "source": [
    "num_iter = 10"
   ]
  },
  {
   "cell_type": "code",
   "execution_count": 6,
   "metadata": {},
   "outputs": [
    {
     "name": "stderr",
     "output_type": "stream",
     "text": [
      "Unclosed AIOKafkaProducer\n",
      "producer: <aiokafka.producer.producer.AIOKafkaProducer object at 0x7fe8be1b4fa0>\n"
     ]
    },
    {
     "name": "stdout",
     "output_type": "stream",
     "text": [
      "idx = 0, channels[idx] = 25000\n"
     ]
    },
    {
     "name": "stderr",
     "output_type": "stream",
     "text": [
      "Unclosed AIOKafkaProducer\n",
      "producer: <aiokafka.producer.producer.AIOKafkaProducer object at 0x7fe8be1b90d0>\n"
     ]
    },
    {
     "name": "stdout",
     "output_type": "stream",
     "text": [
      "idx = 0, channels[idx] = 25000\n"
     ]
    },
    {
     "name": "stderr",
     "output_type": "stream",
     "text": [
      "Unclosed AIOKafkaProducer\n",
      "producer: <aiokafka.producer.producer.AIOKafkaProducer object at 0x7fe8be1b9e80>\n"
     ]
    },
    {
     "name": "stdout",
     "output_type": "stream",
     "text": [
      "idx = 0, channels[idx] = 25000\n"
     ]
    },
    {
     "name": "stderr",
     "output_type": "stream",
     "text": [
      "Unclosed AIOKafkaProducer\n",
      "producer: <aiokafka.producer.producer.AIOKafkaProducer object at 0x7fe8be1b9e80>\n"
     ]
    },
    {
     "name": "stdout",
     "output_type": "stream",
     "text": [
      "idx = 0, channels[idx] = 25000\n"
     ]
    },
    {
     "name": "stderr",
     "output_type": "stream",
     "text": [
      "Task was destroyed but it is pending!\n",
      "task: <Task pending name='Task-53' coro=<Sender._sender_routine() running at /home/saifulkhan/CODE/SKA/streaming-vis-perf/broker/venv/lib/python3.9/site-packages/aiokafka/producer/sender.py:147> wait_for=<Future pending cb=[<TaskWakeupMethWrapper object at 0x7fe8be1b9910>()]> cb=[Sender._fail_all()]>\n",
      "Task was destroyed but it is pending!\n",
      "task: <Task pending name='Task-63' coro=<Sender._sender_routine() running at /home/saifulkhan/CODE/SKA/streaming-vis-perf/broker/venv/lib/python3.9/site-packages/aiokafka/producer/sender.py:147> wait_for=<Future pending cb=[<TaskWakeupMethWrapper object at 0x7fe8be1b9310>()]> cb=[Sender._fail_all()]>\n",
      "Task was destroyed but it is pending!\n",
      "task: <Task pending name='Task-73' coro=<Sender._sender_routine() running at /home/saifulkhan/CODE/SKA/streaming-vis-perf/broker/venv/lib/python3.9/site-packages/aiokafka/producer/sender.py:147> wait_for=<Future pending cb=[<TaskWakeupMethWrapper object at 0x7fe8be1b9cd0>()]> cb=[Sender._fail_all()]>\n",
      "Task was destroyed but it is pending!\n",
      "task: <Task pending name='Task-83' coro=<Sender._sender_routine() running at /home/saifulkhan/CODE/SKA/streaming-vis-perf/broker/venv/lib/python3.9/site-packages/aiokafka/producer/sender.py:147> wait_for=<Future pending cb=[<TaskWakeupMethWrapper object at 0x7fe8be186220>()]> cb=[Sender._fail_all()]>\n",
      "Unclosed AIOKafkaProducer\n",
      "producer: <aiokafka.producer.producer.AIOKafkaProducer object at 0x7fe8be186910>\n"
     ]
    },
    {
     "name": "stdout",
     "output_type": "stream",
     "text": [
      "idx = 0, channels[idx] = 25000\n"
     ]
    },
    {
     "name": "stderr",
     "output_type": "stream",
     "text": [
      "Task was destroyed but it is pending!\n",
      "task: <Task pending name='Task-93' coro=<Sender._sender_routine() done, defined at /home/saifulkhan/CODE/SKA/streaming-vis-perf/broker/venv/lib/python3.9/site-packages/aiokafka/producer/sender.py:81> wait_for=<Future pending cb=[<TaskWakeupMethWrapper object at 0x7fe8be186cd0>()]> cb=[Sender._fail_all()]>\n",
      "Unclosed AIOKafkaProducer\n",
      "producer: <aiokafka.producer.producer.AIOKafkaProducer object at 0x7fe8be186670>\n"
     ]
    },
    {
     "name": "stdout",
     "output_type": "stream",
     "text": [
      "idx = 0, channels[idx] = 25000\n"
     ]
    },
    {
     "name": "stderr",
     "output_type": "stream",
     "text": [
      "Unclosed AIOKafkaProducer\n",
      "producer: <aiokafka.producer.producer.AIOKafkaProducer object at 0x7fe8c3eb00a0>\n"
     ]
    },
    {
     "name": "stdout",
     "output_type": "stream",
     "text": [
      "idx = 0, channels[idx] = 25000\n"
     ]
    },
    {
     "name": "stderr",
     "output_type": "stream",
     "text": [
      "Unclosed AIOKafkaProducer\n",
      "producer: <aiokafka.producer.producer.AIOKafkaProducer object at 0x7fe8bf0f4850>\n"
     ]
    },
    {
     "name": "stdout",
     "output_type": "stream",
     "text": [
      "idx = 0, channels[idx] = 25000\n"
     ]
    },
    {
     "name": "stderr",
     "output_type": "stream",
     "text": [
      "Unclosed AIOKafkaProducer\n",
      "producer: <aiokafka.producer.producer.AIOKafkaProducer object at 0x7fe8be21d8e0>\n"
     ]
    },
    {
     "name": "stdout",
     "output_type": "stream",
     "text": [
      "idx = 0, channels[idx] = 25000\n"
     ]
    },
    {
     "name": "stderr",
     "output_type": "stream",
     "text": [
      "Task was destroyed but it is pending!\n",
      "task: <Task pending name='Task-113' coro=<Sender._sender_routine() running at /home/saifulkhan/CODE/SKA/streaming-vis-perf/broker/venv/lib/python3.9/site-packages/aiokafka/producer/sender.py:147> wait_for=<Future pending cb=[<TaskWakeupMethWrapper object at 0x7fe8bedc3b20>()]> cb=[Sender._fail_all()]>\n",
      "Task was destroyed but it is pending!\n",
      "task: <Task pending name='Task-123' coro=<Sender._sender_routine() running at /home/saifulkhan/CODE/SKA/streaming-vis-perf/broker/venv/lib/python3.9/site-packages/aiokafka/producer/sender.py:147> wait_for=<Future pending cb=[<TaskWakeupMethWrapper object at 0x7fe8be221670>()]> cb=[Sender._fail_all()]>\n",
      "Task was destroyed but it is pending!\n",
      "task: <Task pending name='Task-133' coro=<Sender._sender_routine() done, defined at /home/saifulkhan/CODE/SKA/streaming-vis-perf/broker/venv/lib/python3.9/site-packages/aiokafka/producer/sender.py:81> wait_for=<Future pending cb=[<TaskWakeupMethWrapper object at 0x7fe8bf146c40>()]> cb=[Sender._fail_all()]>\n",
      "Unclosed AIOKafkaProducer\n",
      "producer: <aiokafka.producer.producer.AIOKafkaProducer object at 0x7fe8c1da9760>\n"
     ]
    },
    {
     "name": "stdout",
     "output_type": "stream",
     "text": [
      "idx = 0, channels[idx] = 25000\n"
     ]
    },
    {
     "name": "stderr",
     "output_type": "stream",
     "text": [
      "Unclosed AIOKafkaProducer\n",
      "producer: <aiokafka.producer.producer.AIOKafkaProducer object at 0x7fe8c1cbb700>\n"
     ]
    },
    {
     "name": "stdout",
     "output_type": "stream",
     "text": [
      "idx = 1, channels[idx] = 50000\n"
     ]
    },
    {
     "name": "stderr",
     "output_type": "stream",
     "text": [
      "Unclosed AIOKafkaProducer\n",
      "producer: <aiokafka.producer.producer.AIOKafkaProducer object at 0x7fe8be1e7400>\n"
     ]
    },
    {
     "name": "stdout",
     "output_type": "stream",
     "text": [
      "idx = 1, channels[idx] = 50000\n"
     ]
    },
    {
     "name": "stderr",
     "output_type": "stream",
     "text": [
      "Unclosed AIOKafkaProducer\n",
      "producer: <aiokafka.producer.producer.AIOKafkaProducer object at 0x7fe8bf13f9a0>\n"
     ]
    },
    {
     "name": "stdout",
     "output_type": "stream",
     "text": [
      "idx = 1, channels[idx] = 50000\n"
     ]
    },
    {
     "name": "stderr",
     "output_type": "stream",
     "text": [
      "Task was destroyed but it is pending!\n",
      "task: <Task pending name='Task-153' coro=<Sender._sender_routine() running at /home/saifulkhan/CODE/SKA/streaming-vis-perf/broker/venv/lib/python3.9/site-packages/aiokafka/producer/sender.py:147> wait_for=<Future pending cb=[<TaskWakeupMethWrapper object at 0x7fe8be206f10>()]> cb=[Sender._fail_all()]>\n",
      "Task was destroyed but it is pending!\n",
      "task: <Task pending name='Task-163' coro=<Sender._sender_routine() running at /home/saifulkhan/CODE/SKA/streaming-vis-perf/broker/venv/lib/python3.9/site-packages/aiokafka/producer/sender.py:147> wait_for=<Future pending cb=[<TaskWakeupMethWrapper object at 0x7fe8bee12b50>()]> cb=[Sender._fail_all()]>\n",
      "Task was destroyed but it is pending!\n",
      "task: <Task pending name='Task-173' coro=<Sender._sender_routine() running at /home/saifulkhan/CODE/SKA/streaming-vis-perf/broker/venv/lib/python3.9/site-packages/aiokafka/producer/sender.py:147> wait_for=<Future pending cb=[<TaskWakeupMethWrapper object at 0x7fe8bee54040>()]> cb=[Sender._fail_all()]>\n",
      "Unclosed AIOKafkaProducer\n",
      "producer: <aiokafka.producer.producer.AIOKafkaProducer object at 0x7fe8bee54280>\n"
     ]
    },
    {
     "name": "stdout",
     "output_type": "stream",
     "text": [
      "idx = 1, channels[idx] = 50000\n"
     ]
    },
    {
     "name": "stderr",
     "output_type": "stream",
     "text": [
      "Unclosed AIOKafkaProducer\n",
      "producer: <aiokafka.producer.producer.AIOKafkaProducer object at 0x7fe8f2f44730>\n"
     ]
    },
    {
     "name": "stdout",
     "output_type": "stream",
     "text": [
      "idx = 1, channels[idx] = 50000\n"
     ]
    },
    {
     "name": "stderr",
     "output_type": "stream",
     "text": [
      "Unclosed AIOKafkaProducer\n",
      "producer: <aiokafka.producer.producer.AIOKafkaProducer object at 0x7fe8bf084d60>\n"
     ]
    },
    {
     "name": "stdout",
     "output_type": "stream",
     "text": [
      "idx = 1, channels[idx] = 50000\n"
     ]
    },
    {
     "name": "stderr",
     "output_type": "stream",
     "text": [
      "Unclosed AIOKafkaProducer\n",
      "producer: <aiokafka.producer.producer.AIOKafkaProducer object at 0x7fe8be206f10>\n"
     ]
    },
    {
     "name": "stdout",
     "output_type": "stream",
     "text": [
      "idx = 1, channels[idx] = 50000\n"
     ]
    },
    {
     "name": "stderr",
     "output_type": "stream",
     "text": [
      "Unclosed AIOKafkaProducer\n",
      "producer: <aiokafka.producer.producer.AIOKafkaProducer object at 0x7fe8be21b850>\n"
     ]
    },
    {
     "name": "stdout",
     "output_type": "stream",
     "text": [
      "idx = 1, channels[idx] = 50000\n"
     ]
    },
    {
     "name": "stderr",
     "output_type": "stream",
     "text": [
      "Task was destroyed but it is pending!\n",
      "task: <Task pending name='Task-193' coro=<Sender._sender_routine() running at /home/saifulkhan/CODE/SKA/streaming-vis-perf/broker/venv/lib/python3.9/site-packages/aiokafka/producer/sender.py:147> wait_for=<Future pending cb=[<TaskWakeupMethWrapper object at 0x7fe8bf084af0>()]> cb=[Sender._fail_all()]>\n",
      "Task was destroyed but it is pending!\n",
      "task: <Task pending name='Task-203' coro=<Sender._sender_routine() running at /home/saifulkhan/CODE/SKA/streaming-vis-perf/broker/venv/lib/python3.9/site-packages/aiokafka/producer/sender.py:147> wait_for=<Future pending cb=[<TaskWakeupMethWrapper object at 0x7fe8bf084d30>()]> cb=[Sender._fail_all()]>\n",
      "Task was destroyed but it is pending!\n",
      "task: <Task pending name='Task-213' coro=<Sender._sender_routine() running at /home/saifulkhan/CODE/SKA/streaming-vis-perf/broker/venv/lib/python3.9/site-packages/aiokafka/producer/sender.py:147> wait_for=<Future pending cb=[<TaskWakeupMethWrapper object at 0x7fe8be21bc10>()]> cb=[Sender._fail_all()]>\n",
      "Task was destroyed but it is pending!\n",
      "task: <Task pending name='Task-223' coro=<Sender._sender_routine() done, defined at /home/saifulkhan/CODE/SKA/streaming-vis-perf/broker/venv/lib/python3.9/site-packages/aiokafka/producer/sender.py:81> wait_for=<Future pending cb=[<TaskWakeupMethWrapper object at 0x7fe8be1b9790>()]> cb=[Sender._fail_all()]>\n",
      "Unclosed AIOKafkaProducer\n",
      "producer: <aiokafka.producer.producer.AIOKafkaProducer object at 0x7fe8be1b99a0>\n"
     ]
    },
    {
     "name": "stdout",
     "output_type": "stream",
     "text": [
      "idx = 1, channels[idx] = 50000\n"
     ]
    },
    {
     "name": "stderr",
     "output_type": "stream",
     "text": [
      "Unclosed AIOKafkaProducer\n",
      "producer: <aiokafka.producer.producer.AIOKafkaProducer object at 0x7fe8be21b610>\n"
     ]
    },
    {
     "name": "stdout",
     "output_type": "stream",
     "text": [
      "idx = 1, channels[idx] = 50000\n"
     ]
    },
    {
     "name": "stderr",
     "output_type": "stream",
     "text": [
      "Unclosed AIOKafkaProducer\n",
      "producer: <aiokafka.producer.producer.AIOKafkaProducer object at 0x7fe8bdf714c0>\n"
     ]
    },
    {
     "name": "stdout",
     "output_type": "stream",
     "text": [
      "idx = 2, channels[idx] = 75000\n"
     ]
    },
    {
     "name": "stderr",
     "output_type": "stream",
     "text": [
      "Unclosed AIOKafkaProducer\n",
      "producer: <aiokafka.producer.producer.AIOKafkaProducer object at 0x7fe8bdf71880>\n"
     ]
    },
    {
     "name": "stdout",
     "output_type": "stream",
     "text": [
      "idx = 2, channels[idx] = 75000\n"
     ]
    },
    {
     "name": "stderr",
     "output_type": "stream",
     "text": [
      "Unclosed AIOKafkaProducer\n",
      "producer: <aiokafka.producer.producer.AIOKafkaProducer object at 0x7fe8bdf711c0>\n"
     ]
    },
    {
     "name": "stdout",
     "output_type": "stream",
     "text": [
      "idx = 2, channels[idx] = 75000\n"
     ]
    },
    {
     "name": "stderr",
     "output_type": "stream",
     "text": [
      "Task was destroyed but it is pending!\n",
      "task: <Task pending name='Task-243' coro=<Sender._sender_routine() running at /home/saifulkhan/CODE/SKA/streaming-vis-perf/broker/venv/lib/python3.9/site-packages/aiokafka/producer/sender.py:147> wait_for=<Future pending cb=[<TaskWakeupMethWrapper object at 0x7fe8be1b97f0>()]> cb=[Sender._fail_all()]>\n",
      "Task was destroyed but it is pending!\n",
      "task: <Task pending name='Task-253' coro=<Sender._sender_routine() running at /home/saifulkhan/CODE/SKA/streaming-vis-perf/broker/venv/lib/python3.9/site-packages/aiokafka/producer/sender.py:147> wait_for=<Future pending cb=[<TaskWakeupMethWrapper object at 0x7fe8bdf71040>()]> cb=[Sender._fail_all()]>\n",
      "Task was destroyed but it is pending!\n",
      "task: <Task pending name='Task-263' coro=<Sender._sender_routine() running at /home/saifulkhan/CODE/SKA/streaming-vis-perf/broker/venv/lib/python3.9/site-packages/aiokafka/producer/sender.py:147> wait_for=<Future pending cb=[<TaskWakeupMethWrapper object at 0x7fe8bdf71f70>()]> cb=[Sender._fail_all()]>\n",
      "Task was destroyed but it is pending!\n",
      "task: <Task pending name='Task-273' coro=<Sender._sender_routine() done, defined at /home/saifulkhan/CODE/SKA/streaming-vis-perf/broker/venv/lib/python3.9/site-packages/aiokafka/producer/sender.py:81> wait_for=<Future pending cb=[<TaskWakeupMethWrapper object at 0x7fe8bdef5040>()]> cb=[Sender._fail_all()]>\n"
     ]
    },
    {
     "name": "stdout",
     "output_type": "stream",
     "text": [
      "idx = 2, channels[idx] = 75000\n"
     ]
    },
    {
     "name": "stderr",
     "output_type": "stream",
     "text": [
      "Unclosed AIOKafkaProducer\n",
      "producer: <aiokafka.producer.producer.AIOKafkaProducer object at 0x7fe8bdf711c0>\n",
      "Unclosed AIOKafkaProducer\n",
      "producer: <aiokafka.producer.producer.AIOKafkaProducer object at 0x7fe8bdf71040>\n"
     ]
    },
    {
     "name": "stdout",
     "output_type": "stream",
     "text": [
      "idx = 2, channels[idx] = 75000\n"
     ]
    },
    {
     "name": "stderr",
     "output_type": "stream",
     "text": [
      "Unclosed AIOKafkaProducer\n",
      "producer: <aiokafka.producer.producer.AIOKafkaProducer object at 0x7fe8bdf71bb0>\n"
     ]
    },
    {
     "name": "stdout",
     "output_type": "stream",
     "text": [
      "idx = 2, channels[idx] = 75000\n",
      "idx = 2, channels[idx] = 75000\n"
     ]
    },
    {
     "name": "stderr",
     "output_type": "stream",
     "text": [
      "Unclosed AIOKafkaProducer\n",
      "producer: <aiokafka.producer.producer.AIOKafkaProducer object at 0x7fe8bdf71040>\n",
      "Task was destroyed but it is pending!\n",
      "task: <Task pending name='Task-293' coro=<Sender._sender_routine() running at /home/saifulkhan/CODE/SKA/streaming-vis-perf/broker/venv/lib/python3.9/site-packages/aiokafka/producer/sender.py:147> wait_for=<Future pending cb=[<TaskWakeupMethWrapper object at 0x7fe8bdef5040>()]> cb=[Sender._fail_all()]>\n",
      "Task was destroyed but it is pending!\n",
      "task: <Task pending name='Task-303' coro=<Sender._sender_routine() running at /home/saifulkhan/CODE/SKA/streaming-vis-perf/broker/venv/lib/python3.9/site-packages/aiokafka/producer/sender.py:147> wait_for=<Future pending cb=[<TaskWakeupMethWrapper object at 0x7fe8bdef5dc0>()]> cb=[Sender._fail_all()]>\n",
      "Task was destroyed but it is pending!\n",
      "task: <Task pending name='Task-313' coro=<Sender._sender_routine() running at /home/saifulkhan/CODE/SKA/streaming-vis-perf/broker/venv/lib/python3.9/site-packages/aiokafka/producer/sender.py:147> wait_for=<Future pending cb=[<TaskWakeupMethWrapper object at 0x7fe8bdeac2e0>()]> cb=[Sender._fail_all()]>\n",
      "Unclosed AIOKafkaProducer\n",
      "producer: <aiokafka.producer.producer.AIOKafkaProducer object at 0x7fe8bdeac7f0>\n"
     ]
    },
    {
     "name": "stdout",
     "output_type": "stream",
     "text": [
      "idx = 2, channels[idx] = 75000\n"
     ]
    },
    {
     "name": "stderr",
     "output_type": "stream",
     "text": [
      "Unclosed AIOKafkaProducer\n",
      "producer: <aiokafka.producer.producer.AIOKafkaProducer object at 0x7fe8bdeace50>\n"
     ]
    },
    {
     "name": "stdout",
     "output_type": "stream",
     "text": [
      "idx = 2, channels[idx] = 75000\n"
     ]
    },
    {
     "name": "stderr",
     "output_type": "stream",
     "text": [
      "Unclosed AIOKafkaProducer\n",
      "producer: <aiokafka.producer.producer.AIOKafkaProducer object at 0x7fe8bdeac7f0>\n"
     ]
    },
    {
     "name": "stdout",
     "output_type": "stream",
     "text": [
      "idx = 2, channels[idx] = 75000\n",
      "idx = 3, channels[idx] = 100000\n"
     ]
    },
    {
     "name": "stderr",
     "output_type": "stream",
     "text": [
      "Unclosed AIOKafkaProducer\n",
      "producer: <aiokafka.producer.producer.AIOKafkaProducer object at 0x7fe8bde46850>\n"
     ]
    },
    {
     "name": "stdout",
     "output_type": "stream",
     "text": [
      "idx = 3, channels[idx] = 100000\n"
     ]
    },
    {
     "name": "stderr",
     "output_type": "stream",
     "text": [
      "Unclosed AIOKafkaProducer\n",
      "producer: <aiokafka.producer.producer.AIOKafkaProducer object at 0x7fe8bde46130>\n",
      "Task was destroyed but it is pending!\n",
      "task: <Task pending name='Task-333' coro=<Sender._sender_routine() running at /home/saifulkhan/CODE/SKA/streaming-vis-perf/broker/venv/lib/python3.9/site-packages/aiokafka/producer/sender.py:147> wait_for=<Future pending cb=[<TaskWakeupMethWrapper object at 0x7fe8bdef5850>()]> cb=[Sender._fail_all()]>\n",
      "Task was destroyed but it is pending!\n",
      "task: <Task pending name='Task-343' coro=<Sender._sender_routine() running at /home/saifulkhan/CODE/SKA/streaming-vis-perf/broker/venv/lib/python3.9/site-packages/aiokafka/producer/sender.py:147> wait_for=<Future pending cb=[<TaskWakeupMethWrapper object at 0x7fe8bde463d0>()]> cb=[Sender._fail_all()]>\n",
      "Task was destroyed but it is pending!\n",
      "task: <Task pending name='Task-353' coro=<Sender._sender_routine() running at /home/saifulkhan/CODE/SKA/streaming-vis-perf/broker/venv/lib/python3.9/site-packages/aiokafka/producer/sender.py:147> wait_for=<Future pending cb=[<TaskWakeupMethWrapper object at 0x7fe8bde462e0>()]> cb=[Sender._fail_all()]>\n",
      "Task was destroyed but it is pending!\n",
      "task: <Task pending name='Task-363' coro=<Sender._sender_routine() done, defined at /home/saifulkhan/CODE/SKA/streaming-vis-perf/broker/venv/lib/python3.9/site-packages/aiokafka/producer/sender.py:81> wait_for=<Future pending cb=[<TaskWakeupMethWrapper object at 0x7fe8bddb1250>()]> cb=[Sender._fail_all()]>\n",
      "Unclosed AIOKafkaProducer\n",
      "producer: <aiokafka.producer.producer.AIOKafkaProducer object at 0x7fe8bddb1700>\n"
     ]
    },
    {
     "name": "stdout",
     "output_type": "stream",
     "text": [
      "idx = 3, channels[idx] = 100000\n",
      "idx = 3, channels[idx] = 100000\n"
     ]
    },
    {
     "name": "stderr",
     "output_type": "stream",
     "text": [
      "Unclosed AIOKafkaProducer\n",
      "producer: <aiokafka.producer.producer.AIOKafkaProducer object at 0x7fe8bde469d0>\n"
     ]
    },
    {
     "name": "stdout",
     "output_type": "stream",
     "text": [
      "idx = 3, channels[idx] = 100000\n"
     ]
    },
    {
     "name": "stderr",
     "output_type": "stream",
     "text": [
      "Unclosed AIOKafkaProducer\n",
      "producer: <aiokafka.producer.producer.AIOKafkaProducer object at 0x7fe8bddb1400>\n",
      "Unclosed AIOKafkaProducer\n",
      "producer: <aiokafka.producer.producer.AIOKafkaProducer object at 0x7fe8bddbd490>\n"
     ]
    },
    {
     "name": "stdout",
     "output_type": "stream",
     "text": [
      "idx = 3, channels[idx] = 100000\n"
     ]
    },
    {
     "name": "stderr",
     "output_type": "stream",
     "text": [
      "Task was destroyed but it is pending!\n",
      "task: <Task pending name='Task-383' coro=<Sender._sender_routine() running at /home/saifulkhan/CODE/SKA/streaming-vis-perf/broker/venv/lib/python3.9/site-packages/aiokafka/producer/sender.py:147> wait_for=<Future pending cb=[<TaskWakeupMethWrapper object at 0x7fe8bddb17c0>()]> cb=[Sender._fail_all()]>\n",
      "Task was destroyed but it is pending!\n",
      "task: <Task pending name='Task-393' coro=<Sender._sender_routine() running at /home/saifulkhan/CODE/SKA/streaming-vis-perf/broker/venv/lib/python3.9/site-packages/aiokafka/producer/sender.py:147> wait_for=<Future pending cb=[<TaskWakeupMethWrapper object at 0x7fe8bddb1c10>()]> cb=[Sender._fail_all()]>\n",
      "Task was destroyed but it is pending!\n",
      "task: <Task pending name='Task-403' coro=<Sender._sender_routine() running at /home/saifulkhan/CODE/SKA/streaming-vis-perf/broker/venv/lib/python3.9/site-packages/aiokafka/producer/sender.py:147> wait_for=<Future pending cb=[<TaskWakeupMethWrapper object at 0x7fe8bddbd040>()]> cb=[Sender._fail_all()]>\n"
     ]
    },
    {
     "name": "stdout",
     "output_type": "stream",
     "text": [
      "idx = 3, channels[idx] = 100000\n"
     ]
    },
    {
     "name": "stderr",
     "output_type": "stream",
     "text": [
      "Unclosed AIOKafkaProducer\n",
      "producer: <aiokafka.producer.producer.AIOKafkaProducer object at 0x7fe8bddbd850>\n"
     ]
    },
    {
     "name": "stdout",
     "output_type": "stream",
     "text": [
      "idx = 3, channels[idx] = 100000\n"
     ]
    },
    {
     "name": "stderr",
     "output_type": "stream",
     "text": [
      "Unclosed AIOKafkaProducer\n",
      "producer: <aiokafka.producer.producer.AIOKafkaProducer object at 0x7fe8bddbdca0>\n"
     ]
    },
    {
     "name": "stdout",
     "output_type": "stream",
     "text": [
      "idx = 3, channels[idx] = 100000\n"
     ]
    },
    {
     "name": "stderr",
     "output_type": "stream",
     "text": [
      "Unclosed AIOKafkaProducer\n",
      "producer: <aiokafka.producer.producer.AIOKafkaProducer object at 0x7fe8bddbdb20>\n",
      "Unclosed AIOKafkaProducer\n",
      "producer: <aiokafka.producer.producer.AIOKafkaProducer object at 0x7fe8bdd03190>\n"
     ]
    },
    {
     "name": "stdout",
     "output_type": "stream",
     "text": [
      "idx = 3, channels[idx] = 100000\n",
      "idx = 4, channels[idx] = 125000\n"
     ]
    },
    {
     "name": "stderr",
     "output_type": "stream",
     "text": [
      "Unclosed AIOKafkaProducer\n",
      "producer: <aiokafka.producer.producer.AIOKafkaProducer object at 0x7fe8bddbdb20>\n",
      "Task was destroyed but it is pending!\n",
      "task: <Task pending name='Task-423' coro=<Sender._sender_routine() running at /home/saifulkhan/CODE/SKA/streaming-vis-perf/broker/venv/lib/python3.9/site-packages/aiokafka/producer/sender.py:147> wait_for=<Future pending cb=[<TaskWakeupMethWrapper object at 0x7fe8bddb1250>()]> cb=[Sender._fail_all()]>\n",
      "Task was destroyed but it is pending!\n",
      "task: <Task pending name='Task-433' coro=<Sender._sender_routine() running at /home/saifulkhan/CODE/SKA/streaming-vis-perf/broker/venv/lib/python3.9/site-packages/aiokafka/producer/sender.py:147> wait_for=<Future pending cb=[<TaskWakeupMethWrapper object at 0x7fe8bdd03820>()]> cb=[Sender._fail_all()]>\n",
      "Task was destroyed but it is pending!\n",
      "task: <Task pending name='Task-443' coro=<Sender._sender_routine() running at /home/saifulkhan/CODE/SKA/streaming-vis-perf/broker/venv/lib/python3.9/site-packages/aiokafka/producer/sender.py:147> wait_for=<Future pending cb=[<TaskWakeupMethWrapper object at 0x7fe8bdd03400>()]> cb=[Sender._fail_all()]>\n",
      "Task was destroyed but it is pending!\n",
      "task: <Task pending name='Task-453' coro=<Sender._sender_routine() done, defined at /home/saifulkhan/CODE/SKA/streaming-vis-perf/broker/venv/lib/python3.9/site-packages/aiokafka/producer/sender.py:81> wait_for=<Future pending cb=[<TaskWakeupMethWrapper object at 0x7fe8bdc6d250>()]> cb=[Sender._fail_all()]>\n"
     ]
    },
    {
     "name": "stdout",
     "output_type": "stream",
     "text": [
      "idx = 4, channels[idx] = 125000\n"
     ]
    },
    {
     "name": "stderr",
     "output_type": "stream",
     "text": [
      "Unclosed AIOKafkaProducer\n",
      "producer: <aiokafka.producer.producer.AIOKafkaProducer object at 0x7fe8bdd03a90>\n"
     ]
    },
    {
     "name": "stdout",
     "output_type": "stream",
     "text": [
      "idx = 4, channels[idx] = 125000\n"
     ]
    },
    {
     "name": "stderr",
     "output_type": "stream",
     "text": [
      "Unclosed AIOKafkaProducer\n",
      "producer: <aiokafka.producer.producer.AIOKafkaProducer object at 0x7fe8bdd03a60>\n"
     ]
    },
    {
     "name": "stdout",
     "output_type": "stream",
     "text": [
      "idx = 4, channels[idx] = 125000\n"
     ]
    },
    {
     "name": "stderr",
     "output_type": "stream",
     "text": [
      "Unclosed AIOKafkaProducer\n",
      "producer: <aiokafka.producer.producer.AIOKafkaProducer object at 0x7fe8bdc6d1f0>\n"
     ]
    },
    {
     "name": "stdout",
     "output_type": "stream",
     "text": [
      "idx = 4, channels[idx] = 125000\n"
     ]
    },
    {
     "name": "stderr",
     "output_type": "stream",
     "text": [
      "Unclosed AIOKafkaProducer\n",
      "producer: <aiokafka.producer.producer.AIOKafkaProducer object at 0x7fe8bdc6dcd0>\n",
      "Task was destroyed but it is pending!\n",
      "task: <Task pending name='Task-473' coro=<Sender._sender_routine() running at /home/saifulkhan/CODE/SKA/streaming-vis-perf/broker/venv/lib/python3.9/site-packages/aiokafka/producer/sender.py:147> wait_for=<Future pending cb=[<TaskWakeupMethWrapper object at 0x7fe8bdc6d070>()]> cb=[Sender._fail_all()]>\n",
      "Task was destroyed but it is pending!\n",
      "task: <Task pending name='Task-483' coro=<Sender._sender_routine() running at /home/saifulkhan/CODE/SKA/streaming-vis-perf/broker/venv/lib/python3.9/site-packages/aiokafka/producer/sender.py:147> wait_for=<Future pending cb=[<TaskWakeupMethWrapper object at 0x7fe8bdc6d340>()]> cb=[Sender._fail_all()]>\n",
      "Task was destroyed but it is pending!\n",
      "task: <Task pending name='Task-493' coro=<Sender._sender_routine() running at /home/saifulkhan/CODE/SKA/streaming-vis-perf/broker/venv/lib/python3.9/site-packages/aiokafka/producer/sender.py:147> wait_for=<Future pending cb=[<TaskWakeupMethWrapper object at 0x7fe8bdbfb220>()]> cb=[Sender._fail_all()]>\n"
     ]
    },
    {
     "name": "stdout",
     "output_type": "stream",
     "text": [
      "idx = 4, channels[idx] = 125000\n"
     ]
    },
    {
     "name": "stderr",
     "output_type": "stream",
     "text": [
      "Unclosed AIOKafkaProducer\n",
      "producer: <aiokafka.producer.producer.AIOKafkaProducer object at 0x7fe8bdbfb910>\n"
     ]
    },
    {
     "name": "stdout",
     "output_type": "stream",
     "text": [
      "idx = 4, channels[idx] = 125000\n"
     ]
    },
    {
     "name": "stderr",
     "output_type": "stream",
     "text": [
      "Unclosed AIOKafkaProducer\n",
      "producer: <aiokafka.producer.producer.AIOKafkaProducer object at 0x7fe8bdbfb190>\n"
     ]
    },
    {
     "name": "stdout",
     "output_type": "stream",
     "text": [
      "idx = 4, channels[idx] = 125000\n"
     ]
    },
    {
     "name": "stderr",
     "output_type": "stream",
     "text": [
      "Unclosed AIOKafkaProducer\n",
      "producer: <aiokafka.producer.producer.AIOKafkaProducer object at 0x7fe8bdbfb370>\n"
     ]
    },
    {
     "name": "stdout",
     "output_type": "stream",
     "text": [
      "idx = 4, channels[idx] = 125000\n"
     ]
    },
    {
     "name": "stderr",
     "output_type": "stream",
     "text": [
      "Unclosed AIOKafkaProducer\n",
      "producer: <aiokafka.producer.producer.AIOKafkaProducer object at 0x7fe8bdbc8250>\n"
     ]
    },
    {
     "name": "stdout",
     "output_type": "stream",
     "text": [
      "idx = 4, channels[idx] = 125000\n"
     ]
    },
    {
     "name": "stderr",
     "output_type": "stream",
     "text": [
      "Unclosed AIOKafkaProducer\n",
      "producer: <aiokafka.producer.producer.AIOKafkaProducer object at 0x7fe8bdbc80a0>\n",
      "Task was destroyed but it is pending!\n",
      "task: <Task pending name='Task-513' coro=<Sender._sender_routine() running at /home/saifulkhan/CODE/SKA/streaming-vis-perf/broker/venv/lib/python3.9/site-packages/aiokafka/producer/sender.py:147> wait_for=<Future pending cb=[<TaskWakeupMethWrapper object at 0x7fe8bdc6dcd0>()]> cb=[Sender._fail_all()]>\n",
      "Task was destroyed but it is pending!\n",
      "task: <Task pending name='Task-523' coro=<Sender._sender_routine() running at /home/saifulkhan/CODE/SKA/streaming-vis-perf/broker/venv/lib/python3.9/site-packages/aiokafka/producer/sender.py:147> wait_for=<Future pending cb=[<TaskWakeupMethWrapper object at 0x7fe8bdbc85b0>()]> cb=[Sender._fail_all()]>\n",
      "Task was destroyed but it is pending!\n",
      "task: <Task pending name='Task-533' coro=<Sender._sender_routine() running at /home/saifulkhan/CODE/SKA/streaming-vis-perf/broker/venv/lib/python3.9/site-packages/aiokafka/producer/sender.py:147> wait_for=<Future pending cb=[<TaskWakeupMethWrapper object at 0x7fe8bdbc81f0>()]> cb=[Sender._fail_all()]>\n",
      "Task was destroyed but it is pending!\n",
      "task: <Task pending name='Task-543' coro=<Sender._sender_routine() done, defined at /home/saifulkhan/CODE/SKA/streaming-vis-perf/broker/venv/lib/python3.9/site-packages/aiokafka/producer/sender.py:81> wait_for=<Future pending cb=[<TaskWakeupMethWrapper object at 0x7fe8bdbc8ca0>()]> cb=[Sender._fail_all()]>\n"
     ]
    },
    {
     "name": "stdout",
     "output_type": "stream",
     "text": [
      "idx = 5, channels[idx] = 150000\n"
     ]
    },
    {
     "name": "stderr",
     "output_type": "stream",
     "text": [
      "Unclosed AIOKafkaProducer\n",
      "producer: <aiokafka.producer.producer.AIOKafkaProducer object at 0x7fe8bdb301c0>\n"
     ]
    },
    {
     "name": "stdout",
     "output_type": "stream",
     "text": [
      "idx = 5, channels[idx] = 150000\n"
     ]
    },
    {
     "name": "stderr",
     "output_type": "stream",
     "text": [
      "Unclosed AIOKafkaProducer\n",
      "producer: <aiokafka.producer.producer.AIOKafkaProducer object at 0x7fe8bdbc8a90>\n"
     ]
    },
    {
     "name": "stdout",
     "output_type": "stream",
     "text": [
      "idx = 5, channels[idx] = 150000\n"
     ]
    },
    {
     "name": "stderr",
     "output_type": "stream",
     "text": [
      "Unclosed AIOKafkaProducer\n",
      "producer: <aiokafka.producer.producer.AIOKafkaProducer object at 0x7fe8bdb300a0>\n"
     ]
    },
    {
     "name": "stdout",
     "output_type": "stream",
     "text": [
      "idx = 5, channels[idx] = 150000\n"
     ]
    },
    {
     "name": "stderr",
     "output_type": "stream",
     "text": [
      "Unclosed AIOKafkaProducer\n",
      "producer: <aiokafka.producer.producer.AIOKafkaProducer object at 0x7fe8bdb30be0>\n",
      "Task was destroyed but it is pending!\n",
      "task: <Task pending name='Task-563' coro=<Sender._sender_routine() running at /home/saifulkhan/CODE/SKA/streaming-vis-perf/broker/venv/lib/python3.9/site-packages/aiokafka/producer/sender.py:147> wait_for=<Future pending cb=[<TaskWakeupMethWrapper object at 0x7fe8bdb30a60>()]> cb=[Sender._fail_all()]>\n",
      "Task was destroyed but it is pending!\n",
      "task: <Task pending name='Task-573' coro=<Sender._sender_routine() running at /home/saifulkhan/CODE/SKA/streaming-vis-perf/broker/venv/lib/python3.9/site-packages/aiokafka/producer/sender.py:147> wait_for=<Future pending cb=[<TaskWakeupMethWrapper object at 0x7fe8bdb30730>()]> cb=[Sender._fail_all()]>\n",
      "Task was destroyed but it is pending!\n",
      "task: <Task pending name='Task-583' coro=<Sender._sender_routine() running at /home/saifulkhan/CODE/SKA/streaming-vis-perf/broker/venv/lib/python3.9/site-packages/aiokafka/producer/sender.py:147> wait_for=<Future pending cb=[<TaskWakeupMethWrapper object at 0x7fe8bdabd3d0>()]> cb=[Sender._fail_all()]>\n"
     ]
    },
    {
     "name": "stdout",
     "output_type": "stream",
     "text": [
      "idx = 5, channels[idx] = 150000\n"
     ]
    },
    {
     "name": "stderr",
     "output_type": "stream",
     "text": [
      "Unclosed AIOKafkaProducer\n",
      "producer: <aiokafka.producer.producer.AIOKafkaProducer object at 0x7fe8bdabd1c0>\n",
      "Task was destroyed but it is pending!\n",
      "task: <Task pending name='Task-103' coro=<Sender._sender_routine() running at /home/saifulkhan/CODE/SKA/streaming-vis-perf/broker/venv/lib/python3.9/site-packages/aiokafka/producer/sender.py:147> wait_for=<Future pending cb=[<TaskWakeupMethWrapper object at 0x7fe8bf15adc0>()]> cb=[Sender._fail_all()]>\n",
      "Task was destroyed but it is pending!\n",
      "task: <Task pending name='Task-143' coro=<Sender._sender_routine() running at /home/saifulkhan/CODE/SKA/streaming-vis-perf/broker/venv/lib/python3.9/site-packages/aiokafka/producer/sender.py:147> wait_for=<Future pending cb=[<TaskWakeupMethWrapper object at 0x7fe8c1e2bdc0>()]> cb=[Sender._fail_all()]>\n",
      "Task was destroyed but it is pending!\n",
      "task: <Task pending name='Task-183' coro=<Sender._sender_routine() running at /home/saifulkhan/CODE/SKA/streaming-vis-perf/broker/venv/lib/python3.9/site-packages/aiokafka/producer/sender.py:147> wait_for=<Future pending cb=[<TaskWakeupMethWrapper object at 0x7fe8c2965850>()]> cb=[Sender._fail_all()]>\n",
      "Task was destroyed but it is pending!\n",
      "task: <Task pending name='Task-233' coro=<Sender._sender_routine() running at /home/saifulkhan/CODE/SKA/streaming-vis-perf/broker/venv/lib/python3.9/site-packages/aiokafka/producer/sender.py:147> wait_for=<Future pending cb=[<TaskWakeupMethWrapper object at 0x7fe8bee54040>()]> cb=[Sender._fail_all()]>\n",
      "Task was destroyed but it is pending!\n",
      "task: <Task pending name='Task-283' coro=<Sender._sender_routine() running at /home/saifulkhan/CODE/SKA/streaming-vis-perf/broker/venv/lib/python3.9/site-packages/aiokafka/producer/sender.py:147> wait_for=<Future pending cb=[<TaskWakeupMethWrapper object at 0x7fe8bdf71cd0>()]> cb=[Sender._fail_all()]>\n",
      "Task was destroyed but it is pending!\n",
      "task: <Task pending name='Task-323' coro=<Sender._sender_routine() running at /home/saifulkhan/CODE/SKA/streaming-vis-perf/broker/venv/lib/python3.9/site-packages/aiokafka/producer/sender.py:147> wait_for=<Future pending cb=[<TaskWakeupMethWrapper object at 0x7fe8bdeace20>()]> cb=[Sender._fail_all()]>\n",
      "Task was destroyed but it is pending!\n",
      "task: <Task pending name='Task-373' coro=<Sender._sender_routine() running at /home/saifulkhan/CODE/SKA/streaming-vis-perf/broker/venv/lib/python3.9/site-packages/aiokafka/producer/sender.py:147> wait_for=<Future pending cb=[<TaskWakeupMethWrapper object at 0x7fe8bde466a0>()]> cb=[Sender._fail_all()]>\n",
      "Task was destroyed but it is pending!\n",
      "task: <Task pending name='Task-413' coro=<Sender._sender_routine() running at /home/saifulkhan/CODE/SKA/streaming-vis-perf/broker/venv/lib/python3.9/site-packages/aiokafka/producer/sender.py:147> wait_for=<Future pending cb=[<TaskWakeupMethWrapper object at 0x7fe8bddbd460>()]> cb=[Sender._fail_all()]>\n",
      "Task was destroyed but it is pending!\n",
      "task: <Task pending name='Task-463' coro=<Sender._sender_routine() running at /home/saifulkhan/CODE/SKA/streaming-vis-perf/broker/venv/lib/python3.9/site-packages/aiokafka/producer/sender.py:147> wait_for=<Future pending cb=[<TaskWakeupMethWrapper object at 0x7fe8bddbd1f0>()]> cb=[Sender._fail_all()]>\n",
      "Task was destroyed but it is pending!\n",
      "task: <Task pending name='Task-503' coro=<Sender._sender_routine() running at /home/saifulkhan/CODE/SKA/streaming-vis-perf/broker/venv/lib/python3.9/site-packages/aiokafka/producer/sender.py:147> wait_for=<Future pending cb=[<TaskWakeupMethWrapper object at 0x7fe8bdbfbaf0>()]> cb=[Sender._fail_all()]>\n",
      "Task was destroyed but it is pending!\n",
      "task: <Task pending name='Task-553' coro=<Sender._sender_routine() running at /home/saifulkhan/CODE/SKA/streaming-vis-perf/broker/venv/lib/python3.9/site-packages/aiokafka/producer/sender.py:147> wait_for=<Future pending cb=[<TaskWakeupMethWrapper object at 0x7fe8bdbc8ac0>()]> cb=[Sender._fail_all()]>\n",
      "Task was destroyed but it is pending!\n",
      "task: <Task pending name='Task-593' coro=<Sender._sender_routine() done, defined at /home/saifulkhan/CODE/SKA/streaming-vis-perf/broker/venv/lib/python3.9/site-packages/aiokafka/producer/sender.py:81> wait_for=<Future pending cb=[<TaskWakeupMethWrapper object at 0x7fe8bdabd400>()]> cb=[Sender._fail_all()]>\n"
     ]
    },
    {
     "name": "stdout",
     "output_type": "stream",
     "text": [
      "idx = 5, channels[idx] = 150000\n"
     ]
    },
    {
     "name": "stderr",
     "output_type": "stream",
     "text": [
      "Unclosed AIOKafkaProducer\n",
      "producer: <aiokafka.producer.producer.AIOKafkaProducer object at 0x7fe8bdabd6d0>\n"
     ]
    },
    {
     "name": "stdout",
     "output_type": "stream",
     "text": [
      "idx = 5, channels[idx] = 150000\n"
     ]
    },
    {
     "name": "stderr",
     "output_type": "stream",
     "text": [
      "Unclosed AIOKafkaProducer\n",
      "producer: <aiokafka.producer.producer.AIOKafkaProducer object at 0x7fe8bdeacc10>\n"
     ]
    },
    {
     "name": "stdout",
     "output_type": "stream",
     "text": [
      "idx = 5, channels[idx] = 150000\n"
     ]
    },
    {
     "name": "stderr",
     "output_type": "stream",
     "text": [
      "Unclosed AIOKafkaProducer\n",
      "producer: <aiokafka.producer.producer.AIOKafkaProducer object at 0x7fe8f2f44610>\n"
     ]
    },
    {
     "name": "stdout",
     "output_type": "stream",
     "text": [
      "idx = 5, channels[idx] = 150000\n"
     ]
    },
    {
     "name": "stderr",
     "output_type": "stream",
     "text": [
      "Unclosed AIOKafkaProducer\n",
      "producer: <aiokafka.producer.producer.AIOKafkaProducer object at 0x7fe8bdabd4c0>\n",
      "Task was destroyed but it is pending!\n",
      "task: <Task pending name='Task-613' coro=<Sender._sender_routine() running at /home/saifulkhan/CODE/SKA/streaming-vis-perf/broker/venv/lib/python3.9/site-packages/aiokafka/producer/sender.py:147> wait_for=<Future pending cb=[<TaskWakeupMethWrapper object at 0x7fe8be186a60>()]> cb=[Sender._fail_all()]>\n",
      "Task was destroyed but it is pending!\n",
      "task: <Task pending name='Task-623' coro=<Sender._sender_routine() running at /home/saifulkhan/CODE/SKA/streaming-vis-perf/broker/venv/lib/python3.9/site-packages/aiokafka/producer/sender.py:147> wait_for=<Future pending cb=[<TaskWakeupMethWrapper object at 0x7fe8bdabd6d0>()]> cb=[Sender._fail_all()]>\n",
      "Task was destroyed but it is pending!\n",
      "task: <Task pending name='Task-633' coro=<Sender._sender_routine() running at /home/saifulkhan/CODE/SKA/streaming-vis-perf/broker/venv/lib/python3.9/site-packages/aiokafka/producer/sender.py:147> wait_for=<Future pending cb=[<TaskWakeupMethWrapper object at 0x7fe8bdbfbaf0>()]> cb=[Sender._fail_all()]>\n"
     ]
    },
    {
     "name": "stdout",
     "output_type": "stream",
     "text": [
      "idx = 5, channels[idx] = 150000\n"
     ]
    },
    {
     "name": "stderr",
     "output_type": "stream",
     "text": [
      "Unclosed AIOKafkaProducer\n",
      "producer: <aiokafka.producer.producer.AIOKafkaProducer object at 0x7fe8bdabd5b0>\n"
     ]
    },
    {
     "name": "stdout",
     "output_type": "stream",
     "text": [
      "idx = 6, channels[idx] = 175000\n"
     ]
    },
    {
     "name": "stderr",
     "output_type": "stream",
     "text": [
      "Unclosed AIOKafkaProducer\n",
      "producer: <aiokafka.producer.producer.AIOKafkaProducer object at 0x7fe8bddbda60>\n"
     ]
    },
    {
     "name": "stdout",
     "output_type": "stream",
     "text": [
      "idx = 6, channels[idx] = 175000\n"
     ]
    },
    {
     "name": "stderr",
     "output_type": "stream",
     "text": [
      "Unclosed AIOKafkaProducer\n",
      "producer: <aiokafka.producer.producer.AIOKafkaProducer object at 0x7fe8bda88370>\n"
     ]
    },
    {
     "name": "stdout",
     "output_type": "stream",
     "text": [
      "idx = 6, channels[idx] = 175000\n"
     ]
    },
    {
     "name": "stderr",
     "output_type": "stream",
     "text": [
      "Unclosed AIOKafkaProducer\n",
      "producer: <aiokafka.producer.producer.AIOKafkaProducer object at 0x7fe8bda88880>\n"
     ]
    },
    {
     "name": "stdout",
     "output_type": "stream",
     "text": [
      "idx = 6, channels[idx] = 175000\n"
     ]
    },
    {
     "name": "stderr",
     "output_type": "stream",
     "text": [
      "Unclosed AIOKafkaProducer\n",
      "producer: <aiokafka.producer.producer.AIOKafkaProducer object at 0x7fe8bda88850>\n",
      "Task was destroyed but it is pending!\n",
      "task: <Task pending name='Task-653' coro=<Sender._sender_routine() running at /home/saifulkhan/CODE/SKA/streaming-vis-perf/broker/venv/lib/python3.9/site-packages/aiokafka/producer/sender.py:147> wait_for=<Future pending cb=[<TaskWakeupMethWrapper object at 0x7fe8bdabd4f0>()]> cb=[Sender._fail_all()]>\n",
      "Task was destroyed but it is pending!\n",
      "task: <Task pending name='Task-663' coro=<Sender._sender_routine() running at /home/saifulkhan/CODE/SKA/streaming-vis-perf/broker/venv/lib/python3.9/site-packages/aiokafka/producer/sender.py:147> wait_for=<Future pending cb=[<TaskWakeupMethWrapper object at 0x7fe8bda88040>()]> cb=[Sender._fail_all()]>\n",
      "Task was destroyed but it is pending!\n",
      "task: <Task pending name='Task-673' coro=<Sender._sender_routine() running at /home/saifulkhan/CODE/SKA/streaming-vis-perf/broker/venv/lib/python3.9/site-packages/aiokafka/producer/sender.py:147> wait_for=<Future pending cb=[<TaskWakeupMethWrapper object at 0x7fe8bda88f40>()]> cb=[Sender._fail_all()]>\n",
      "Task was destroyed but it is pending!\n",
      "task: <Task pending name='Task-683' coro=<Sender._sender_routine() done, defined at /home/saifulkhan/CODE/SKA/streaming-vis-perf/broker/venv/lib/python3.9/site-packages/aiokafka/producer/sender.py:81> wait_for=<Future pending cb=[<TaskWakeupMethWrapper object at 0x7fe8bcfe40a0>()]> cb=[Sender._fail_all()]>\n"
     ]
    },
    {
     "name": "stdout",
     "output_type": "stream",
     "text": [
      "idx = 6, channels[idx] = 175000\n"
     ]
    },
    {
     "name": "stderr",
     "output_type": "stream",
     "text": [
      "Unclosed AIOKafkaProducer\n",
      "producer: <aiokafka.producer.producer.AIOKafkaProducer object at 0x7fe8bcfe4640>\n"
     ]
    },
    {
     "name": "stdout",
     "output_type": "stream",
     "text": [
      "idx = 6, channels[idx] = 175000\n"
     ]
    },
    {
     "name": "stderr",
     "output_type": "stream",
     "text": [
      "Unclosed AIOKafkaProducer\n",
      "producer: <aiokafka.producer.producer.AIOKafkaProducer object at 0x7fe8bda88040>\n"
     ]
    },
    {
     "name": "stdout",
     "output_type": "stream",
     "text": [
      "idx = 6, channels[idx] = 175000\n"
     ]
    },
    {
     "name": "stderr",
     "output_type": "stream",
     "text": [
      "Unclosed AIOKafkaProducer\n",
      "producer: <aiokafka.producer.producer.AIOKafkaProducer object at 0x7fe8bcfe4b80>\n"
     ]
    },
    {
     "name": "stdout",
     "output_type": "stream",
     "text": [
      "idx = 6, channels[idx] = 175000\n"
     ]
    },
    {
     "name": "stderr",
     "output_type": "stream",
     "text": [
      "Unclosed AIOKafkaProducer\n",
      "producer: <aiokafka.producer.producer.AIOKafkaProducer object at 0x7fe8bda88340>\n",
      "Task was destroyed but it is pending!\n",
      "task: <Task pending name='Task-703' coro=<Sender._sender_routine() running at /home/saifulkhan/CODE/SKA/streaming-vis-perf/broker/venv/lib/python3.9/site-packages/aiokafka/producer/sender.py:147> wait_for=<Future pending cb=[<TaskWakeupMethWrapper object at 0x7fe8bcfe4d30>()]> cb=[Sender._fail_all()]>\n",
      "Task was destroyed but it is pending!\n",
      "task: <Task pending name='Task-713' coro=<Sender._sender_routine() running at /home/saifulkhan/CODE/SKA/streaming-vis-perf/broker/venv/lib/python3.9/site-packages/aiokafka/producer/sender.py:147> wait_for=<Future pending cb=[<TaskWakeupMethWrapper object at 0x7fe8bcfe4f40>()]> cb=[Sender._fail_all()]>\n",
      "Task was destroyed but it is pending!\n",
      "task: <Task pending name='Task-723' coro=<Sender._sender_routine() running at /home/saifulkhan/CODE/SKA/streaming-vis-perf/broker/venv/lib/python3.9/site-packages/aiokafka/producer/sender.py:147> wait_for=<Future pending cb=[<TaskWakeupMethWrapper object at 0x7fe8bcf9d5b0>()]> cb=[Sender._fail_all()]>\n"
     ]
    },
    {
     "name": "stdout",
     "output_type": "stream",
     "text": [
      "idx = 6, channels[idx] = 175000\n"
     ]
    },
    {
     "name": "stderr",
     "output_type": "stream",
     "text": [
      "Unclosed AIOKafkaProducer\n",
      "producer: <aiokafka.producer.producer.AIOKafkaProducer object at 0x7fe8bcf9dd60>\n"
     ]
    },
    {
     "name": "stdout",
     "output_type": "stream",
     "text": [
      "idx = 6, channels[idx] = 175000\n"
     ]
    },
    {
     "name": "stderr",
     "output_type": "stream",
     "text": [
      "Unclosed AIOKafkaProducer\n",
      "producer: <aiokafka.producer.producer.AIOKafkaProducer object at 0x7fe8bcf9d2b0>\n"
     ]
    },
    {
     "name": "stdout",
     "output_type": "stream",
     "text": [
      "idx = 7, channels[idx] = 200000\n"
     ]
    },
    {
     "name": "stderr",
     "output_type": "stream",
     "text": [
      "Unclosed AIOKafkaProducer\n",
      "producer: <aiokafka.producer.producer.AIOKafkaProducer object at 0x7fe8bcf9dfa0>\n"
     ]
    },
    {
     "name": "stdout",
     "output_type": "stream",
     "text": [
      "idx = 7, channels[idx] = 200000\n"
     ]
    },
    {
     "name": "stderr",
     "output_type": "stream",
     "text": [
      "Unclosed AIOKafkaProducer\n",
      "producer: <aiokafka.producer.producer.AIOKafkaProducer object at 0x7fe8bcebd430>\n"
     ]
    },
    {
     "name": "stdout",
     "output_type": "stream",
     "text": [
      "idx = 7, channels[idx] = 200000\n"
     ]
    },
    {
     "name": "stderr",
     "output_type": "stream",
     "text": [
      "Unclosed AIOKafkaProducer\n",
      "producer: <aiokafka.producer.producer.AIOKafkaProducer object at 0x7fe8bcebd4f0>\n",
      "Task was destroyed but it is pending!\n",
      "task: <Task pending name='Task-743' coro=<Sender._sender_routine() running at /home/saifulkhan/CODE/SKA/streaming-vis-perf/broker/venv/lib/python3.9/site-packages/aiokafka/producer/sender.py:147> wait_for=<Future pending cb=[<TaskWakeupMethWrapper object at 0x7fe8bcfe4520>()]> cb=[Sender._fail_all()]>\n",
      "Task was destroyed but it is pending!\n",
      "task: <Task pending name='Task-753' coro=<Sender._sender_routine() running at /home/saifulkhan/CODE/SKA/streaming-vis-perf/broker/venv/lib/python3.9/site-packages/aiokafka/producer/sender.py:147> wait_for=<Future pending cb=[<TaskWakeupMethWrapper object at 0x7fe8bcebd940>()]> cb=[Sender._fail_all()]>\n",
      "Task was destroyed but it is pending!\n",
      "task: <Task pending name='Task-763' coro=<Sender._sender_routine() running at /home/saifulkhan/CODE/SKA/streaming-vis-perf/broker/venv/lib/python3.9/site-packages/aiokafka/producer/sender.py:147> wait_for=<Future pending cb=[<TaskWakeupMethWrapper object at 0x7fe8bcebdd90>()]> cb=[Sender._fail_all()]>\n",
      "Task was destroyed but it is pending!\n",
      "task: <Task pending name='Task-773' coro=<Sender._sender_routine() done, defined at /home/saifulkhan/CODE/SKA/streaming-vis-perf/broker/venv/lib/python3.9/site-packages/aiokafka/producer/sender.py:81> wait_for=<Future pending cb=[<TaskWakeupMethWrapper object at 0x7fe8bcea4430>()]> cb=[Sender._fail_all()]>\n"
     ]
    },
    {
     "name": "stdout",
     "output_type": "stream",
     "text": [
      "idx = 7, channels[idx] = 200000\n"
     ]
    },
    {
     "name": "stderr",
     "output_type": "stream",
     "text": [
      "Unclosed AIOKafkaProducer\n",
      "producer: <aiokafka.producer.producer.AIOKafkaProducer object at 0x7fe8bcebd4f0>\n"
     ]
    },
    {
     "name": "stdout",
     "output_type": "stream",
     "text": [
      "idx = 7, channels[idx] = 200000\n"
     ]
    },
    {
     "name": "stderr",
     "output_type": "stream",
     "text": [
      "Unclosed AIOKafkaProducer\n",
      "producer: <aiokafka.producer.producer.AIOKafkaProducer object at 0x7fe8bcebd0a0>\n"
     ]
    },
    {
     "name": "stdout",
     "output_type": "stream",
     "text": [
      "idx = 7, channels[idx] = 200000\n"
     ]
    },
    {
     "name": "stderr",
     "output_type": "stream",
     "text": [
      "Unclosed AIOKafkaProducer\n",
      "producer: <aiokafka.producer.producer.AIOKafkaProducer object at 0x7fe8bcea4310>\n"
     ]
    },
    {
     "name": "stdout",
     "output_type": "stream",
     "text": [
      "idx = 7, channels[idx] = 200000\n"
     ]
    },
    {
     "name": "stderr",
     "output_type": "stream",
     "text": [
      "Unclosed AIOKafkaProducer\n",
      "producer: <aiokafka.producer.producer.AIOKafkaProducer object at 0x7fe8bce5f760>\n",
      "Task was destroyed but it is pending!\n",
      "task: <Task pending name='Task-793' coro=<Sender._sender_routine() running at /home/saifulkhan/CODE/SKA/streaming-vis-perf/broker/venv/lib/python3.9/site-packages/aiokafka/producer/sender.py:147> wait_for=<Future pending cb=[<TaskWakeupMethWrapper object at 0x7fe8bcea4220>()]> cb=[Sender._fail_all()]>\n",
      "Task was destroyed but it is pending!\n",
      "task: <Task pending name='Task-803' coro=<Sender._sender_routine() running at /home/saifulkhan/CODE/SKA/streaming-vis-perf/broker/venv/lib/python3.9/site-packages/aiokafka/producer/sender.py:147> wait_for=<Future pending cb=[<TaskWakeupMethWrapper object at 0x7fe8bcea4880>()]> cb=[Sender._fail_all()]>\n",
      "Task was destroyed but it is pending!\n",
      "task: <Task pending name='Task-813' coro=<Sender._sender_routine() running at /home/saifulkhan/CODE/SKA/streaming-vis-perf/broker/venv/lib/python3.9/site-packages/aiokafka/producer/sender.py:147> wait_for=<Future pending cb=[<TaskWakeupMethWrapper object at 0x7fe8bce5f6d0>()]> cb=[Sender._fail_all()]>\n"
     ]
    },
    {
     "name": "stdout",
     "output_type": "stream",
     "text": [
      "idx = 7, channels[idx] = 200000\n"
     ]
    },
    {
     "name": "stderr",
     "output_type": "stream",
     "text": [
      "Unclosed AIOKafkaProducer\n",
      "producer: <aiokafka.producer.producer.AIOKafkaProducer object at 0x7fe8bce5fe80>\n"
     ]
    },
    {
     "name": "stdout",
     "output_type": "stream",
     "text": [
      "idx = 7, channels[idx] = 200000\n"
     ]
    },
    {
     "name": "stderr",
     "output_type": "stream",
     "text": [
      "Unclosed AIOKafkaProducer\n",
      "producer: <aiokafka.producer.producer.AIOKafkaProducer object at 0x7fe8bce5fb50>\n"
     ]
    },
    {
     "name": "stdout",
     "output_type": "stream",
     "text": [
      "idx = 7, channels[idx] = 200000\n"
     ]
    },
    {
     "name": "stderr",
     "output_type": "stream",
     "text": [
      "Unclosed AIOKafkaProducer\n",
      "producer: <aiokafka.producer.producer.AIOKafkaProducer object at 0x7fe8bce5ff10>\n"
     ]
    },
    {
     "name": "stdout",
     "output_type": "stream",
     "text": [
      "idx = 8, channels[idx] = 225000\n"
     ]
    },
    {
     "name": "stderr",
     "output_type": "stream",
     "text": [
      "Unclosed AIOKafkaProducer\n",
      "producer: <aiokafka.producer.producer.AIOKafkaProducer object at 0x7fe8bcd7cb20>\n"
     ]
    },
    {
     "name": "stdout",
     "output_type": "stream",
     "text": [
      "idx = 8, channels[idx] = 225000\n"
     ]
    },
    {
     "name": "stderr",
     "output_type": "stream",
     "text": [
      "Unclosed AIOKafkaProducer\n",
      "producer: <aiokafka.producer.producer.AIOKafkaProducer object at 0x7fe8bcd7ce50>\n",
      "Task was destroyed but it is pending!\n",
      "task: <Task pending name='Task-833' coro=<Sender._sender_routine() running at /home/saifulkhan/CODE/SKA/streaming-vis-perf/broker/venv/lib/python3.9/site-packages/aiokafka/producer/sender.py:147> wait_for=<Future pending cb=[<TaskWakeupMethWrapper object at 0x7fe8bcea4be0>()]> cb=[Sender._fail_all()]>\n",
      "Task was destroyed but it is pending!\n",
      "task: <Task pending name='Task-843' coro=<Sender._sender_routine() running at /home/saifulkhan/CODE/SKA/streaming-vis-perf/broker/venv/lib/python3.9/site-packages/aiokafka/producer/sender.py:147> wait_for=<Future pending cb=[<TaskWakeupMethWrapper object at 0x7fe8bcd7c4c0>()]> cb=[Sender._fail_all()]>\n",
      "Task was destroyed but it is pending!\n",
      "task: <Task pending name='Task-853' coro=<Sender._sender_routine() running at /home/saifulkhan/CODE/SKA/streaming-vis-perf/broker/venv/lib/python3.9/site-packages/aiokafka/producer/sender.py:147> wait_for=<Future pending cb=[<TaskWakeupMethWrapper object at 0x7fe8bcd7cca0>()]> cb=[Sender._fail_all()]>\n",
      "Task was destroyed but it is pending!\n",
      "task: <Task pending name='Task-863' coro=<Sender._sender_routine() done, defined at /home/saifulkhan/CODE/SKA/streaming-vis-perf/broker/venv/lib/python3.9/site-packages/aiokafka/producer/sender.py:81> wait_for=<Future pending cb=[<TaskWakeupMethWrapper object at 0x7fe8bcd68310>()]> cb=[Sender._fail_all()]>\n"
     ]
    },
    {
     "name": "stdout",
     "output_type": "stream",
     "text": [
      "idx = 8, channels[idx] = 225000\n"
     ]
    },
    {
     "name": "stderr",
     "output_type": "stream",
     "text": [
      "Unclosed AIOKafkaProducer\n",
      "producer: <aiokafka.producer.producer.AIOKafkaProducer object at 0x7fe8bcd68670>\n"
     ]
    },
    {
     "name": "stdout",
     "output_type": "stream",
     "text": [
      "idx = 8, channels[idx] = 225000\n"
     ]
    },
    {
     "name": "stderr",
     "output_type": "stream",
     "text": [
      "Unclosed AIOKafkaProducer\n",
      "producer: <aiokafka.producer.producer.AIOKafkaProducer object at 0x7fe8bcd7c4c0>\n"
     ]
    },
    {
     "name": "stdout",
     "output_type": "stream",
     "text": [
      "idx = 8, channels[idx] = 225000\n"
     ]
    },
    {
     "name": "stderr",
     "output_type": "stream",
     "text": [
      "Unclosed AIOKafkaProducer\n",
      "producer: <aiokafka.producer.producer.AIOKafkaProducer object at 0x7fe8bcd68fa0>\n"
     ]
    },
    {
     "name": "stdout",
     "output_type": "stream",
     "text": [
      "idx = 8, channels[idx] = 225000\n"
     ]
    },
    {
     "name": "stderr",
     "output_type": "stream",
     "text": [
      "Unclosed AIOKafkaProducer\n",
      "producer: <aiokafka.producer.producer.AIOKafkaProducer object at 0x7fe8bccf4580>\n",
      "Task was destroyed but it is pending!\n",
      "task: <Task pending name='Task-883' coro=<Sender._sender_routine() running at /home/saifulkhan/CODE/SKA/streaming-vis-perf/broker/venv/lib/python3.9/site-packages/aiokafka/producer/sender.py:147> wait_for=<Future pending cb=[<TaskWakeupMethWrapper object at 0x7fe8bcd68b20>()]> cb=[Sender._fail_all()]>\n",
      "Task was destroyed but it is pending!\n",
      "task: <Task pending name='Task-893' coro=<Sender._sender_routine() running at /home/saifulkhan/CODE/SKA/streaming-vis-perf/broker/venv/lib/python3.9/site-packages/aiokafka/producer/sender.py:147> wait_for=<Future pending cb=[<TaskWakeupMethWrapper object at 0x7fe8bcd68040>()]> cb=[Sender._fail_all()]>\n",
      "Task was destroyed but it is pending!\n",
      "task: <Task pending name='Task-903' coro=<Sender._sender_routine() running at /home/saifulkhan/CODE/SKA/streaming-vis-perf/broker/venv/lib/python3.9/site-packages/aiokafka/producer/sender.py:147> wait_for=<Future pending cb=[<TaskWakeupMethWrapper object at 0x7fe8bccf42b0>()]> cb=[Sender._fail_all()]>\n"
     ]
    },
    {
     "name": "stdout",
     "output_type": "stream",
     "text": [
      "idx = 8, channels[idx] = 225000\n"
     ]
    },
    {
     "name": "stderr",
     "output_type": "stream",
     "text": [
      "Unclosed AIOKafkaProducer\n",
      "producer: <aiokafka.producer.producer.AIOKafkaProducer object at 0x7fe8bccf4be0>\n"
     ]
    },
    {
     "name": "stdout",
     "output_type": "stream",
     "text": [
      "idx = 8, channels[idx] = 225000\n"
     ]
    },
    {
     "name": "stderr",
     "output_type": "stream",
     "text": [
      "Unclosed AIOKafkaProducer\n",
      "producer: <aiokafka.producer.producer.AIOKafkaProducer object at 0x7fe8bccf4f10>\n"
     ]
    },
    {
     "name": "stdout",
     "output_type": "stream",
     "text": [
      "idx = 8, channels[idx] = 225000\n"
     ]
    },
    {
     "name": "stderr",
     "output_type": "stream",
     "text": [
      "Unclosed AIOKafkaProducer\n",
      "producer: <aiokafka.producer.producer.AIOKafkaProducer object at 0x7fe8bce5fc10>\n"
     ]
    },
    {
     "name": "stdout",
     "output_type": "stream",
     "text": [
      "idx = 8, channels[idx] = 225000\n"
     ]
    },
    {
     "name": "stderr",
     "output_type": "stream",
     "text": [
      "Unclosed AIOKafkaProducer\n",
      "producer: <aiokafka.producer.producer.AIOKafkaProducer object at 0x7fe8bcc411f0>\n"
     ]
    },
    {
     "name": "stdout",
     "output_type": "stream",
     "text": [
      "idx = 9, channels[idx] = 250000\n"
     ]
    },
    {
     "name": "stderr",
     "output_type": "stream",
     "text": [
      "Unclosed AIOKafkaProducer\n",
      "producer: <aiokafka.producer.producer.AIOKafkaProducer object at 0x7fe8bcc41610>\n",
      "Task was destroyed but it is pending!\n",
      "task: <Task pending name='Task-923' coro=<Sender._sender_routine() running at /home/saifulkhan/CODE/SKA/streaming-vis-perf/broker/venv/lib/python3.9/site-packages/aiokafka/producer/sender.py:147> wait_for=<Future pending cb=[<TaskWakeupMethWrapper object at 0x7fe8bcd68040>()]> cb=[Sender._fail_all()]>\n",
      "Task was destroyed but it is pending!\n",
      "task: <Task pending name='Task-933' coro=<Sender._sender_routine() running at /home/saifulkhan/CODE/SKA/streaming-vis-perf/broker/venv/lib/python3.9/site-packages/aiokafka/producer/sender.py:147> wait_for=<Future pending cb=[<TaskWakeupMethWrapper object at 0x7fe8bcc41070>()]> cb=[Sender._fail_all()]>\n",
      "Task was destroyed but it is pending!\n",
      "task: <Task pending name='Task-943' coro=<Sender._sender_routine() running at /home/saifulkhan/CODE/SKA/streaming-vis-perf/broker/venv/lib/python3.9/site-packages/aiokafka/producer/sender.py:147> wait_for=<Future pending cb=[<TaskWakeupMethWrapper object at 0x7fe8bcc41160>()]> cb=[Sender._fail_all()]>\n",
      "Task was destroyed but it is pending!\n",
      "task: <Task pending name='Task-953' coro=<Sender._sender_routine() running at /home/saifulkhan/CODE/SKA/streaming-vis-perf/broker/venv/lib/python3.9/site-packages/aiokafka/producer/sender.py:147> wait_for=<Future pending cb=[<TaskWakeupMethWrapper object at 0x7fe8bcc41d30>()]> cb=[Sender._fail_all()]>\n"
     ]
    },
    {
     "name": "stdout",
     "output_type": "stream",
     "text": [
      "idx = 9, channels[idx] = 250000\n"
     ]
    },
    {
     "name": "stderr",
     "output_type": "stream",
     "text": [
      "Unclosed AIOKafkaProducer\n",
      "producer: <aiokafka.producer.producer.AIOKafkaProducer object at 0x7fe8bcc41610>\n"
     ]
    },
    {
     "name": "stdout",
     "output_type": "stream",
     "text": [
      "idx = 9, channels[idx] = 250000\n"
     ]
    },
    {
     "name": "stderr",
     "output_type": "stream",
     "text": [
      "Unclosed AIOKafkaProducer\n",
      "producer: <aiokafka.producer.producer.AIOKafkaProducer object at 0x7fe8bcc41610>\n"
     ]
    },
    {
     "name": "stdout",
     "output_type": "stream",
     "text": [
      "idx = 9, channels[idx] = 250000\n"
     ]
    },
    {
     "name": "stderr",
     "output_type": "stream",
     "text": [
      "Unclosed AIOKafkaProducer\n",
      "producer: <aiokafka.producer.producer.AIOKafkaProducer object at 0x7fe8bcc2f070>\n"
     ]
    },
    {
     "name": "stdout",
     "output_type": "stream",
     "text": [
      "idx = 9, channels[idx] = 250000\n"
     ]
    },
    {
     "name": "stderr",
     "output_type": "stream",
     "text": [
      "Unclosed AIOKafkaProducer\n",
      "producer: <aiokafka.producer.producer.AIOKafkaProducer object at 0x7fe8bcc2fa30>\n"
     ]
    },
    {
     "name": "stdout",
     "output_type": "stream",
     "text": [
      "idx = 9, channels[idx] = 250000\n"
     ]
    },
    {
     "name": "stderr",
     "output_type": "stream",
     "text": [
      "Unclosed AIOKafkaProducer\n",
      "producer: <aiokafka.producer.producer.AIOKafkaProducer object at 0x7fe8bcb361f0>\n",
      "Task was destroyed but it is pending!\n",
      "task: <Task pending name='Task-973' coro=<Sender._sender_routine() running at /home/saifulkhan/CODE/SKA/streaming-vis-perf/broker/venv/lib/python3.9/site-packages/aiokafka/producer/sender.py:147> wait_for=<Future pending cb=[<TaskWakeupMethWrapper object at 0x7fe8bcc2f760>()]> cb=[Sender._fail_all()]>\n",
      "Task was destroyed but it is pending!\n",
      "task: <Task pending name='Task-983' coro=<Sender._sender_routine() running at /home/saifulkhan/CODE/SKA/streaming-vis-perf/broker/venv/lib/python3.9/site-packages/aiokafka/producer/sender.py:147> wait_for=<Future pending cb=[<TaskWakeupMethWrapper object at 0x7fe8bcc2fee0>()]> cb=[Sender._fail_all()]>\n",
      "Task was destroyed but it is pending!\n",
      "task: <Task pending name='Task-993' coro=<Sender._sender_routine() running at /home/saifulkhan/CODE/SKA/streaming-vis-perf/broker/venv/lib/python3.9/site-packages/aiokafka/producer/sender.py:147> wait_for=<Future pending cb=[<TaskWakeupMethWrapper object at 0x7fe8bcb36370>()]> cb=[Sender._fail_all()]>\n",
      "Task was destroyed but it is pending!\n",
      "task: <Task pending name='Task-1003' coro=<Sender._sender_routine() done, defined at /home/saifulkhan/CODE/SKA/streaming-vis-perf/broker/venv/lib/python3.9/site-packages/aiokafka/producer/sender.py:81> wait_for=<Future pending cb=[<TaskWakeupMethWrapper object at 0x7fe8bcb36850>()]> cb=[Sender._fail_all()]>\n"
     ]
    },
    {
     "name": "stdout",
     "output_type": "stream",
     "text": [
      "idx = 9, channels[idx] = 250000\n"
     ]
    },
    {
     "name": "stderr",
     "output_type": "stream",
     "text": [
      "Unclosed AIOKafkaProducer\n",
      "producer: <aiokafka.producer.producer.AIOKafkaProducer object at 0x7fe8bcb368e0>\n"
     ]
    },
    {
     "name": "stdout",
     "output_type": "stream",
     "text": [
      "idx = 9, channels[idx] = 250000\n"
     ]
    },
    {
     "name": "stderr",
     "output_type": "stream",
     "text": [
      "Unclosed AIOKafkaProducer\n",
      "producer: <aiokafka.producer.producer.AIOKafkaProducer object at 0x7fe8bcc2fcd0>\n"
     ]
    },
    {
     "name": "stdout",
     "output_type": "stream",
     "text": [
      "idx = 9, channels[idx] = 250000\n"
     ]
    },
    {
     "name": "stderr",
     "output_type": "stream",
     "text": [
      "Unclosed AIOKafkaProducer\n",
      "producer: <aiokafka.producer.producer.AIOKafkaProducer object at 0x7fe8bcb02850>\n",
      "Task was destroyed but it is pending!\n",
      "task: <Task pending name='Task-1023' coro=<Sender._sender_routine() running at /home/saifulkhan/CODE/SKA/streaming-vis-perf/broker/venv/lib/python3.9/site-packages/aiokafka/producer/sender.py:147> wait_for=<Future pending cb=[<TaskWakeupMethWrapper object at 0x7fe8bcc2f2e0>()]> cb=[Sender._fail_all()]>\n",
      "Task was destroyed but it is pending!\n",
      "task: <Task pending name='Task-1033' coro=<Sender._sender_routine() running at /home/saifulkhan/CODE/SKA/streaming-vis-perf/broker/venv/lib/python3.9/site-packages/aiokafka/producer/sender.py:147> wait_for=<Future pending cb=[<TaskWakeupMethWrapper object at 0x7fe8bcb023d0>()]> cb=[Sender._fail_all()]>\n"
     ]
    },
    {
     "name": "stdout",
     "output_type": "stream",
     "text": [
      "idx = 9, channels[idx] = 250000\n"
     ]
    },
    {
     "name": "stderr",
     "output_type": "stream",
     "text": [
      "Unclosed AIOKafkaProducer\n",
      "producer: <aiokafka.producer.producer.AIOKafkaProducer object at 0x7fe8bcb027c0>\n"
     ]
    },
    {
     "name": "stdout",
     "output_type": "stream",
     "text": [
      "idx = 10, channels[idx] = 275000\n"
     ]
    },
    {
     "name": "stderr",
     "output_type": "stream",
     "text": [
      "Unclosed AIOKafkaProducer\n",
      "producer: <aiokafka.producer.producer.AIOKafkaProducer object at 0x7fe8bcc2f070>\n"
     ]
    },
    {
     "name": "stdout",
     "output_type": "stream",
     "text": [
      "idx = 10, channels[idx] = 275000\n"
     ]
    },
    {
     "name": "stderr",
     "output_type": "stream",
     "text": [
      "Unclosed AIOKafkaProducer\n",
      "producer: <aiokafka.producer.producer.AIOKafkaProducer object at 0x7fe8bca8e3d0>\n"
     ]
    },
    {
     "name": "stdout",
     "output_type": "stream",
     "text": [
      "idx = 10, channels[idx] = 275000\n"
     ]
    },
    {
     "name": "stderr",
     "output_type": "stream",
     "text": [
      "Unclosed AIOKafkaProducer\n",
      "producer: <aiokafka.producer.producer.AIOKafkaProducer object at 0x7fe8bca8efa0>\n"
     ]
    },
    {
     "name": "stdout",
     "output_type": "stream",
     "text": [
      "idx = 10, channels[idx] = 275000\n"
     ]
    },
    {
     "name": "stderr",
     "output_type": "stream",
     "text": [
      "Unclosed AIOKafkaProducer\n",
      "producer: <aiokafka.producer.producer.AIOKafkaProducer object at 0x7fe8bca8e910>\n",
      "Task was destroyed but it is pending!\n",
      "task: <Task pending name='Task-1053' coro=<Sender._sender_routine() running at /home/saifulkhan/CODE/SKA/streaming-vis-perf/broker/venv/lib/python3.9/site-packages/aiokafka/producer/sender.py:147> wait_for=<Future pending cb=[<TaskWakeupMethWrapper object at 0x7fe8bcb02100>()]> cb=[Sender._fail_all()]>\n",
      "Task was destroyed but it is pending!\n",
      "task: <Task pending name='Task-1063' coro=<Sender._sender_routine() running at /home/saifulkhan/CODE/SKA/streaming-vis-perf/broker/venv/lib/python3.9/site-packages/aiokafka/producer/sender.py:147> wait_for=<Future pending cb=[<TaskWakeupMethWrapper object at 0x7fe8bca8ea30>()]> cb=[Sender._fail_all()]>\n",
      "Task was destroyed but it is pending!\n",
      "task: <Task pending name='Task-1073' coro=<Sender._sender_routine() running at /home/saifulkhan/CODE/SKA/streaming-vis-perf/broker/venv/lib/python3.9/site-packages/aiokafka/producer/sender.py:147> wait_for=<Future pending cb=[<TaskWakeupMethWrapper object at 0x7fe8bca8ed30>()]> cb=[Sender._fail_all()]>\n",
      "Task was destroyed but it is pending!\n",
      "task: <Task pending name='Task-1083' coro=<Sender._sender_routine() done, defined at /home/saifulkhan/CODE/SKA/streaming-vis-perf/broker/venv/lib/python3.9/site-packages/aiokafka/producer/sender.py:81> wait_for=<Future pending cb=[<TaskWakeupMethWrapper object at 0x7fe8bc9f74f0>()]> cb=[Sender._fail_all()]>\n"
     ]
    },
    {
     "name": "stdout",
     "output_type": "stream",
     "text": [
      "idx = 10, channels[idx] = 275000\n"
     ]
    },
    {
     "name": "stderr",
     "output_type": "stream",
     "text": [
      "Unclosed AIOKafkaProducer\n",
      "producer: <aiokafka.producer.producer.AIOKafkaProducer object at 0x7fe8bc9f7460>\n"
     ]
    },
    {
     "name": "stdout",
     "output_type": "stream",
     "text": [
      "idx = 10, channels[idx] = 275000\n"
     ]
    },
    {
     "name": "stderr",
     "output_type": "stream",
     "text": [
      "Unclosed AIOKafkaProducer\n",
      "producer: <aiokafka.producer.producer.AIOKafkaProducer object at 0x7fe8bca8ebb0>\n"
     ]
    },
    {
     "name": "stdout",
     "output_type": "stream",
     "text": [
      "idx = 10, channels[idx] = 275000\n"
     ]
    },
    {
     "name": "stderr",
     "output_type": "stream",
     "text": [
      "Unclosed AIOKafkaProducer\n",
      "producer: <aiokafka.producer.producer.AIOKafkaProducer object at 0x7fe8bc9f7820>\n"
     ]
    },
    {
     "name": "stdout",
     "output_type": "stream",
     "text": [
      "idx = 10, channels[idx] = 275000\n"
     ]
    },
    {
     "name": "stderr",
     "output_type": "stream",
     "text": [
      "Unclosed AIOKafkaProducer\n",
      "producer: <aiokafka.producer.producer.AIOKafkaProducer object at 0x7fe8bca34670>\n",
      "Task was destroyed but it is pending!\n",
      "task: <Task pending name='Task-1103' coro=<Sender._sender_routine() running at /home/saifulkhan/CODE/SKA/streaming-vis-perf/broker/venv/lib/python3.9/site-packages/aiokafka/producer/sender.py:147> wait_for=<Future pending cb=[<TaskWakeupMethWrapper object at 0x7fe8bc9f7d60>()]> cb=[Sender._fail_all()]>\n",
      "Task was destroyed but it is pending!\n",
      "task: <Task pending name='Task-1113' coro=<Sender._sender_routine() running at /home/saifulkhan/CODE/SKA/streaming-vis-perf/broker/venv/lib/python3.9/site-packages/aiokafka/producer/sender.py:147> wait_for=<Future pending cb=[<TaskWakeupMethWrapper object at 0x7fe8bca34100>()]> cb=[Sender._fail_all()]>\n",
      "Task was destroyed but it is pending!\n",
      "task: <Task pending name='Task-1123' coro=<Sender._sender_routine() running at /home/saifulkhan/CODE/SKA/streaming-vis-perf/broker/venv/lib/python3.9/site-packages/aiokafka/producer/sender.py:147> wait_for=<Future pending cb=[<TaskWakeupMethWrapper object at 0x7fe8bca340d0>()]> cb=[Sender._fail_all()]>\n"
     ]
    },
    {
     "name": "stdout",
     "output_type": "stream",
     "text": [
      "idx = 10, channels[idx] = 275000\n"
     ]
    },
    {
     "name": "stderr",
     "output_type": "stream",
     "text": [
      "Unclosed AIOKafkaProducer\n",
      "producer: <aiokafka.producer.producer.AIOKafkaProducer object at 0x7fe8bca34eb0>\n"
     ]
    },
    {
     "name": "stdout",
     "output_type": "stream",
     "text": [
      "idx = 10, channels[idx] = 275000\n"
     ]
    },
    {
     "name": "stderr",
     "output_type": "stream",
     "text": [
      "Unclosed AIOKafkaProducer\n",
      "producer: <aiokafka.producer.producer.AIOKafkaProducer object at 0x7fe8bc9f7370>\n"
     ]
    },
    {
     "name": "stdout",
     "output_type": "stream",
     "text": [
      "idx = 11, channels[idx] = 300000\n"
     ]
    },
    {
     "name": "stderr",
     "output_type": "stream",
     "text": [
      "Unclosed AIOKafkaProducer\n",
      "producer: <aiokafka.producer.producer.AIOKafkaProducer object at 0x7fe8bc9af490>\n",
      "Task was destroyed but it is pending!\n",
      "task: <Task pending name='Task-1143' coro=<Sender._sender_routine() running at /home/saifulkhan/CODE/SKA/streaming-vis-perf/broker/venv/lib/python3.9/site-packages/aiokafka/producer/sender.py:147> wait_for=<Future pending cb=[<TaskWakeupMethWrapper object at 0x7fe8bca34ee0>()]> cb=[Sender._fail_all()]>\n",
      "Task was destroyed but it is pending!\n",
      "task: <Task pending name='Task-1153' coro=<Sender._sender_routine() done, defined at /home/saifulkhan/CODE/SKA/streaming-vis-perf/broker/venv/lib/python3.9/site-packages/aiokafka/producer/sender.py:81> wait_for=<Future pending cb=[<TaskWakeupMethWrapper object at 0x7fe8bc9af6a0>()]> cb=[Sender._fail_all()]>\n",
      "Task was destroyed but it is pending!\n",
      "task: <Task pending name='Task-603' coro=<Sender._sender_routine() running at /home/saifulkhan/CODE/SKA/streaming-vis-perf/broker/venv/lib/python3.9/site-packages/aiokafka/producer/sender.py:147> wait_for=<Future pending cb=[<TaskWakeupMethWrapper object at 0x7fe8f2f444c0>()]> cb=[Sender._fail_all()]>\n",
      "Task was destroyed but it is pending!\n",
      "task: <Task pending name='Task-643' coro=<Sender._sender_routine() running at /home/saifulkhan/CODE/SKA/streaming-vis-perf/broker/venv/lib/python3.9/site-packages/aiokafka/producer/sender.py:147> wait_for=<Future pending cb=[<TaskWakeupMethWrapper object at 0x7fe8bdabdd30>()]> cb=[Sender._fail_all()]>\n",
      "Task was destroyed but it is pending!\n",
      "task: <Task pending name='Task-693' coro=<Sender._sender_routine() running at /home/saifulkhan/CODE/SKA/streaming-vis-perf/broker/venv/lib/python3.9/site-packages/aiokafka/producer/sender.py:147> wait_for=<Future pending cb=[<TaskWakeupMethWrapper object at 0x7fe8bda88910>()]> cb=[Sender._fail_all()]>\n",
      "Task was destroyed but it is pending!\n",
      "task: <Task pending name='Task-733' coro=<Sender._sender_routine() running at /home/saifulkhan/CODE/SKA/streaming-vis-perf/broker/venv/lib/python3.9/site-packages/aiokafka/producer/sender.py:147> wait_for=<Future pending cb=[<TaskWakeupMethWrapper object at 0x7fe8bcf9dac0>()]> cb=[Sender._fail_all()]>\n",
      "Task was destroyed but it is pending!\n",
      "task: <Task pending name='Task-783' coro=<Sender._sender_routine() running at /home/saifulkhan/CODE/SKA/streaming-vis-perf/broker/venv/lib/python3.9/site-packages/aiokafka/producer/sender.py:147> wait_for=<Future pending cb=[<TaskWakeupMethWrapper object at 0x7fe8bcfe4e80>()]> cb=[Sender._fail_all()]>\n",
      "Task was destroyed but it is pending!\n",
      "task: <Task pending name='Task-823' coro=<Sender._sender_routine() running at /home/saifulkhan/CODE/SKA/streaming-vis-perf/broker/venv/lib/python3.9/site-packages/aiokafka/producer/sender.py:147> wait_for=<Future pending cb=[<TaskWakeupMethWrapper object at 0x7fe8bce5fd60>()]> cb=[Sender._fail_all()]>\n",
      "Task was destroyed but it is pending!\n",
      "task: <Task pending name='Task-873' coro=<Sender._sender_routine() running at /home/saifulkhan/CODE/SKA/streaming-vis-perf/broker/venv/lib/python3.9/site-packages/aiokafka/producer/sender.py:147> wait_for=<Future pending cb=[<TaskWakeupMethWrapper object at 0x7fe8bcd7ce80>()]> cb=[Sender._fail_all()]>\n",
      "Task was destroyed but it is pending!\n",
      "task: <Task pending name='Task-913' coro=<Sender._sender_routine() running at /home/saifulkhan/CODE/SKA/streaming-vis-perf/broker/venv/lib/python3.9/site-packages/aiokafka/producer/sender.py:147> wait_for=<Future pending cb=[<TaskWakeupMethWrapper object at 0x7fe8bccf46d0>()]> cb=[Sender._fail_all()]>\n",
      "Task was destroyed but it is pending!\n",
      "task: <Task pending name='Task-963' coro=<Sender._sender_routine() running at /home/saifulkhan/CODE/SKA/streaming-vis-perf/broker/venv/lib/python3.9/site-packages/aiokafka/producer/sender.py:147> wait_for=<Future pending cb=[<TaskWakeupMethWrapper object at 0x7fe8bcc419a0>()]> cb=[Sender._fail_all()]>\n",
      "Task was destroyed but it is pending!\n",
      "task: <Task pending name='Task-1013' coro=<Sender._sender_routine() running at /home/saifulkhan/CODE/SKA/streaming-vis-perf/broker/venv/lib/python3.9/site-packages/aiokafka/producer/sender.py:147> wait_for=<Future pending cb=[<TaskWakeupMethWrapper object at 0x7fe8bcb36bb0>()]> cb=[Sender._fail_all()]>\n",
      "Task was destroyed but it is pending!\n",
      "task: <Task pending name='Task-1043' coro=<Sender._sender_routine() running at /home/saifulkhan/CODE/SKA/streaming-vis-perf/broker/venv/lib/python3.9/site-packages/aiokafka/producer/sender.py:147> wait_for=<Future pending cb=[<TaskWakeupMethWrapper object at 0x7fe8bcb02640>()]> cb=[Sender._fail_all()]>\n",
      "Task was destroyed but it is pending!\n",
      "task: <Task pending name='Task-1093' coro=<Sender._sender_routine() running at /home/saifulkhan/CODE/SKA/streaming-vis-perf/broker/venv/lib/python3.9/site-packages/aiokafka/producer/sender.py:147> wait_for=<Future pending cb=[<TaskWakeupMethWrapper object at 0x7fe8bca8eeb0>()]> cb=[Sender._fail_all()]>\n",
      "Task was destroyed but it is pending!\n",
      "task: <Task pending name='Task-1133' coro=<Sender._sender_routine() running at /home/saifulkhan/CODE/SKA/streaming-vis-perf/broker/venv/lib/python3.9/site-packages/aiokafka/producer/sender.py:147> wait_for=<Future pending cb=[<TaskWakeupMethWrapper object at 0x7fe8bca348b0>()]> cb=[Sender._fail_all()]>\n"
     ]
    },
    {
     "name": "stdout",
     "output_type": "stream",
     "text": [
      "idx = 11, channels[idx] = 300000\n"
     ]
    },
    {
     "name": "stderr",
     "output_type": "stream",
     "text": [
      "Unclosed AIOKafkaProducer\n",
      "producer: <aiokafka.producer.producer.AIOKafkaProducer object at 0x7fe8be186880>\n"
     ]
    },
    {
     "name": "stdout",
     "output_type": "stream",
     "text": [
      "idx = 11, channels[idx] = 300000\n"
     ]
    },
    {
     "name": "stderr",
     "output_type": "stream",
     "text": [
      "Unclosed AIOKafkaProducer\n",
      "producer: <aiokafka.producer.producer.AIOKafkaProducer object at 0x7fe8bcb36f70>\n"
     ]
    },
    {
     "name": "stdout",
     "output_type": "stream",
     "text": [
      "idx = 11, channels[idx] = 300000\n"
     ]
    },
    {
     "name": "stderr",
     "output_type": "stream",
     "text": [
      "Unclosed AIOKafkaProducer\n",
      "producer: <aiokafka.producer.producer.AIOKafkaProducer object at 0x7fe8bca8e610>\n",
      "Task was destroyed but it is pending!\n",
      "task: <Task pending name='Task-1173' coro=<Sender._sender_routine() running at /home/saifulkhan/CODE/SKA/streaming-vis-perf/broker/venv/lib/python3.9/site-packages/aiokafka/producer/sender.py:147> wait_for=<Future pending cb=[<TaskWakeupMethWrapper object at 0x7fe8bcd7c340>()]> cb=[Sender._fail_all()]>\n",
      "Task was destroyed but it is pending!\n",
      "task: <Task pending name='Task-1183' coro=<Sender._sender_routine() running at /home/saifulkhan/CODE/SKA/streaming-vis-perf/broker/venv/lib/python3.9/site-packages/aiokafka/producer/sender.py:147> wait_for=<Future pending cb=[<TaskWakeupMethWrapper object at 0x7fe8bcb36f70>()]> cb=[Sender._fail_all()]>\n"
     ]
    },
    {
     "name": "stdout",
     "output_type": "stream",
     "text": [
      "idx = 11, channels[idx] = 300000\n"
     ]
    },
    {
     "name": "stderr",
     "output_type": "stream",
     "text": [
      "Unclosed AIOKafkaProducer\n",
      "producer: <aiokafka.producer.producer.AIOKafkaProducer object at 0x7fe8bdabd970>\n"
     ]
    },
    {
     "name": "stdout",
     "output_type": "stream",
     "text": [
      "idx = 11, channels[idx] = 300000\n"
     ]
    },
    {
     "name": "stderr",
     "output_type": "stream",
     "text": [
      "Unclosed AIOKafkaProducer\n",
      "producer: <aiokafka.producer.producer.AIOKafkaProducer object at 0x7fe8bccf49d0>\n"
     ]
    },
    {
     "name": "stdout",
     "output_type": "stream",
     "text": [
      "idx = 11, channels[idx] = 300000\n"
     ]
    },
    {
     "name": "stderr",
     "output_type": "stream",
     "text": [
      "Unclosed AIOKafkaProducer\n",
      "producer: <aiokafka.producer.producer.AIOKafkaProducer object at 0x7fe8bc9afc70>\n",
      "Task was destroyed but it is pending!\n",
      "task: <Task pending name='Task-1203' coro=<Sender._sender_routine() running at /home/saifulkhan/CODE/SKA/streaming-vis-perf/broker/venv/lib/python3.9/site-packages/aiokafka/producer/sender.py:147> wait_for=<Future pending cb=[<TaskWakeupMethWrapper object at 0x7fe8bc9af070>()]> cb=[Sender._fail_all()]>\n",
      "Task was destroyed but it is pending!\n",
      "task: <Task pending name='Task-1213' coro=<Sender._sender_routine() running at /home/saifulkhan/CODE/SKA/streaming-vis-perf/broker/venv/lib/python3.9/site-packages/aiokafka/producer/sender.py:147> wait_for=<Future pending cb=[<TaskWakeupMethWrapper object at 0x7fe8bc9afc10>()]> cb=[Sender._fail_all()]>\n"
     ]
    },
    {
     "name": "stdout",
     "output_type": "stream",
     "text": [
      "idx = 11, channels[idx] = 300000\n"
     ]
    },
    {
     "name": "stderr",
     "output_type": "stream",
     "text": [
      "Unclosed AIOKafkaProducer\n",
      "producer: <aiokafka.producer.producer.AIOKafkaProducer object at 0x7fe8bca34b50>\n"
     ]
    },
    {
     "name": "stdout",
     "output_type": "stream",
     "text": [
      "idx = 11, channels[idx] = 300000\n"
     ]
    },
    {
     "name": "stderr",
     "output_type": "stream",
     "text": [
      "Unclosed AIOKafkaProducer\n",
      "producer: <aiokafka.producer.producer.AIOKafkaProducer object at 0x7fe8bc9aff70>\n"
     ]
    },
    {
     "name": "stdout",
     "output_type": "stream",
     "text": [
      "idx = 11, channels[idx] = 300000\n"
     ]
    },
    {
     "name": "stderr",
     "output_type": "stream",
     "text": [
      "Unclosed AIOKafkaProducer\n",
      "producer: <aiokafka.producer.producer.AIOKafkaProducer object at 0x7fe8be137b80>\n",
      "Task was destroyed but it is pending!\n",
      "task: <Task pending name='Task-1233' coro=<Sender._sender_routine() running at /home/saifulkhan/CODE/SKA/streaming-vis-perf/broker/venv/lib/python3.9/site-packages/aiokafka/producer/sender.py:147> wait_for=<Future pending cb=[<TaskWakeupMethWrapper object at 0x7fe8be1375b0>()]> cb=[Sender._fail_all()]>\n",
      "Task was destroyed but it is pending!\n",
      "task: <Task pending name='Task-1243' coro=<Sender._sender_routine() running at /home/saifulkhan/CODE/SKA/streaming-vis-perf/broker/venv/lib/python3.9/site-packages/aiokafka/producer/sender.py:147> wait_for=<Future pending cb=[<TaskWakeupMethWrapper object at 0x7fe8be137f10>()]> cb=[Sender._fail_all()]>\n"
     ]
    },
    {
     "name": "stdout",
     "output_type": "stream",
     "text": [
      "idx = 12, channels[idx] = 325000\n"
     ]
    },
    {
     "name": "stderr",
     "output_type": "stream",
     "text": [
      "Unclosed AIOKafkaProducer\n",
      "producer: <aiokafka.producer.producer.AIOKafkaProducer object at 0x7fe8be137fa0>\n"
     ]
    },
    {
     "name": "stdout",
     "output_type": "stream",
     "text": [
      "idx = 12, channels[idx] = 325000\n"
     ]
    },
    {
     "name": "stderr",
     "output_type": "stream",
     "text": [
      "Unclosed AIOKafkaProducer\n",
      "producer: <aiokafka.producer.producer.AIOKafkaProducer object at 0x7fe8be137c40>\n"
     ]
    },
    {
     "name": "stdout",
     "output_type": "stream",
     "text": [
      "idx = 12, channels[idx] = 325000\n"
     ]
    },
    {
     "name": "stderr",
     "output_type": "stream",
     "text": [
      "Unclosed AIOKafkaProducer\n",
      "producer: <aiokafka.producer.producer.AIOKafkaProducer object at 0x7fe8bc8119d0>\n"
     ]
    },
    {
     "name": "stdout",
     "output_type": "stream",
     "text": [
      "idx = 12, channels[idx] = 325000\n"
     ]
    },
    {
     "name": "stderr",
     "output_type": "stream",
     "text": [
      "Unclosed AIOKafkaProducer\n",
      "producer: <aiokafka.producer.producer.AIOKafkaProducer object at 0x7fe8bc811eb0>\n",
      "Task was destroyed but it is pending!\n",
      "task: <Task pending name='Task-1263' coro=<Sender._sender_routine() running at /home/saifulkhan/CODE/SKA/streaming-vis-perf/broker/venv/lib/python3.9/site-packages/aiokafka/producer/sender.py:147> wait_for=<Future pending cb=[<TaskWakeupMethWrapper object at 0x7fe8bc8115e0>()]> cb=[Sender._fail_all()]>\n",
      "Task was destroyed but it is pending!\n",
      "task: <Task pending name='Task-1273' coro=<Sender._sender_routine() running at /home/saifulkhan/CODE/SKA/streaming-vis-perf/broker/venv/lib/python3.9/site-packages/aiokafka/producer/sender.py:147> wait_for=<Future pending cb=[<TaskWakeupMethWrapper object at 0x7fe8bc811820>()]> cb=[Sender._fail_all()]>\n",
      "Task was destroyed but it is pending!\n",
      "task: <Task pending name='Task-1283' coro=<Sender._sender_routine() running at /home/saifulkhan/CODE/SKA/streaming-vis-perf/broker/venv/lib/python3.9/site-packages/aiokafka/producer/sender.py:147> wait_for=<Future pending cb=[<TaskWakeupMethWrapper object at 0x7fe8bdfb6370>()]> cb=[Sender._fail_all()]>\n"
     ]
    },
    {
     "name": "stdout",
     "output_type": "stream",
     "text": [
      "idx = 12, channels[idx] = 325000\n"
     ]
    },
    {
     "name": "stderr",
     "output_type": "stream",
     "text": [
      "Unclosed AIOKafkaProducer\n",
      "producer: <aiokafka.producer.producer.AIOKafkaProducer object at 0x7fe8bdfb6190>\n"
     ]
    },
    {
     "name": "stdout",
     "output_type": "stream",
     "text": [
      "idx = 12, channels[idx] = 325000\n"
     ]
    },
    {
     "name": "stderr",
     "output_type": "stream",
     "text": [
      "Unclosed AIOKafkaProducer\n",
      "producer: <aiokafka.producer.producer.AIOKafkaProducer object at 0x7fe8bdfb6520>\n"
     ]
    },
    {
     "name": "stdout",
     "output_type": "stream",
     "text": [
      "idx = 12, channels[idx] = 325000\n"
     ]
    },
    {
     "name": "stderr",
     "output_type": "stream",
     "text": [
      "Unclosed AIOKafkaProducer\n",
      "producer: <aiokafka.producer.producer.AIOKafkaProducer object at 0x7fe8bdfb6280>\n",
      "Task was destroyed but it is pending!\n",
      "task: <Task pending name='Task-1303' coro=<Sender._sender_routine() running at /home/saifulkhan/CODE/SKA/streaming-vis-perf/broker/venv/lib/python3.9/site-packages/aiokafka/producer/sender.py:147> wait_for=<Future pending cb=[<TaskWakeupMethWrapper object at 0x7fe8bdfb6790>()]> cb=[Sender._fail_all()]>\n",
      "Task was destroyed but it is pending!\n",
      "task: <Task pending name='Task-1313' coro=<Sender._sender_routine() running at /home/saifulkhan/CODE/SKA/streaming-vis-perf/broker/venv/lib/python3.9/site-packages/aiokafka/producer/sender.py:147> wait_for=<Future pending cb=[<TaskWakeupMethWrapper object at 0x7fe8bc722130>()]> cb=[Sender._fail_all()]>\n"
     ]
    },
    {
     "name": "stdout",
     "output_type": "stream",
     "text": [
      "idx = 12, channels[idx] = 325000\n"
     ]
    },
    {
     "name": "stderr",
     "output_type": "stream",
     "text": [
      "Unclosed AIOKafkaProducer\n",
      "producer: <aiokafka.producer.producer.AIOKafkaProducer object at 0x7fe8bc722340>\n"
     ]
    },
    {
     "name": "stdout",
     "output_type": "stream",
     "text": [
      "idx = 12, channels[idx] = 325000\n"
     ]
    },
    {
     "name": "stderr",
     "output_type": "stream",
     "text": [
      "Unclosed AIOKafkaProducer\n",
      "producer: <aiokafka.producer.producer.AIOKafkaProducer object at 0x7fe8bc722f40>\n"
     ]
    },
    {
     "name": "stdout",
     "output_type": "stream",
     "text": [
      "idx = 12, channels[idx] = 325000\n"
     ]
    },
    {
     "name": "stderr",
     "output_type": "stream",
     "text": [
      "Unclosed AIOKafkaProducer\n",
      "producer: <aiokafka.producer.producer.AIOKafkaProducer object at 0x7fe8bc722280>\n",
      "Task was destroyed but it is pending!\n",
      "task: <Task pending name='Task-1333' coro=<Sender._sender_routine() running at /home/saifulkhan/CODE/SKA/streaming-vis-perf/broker/venv/lib/python3.9/site-packages/aiokafka/producer/sender.py:147> wait_for=<Future pending cb=[<TaskWakeupMethWrapper object at 0x7fe8bdef5880>()]> cb=[Sender._fail_all()]>\n",
      "Task was destroyed but it is pending!\n",
      "task: <Task pending name='Task-1343' coro=<Sender._sender_routine() running at /home/saifulkhan/CODE/SKA/streaming-vis-perf/broker/venv/lib/python3.9/site-packages/aiokafka/producer/sender.py:147> wait_for=<Future pending cb=[<TaskWakeupMethWrapper object at 0x7fe8bc6ec370>()]> cb=[Sender._fail_all()]>\n"
     ]
    },
    {
     "name": "stdout",
     "output_type": "stream",
     "text": [
      "idx = 13, channels[idx] = 350000\n"
     ]
    },
    {
     "name": "stderr",
     "output_type": "stream",
     "text": [
      "Unclosed AIOKafkaProducer\n",
      "producer: <aiokafka.producer.producer.AIOKafkaProducer object at 0x7fe8bc6ec790>\n"
     ]
    },
    {
     "name": "stdout",
     "output_type": "stream",
     "text": [
      "idx = 13, channels[idx] = 350000\n"
     ]
    },
    {
     "name": "stderr",
     "output_type": "stream",
     "text": [
      "Unclosed AIOKafkaProducer\n",
      "producer: <aiokafka.producer.producer.AIOKafkaProducer object at 0x7fe8bc6ec070>\n"
     ]
    },
    {
     "name": "stdout",
     "output_type": "stream",
     "text": [
      "idx = 13, channels[idx] = 350000\n"
     ]
    },
    {
     "name": "stderr",
     "output_type": "stream",
     "text": [
      "Unclosed AIOKafkaProducer\n",
      "producer: <aiokafka.producer.producer.AIOKafkaProducer object at 0x7fe8bc6ec370>\n",
      "Task was destroyed but it is pending!\n",
      "task: <Task pending name='Task-1363' coro=<Sender._sender_routine() running at /home/saifulkhan/CODE/SKA/streaming-vis-perf/broker/venv/lib/python3.9/site-packages/aiokafka/producer/sender.py:147> wait_for=<Future pending cb=[<TaskWakeupMethWrapper object at 0x7fe8bc6ecfd0>()]> cb=[Sender._fail_all()]>\n",
      "Task was destroyed but it is pending!\n",
      "task: <Task pending name='Task-1373' coro=<Sender._sender_routine() running at /home/saifulkhan/CODE/SKA/streaming-vis-perf/broker/venv/lib/python3.9/site-packages/aiokafka/producer/sender.py:147> wait_for=<Future pending cb=[<TaskWakeupMethWrapper object at 0x7fe8bc674040>()]> cb=[Sender._fail_all()]>\n"
     ]
    },
    {
     "name": "stdout",
     "output_type": "stream",
     "text": [
      "idx = 13, channels[idx] = 350000\n"
     ]
    },
    {
     "name": "stderr",
     "output_type": "stream",
     "text": [
      "Unclosed AIOKafkaProducer\n",
      "producer: <aiokafka.producer.producer.AIOKafkaProducer object at 0x7fe8bc674280>\n"
     ]
    },
    {
     "name": "stdout",
     "output_type": "stream",
     "text": [
      "idx = 13, channels[idx] = 350000\n"
     ]
    },
    {
     "name": "stderr",
     "output_type": "stream",
     "text": [
      "Unclosed AIOKafkaProducer\n",
      "producer: <aiokafka.producer.producer.AIOKafkaProducer object at 0x7fe8bc6745b0>\n"
     ]
    },
    {
     "name": "stdout",
     "output_type": "stream",
     "text": [
      "idx = 13, channels[idx] = 350000\n"
     ]
    },
    {
     "name": "stderr",
     "output_type": "stream",
     "text": [
      "Unclosed AIOKafkaProducer\n",
      "producer: <aiokafka.producer.producer.AIOKafkaProducer object at 0x7fe8bc674e20>\n",
      "Task was destroyed but it is pending!\n",
      "task: <Task pending name='Task-1393' coro=<Sender._sender_routine() running at /home/saifulkhan/CODE/SKA/streaming-vis-perf/broker/venv/lib/python3.9/site-packages/aiokafka/producer/sender.py:147> wait_for=<Future pending cb=[<TaskWakeupMethWrapper object at 0x7fe8bc674c40>()]> cb=[Sender._fail_all()]>\n",
      "Task was destroyed but it is pending!\n",
      "task: <Task pending name='Task-1403' coro=<Sender._sender_routine() running at /home/saifulkhan/CODE/SKA/streaming-vis-perf/broker/venv/lib/python3.9/site-packages/aiokafka/producer/sender.py:147> wait_for=<Future pending cb=[<TaskWakeupMethWrapper object at 0x7fe8bbb94040>()]> cb=[Sender._fail_all()]>\n"
     ]
    },
    {
     "name": "stdout",
     "output_type": "stream",
     "text": [
      "idx = 13, channels[idx] = 350000\n"
     ]
    },
    {
     "name": "stderr",
     "output_type": "stream",
     "text": [
      "Unclosed AIOKafkaProducer\n",
      "producer: <aiokafka.producer.producer.AIOKafkaProducer object at 0x7fe8bbb94910>\n"
     ]
    },
    {
     "name": "stdout",
     "output_type": "stream",
     "text": [
      "idx = 13, channels[idx] = 350000\n"
     ]
    },
    {
     "name": "stderr",
     "output_type": "stream",
     "text": [
      "Unclosed AIOKafkaProducer\n",
      "producer: <aiokafka.producer.producer.AIOKafkaProducer object at 0x7fe8bbb94670>\n"
     ]
    },
    {
     "name": "stdout",
     "output_type": "stream",
     "text": [
      "idx = 13, channels[idx] = 350000\n"
     ]
    },
    {
     "name": "stderr",
     "output_type": "stream",
     "text": [
      "Unclosed AIOKafkaProducer\n",
      "producer: <aiokafka.producer.producer.AIOKafkaProducer object at 0x7fe8bbb94670>\n"
     ]
    },
    {
     "name": "stdout",
     "output_type": "stream",
     "text": [
      "idx = 13, channels[idx] = 350000\n"
     ]
    },
    {
     "name": "stderr",
     "output_type": "stream",
     "text": [
      "Unclosed AIOKafkaProducer\n",
      "producer: <aiokafka.producer.producer.AIOKafkaProducer object at 0x7fe8bbb5d1c0>\n",
      "Task was destroyed but it is pending!\n",
      "task: <Task pending name='Task-1423' coro=<Sender._sender_routine() running at /home/saifulkhan/CODE/SKA/streaming-vis-perf/broker/venv/lib/python3.9/site-packages/aiokafka/producer/sender.py:147> wait_for=<Future pending cb=[<TaskWakeupMethWrapper object at 0x7fe8bbb94ac0>()]> cb=[Sender._fail_all()]>\n",
      "Task was destroyed but it is pending!\n",
      "task: <Task pending name='Task-1433' coro=<Sender._sender_routine() running at /home/saifulkhan/CODE/SKA/streaming-vis-perf/broker/venv/lib/python3.9/site-packages/aiokafka/producer/sender.py:147> wait_for=<Future pending cb=[<TaskWakeupMethWrapper object at 0x7fe8bbb5d370>()]> cb=[Sender._fail_all()]>\n",
      "Task was destroyed but it is pending!\n",
      "task: <Task pending name='Task-1443' coro=<Sender._sender_routine() running at /home/saifulkhan/CODE/SKA/streaming-vis-perf/broker/venv/lib/python3.9/site-packages/aiokafka/producer/sender.py:147> wait_for=<Future pending cb=[<TaskWakeupMethWrapper object at 0x7fe8bbb5d460>()]> cb=[Sender._fail_all()]>\n"
     ]
    },
    {
     "name": "stdout",
     "output_type": "stream",
     "text": [
      "idx = 14, channels[idx] = 375000\n"
     ]
    },
    {
     "name": "stderr",
     "output_type": "stream",
     "text": [
      "Unclosed AIOKafkaProducer\n",
      "producer: <aiokafka.producer.producer.AIOKafkaProducer object at 0x7fe8bbb5dd60>\n"
     ]
    },
    {
     "name": "stdout",
     "output_type": "stream",
     "text": [
      "idx = 14, channels[idx] = 375000\n"
     ]
    },
    {
     "name": "stderr",
     "output_type": "stream",
     "text": [
      "Unclosed AIOKafkaProducer\n",
      "producer: <aiokafka.producer.producer.AIOKafkaProducer object at 0x7fe8bbb5d700>\n"
     ]
    },
    {
     "name": "stdout",
     "output_type": "stream",
     "text": [
      "idx = 14, channels[idx] = 375000\n"
     ]
    },
    {
     "name": "stderr",
     "output_type": "stream",
     "text": [
      "Unclosed AIOKafkaProducer\n",
      "producer: <aiokafka.producer.producer.AIOKafkaProducer object at 0x7fe8bbac6640>\n",
      "Task was destroyed but it is pending!\n",
      "task: <Task pending name='Task-1463' coro=<Sender._sender_routine() running at /home/saifulkhan/CODE/SKA/streaming-vis-perf/broker/venv/lib/python3.9/site-packages/aiokafka/producer/sender.py:147> wait_for=<Future pending cb=[<TaskWakeupMethWrapper object at 0x7fe8bbac6280>()]> cb=[Sender._fail_all()]>\n",
      "Task was destroyed but it is pending!\n",
      "task: <Task pending name='Task-1473' coro=<Sender._sender_routine() running at /home/saifulkhan/CODE/SKA/streaming-vis-perf/broker/venv/lib/python3.9/site-packages/aiokafka/producer/sender.py:147> wait_for=<Future pending cb=[<TaskWakeupMethWrapper object at 0x7fe8bbac64c0>()]> cb=[Sender._fail_all()]>\n"
     ]
    },
    {
     "name": "stdout",
     "output_type": "stream",
     "text": [
      "idx = 14, channels[idx] = 375000\n"
     ]
    },
    {
     "name": "stderr",
     "output_type": "stream",
     "text": [
      "Unclosed AIOKafkaProducer\n",
      "producer: <aiokafka.producer.producer.AIOKafkaProducer object at 0x7fe8bbac63d0>\n"
     ]
    },
    {
     "name": "stdout",
     "output_type": "stream",
     "text": [
      "idx = 14, channels[idx] = 375000\n"
     ]
    },
    {
     "name": "stderr",
     "output_type": "stream",
     "text": [
      "Unclosed AIOKafkaProducer\n",
      "producer: <aiokafka.producer.producer.AIOKafkaProducer object at 0x7fe8bbac63d0>\n"
     ]
    },
    {
     "name": "stdout",
     "output_type": "stream",
     "text": [
      "idx = 14, channels[idx] = 375000\n"
     ]
    },
    {
     "name": "stderr",
     "output_type": "stream",
     "text": [
      "Unclosed AIOKafkaProducer\n",
      "producer: <aiokafka.producer.producer.AIOKafkaProducer object at 0x7fe8bbac62e0>\n",
      "Task was destroyed but it is pending!\n",
      "task: <Task pending name='Task-1493' coro=<Sender._sender_routine() running at /home/saifulkhan/CODE/SKA/streaming-vis-perf/broker/venv/lib/python3.9/site-packages/aiokafka/producer/sender.py:147> wait_for=<Future pending cb=[<TaskWakeupMethWrapper object at 0x7fe8bba33190>()]> cb=[Sender._fail_all()]>\n",
      "Task was destroyed but it is pending!\n",
      "task: <Task pending name='Task-1503' coro=<Sender._sender_routine() running at /home/saifulkhan/CODE/SKA/streaming-vis-perf/broker/venv/lib/python3.9/site-packages/aiokafka/producer/sender.py:147> wait_for=<Future pending cb=[<TaskWakeupMethWrapper object at 0x7fe8bba33910>()]> cb=[Sender._fail_all()]>\n"
     ]
    },
    {
     "name": "stdout",
     "output_type": "stream",
     "text": [
      "idx = 14, channels[idx] = 375000\n"
     ]
    },
    {
     "name": "stderr",
     "output_type": "stream",
     "text": [
      "Unclosed AIOKafkaProducer\n",
      "producer: <aiokafka.producer.producer.AIOKafkaProducer object at 0x7fe8bba33e20>\n",
      "Task was destroyed but it is pending!\n",
      "task: <Task pending name='Task-1163' coro=<Sender._sender_routine() running at /home/saifulkhan/CODE/SKA/streaming-vis-perf/broker/venv/lib/python3.9/site-packages/aiokafka/producer/sender.py:147> wait_for=<Future pending cb=[<TaskWakeupMethWrapper object at 0x7fe8bca8eeb0>()]> cb=[Sender._fail_all()]>\n",
      "Task was destroyed but it is pending!\n",
      "task: <Task pending name='Task-1193' coro=<Sender._sender_routine() running at /home/saifulkhan/CODE/SKA/streaming-vis-perf/broker/venv/lib/python3.9/site-packages/aiokafka/producer/sender.py:147> wait_for=<Future pending cb=[<TaskWakeupMethWrapper object at 0x7fe8bcc411f0>()]> cb=[Sender._fail_all()]>\n",
      "Task was destroyed but it is pending!\n",
      "task: <Task pending name='Task-1223' coro=<Sender._sender_routine() running at /home/saifulkhan/CODE/SKA/streaming-vis-perf/broker/venv/lib/python3.9/site-packages/aiokafka/producer/sender.py:147> wait_for=<Future pending cb=[<TaskWakeupMethWrapper object at 0x7fe8bca34c70>()]> cb=[Sender._fail_all()]>\n",
      "Task was destroyed but it is pending!\n",
      "task: <Task pending name='Task-1253' coro=<Sender._sender_routine() running at /home/saifulkhan/CODE/SKA/streaming-vis-perf/broker/venv/lib/python3.9/site-packages/aiokafka/producer/sender.py:147> wait_for=<Future pending cb=[<TaskWakeupMethWrapper object at 0x7fe8be137ca0>()]> cb=[Sender._fail_all()]>\n",
      "Task was destroyed but it is pending!\n",
      "task: <Task pending name='Task-1293' coro=<Sender._sender_routine() running at /home/saifulkhan/CODE/SKA/streaming-vis-perf/broker/venv/lib/python3.9/site-packages/aiokafka/producer/sender.py:147> wait_for=<Future pending cb=[<TaskWakeupMethWrapper object at 0x7fe8bc811100>()]> cb=[Sender._fail_all()]>\n",
      "Task was destroyed but it is pending!\n",
      "task: <Task pending name='Task-1323' coro=<Sender._sender_routine() running at /home/saifulkhan/CODE/SKA/streaming-vis-perf/broker/venv/lib/python3.9/site-packages/aiokafka/producer/sender.py:147> wait_for=<Future pending cb=[<TaskWakeupMethWrapper object at 0x7fe8bc7229d0>()]> cb=[Sender._fail_all()]>\n",
      "Task was destroyed but it is pending!\n",
      "task: <Task pending name='Task-1353' coro=<Sender._sender_routine() running at /home/saifulkhan/CODE/SKA/streaming-vis-perf/broker/venv/lib/python3.9/site-packages/aiokafka/producer/sender.py:147> wait_for=<Future pending cb=[<TaskWakeupMethWrapper object at 0x7fe8bdef55e0>()]> cb=[Sender._fail_all()]>\n",
      "Task was destroyed but it is pending!\n",
      "task: <Task pending name='Task-1383' coro=<Sender._sender_routine() running at /home/saifulkhan/CODE/SKA/streaming-vis-perf/broker/venv/lib/python3.9/site-packages/aiokafka/producer/sender.py:147> wait_for=<Future pending cb=[<TaskWakeupMethWrapper object at 0x7fe8bc674fa0>()]> cb=[Sender._fail_all()]>\n",
      "Task was destroyed but it is pending!\n",
      "task: <Task pending name='Task-1413' coro=<Sender._sender_routine() running at /home/saifulkhan/CODE/SKA/streaming-vis-perf/broker/venv/lib/python3.9/site-packages/aiokafka/producer/sender.py:147> wait_for=<Future pending cb=[<TaskWakeupMethWrapper object at 0x7fe8bbb94760>()]> cb=[Sender._fail_all()]>\n",
      "Task was destroyed but it is pending!\n",
      "task: <Task pending name='Task-1453' coro=<Sender._sender_routine() running at /home/saifulkhan/CODE/SKA/streaming-vis-perf/broker/venv/lib/python3.9/site-packages/aiokafka/producer/sender.py:147> wait_for=<Future pending cb=[<TaskWakeupMethWrapper object at 0x7fe8bbb5de20>()]> cb=[Sender._fail_all()]>\n",
      "Task was destroyed but it is pending!\n",
      "task: <Task pending name='Task-1483' coro=<Sender._sender_routine() running at /home/saifulkhan/CODE/SKA/streaming-vis-perf/broker/venv/lib/python3.9/site-packages/aiokafka/producer/sender.py:147> wait_for=<Future pending cb=[<TaskWakeupMethWrapper object at 0x7fe8bbac6eb0>()]> cb=[Sender._fail_all()]>\n",
      "Task was destroyed but it is pending!\n",
      "task: <Task pending name='Task-1513' coro=<Sender._sender_routine() done, defined at /home/saifulkhan/CODE/SKA/streaming-vis-perf/broker/venv/lib/python3.9/site-packages/aiokafka/producer/sender.py:81> wait_for=<Future pending cb=[<TaskWakeupMethWrapper object at 0x7fe8bba332b0>()]> cb=[Sender._fail_all()]>\n"
     ]
    },
    {
     "name": "stdout",
     "output_type": "stream",
     "text": [
      "idx = 14, channels[idx] = 375000\n"
     ]
    },
    {
     "name": "stderr",
     "output_type": "stream",
     "text": [
      "Unclosed AIOKafkaProducer\n",
      "producer: <aiokafka.producer.producer.AIOKafkaProducer object at 0x7fe8bdc6d460>\n"
     ]
    },
    {
     "name": "stdout",
     "output_type": "stream",
     "text": [
      "idx = 14, channels[idx] = 375000\n"
     ]
    },
    {
     "name": "stderr",
     "output_type": "stream",
     "text": [
      "Unclosed AIOKafkaProducer\n",
      "producer: <aiokafka.producer.producer.AIOKafkaProducer object at 0x7fe8bbb5dfd0>\n"
     ]
    },
    {
     "name": "stdout",
     "output_type": "stream",
     "text": [
      "idx = 14, channels[idx] = 375000\n"
     ]
    },
    {
     "name": "stderr",
     "output_type": "stream",
     "text": [
      "Unclosed AIOKafkaProducer\n",
      "producer: <aiokafka.producer.producer.AIOKafkaProducer object at 0x7fe8bc6ec8e0>\n",
      "Task was destroyed but it is pending!\n",
      "task: <Task pending name='Task-1533' coro=<Sender._sender_routine() running at /home/saifulkhan/CODE/SKA/streaming-vis-perf/broker/venv/lib/python3.9/site-packages/aiokafka/producer/sender.py:147> wait_for=<Future pending cb=[<TaskWakeupMethWrapper object at 0x7fe8bdbc8d00>()]> cb=[Sender._fail_all()]>\n",
      "Task was destroyed but it is pending!\n",
      "task: <Task pending name='Task-1543' coro=<Sender._sender_routine() running at /home/saifulkhan/CODE/SKA/streaming-vis-perf/broker/venv/lib/python3.9/site-packages/aiokafka/producer/sender.py:147> wait_for=<Future pending cb=[<TaskWakeupMethWrapper object at 0x7fe8bba33880>()]> cb=[Sender._fail_all()]>\n"
     ]
    },
    {
     "name": "stdout",
     "output_type": "stream",
     "text": [
      "idx = 15, channels[idx] = 400000\n"
     ]
    },
    {
     "name": "stderr",
     "output_type": "stream",
     "text": [
      "Unclosed AIOKafkaProducer\n",
      "producer: <aiokafka.producer.producer.AIOKafkaProducer object at 0x7fe8bc722280>\n"
     ]
    },
    {
     "name": "stdout",
     "output_type": "stream",
     "text": [
      "idx = 15, channels[idx] = 400000\n"
     ]
    },
    {
     "name": "stderr",
     "output_type": "stream",
     "text": [
      "Unclosed AIOKafkaProducer\n",
      "producer: <aiokafka.producer.producer.AIOKafkaProducer object at 0x7fe8bdbc8dc0>\n"
     ]
    },
    {
     "name": "stdout",
     "output_type": "stream",
     "text": [
      "idx = 15, channels[idx] = 400000\n"
     ]
    },
    {
     "name": "stderr",
     "output_type": "stream",
     "text": [
      "Unclosed AIOKafkaProducer\n",
      "producer: <aiokafka.producer.producer.AIOKafkaProducer object at 0x7fe8bba16b80>\n",
      "Task was destroyed but it is pending!\n",
      "task: <Task pending name='Task-1563' coro=<Sender._sender_routine() running at /home/saifulkhan/CODE/SKA/streaming-vis-perf/broker/venv/lib/python3.9/site-packages/aiokafka/producer/sender.py:147> wait_for=<Future pending cb=[<TaskWakeupMethWrapper object at 0x7fe8bba165b0>()]> cb=[Sender._fail_all()]>\n",
      "Task was destroyed but it is pending!\n",
      "task: <Task pending name='Task-1573' coro=<Sender._sender_routine() running at /home/saifulkhan/CODE/SKA/streaming-vis-perf/broker/venv/lib/python3.9/site-packages/aiokafka/producer/sender.py:147> wait_for=<Future pending cb=[<TaskWakeupMethWrapper object at 0x7fe8bba16a90>()]> cb=[Sender._fail_all()]>\n"
     ]
    },
    {
     "name": "stdout",
     "output_type": "stream",
     "text": [
      "idx = 15, channels[idx] = 400000\n"
     ]
    },
    {
     "name": "stderr",
     "output_type": "stream",
     "text": [
      "Unclosed AIOKafkaProducer\n",
      "producer: <aiokafka.producer.producer.AIOKafkaProducer object at 0x7fe8bba16c70>\n"
     ]
    },
    {
     "name": "stdout",
     "output_type": "stream",
     "text": [
      "idx = 15, channels[idx] = 400000\n"
     ]
    },
    {
     "name": "stderr",
     "output_type": "stream",
     "text": [
      "Unclosed AIOKafkaProducer\n",
      "producer: <aiokafka.producer.producer.AIOKafkaProducer object at 0x7fe8bba16c70>\n"
     ]
    },
    {
     "name": "stdout",
     "output_type": "stream",
     "text": [
      "idx = 15, channels[idx] = 400000\n"
     ]
    },
    {
     "name": "stderr",
     "output_type": "stream",
     "text": [
      "Unclosed AIOKafkaProducer\n",
      "producer: <aiokafka.producer.producer.AIOKafkaProducer object at 0x7fe8bb9047f0>\n",
      "Task was destroyed but it is pending!\n",
      "task: <Task pending name='Task-1593' coro=<Sender._sender_routine() running at /home/saifulkhan/CODE/SKA/streaming-vis-perf/broker/venv/lib/python3.9/site-packages/aiokafka/producer/sender.py:147> wait_for=<Future pending cb=[<TaskWakeupMethWrapper object at 0x7fe8bb904520>()]> cb=[Sender._fail_all()]>\n",
      "Task was destroyed but it is pending!\n",
      "task: <Task pending name='Task-1603' coro=<Sender._sender_routine() running at /home/saifulkhan/CODE/SKA/streaming-vis-perf/broker/venv/lib/python3.9/site-packages/aiokafka/producer/sender.py:147> wait_for=<Future pending cb=[<TaskWakeupMethWrapper object at 0x7fe8bb9044f0>()]> cb=[Sender._fail_all()]>\n"
     ]
    },
    {
     "name": "stdout",
     "output_type": "stream",
     "text": [
      "idx = 15, channels[idx] = 400000\n"
     ]
    },
    {
     "name": "stderr",
     "output_type": "stream",
     "text": [
      "Unclosed AIOKafkaProducer\n",
      "producer: <aiokafka.producer.producer.AIOKafkaProducer object at 0x7fe8bb904100>\n"
     ]
    },
    {
     "name": "stdout",
     "output_type": "stream",
     "text": [
      "idx = 15, channels[idx] = 400000\n"
     ]
    },
    {
     "name": "stderr",
     "output_type": "stream",
     "text": [
      "Unclosed AIOKafkaProducer\n",
      "producer: <aiokafka.producer.producer.AIOKafkaProducer object at 0x7fe8bdbc8b50>\n"
     ]
    },
    {
     "name": "stdout",
     "output_type": "stream",
     "text": [
      "idx = 15, channels[idx] = 400000\n"
     ]
    },
    {
     "name": "stderr",
     "output_type": "stream",
     "text": [
      "Unclosed AIOKafkaProducer\n",
      "producer: <aiokafka.producer.producer.AIOKafkaProducer object at 0x7fe8bb86d3a0>\n"
     ]
    },
    {
     "name": "stdout",
     "output_type": "stream",
     "text": [
      "idx = 15, channels[idx] = 400000\n"
     ]
    },
    {
     "name": "stderr",
     "output_type": "stream",
     "text": [
      "Unclosed AIOKafkaProducer\n",
      "producer: <aiokafka.producer.producer.AIOKafkaProducer object at 0x7fe8bb86dca0>\n",
      "Task was destroyed but it is pending!\n",
      "task: <Task pending name='Task-1623' coro=<Sender._sender_routine() running at /home/saifulkhan/CODE/SKA/streaming-vis-perf/broker/venv/lib/python3.9/site-packages/aiokafka/producer/sender.py:147> wait_for=<Future pending cb=[<TaskWakeupMethWrapper object at 0x7fe8bb86d9a0>()]> cb=[Sender._fail_all()]>\n",
      "Task was destroyed but it is pending!\n",
      "task: <Task pending name='Task-1633' coro=<Sender._sender_routine() running at /home/saifulkhan/CODE/SKA/streaming-vis-perf/broker/venv/lib/python3.9/site-packages/aiokafka/producer/sender.py:147> wait_for=<Future pending cb=[<TaskWakeupMethWrapper object at 0x7fe8bb86d2e0>()]> cb=[Sender._fail_all()]>\n",
      "Task was destroyed but it is pending!\n",
      "task: <Task pending name='Task-1643' coro=<Sender._sender_routine() running at /home/saifulkhan/CODE/SKA/streaming-vis-perf/broker/venv/lib/python3.9/site-packages/aiokafka/producer/sender.py:147> wait_for=<Future pending cb=[<TaskWakeupMethWrapper object at 0x7fe8bb86dfd0>()]> cb=[Sender._fail_all()]>\n"
     ]
    },
    {
     "name": "stdout",
     "output_type": "stream",
     "text": [
      "idx = 16, channels[idx] = 425000\n"
     ]
    },
    {
     "name": "stderr",
     "output_type": "stream",
     "text": [
      "Unclosed AIOKafkaProducer\n",
      "producer: <aiokafka.producer.producer.AIOKafkaProducer object at 0x7fe8bb8574f0>\n"
     ]
    },
    {
     "name": "stdout",
     "output_type": "stream",
     "text": [
      "idx = 16, channels[idx] = 425000\n"
     ]
    },
    {
     "name": "stderr",
     "output_type": "stream",
     "text": [
      "Unclosed AIOKafkaProducer\n",
      "producer: <aiokafka.producer.producer.AIOKafkaProducer object at 0x7fe8bb86d340>\n"
     ]
    },
    {
     "name": "stdout",
     "output_type": "stream",
     "text": [
      "idx = 16, channels[idx] = 425000\n"
     ]
    },
    {
     "name": "stderr",
     "output_type": "stream",
     "text": [
      "Unclosed AIOKafkaProducer\n",
      "producer: <aiokafka.producer.producer.AIOKafkaProducer object at 0x7fe8bb857100>\n",
      "Task was destroyed but it is pending!\n",
      "task: <Task pending name='Task-1663' coro=<Sender._sender_routine() running at /home/saifulkhan/CODE/SKA/streaming-vis-perf/broker/venv/lib/python3.9/site-packages/aiokafka/producer/sender.py:147> wait_for=<Future pending cb=[<TaskWakeupMethWrapper object at 0x7fe8bb857670>()]> cb=[Sender._fail_all()]>\n",
      "Task was destroyed but it is pending!\n",
      "task: <Task pending name='Task-1673' coro=<Sender._sender_routine() running at /home/saifulkhan/CODE/SKA/streaming-vis-perf/broker/venv/lib/python3.9/site-packages/aiokafka/producer/sender.py:147> wait_for=<Future pending cb=[<TaskWakeupMethWrapper object at 0x7fe8bb857e20>()]> cb=[Sender._fail_all()]>\n"
     ]
    },
    {
     "name": "stdout",
     "output_type": "stream",
     "text": [
      "idx = 16, channels[idx] = 425000\n"
     ]
    },
    {
     "name": "stderr",
     "output_type": "stream",
     "text": [
      "Unclosed AIOKafkaProducer\n",
      "producer: <aiokafka.producer.producer.AIOKafkaProducer object at 0x7fe8bcf68310>\n"
     ]
    },
    {
     "name": "stdout",
     "output_type": "stream",
     "text": [
      "idx = 16, channels[idx] = 425000\n"
     ]
    },
    {
     "name": "stderr",
     "output_type": "stream",
     "text": [
      "Unclosed AIOKafkaProducer\n",
      "producer: <aiokafka.producer.producer.AIOKafkaProducer object at 0x7fe8bb8579a0>\n"
     ]
    },
    {
     "name": "stdout",
     "output_type": "stream",
     "text": [
      "idx = 16, channels[idx] = 425000\n"
     ]
    },
    {
     "name": "stderr",
     "output_type": "stream",
     "text": [
      "Unclosed AIOKafkaProducer\n",
      "producer: <aiokafka.producer.producer.AIOKafkaProducer object at 0x7fe8bcf68790>\n"
     ]
    },
    {
     "name": "stdout",
     "output_type": "stream",
     "text": [
      "idx = 16, channels[idx] = 425000\n"
     ]
    },
    {
     "name": "stderr",
     "output_type": "stream",
     "text": [
      "Unclosed AIOKafkaProducer\n",
      "producer: <aiokafka.producer.producer.AIOKafkaProducer object at 0x7fe8bb7543d0>\n",
      "Task was destroyed but it is pending!\n",
      "task: <Task pending name='Task-1693' coro=<Sender._sender_routine() running at /home/saifulkhan/CODE/SKA/streaming-vis-perf/broker/venv/lib/python3.9/site-packages/aiokafka/producer/sender.py:147> wait_for=<Future pending cb=[<TaskWakeupMethWrapper object at 0x7fe8bcf68940>()]> cb=[Sender._fail_all()]>\n",
      "Task was destroyed but it is pending!\n",
      "task: <Task pending name='Task-1703' coro=<Sender._sender_routine() running at /home/saifulkhan/CODE/SKA/streaming-vis-perf/broker/venv/lib/python3.9/site-packages/aiokafka/producer/sender.py:147> wait_for=<Future pending cb=[<TaskWakeupMethWrapper object at 0x7fe8bcf68d30>()]> cb=[Sender._fail_all()]>\n",
      "Task was destroyed but it is pending!\n",
      "task: <Task pending name='Task-1713' coro=<Sender._sender_routine() done, defined at /home/saifulkhan/CODE/SKA/streaming-vis-perf/broker/venv/lib/python3.9/site-packages/aiokafka/producer/sender.py:81> wait_for=<Future pending cb=[<TaskWakeupMethWrapper object at 0x7fe8bb7542b0>()]> cb=[Sender._fail_all()]>\n"
     ]
    },
    {
     "name": "stdout",
     "output_type": "stream",
     "text": [
      "idx = 16, channels[idx] = 425000\n"
     ]
    },
    {
     "name": "stderr",
     "output_type": "stream",
     "text": [
      "Unclosed AIOKafkaProducer\n",
      "producer: <aiokafka.producer.producer.AIOKafkaProducer object at 0x7fe8bb7547f0>\n"
     ]
    },
    {
     "name": "stdout",
     "output_type": "stream",
     "text": [
      "idx = 16, channels[idx] = 425000\n"
     ]
    },
    {
     "name": "stderr",
     "output_type": "stream",
     "text": [
      "Unclosed AIOKafkaProducer\n",
      "producer: <aiokafka.producer.producer.AIOKafkaProducer object at 0x7fe8bb754d90>\n"
     ]
    },
    {
     "name": "stdout",
     "output_type": "stream",
     "text": [
      "idx = 16, channels[idx] = 425000\n"
     ]
    },
    {
     "name": "stderr",
     "output_type": "stream",
     "text": [
      "Unclosed AIOKafkaProducer\n",
      "producer: <aiokafka.producer.producer.AIOKafkaProducer object at 0x7fe8bcf68790>\n",
      "Task was destroyed but it is pending!\n",
      "task: <Task pending name='Task-1733' coro=<Sender._sender_routine() running at /home/saifulkhan/CODE/SKA/streaming-vis-perf/broker/venv/lib/python3.9/site-packages/aiokafka/producer/sender.py:147> wait_for=<Future pending cb=[<TaskWakeupMethWrapper object at 0x7fe8bb7543d0>()]> cb=[Sender._fail_all()]>\n",
      "Task was destroyed but it is pending!\n",
      "task: <Task pending name='Task-1743' coro=<Sender._sender_routine() running at /home/saifulkhan/CODE/SKA/streaming-vis-perf/broker/venv/lib/python3.9/site-packages/aiokafka/producer/sender.py:147> wait_for=<Future pending cb=[<TaskWakeupMethWrapper object at 0x7fe8bb70d070>()]> cb=[Sender._fail_all()]>\n"
     ]
    },
    {
     "name": "stdout",
     "output_type": "stream",
     "text": [
      "idx = 17, channels[idx] = 450000\n"
     ]
    },
    {
     "name": "stderr",
     "output_type": "stream",
     "text": [
      "Unclosed AIOKafkaProducer\n",
      "producer: <aiokafka.producer.producer.AIOKafkaProducer object at 0x7fe8bb70d9a0>\n"
     ]
    },
    {
     "name": "stdout",
     "output_type": "stream",
     "text": [
      "idx = 17, channels[idx] = 450000\n"
     ]
    },
    {
     "name": "stderr",
     "output_type": "stream",
     "text": [
      "Unclosed AIOKafkaProducer\n",
      "producer: <aiokafka.producer.producer.AIOKafkaProducer object at 0x7fe8bb70dbe0>\n"
     ]
    },
    {
     "name": "stdout",
     "output_type": "stream",
     "text": [
      "idx = 17, channels[idx] = 450000\n"
     ]
    },
    {
     "name": "stderr",
     "output_type": "stream",
     "text": [
      "Unclosed AIOKafkaProducer\n",
      "producer: <aiokafka.producer.producer.AIOKafkaProducer object at 0x7fe8bb70d640>\n",
      "Task was destroyed but it is pending!\n",
      "task: <Task pending name='Task-1763' coro=<Sender._sender_routine() running at /home/saifulkhan/CODE/SKA/streaming-vis-perf/broker/venv/lib/python3.9/site-packages/aiokafka/producer/sender.py:147> wait_for=<Future pending cb=[<TaskWakeupMethWrapper object at 0x7fe8bb70d1c0>()]> cb=[Sender._fail_all()]>\n",
      "Task was destroyed but it is pending!\n",
      "task: <Task pending name='Task-1773' coro=<Sender._sender_routine() running at /home/saifulkhan/CODE/SKA/streaming-vis-perf/broker/venv/lib/python3.9/site-packages/aiokafka/producer/sender.py:147> wait_for=<Future pending cb=[<TaskWakeupMethWrapper object at 0x7fe8bcdca310>()]> cb=[Sender._fail_all()]>\n"
     ]
    },
    {
     "name": "stdout",
     "output_type": "stream",
     "text": [
      "idx = 17, channels[idx] = 450000\n"
     ]
    },
    {
     "name": "stderr",
     "output_type": "stream",
     "text": [
      "Unclosed AIOKafkaProducer\n",
      "producer: <aiokafka.producer.producer.AIOKafkaProducer object at 0x7fe8bcdca370>\n"
     ]
    },
    {
     "name": "stdout",
     "output_type": "stream",
     "text": [
      "idx = 17, channels[idx] = 450000\n"
     ]
    },
    {
     "name": "stderr",
     "output_type": "stream",
     "text": [
      "Unclosed AIOKafkaProducer\n",
      "producer: <aiokafka.producer.producer.AIOKafkaProducer object at 0x7fe8bcdcac10>\n"
     ]
    },
    {
     "name": "stdout",
     "output_type": "stream",
     "text": [
      "idx = 17, channels[idx] = 450000\n"
     ]
    },
    {
     "name": "stderr",
     "output_type": "stream",
     "text": [
      "Unclosed AIOKafkaProducer\n",
      "producer: <aiokafka.producer.producer.AIOKafkaProducer object at 0x7fe8bcdca8e0>\n",
      "Task was destroyed but it is pending!\n",
      "task: <Task pending name='Task-1793' coro=<Sender._sender_routine() running at /home/saifulkhan/CODE/SKA/streaming-vis-perf/broker/venv/lib/python3.9/site-packages/aiokafka/producer/sender.py:147> wait_for=<Future pending cb=[<TaskWakeupMethWrapper object at 0x7fe8bcdcafd0>()]> cb=[Sender._fail_all()]>\n",
      "Task was destroyed but it is pending!\n",
      "task: <Task pending name='Task-1803' coro=<Sender._sender_routine() running at /home/saifulkhan/CODE/SKA/streaming-vis-perf/broker/venv/lib/python3.9/site-packages/aiokafka/producer/sender.py:147> wait_for=<Future pending cb=[<TaskWakeupMethWrapper object at 0x7fe8bb60f280>()]> cb=[Sender._fail_all()]>\n"
     ]
    },
    {
     "name": "stdout",
     "output_type": "stream",
     "text": [
      "idx = 17, channels[idx] = 450000\n"
     ]
    },
    {
     "name": "stderr",
     "output_type": "stream",
     "text": [
      "Unclosed AIOKafkaProducer\n",
      "producer: <aiokafka.producer.producer.AIOKafkaProducer object at 0x7fe8bb60f700>\n"
     ]
    },
    {
     "name": "stdout",
     "output_type": "stream",
     "text": [
      "idx = 17, channels[idx] = 450000\n"
     ]
    },
    {
     "name": "stderr",
     "output_type": "stream",
     "text": [
      "Unclosed AIOKafkaProducer\n",
      "producer: <aiokafka.producer.producer.AIOKafkaProducer object at 0x7fe8bb60f6d0>\n"
     ]
    },
    {
     "name": "stdout",
     "output_type": "stream",
     "text": [
      "idx = 17, channels[idx] = 450000\n"
     ]
    },
    {
     "name": "stderr",
     "output_type": "stream",
     "text": [
      "Unclosed AIOKafkaProducer\n",
      "producer: <aiokafka.producer.producer.AIOKafkaProducer object at 0x7fe8bb60f6d0>\n"
     ]
    },
    {
     "name": "stdout",
     "output_type": "stream",
     "text": [
      "idx = 17, channels[idx] = 450000\n"
     ]
    },
    {
     "name": "stderr",
     "output_type": "stream",
     "text": [
      "Unclosed AIOKafkaProducer\n",
      "producer: <aiokafka.producer.producer.AIOKafkaProducer object at 0x7fe8bb5d98b0>\n",
      "Task was destroyed but it is pending!\n",
      "task: <Task pending name='Task-1823' coro=<Sender._sender_routine() running at /home/saifulkhan/CODE/SKA/streaming-vis-perf/broker/venv/lib/python3.9/site-packages/aiokafka/producer/sender.py:147> wait_for=<Future pending cb=[<TaskWakeupMethWrapper object at 0x7fe8bcdcab80>()]> cb=[Sender._fail_all()]>\n",
      "Task was destroyed but it is pending!\n",
      "task: <Task pending name='Task-1833' coro=<Sender._sender_routine() running at /home/saifulkhan/CODE/SKA/streaming-vis-perf/broker/venv/lib/python3.9/site-packages/aiokafka/producer/sender.py:147> wait_for=<Future pending cb=[<TaskWakeupMethWrapper object at 0x7fe8bb5d93a0>()]> cb=[Sender._fail_all()]>\n",
      "Task was destroyed but it is pending!\n",
      "task: <Task pending name='Task-1843' coro=<Sender._sender_routine() done, defined at /home/saifulkhan/CODE/SKA/streaming-vis-perf/broker/venv/lib/python3.9/site-packages/aiokafka/producer/sender.py:81> wait_for=<Future pending cb=[<TaskWakeupMethWrapper object at 0x7fe8bb5d9490>()]> cb=[Sender._fail_all()]>\n"
     ]
    },
    {
     "name": "stdout",
     "output_type": "stream",
     "text": [
      "idx = 18, channels[idx] = 475000\n"
     ]
    },
    {
     "name": "stderr",
     "output_type": "stream",
     "text": [
      "Unclosed AIOKafkaProducer\n",
      "producer: <aiokafka.producer.producer.AIOKafkaProducer object at 0x7fe8bccf4160>\n"
     ]
    },
    {
     "name": "stdout",
     "output_type": "stream",
     "text": [
      "idx = 18, channels[idx] = 475000\n"
     ]
    },
    {
     "name": "stderr",
     "output_type": "stream",
     "text": [
      "Unclosed AIOKafkaProducer\n",
      "producer: <aiokafka.producer.producer.AIOKafkaProducer object at 0x7fe8bb5d92e0>\n",
      "Task was destroyed but it is pending!\n",
      "task: <Task pending name='Task-1863' coro=<Sender._sender_routine() running at /home/saifulkhan/CODE/SKA/streaming-vis-perf/broker/venv/lib/python3.9/site-packages/aiokafka/producer/sender.py:147> wait_for=<Future pending cb=[<TaskWakeupMethWrapper object at 0x7fe8bb546220>()]> cb=[Sender._fail_all()]>\n"
     ]
    },
    {
     "name": "stdout",
     "output_type": "stream",
     "text": [
      "idx = 18, channels[idx] = 475000\n"
     ]
    },
    {
     "name": "stderr",
     "output_type": "stream",
     "text": [
      "Unclosed AIOKafkaProducer\n",
      "producer: <aiokafka.producer.producer.AIOKafkaProducer object at 0x7fe8bb546880>\n"
     ]
    },
    {
     "name": "stdout",
     "output_type": "stream",
     "text": [
      "idx = 18, channels[idx] = 475000\n"
     ]
    },
    {
     "name": "stderr",
     "output_type": "stream",
     "text": [
      "Unclosed AIOKafkaProducer\n",
      "producer: <aiokafka.producer.producer.AIOKafkaProducer object at 0x7fe8bb546af0>\n"
     ]
    },
    {
     "name": "stdout",
     "output_type": "stream",
     "text": [
      "idx = 18, channels[idx] = 475000\n"
     ]
    },
    {
     "name": "stderr",
     "output_type": "stream",
     "text": [
      "Unclosed AIOKafkaProducer\n",
      "producer: <aiokafka.producer.producer.AIOKafkaProducer object at 0x7fe8bb546880>\n"
     ]
    },
    {
     "name": "stdout",
     "output_type": "stream",
     "text": [
      "idx = 18, channels[idx] = 475000\n"
     ]
    },
    {
     "name": "stderr",
     "output_type": "stream",
     "text": [
      "Unclosed AIOKafkaProducer\n",
      "producer: <aiokafka.producer.producer.AIOKafkaProducer object at 0x7fe8bb4b27f0>\n",
      "Task was destroyed but it is pending!\n",
      "task: <Task pending name='Task-1883' coro=<Sender._sender_routine() running at /home/saifulkhan/CODE/SKA/streaming-vis-perf/broker/venv/lib/python3.9/site-packages/aiokafka/producer/sender.py:147> wait_for=<Future pending cb=[<TaskWakeupMethWrapper object at 0x7fe8bb546f70>()]> cb=[Sender._fail_all()]>\n",
      "Task was destroyed but it is pending!\n",
      "task: <Task pending name='Task-1893' coro=<Sender._sender_routine() running at /home/saifulkhan/CODE/SKA/streaming-vis-perf/broker/venv/lib/python3.9/site-packages/aiokafka/producer/sender.py:147> wait_for=<Future pending cb=[<TaskWakeupMethWrapper object at 0x7fe8bb4b26d0>()]> cb=[Sender._fail_all()]>\n",
      "Task was destroyed but it is pending!\n",
      "task: <Task pending name='Task-1903' coro=<Sender._sender_routine() running at /home/saifulkhan/CODE/SKA/streaming-vis-perf/broker/venv/lib/python3.9/site-packages/aiokafka/producer/sender.py:147> wait_for=<Future pending cb=[<TaskWakeupMethWrapper object at 0x7fe8bb4b2880>()]> cb=[Sender._fail_all()]>\n",
      "Task was destroyed but it is pending!\n",
      "task: <Task pending name='Task-1523' coro=<Sender._sender_routine() running at /home/saifulkhan/CODE/SKA/streaming-vis-perf/broker/venv/lib/python3.9/site-packages/aiokafka/producer/sender.py:147> wait_for=<Future pending cb=[<TaskWakeupMethWrapper object at 0x7fe8bdbc8be0>()]> cb=[Sender._fail_all()]>\n",
      "Task was destroyed but it is pending!\n",
      "task: <Task pending name='Task-1553' coro=<Sender._sender_routine() running at /home/saifulkhan/CODE/SKA/streaming-vis-perf/broker/venv/lib/python3.9/site-packages/aiokafka/producer/sender.py:147> wait_for=<Future pending cb=[<TaskWakeupMethWrapper object at 0x7fe8bdbc8700>()]> cb=[Sender._fail_all()]>\n",
      "Task was destroyed but it is pending!\n",
      "task: <Task pending name='Task-1583' coro=<Sender._sender_routine() running at /home/saifulkhan/CODE/SKA/streaming-vis-perf/broker/venv/lib/python3.9/site-packages/aiokafka/producer/sender.py:147> wait_for=<Future pending cb=[<TaskWakeupMethWrapper object at 0x7fe8bba16e80>()]> cb=[Sender._fail_all()]>\n",
      "Task was destroyed but it is pending!\n",
      "task: <Task pending name='Task-1613' coro=<Sender._sender_routine() running at /home/saifulkhan/CODE/SKA/streaming-vis-perf/broker/venv/lib/python3.9/site-packages/aiokafka/producer/sender.py:147> wait_for=<Future pending cb=[<TaskWakeupMethWrapper object at 0x7fe8bb9043d0>()]> cb=[Sender._fail_all()]>\n",
      "Task was destroyed but it is pending!\n",
      "task: <Task pending name='Task-1653' coro=<Sender._sender_routine() running at /home/saifulkhan/CODE/SKA/streaming-vis-perf/broker/venv/lib/python3.9/site-packages/aiokafka/producer/sender.py:147> wait_for=<Future pending cb=[<TaskWakeupMethWrapper object at 0x7fe8bb86dfd0>()]> cb=[Sender._fail_all()]>\n",
      "Task was destroyed but it is pending!\n",
      "task: <Task pending name='Task-1683' coro=<Sender._sender_routine() running at /home/saifulkhan/CODE/SKA/streaming-vis-perf/broker/venv/lib/python3.9/site-packages/aiokafka/producer/sender.py:147> wait_for=<Future pending cb=[<TaskWakeupMethWrapper object at 0x7fe8bb857ca0>()]> cb=[Sender._fail_all()]>\n",
      "Task was destroyed but it is pending!\n",
      "task: <Task pending name='Task-1723' coro=<Sender._sender_routine() running at /home/saifulkhan/CODE/SKA/streaming-vis-perf/broker/venv/lib/python3.9/site-packages/aiokafka/producer/sender.py:147> wait_for=<Future pending cb=[<TaskWakeupMethWrapper object at 0x7fe8bb754af0>()]> cb=[Sender._fail_all()]>\n",
      "Task was destroyed but it is pending!\n",
      "task: <Task pending name='Task-1753' coro=<Sender._sender_routine() running at /home/saifulkhan/CODE/SKA/streaming-vis-perf/broker/venv/lib/python3.9/site-packages/aiokafka/producer/sender.py:147> wait_for=<Future pending cb=[<TaskWakeupMethWrapper object at 0x7fe8bcf68c10>()]> cb=[Sender._fail_all()]>\n",
      "Task was destroyed but it is pending!\n",
      "task: <Task pending name='Task-1783' coro=<Sender._sender_routine() running at /home/saifulkhan/CODE/SKA/streaming-vis-perf/broker/venv/lib/python3.9/site-packages/aiokafka/producer/sender.py:147> wait_for=<Future pending cb=[<TaskWakeupMethWrapper object at 0x7fe8bb70d2b0>()]> cb=[Sender._fail_all()]>\n",
      "Task was destroyed but it is pending!\n",
      "task: <Task pending name='Task-1813' coro=<Sender._sender_routine() running at /home/saifulkhan/CODE/SKA/streaming-vis-perf/broker/venv/lib/python3.9/site-packages/aiokafka/producer/sender.py:147> wait_for=<Future pending cb=[<TaskWakeupMethWrapper object at 0x7fe8bb60f8e0>()]> cb=[Sender._fail_all()]>\n",
      "Task was destroyed but it is pending!\n",
      "task: <Task pending name='Task-1853' coro=<Sender._sender_routine() running at /home/saifulkhan/CODE/SKA/streaming-vis-perf/broker/venv/lib/python3.9/site-packages/aiokafka/producer/sender.py:147> wait_for=<Future pending cb=[<TaskWakeupMethWrapper object at 0x7fe8bb5d9b50>()]> cb=[Sender._fail_all()]>\n",
      "Task was destroyed but it is pending!\n",
      "task: <Task pending name='Task-1873' coro=<Sender._sender_routine() running at /home/saifulkhan/CODE/SKA/streaming-vis-perf/broker/venv/lib/python3.9/site-packages/aiokafka/producer/sender.py:147> wait_for=<Future pending cb=[<TaskWakeupMethWrapper object at 0x7fe8bb5461c0>()]> cb=[Sender._fail_all()]>\n"
     ]
    },
    {
     "name": "stdout",
     "output_type": "stream",
     "text": [
      "idx = 18, channels[idx] = 475000\n"
     ]
    },
    {
     "name": "stderr",
     "output_type": "stream",
     "text": [
      "Unclosed AIOKafkaProducer\n",
      "producer: <aiokafka.producer.producer.AIOKafkaProducer object at 0x7fe8bcc2fd30>\n"
     ]
    },
    {
     "name": "stdout",
     "output_type": "stream",
     "text": [
      "idx = 18, channels[idx] = 475000\n"
     ]
    },
    {
     "name": "stderr",
     "output_type": "stream",
     "text": [
      "Unclosed AIOKafkaProducer\n",
      "producer: <aiokafka.producer.producer.AIOKafkaProducer object at 0x7fe8bcc2fd30>\n"
     ]
    },
    {
     "name": "stdout",
     "output_type": "stream",
     "text": [
      "idx = 18, channels[idx] = 475000\n"
     ]
    },
    {
     "name": "stderr",
     "output_type": "stream",
     "text": [
      "Unclosed AIOKafkaProducer\n",
      "producer: <aiokafka.producer.producer.AIOKafkaProducer object at 0x7fe8bc722c70>\n",
      "Task was destroyed but it is pending!\n",
      "task: <Task pending name='Task-1923' coro=<Sender._sender_routine() running at /home/saifulkhan/CODE/SKA/streaming-vis-perf/broker/venv/lib/python3.9/site-packages/aiokafka/producer/sender.py:147> wait_for=<Future pending cb=[<TaskWakeupMethWrapper object at 0x7fe8bb5d92b0>()]> cb=[Sender._fail_all()]>\n",
      "Task was destroyed but it is pending!\n",
      "task: <Task pending name='Task-1933' coro=<Sender._sender_routine() running at /home/saifulkhan/CODE/SKA/streaming-vis-perf/broker/venv/lib/python3.9/site-packages/aiokafka/producer/sender.py:147> wait_for=<Future pending cb=[<TaskWakeupMethWrapper object at 0x7fe8bb60f8e0>()]> cb=[Sender._fail_all()]>\n"
     ]
    },
    {
     "name": "stdout",
     "output_type": "stream",
     "text": [
      "idx = 18, channels[idx] = 475000\n"
     ]
    },
    {
     "name": "stderr",
     "output_type": "stream",
     "text": [
      "Unclosed AIOKafkaProducer\n",
      "producer: <aiokafka.producer.producer.AIOKafkaProducer object at 0x7fe8bcf68220>\n"
     ]
    },
    {
     "name": "stdout",
     "output_type": "stream",
     "text": [
      "idx = 19, channels[idx] = 500000\n"
     ]
    },
    {
     "name": "stderr",
     "output_type": "stream",
     "text": [
      "Unclosed AIOKafkaProducer\n",
      "producer: <aiokafka.producer.producer.AIOKafkaProducer object at 0x7fe8bcb36f10>\n",
      "Task was destroyed but it is pending!\n",
      "task: <Task pending name='Task-1953' coro=<Sender._sender_routine() done, defined at /home/saifulkhan/CODE/SKA/streaming-vis-perf/broker/venv/lib/python3.9/site-packages/aiokafka/producer/sender.py:81> wait_for=<Future pending cb=[<TaskWakeupMethWrapper object at 0x7fe8bcc2fcd0>()]> cb=[Sender._fail_all()]>\n"
     ]
    },
    {
     "name": "stdout",
     "output_type": "stream",
     "text": [
      "idx = 19, channels[idx] = 500000\n"
     ]
    },
    {
     "name": "stderr",
     "output_type": "stream",
     "text": [
      "Unclosed AIOKafkaProducer\n",
      "producer: <aiokafka.producer.producer.AIOKafkaProducer object at 0x7fe8bcb028b0>\n"
     ]
    },
    {
     "name": "stdout",
     "output_type": "stream",
     "text": [
      "idx = 19, channels[idx] = 500000\n"
     ]
    },
    {
     "name": "stderr",
     "output_type": "stream",
     "text": [
      "Unclosed AIOKafkaProducer\n",
      "producer: <aiokafka.producer.producer.AIOKafkaProducer object at 0x7fe8bb49f1f0>\n"
     ]
    },
    {
     "name": "stdout",
     "output_type": "stream",
     "text": [
      "idx = 19, channels[idx] = 500000\n"
     ]
    },
    {
     "name": "stderr",
     "output_type": "stream",
     "text": [
      "Unclosed AIOKafkaProducer\n",
      "producer: <aiokafka.producer.producer.AIOKafkaProducer object at 0x7fe8bb49fe80>\n",
      "Task was destroyed but it is pending!\n",
      "task: <Task pending name='Task-1973' coro=<Sender._sender_routine() running at /home/saifulkhan/CODE/SKA/streaming-vis-perf/broker/venv/lib/python3.9/site-packages/aiokafka/producer/sender.py:147> wait_for=<Future pending cb=[<TaskWakeupMethWrapper object at 0x7fe8bb49f700>()]> cb=[Sender._fail_all()]>\n",
      "Task was destroyed but it is pending!\n",
      "task: <Task pending name='Task-1983' coro=<Sender._sender_routine() running at /home/saifulkhan/CODE/SKA/streaming-vis-perf/broker/venv/lib/python3.9/site-packages/aiokafka/producer/sender.py:147> wait_for=<Future pending cb=[<TaskWakeupMethWrapper object at 0x7fe8bb49fd30>()]> cb=[Sender._fail_all()]>\n"
     ]
    },
    {
     "name": "stdout",
     "output_type": "stream",
     "text": [
      "idx = 19, channels[idx] = 500000\n"
     ]
    },
    {
     "name": "stderr",
     "output_type": "stream",
     "text": [
      "Unclosed AIOKafkaProducer\n",
      "producer: <aiokafka.producer.producer.AIOKafkaProducer object at 0x7fe8bca460a0>\n"
     ]
    },
    {
     "name": "stdout",
     "output_type": "stream",
     "text": [
      "idx = 19, channels[idx] = 500000\n"
     ]
    },
    {
     "name": "stderr",
     "output_type": "stream",
     "text": [
      "Unclosed AIOKafkaProducer\n",
      "producer: <aiokafka.producer.producer.AIOKafkaProducer object at 0x7fe8bb49fa30>\n"
     ]
    },
    {
     "name": "stdout",
     "output_type": "stream",
     "text": [
      "idx = 19, channels[idx] = 500000\n"
     ]
    },
    {
     "name": "stderr",
     "output_type": "stream",
     "text": [
      "Unclosed AIOKafkaProducer\n",
      "producer: <aiokafka.producer.producer.AIOKafkaProducer object at 0x7fe8bca46e20>\n"
     ]
    },
    {
     "name": "stdout",
     "output_type": "stream",
     "text": [
      "idx = 19, channels[idx] = 500000\n"
     ]
    },
    {
     "name": "stderr",
     "output_type": "stream",
     "text": [
      "Unclosed AIOKafkaProducer\n",
      "producer: <aiokafka.producer.producer.AIOKafkaProducer object at 0x7fe8bb323250>\n",
      "Task was destroyed but it is pending!\n",
      "task: <Task pending name='Task-2003' coro=<Sender._sender_routine() running at /home/saifulkhan/CODE/SKA/streaming-vis-perf/broker/venv/lib/python3.9/site-packages/aiokafka/producer/sender.py:147> wait_for=<Future pending cb=[<TaskWakeupMethWrapper object at 0x7fe8bca468b0>()]> cb=[Sender._fail_all()]>\n",
      "Task was destroyed but it is pending!\n",
      "task: <Task pending name='Task-2013' coro=<Sender._sender_routine() running at /home/saifulkhan/CODE/SKA/streaming-vis-perf/broker/venv/lib/python3.9/site-packages/aiokafka/producer/sender.py:147> wait_for=<Future pending cb=[<TaskWakeupMethWrapper object at 0x7fe8bca46cd0>()]> cb=[Sender._fail_all()]>\n",
      "Task was destroyed but it is pending!\n",
      "task: <Task pending name='Task-2023' coro=<Sender._sender_routine() running at /home/saifulkhan/CODE/SKA/streaming-vis-perf/broker/venv/lib/python3.9/site-packages/aiokafka/producer/sender.py:147> wait_for=<Future pending cb=[<TaskWakeupMethWrapper object at 0x7fe8bb3232b0>()]> cb=[Sender._fail_all()]>\n"
     ]
    },
    {
     "name": "stdout",
     "output_type": "stream",
     "text": [
      "idx = 19, channels[idx] = 500000\n"
     ]
    },
    {
     "name": "stderr",
     "output_type": "stream",
     "text": [
      "Unclosed AIOKafkaProducer\n",
      "producer: <aiokafka.producer.producer.AIOKafkaProducer object at 0x7fe8bb323d90>\n"
     ]
    },
    {
     "name": "stdout",
     "output_type": "stream",
     "text": [
      "idx = 19, channels[idx] = 500000\n"
     ]
    },
    {
     "name": "stderr",
     "output_type": "stream",
     "text": [
      "Unclosed AIOKafkaProducer\n",
      "producer: <aiokafka.producer.producer.AIOKafkaProducer object at 0x7fe8bb323160>\n"
     ]
    },
    {
     "name": "stdout",
     "output_type": "stream",
     "text": [
      "idx = 20, channels[idx] = 525000\n"
     ]
    },
    {
     "name": "stderr",
     "output_type": "stream",
     "text": [
      "Unclosed AIOKafkaProducer\n",
      "producer: <aiokafka.producer.producer.AIOKafkaProducer object at 0x7fe8bb3236d0>\n",
      "Task was destroyed but it is pending!\n",
      "task: <Task pending name='Task-2043' coro=<Sender._sender_routine() running at /home/saifulkhan/CODE/SKA/streaming-vis-perf/broker/venv/lib/python3.9/site-packages/aiokafka/producer/sender.py:147> wait_for=<Future pending cb=[<TaskWakeupMethWrapper object at 0x7fe8bb323610>()]> cb=[Sender._fail_all()]>\n",
      "Task was destroyed but it is pending!\n",
      "task: <Task pending name='Task-2053' coro=<Sender._sender_routine() done, defined at /home/saifulkhan/CODE/SKA/streaming-vis-perf/broker/venv/lib/python3.9/site-packages/aiokafka/producer/sender.py:81> wait_for=<Future pending cb=[<TaskWakeupMethWrapper object at 0x7fe8bc981130>()]> cb=[Sender._fail_all()]>\n"
     ]
    },
    {
     "name": "stdout",
     "output_type": "stream",
     "text": [
      "idx = 20, channels[idx] = 525000\n"
     ]
    },
    {
     "name": "stderr",
     "output_type": "stream",
     "text": [
      "Unclosed AIOKafkaProducer\n",
      "producer: <aiokafka.producer.producer.AIOKafkaProducer object at 0x7fe8bc981880>\n"
     ]
    },
    {
     "name": "stdout",
     "output_type": "stream",
     "text": [
      "idx = 20, channels[idx] = 525000\n"
     ]
    },
    {
     "name": "stderr",
     "output_type": "stream",
     "text": [
      "Unclosed AIOKafkaProducer\n",
      "producer: <aiokafka.producer.producer.AIOKafkaProducer object at 0x7fe8bc981250>\n"
     ]
    },
    {
     "name": "stdout",
     "output_type": "stream",
     "text": [
      "idx = 20, channels[idx] = 525000\n"
     ]
    },
    {
     "name": "stderr",
     "output_type": "stream",
     "text": [
      "Unclosed AIOKafkaProducer\n",
      "producer: <aiokafka.producer.producer.AIOKafkaProducer object at 0x7fe8bc981ac0>\n"
     ]
    },
    {
     "name": "stdout",
     "output_type": "stream",
     "text": [
      "idx = 20, channels[idx] = 525000\n"
     ]
    },
    {
     "name": "stderr",
     "output_type": "stream",
     "text": [
      "Unclosed AIOKafkaProducer\n",
      "producer: <aiokafka.producer.producer.AIOKafkaProducer object at 0x7fe8bb2415e0>\n",
      "Task was destroyed but it is pending!\n",
      "task: <Task pending name='Task-2083' coro=<Sender._sender_routine() running at /home/saifulkhan/CODE/SKA/streaming-vis-perf/broker/venv/lib/python3.9/site-packages/aiokafka/producer/sender.py:147> wait_for=<Future pending cb=[<TaskWakeupMethWrapper object at 0x7fe8bb241220>()]> cb=[Sender._fail_all()]>\n",
      "Task was destroyed but it is pending!\n",
      "task: <Task pending name='Task-2093' coro=<Sender._sender_routine() running at /home/saifulkhan/CODE/SKA/streaming-vis-perf/broker/venv/lib/python3.9/site-packages/aiokafka/producer/sender.py:147> wait_for=<Future pending cb=[<TaskWakeupMethWrapper object at 0x7fe8bb241ca0>()]> cb=[Sender._fail_all()]>\n"
     ]
    },
    {
     "name": "stdout",
     "output_type": "stream",
     "text": [
      "idx = 20, channels[idx] = 525000\n"
     ]
    },
    {
     "name": "stderr",
     "output_type": "stream",
     "text": [
      "Unclosed AIOKafkaProducer\n",
      "producer: <aiokafka.producer.producer.AIOKafkaProducer object at 0x7fe8bb241df0>\n"
     ]
    },
    {
     "name": "stdout",
     "output_type": "stream",
     "text": [
      "idx = 20, channels[idx] = 525000\n"
     ]
    },
    {
     "name": "stderr",
     "output_type": "stream",
     "text": [
      "Unclosed AIOKafkaProducer\n",
      "producer: <aiokafka.producer.producer.AIOKafkaProducer object at 0x7fe8bb2414f0>\n"
     ]
    },
    {
     "name": "stdout",
     "output_type": "stream",
     "text": [
      "idx = 20, channels[idx] = 525000\n"
     ]
    },
    {
     "name": "stderr",
     "output_type": "stream",
     "text": [
      "Unclosed AIOKafkaProducer\n",
      "producer: <aiokafka.producer.producer.AIOKafkaProducer object at 0x7fe8bc8f25b0>\n",
      "Task was destroyed but it is pending!\n",
      "task: <Task pending name='Task-2113' coro=<Sender._sender_routine() running at /home/saifulkhan/CODE/SKA/streaming-vis-perf/broker/venv/lib/python3.9/site-packages/aiokafka/producer/sender.py:147> wait_for=<Future pending cb=[<TaskWakeupMethWrapper object at 0x7fe8bc8f2220>()]> cb=[Sender._fail_all()]>\n",
      "Task was destroyed but it is pending!\n",
      "task: <Task pending name='Task-2123' coro=<Sender._sender_routine() running at /home/saifulkhan/CODE/SKA/streaming-vis-perf/broker/venv/lib/python3.9/site-packages/aiokafka/producer/sender.py:147> wait_for=<Future pending cb=[<TaskWakeupMethWrapper object at 0x7fe8bc8f2b20>()]> cb=[Sender._fail_all()]>\n"
     ]
    },
    {
     "name": "stdout",
     "output_type": "stream",
     "text": [
      "idx = 20, channels[idx] = 525000\n"
     ]
    },
    {
     "name": "stderr",
     "output_type": "stream",
     "text": [
      "Unclosed AIOKafkaProducer\n",
      "producer: <aiokafka.producer.producer.AIOKafkaProducer object at 0x7fe8bc8f26d0>\n"
     ]
    },
    {
     "name": "stdout",
     "output_type": "stream",
     "text": [
      "idx = 20, channels[idx] = 525000\n"
     ]
    },
    {
     "name": "stderr",
     "output_type": "stream",
     "text": [
      "Unclosed AIOKafkaProducer\n",
      "producer: <aiokafka.producer.producer.AIOKafkaProducer object at 0x7fe8bc8f20d0>\n",
      "Task was destroyed but it is pending!\n",
      "task: <Task pending name='Task-2143' coro=<Sender._sender_routine() running at /home/saifulkhan/CODE/SKA/streaming-vis-perf/broker/venv/lib/python3.9/site-packages/aiokafka/producer/sender.py:147> wait_for=<Future pending cb=[<TaskWakeupMethWrapper object at 0x7fe8bb13d160>()]> cb=[Sender._fail_all()]>\n"
     ]
    },
    {
     "name": "stdout",
     "output_type": "stream",
     "text": [
      "idx = 21, channels[idx] = 550000\n"
     ]
    },
    {
     "name": "stderr",
     "output_type": "stream",
     "text": [
      "Unclosed AIOKafkaProducer\n",
      "producer: <aiokafka.producer.producer.AIOKafkaProducer object at 0x7fe8bb13da90>\n"
     ]
    },
    {
     "name": "stdout",
     "output_type": "stream",
     "text": [
      "idx = 21, channels[idx] = 550000\n"
     ]
    },
    {
     "name": "stderr",
     "output_type": "stream",
     "text": [
      "Unclosed AIOKafkaProducer\n",
      "producer: <aiokafka.producer.producer.AIOKafkaProducer object at 0x7fe8bb13dbe0>\n"
     ]
    },
    {
     "name": "stdout",
     "output_type": "stream",
     "text": [
      "idx = 21, channels[idx] = 550000\n"
     ]
    },
    {
     "name": "stderr",
     "output_type": "stream",
     "text": [
      "Unclosed AIOKafkaProducer\n",
      "producer: <aiokafka.producer.producer.AIOKafkaProducer object at 0x7fe8ba57b910>\n",
      "Task was destroyed but it is pending!\n",
      "task: <Task pending name='Task-2163' coro=<Sender._sender_routine() running at /home/saifulkhan/CODE/SKA/streaming-vis-perf/broker/venv/lib/python3.9/site-packages/aiokafka/producer/sender.py:147> wait_for=<Future pending cb=[<TaskWakeupMethWrapper object at 0x7fe8bb13d040>()]> cb=[Sender._fail_all()]>\n",
      "Task was destroyed but it is pending!\n",
      "task: <Task pending name='Task-2173' coro=<Sender._sender_routine() done, defined at /home/saifulkhan/CODE/SKA/streaming-vis-perf/broker/venv/lib/python3.9/site-packages/aiokafka/producer/sender.py:81> wait_for=<Future pending cb=[<TaskWakeupMethWrapper object at 0x7fe8ba57b610>()]> cb=[Sender._fail_all()]>\n"
     ]
    },
    {
     "name": "stdout",
     "output_type": "stream",
     "text": [
      "idx = 21, channels[idx] = 550000\n"
     ]
    },
    {
     "name": "stderr",
     "output_type": "stream",
     "text": [
      "Unclosed AIOKafkaProducer\n",
      "producer: <aiokafka.producer.producer.AIOKafkaProducer object at 0x7fe8ba57bb80>\n"
     ]
    },
    {
     "name": "stdout",
     "output_type": "stream",
     "text": [
      "idx = 21, channels[idx] = 550000\n"
     ]
    },
    {
     "name": "stderr",
     "output_type": "stream",
     "text": [
      "Unclosed AIOKafkaProducer\n",
      "producer: <aiokafka.producer.producer.AIOKafkaProducer object at 0x7fe8ba57bf40>\n"
     ]
    },
    {
     "name": "stdout",
     "output_type": "stream",
     "text": [
      "idx = 21, channels[idx] = 550000\n"
     ]
    },
    {
     "name": "stderr",
     "output_type": "stream",
     "text": [
      "Task was destroyed but it is pending!\n",
      "task: <Task pending name='Task-2193' coro=<Sender._sender_routine() running at /home/saifulkhan/CODE/SKA/streaming-vis-perf/broker/venv/lib/python3.9/site-packages/aiokafka/producer/sender.py:147> wait_for=<Future pending cb=[<TaskWakeupMethWrapper object at 0x7fe8ba57bc40>()]> cb=[Sender._fail_all()]>\n",
      "Unclosed AIOKafkaProducer\n",
      "producer: <aiokafka.producer.producer.AIOKafkaProducer object at 0x7fe8ba57bf40>\n"
     ]
    },
    {
     "name": "stdout",
     "output_type": "stream",
     "text": [
      "idx = 21, channels[idx] = 550000\n"
     ]
    },
    {
     "name": "stderr",
     "output_type": "stream",
     "text": [
      "Unclosed AIOKafkaProducer\n",
      "producer: <aiokafka.producer.producer.AIOKafkaProducer object at 0x7fe8ba5399a0>\n"
     ]
    },
    {
     "name": "stdout",
     "output_type": "stream",
     "text": [
      "idx = 21, channels[idx] = 550000\n"
     ]
    },
    {
     "name": "stderr",
     "output_type": "stream",
     "text": [
      "Unclosed AIOKafkaProducer\n",
      "producer: <aiokafka.producer.producer.AIOKafkaProducer object at 0x7fe8bdfb66d0>\n",
      "Task was destroyed but it is pending!\n",
      "task: <Task pending name='Task-2213' coro=<Sender._sender_routine() running at /home/saifulkhan/CODE/SKA/streaming-vis-perf/broker/venv/lib/python3.9/site-packages/aiokafka/producer/sender.py:147> wait_for=<Future pending cb=[<TaskWakeupMethWrapper object at 0x7fe8ba5399d0>()]> cb=[Sender._fail_all()]>\n",
      "Task was destroyed but it is pending!\n",
      "task: <Task pending name='Task-2223' coro=<Sender._sender_routine() running at /home/saifulkhan/CODE/SKA/streaming-vis-perf/broker/venv/lib/python3.9/site-packages/aiokafka/producer/sender.py:147> wait_for=<Future pending cb=[<TaskWakeupMethWrapper object at 0x7fe8ba5250a0>()]> cb=[Sender._fail_all()]>\n"
     ]
    },
    {
     "name": "stdout",
     "output_type": "stream",
     "text": [
      "idx = 21, channels[idx] = 550000\n"
     ]
    },
    {
     "name": "stderr",
     "output_type": "stream",
     "text": [
      "Unclosed AIOKafkaProducer\n",
      "producer: <aiokafka.producer.producer.AIOKafkaProducer object at 0x7fe8ba525640>\n",
      "Task was destroyed but it is pending!\n",
      "task: <Task pending name='Task-1913' coro=<Sender._sender_routine() running at /home/saifulkhan/CODE/SKA/streaming-vis-perf/broker/venv/lib/python3.9/site-packages/aiokafka/producer/sender.py:147> wait_for=<Future pending cb=[<TaskWakeupMethWrapper object at 0x7fe8bb4b2040>()]> cb=[Sender._fail_all()]>\n",
      "Task was destroyed but it is pending!\n",
      "task: <Task pending name='Task-1943' coro=<Sender._sender_routine() running at /home/saifulkhan/CODE/SKA/streaming-vis-perf/broker/venv/lib/python3.9/site-packages/aiokafka/producer/sender.py:147> wait_for=<Future pending cb=[<TaskWakeupMethWrapper object at 0x7fe8bb70dd90>()]> cb=[Sender._fail_all()]>\n",
      "Task was destroyed but it is pending!\n",
      "task: <Task pending name='Task-1963' coro=<Sender._sender_routine() running at /home/saifulkhan/CODE/SKA/streaming-vis-perf/broker/venv/lib/python3.9/site-packages/aiokafka/producer/sender.py:147> wait_for=<Future pending cb=[<TaskWakeupMethWrapper object at 0x7fe8bcb02b20>()]> cb=[Sender._fail_all()]>\n",
      "Task was destroyed but it is pending!\n",
      "task: <Task pending name='Task-1993' coro=<Sender._sender_routine() running at /home/saifulkhan/CODE/SKA/streaming-vis-perf/broker/venv/lib/python3.9/site-packages/aiokafka/producer/sender.py:147> wait_for=<Future pending cb=[<TaskWakeupMethWrapper object at 0x7fe8bb49f7c0>()]> cb=[Sender._fail_all()]>\n",
      "Task was destroyed but it is pending!\n",
      "task: <Task pending name='Task-2033' coro=<Sender._sender_routine() running at /home/saifulkhan/CODE/SKA/streaming-vis-perf/broker/venv/lib/python3.9/site-packages/aiokafka/producer/sender.py:147> wait_for=<Future pending cb=[<TaskWakeupMethWrapper object at 0x7fe8bca46a00>()]> cb=[Sender._fail_all()]>\n",
      "Task was destroyed but it is pending!\n",
      "task: <Task pending name='Task-2063' coro=<Sender._sender_routine() running at /home/saifulkhan/CODE/SKA/streaming-vis-perf/broker/venv/lib/python3.9/site-packages/aiokafka/producer/sender.py:147> wait_for=<Future pending cb=[<TaskWakeupMethWrapper object at 0x7fe8bc981610>()]> cb=[Sender._fail_all()]>\n",
      "Task was destroyed but it is pending!\n",
      "task: <Task pending name='Task-2073' coro=<Sender._sender_routine() running at /home/saifulkhan/CODE/SKA/streaming-vis-perf/broker/venv/lib/python3.9/site-packages/aiokafka/producer/sender.py:147> wait_for=<Future pending cb=[<TaskWakeupMethWrapper object at 0x7fe8bc981e50>()]> cb=[Sender._fail_all()]>\n",
      "Task was destroyed but it is pending!\n",
      "task: <Task pending name='Task-2103' coro=<Sender._sender_routine() running at /home/saifulkhan/CODE/SKA/streaming-vis-perf/broker/venv/lib/python3.9/site-packages/aiokafka/producer/sender.py:147> wait_for=<Future pending cb=[<TaskWakeupMethWrapper object at 0x7fe8bb241b80>()]> cb=[Sender._fail_all()]>\n",
      "Task was destroyed but it is pending!\n",
      "task: <Task pending name='Task-2133' coro=<Sender._sender_routine() running at /home/saifulkhan/CODE/SKA/streaming-vis-perf/broker/venv/lib/python3.9/site-packages/aiokafka/producer/sender.py:147> wait_for=<Future pending cb=[<TaskWakeupMethWrapper object at 0x7fe8bc8f2cd0>()]> cb=[Sender._fail_all()]>\n",
      "Task was destroyed but it is pending!\n",
      "task: <Task pending name='Task-2153' coro=<Sender._sender_routine() running at /home/saifulkhan/CODE/SKA/streaming-vis-perf/broker/venv/lib/python3.9/site-packages/aiokafka/producer/sender.py:147> wait_for=<Future pending cb=[<TaskWakeupMethWrapper object at 0x7fe8bb13d430>()]> cb=[Sender._fail_all()]>\n",
      "Task was destroyed but it is pending!\n",
      "task: <Task pending name='Task-2183' coro=<Sender._sender_routine() running at /home/saifulkhan/CODE/SKA/streaming-vis-perf/broker/venv/lib/python3.9/site-packages/aiokafka/producer/sender.py:147> wait_for=<Future pending cb=[<TaskWakeupMethWrapper object at 0x7fe8ba57b790>()]> cb=[Sender._fail_all()]>\n",
      "Task was destroyed but it is pending!\n",
      "task: <Task pending name='Task-2203' coro=<Sender._sender_routine() running at /home/saifulkhan/CODE/SKA/streaming-vis-perf/broker/venv/lib/python3.9/site-packages/aiokafka/producer/sender.py:147> wait_for=<Future pending cb=[<TaskWakeupMethWrapper object at 0x7fe8ba539610>()]> cb=[Sender._fail_all()]>\n",
      "Task was destroyed but it is pending!\n",
      "task: <Task pending name='Task-2233' coro=<Sender._sender_routine() done, defined at /home/saifulkhan/CODE/SKA/streaming-vis-perf/broker/venv/lib/python3.9/site-packages/aiokafka/producer/sender.py:81> wait_for=<Future pending cb=[<TaskWakeupMethWrapper object at 0x7fe8ba525cd0>()]> cb=[Sender._fail_all()]>\n"
     ]
    },
    {
     "name": "stdout",
     "output_type": "stream",
     "text": [
      "idx = 21, channels[idx] = 550000\n"
     ]
    },
    {
     "name": "stderr",
     "output_type": "stream",
     "text": [
      "Unclosed AIOKafkaProducer\n",
      "producer: <aiokafka.producer.producer.AIOKafkaProducer object at 0x7fe8ba525100>\n"
     ]
    },
    {
     "name": "stdout",
     "output_type": "stream",
     "text": [
      "idx = 22, channels[idx] = 575000\n"
     ]
    },
    {
     "name": "stderr",
     "output_type": "stream",
     "text": [
      "Unclosed AIOKafkaProducer\n",
      "producer: <aiokafka.producer.producer.AIOKafkaProducer object at 0x7fe8bb13d400>\n"
     ]
    },
    {
     "name": "stdout",
     "output_type": "stream",
     "text": [
      "idx = 22, channels[idx] = 575000\n"
     ]
    },
    {
     "name": "stderr",
     "output_type": "stream",
     "text": [
      "Unclosed AIOKafkaProducer\n",
      "producer: <aiokafka.producer.producer.AIOKafkaProducer object at 0x7fe8ba539fd0>\n"
     ]
    },
    {
     "name": "stdout",
     "output_type": "stream",
     "text": [
      "idx = 22, channels[idx] = 575000\n"
     ]
    },
    {
     "name": "stderr",
     "output_type": "stream",
     "text": [
      "Task was destroyed but it is pending!\n",
      "task: <Task pending name='Task-2263' coro=<Sender._sender_routine() running at /home/saifulkhan/CODE/SKA/streaming-vis-perf/broker/venv/lib/python3.9/site-packages/aiokafka/producer/sender.py:147> wait_for=<Future pending cb=[<TaskWakeupMethWrapper object at 0x7fe8bc981910>()]> cb=[Sender._fail_all()]>\n",
      "Unclosed AIOKafkaProducer\n",
      "producer: <aiokafka.producer.producer.AIOKafkaProducer object at 0x7fe8bca46b80>\n"
     ]
    },
    {
     "name": "stdout",
     "output_type": "stream",
     "text": [
      "idx = 22, channels[idx] = 575000\n"
     ]
    },
    {
     "name": "stderr",
     "output_type": "stream",
     "text": [
      "Unclosed AIOKafkaProducer\n",
      "producer: <aiokafka.producer.producer.AIOKafkaProducer object at 0x7fe8ba525e80>\n"
     ]
    },
    {
     "name": "stdout",
     "output_type": "stream",
     "text": [
      "idx = 22, channels[idx] = 575000\n"
     ]
    },
    {
     "name": "stderr",
     "output_type": "stream",
     "text": [
      "Unclosed AIOKafkaProducer\n",
      "producer: <aiokafka.producer.producer.AIOKafkaProducer object at 0x7fe8ba525be0>\n",
      "Task was destroyed but it is pending!\n",
      "task: <Task pending name='Task-2283' coro=<Sender._sender_routine() running at /home/saifulkhan/CODE/SKA/streaming-vis-perf/broker/venv/lib/python3.9/site-packages/aiokafka/producer/sender.py:147> wait_for=<Future pending cb=[<TaskWakeupMethWrapper object at 0x7fe8ba525a30>()]> cb=[Sender._fail_all()]>\n",
      "Task was destroyed but it is pending!\n",
      "task: <Task pending name='Task-2293' coro=<Sender._sender_routine() running at /home/saifulkhan/CODE/SKA/streaming-vis-perf/broker/venv/lib/python3.9/site-packages/aiokafka/producer/sender.py:147> wait_for=<Future pending cb=[<TaskWakeupMethWrapper object at 0x7fe8ba4941c0>()]> cb=[Sender._fail_all()]>\n"
     ]
    },
    {
     "name": "stdout",
     "output_type": "stream",
     "text": [
      "idx = 22, channels[idx] = 575000\n"
     ]
    },
    {
     "name": "stderr",
     "output_type": "stream",
     "text": [
      "Unclosed AIOKafkaProducer\n",
      "producer: <aiokafka.producer.producer.AIOKafkaProducer object at 0x7fe8ba4942e0>\n"
     ]
    },
    {
     "name": "stdout",
     "output_type": "stream",
     "text": [
      "idx = 22, channels[idx] = 575000\n"
     ]
    },
    {
     "name": "stderr",
     "output_type": "stream",
     "text": [
      "Unclosed AIOKafkaProducer\n",
      "producer: <aiokafka.producer.producer.AIOKafkaProducer object at 0x7fe8ba494c70>\n"
     ]
    },
    {
     "name": "stdout",
     "output_type": "stream",
     "text": [
      "idx = 22, channels[idx] = 575000\n"
     ]
    },
    {
     "name": "stderr",
     "output_type": "stream",
     "text": [
      "Unclosed AIOKafkaProducer\n",
      "producer: <aiokafka.producer.producer.AIOKafkaProducer object at 0x7fe8ba494ca0>\n",
      "Task was destroyed but it is pending!\n",
      "task: <Task pending name='Task-2313' coro=<Sender._sender_routine() running at /home/saifulkhan/CODE/SKA/streaming-vis-perf/broker/venv/lib/python3.9/site-packages/aiokafka/producer/sender.py:147> wait_for=<Future pending cb=[<TaskWakeupMethWrapper object at 0x7fe8ba494df0>()]> cb=[Sender._fail_all()]>\n",
      "Task was destroyed but it is pending!\n",
      "task: <Task pending name='Task-2323' coro=<Sender._sender_routine() running at /home/saifulkhan/CODE/SKA/streaming-vis-perf/broker/venv/lib/python3.9/site-packages/aiokafka/producer/sender.py:147> wait_for=<Future pending cb=[<TaskWakeupMethWrapper object at 0x7fe8ba387070>()]> cb=[Sender._fail_all()]>\n"
     ]
    },
    {
     "name": "stdout",
     "output_type": "stream",
     "text": [
      "idx = 22, channels[idx] = 575000\n"
     ]
    },
    {
     "name": "stderr",
     "output_type": "stream",
     "text": [
      "Unclosed AIOKafkaProducer\n",
      "producer: <aiokafka.producer.producer.AIOKafkaProducer object at 0x7fe8ba3870a0>\n"
     ]
    },
    {
     "name": "stdout",
     "output_type": "stream",
     "text": [
      "idx = 22, channels[idx] = 575000\n"
     ]
    },
    {
     "name": "stderr",
     "output_type": "stream",
     "text": [
      "Unclosed AIOKafkaProducer\n",
      "producer: <aiokafka.producer.producer.AIOKafkaProducer object at 0x7fe8ba387730>\n",
      "Task was destroyed but it is pending!\n",
      "task: <Task pending name='Task-2343' coro=<Sender._sender_routine() running at /home/saifulkhan/CODE/SKA/streaming-vis-perf/broker/venv/lib/python3.9/site-packages/aiokafka/producer/sender.py:147> wait_for=<Future pending cb=[<TaskWakeupMethWrapper object at 0x7fe8ba387160>()]> cb=[Sender._fail_all()]>\n"
     ]
    },
    {
     "name": "stdout",
     "output_type": "stream",
     "text": [
      "idx = 23, channels[idx] = 600000\n"
     ]
    },
    {
     "name": "stderr",
     "output_type": "stream",
     "text": [
      "Unclosed AIOKafkaProducer\n",
      "producer: <aiokafka.producer.producer.AIOKafkaProducer object at 0x7fe8ba387be0>\n"
     ]
    },
    {
     "name": "stdout",
     "output_type": "stream",
     "text": [
      "idx = 23, channels[idx] = 600000\n"
     ]
    },
    {
     "name": "stderr",
     "output_type": "stream",
     "text": [
      "Unclosed AIOKafkaProducer\n",
      "producer: <aiokafka.producer.producer.AIOKafkaProducer object at 0x7fe8ba352c10>\n",
      "Task was destroyed but it is pending!\n",
      "task: <Task pending name='Task-2363' coro=<Sender._sender_routine() running at /home/saifulkhan/CODE/SKA/streaming-vis-perf/broker/venv/lib/python3.9/site-packages/aiokafka/producer/sender.py:147> wait_for=<Future pending cb=[<TaskWakeupMethWrapper object at 0x7fe8ba352850>()]> cb=[Sender._fail_all()]>\n"
     ]
    },
    {
     "name": "stdout",
     "output_type": "stream",
     "text": [
      "idx = 23, channels[idx] = 600000\n"
     ]
    },
    {
     "name": "stderr",
     "output_type": "stream",
     "text": [
      "Unclosed AIOKafkaProducer\n",
      "producer: <aiokafka.producer.producer.AIOKafkaProducer object at 0x7fe8ba352c40>\n"
     ]
    },
    {
     "name": "stdout",
     "output_type": "stream",
     "text": [
      "idx = 23, channels[idx] = 600000\n"
     ]
    },
    {
     "name": "stderr",
     "output_type": "stream",
     "text": [
      "Unclosed AIOKafkaProducer\n",
      "producer: <aiokafka.producer.producer.AIOKafkaProducer object at 0x7fe8ba352a60>\n"
     ]
    },
    {
     "name": "stdout",
     "output_type": "stream",
     "text": [
      "idx = 23, channels[idx] = 600000\n"
     ]
    },
    {
     "name": "stderr",
     "output_type": "stream",
     "text": [
      "Task was destroyed but it is pending!\n",
      "task: <Task pending name='Task-2383' coro=<Sender._sender_routine() running at /home/saifulkhan/CODE/SKA/streaming-vis-perf/broker/venv/lib/python3.9/site-packages/aiokafka/producer/sender.py:147> wait_for=<Future pending cb=[<TaskWakeupMethWrapper object at 0x7fe8bdbbf1c0>()]> cb=[Sender._fail_all()]>\n",
      "Unclosed AIOKafkaProducer\n",
      "producer: <aiokafka.producer.producer.AIOKafkaProducer object at 0x7fe8bdbbf2b0>\n"
     ]
    },
    {
     "name": "stdout",
     "output_type": "stream",
     "text": [
      "idx = 23, channels[idx] = 600000\n"
     ]
    },
    {
     "name": "stderr",
     "output_type": "stream",
     "text": [
      "Unclosed AIOKafkaProducer\n",
      "producer: <aiokafka.producer.producer.AIOKafkaProducer object at 0x7fe8bdbbfd00>\n"
     ]
    },
    {
     "name": "stdout",
     "output_type": "stream",
     "text": [
      "idx = 23, channels[idx] = 600000\n"
     ]
    },
    {
     "name": "stderr",
     "output_type": "stream",
     "text": [
      "Unclosed AIOKafkaProducer\n",
      "producer: <aiokafka.producer.producer.AIOKafkaProducer object at 0x7fe8bdbbfee0>\n"
     ]
    },
    {
     "name": "stdout",
     "output_type": "stream",
     "text": [
      "idx = 23, channels[idx] = 600000\n"
     ]
    },
    {
     "name": "stderr",
     "output_type": "stream",
     "text": [
      "Unclosed AIOKafkaProducer\n",
      "producer: <aiokafka.producer.producer.AIOKafkaProducer object at 0x7fe8ba2435e0>\n",
      "Task was destroyed but it is pending!\n",
      "task: <Task pending name='Task-2403' coro=<Sender._sender_routine() running at /home/saifulkhan/CODE/SKA/streaming-vis-perf/broker/venv/lib/python3.9/site-packages/aiokafka/producer/sender.py:147> wait_for=<Future pending cb=[<TaskWakeupMethWrapper object at 0x7fe8bdbbf610>()]> cb=[Sender._fail_all()]>\n",
      "Task was destroyed but it is pending!\n",
      "task: <Task pending name='Task-2413' coro=<Sender._sender_routine() running at /home/saifulkhan/CODE/SKA/streaming-vis-perf/broker/venv/lib/python3.9/site-packages/aiokafka/producer/sender.py:147> wait_for=<Future pending cb=[<TaskWakeupMethWrapper object at 0x7fe8ba2431c0>()]> cb=[Sender._fail_all()]>\n",
      "Task was destroyed but it is pending!\n",
      "task: <Task pending name='Task-2423' coro=<Sender._sender_routine() done, defined at /home/saifulkhan/CODE/SKA/streaming-vis-perf/broker/venv/lib/python3.9/site-packages/aiokafka/producer/sender.py:81> wait_for=<Future pending cb=[<TaskWakeupMethWrapper object at 0x7fe8ba243ac0>()]> cb=[Sender._fail_all()]>\n"
     ]
    },
    {
     "name": "stdout",
     "output_type": "stream",
     "text": [
      "idx = 23, channels[idx] = 600000\n"
     ]
    },
    {
     "name": "stderr",
     "output_type": "stream",
     "text": [
      "Unclosed AIOKafkaProducer\n",
      "producer: <aiokafka.producer.producer.AIOKafkaProducer object at 0x7fe8ba243dc0>\n"
     ]
    },
    {
     "name": "stdout",
     "output_type": "stream",
     "text": [
      "idx = 23, channels[idx] = 600000\n"
     ]
    },
    {
     "name": "stderr",
     "output_type": "stream",
     "text": [
      "Unclosed AIOKafkaProducer\n",
      "producer: <aiokafka.producer.producer.AIOKafkaProducer object at 0x7fe8bdbbfdf0>\n",
      "Task was destroyed but it is pending!\n",
      "task: <Task pending name='Task-2443' coro=<Sender._sender_routine() running at /home/saifulkhan/CODE/SKA/streaming-vis-perf/broker/venv/lib/python3.9/site-packages/aiokafka/producer/sender.py:147> wait_for=<Future pending cb=[<TaskWakeupMethWrapper object at 0x7fe8c3999c40>()]> cb=[Sender._fail_all()]>\n",
      "Task was destroyed but it is pending!\n",
      "task: <Task pending name='Task-2243' coro=<Sender._sender_routine() running at /home/saifulkhan/CODE/SKA/streaming-vis-perf/broker/venv/lib/python3.9/site-packages/aiokafka/producer/sender.py:147> wait_for=<Future pending cb=[<TaskWakeupMethWrapper object at 0x7fe8ba57bbe0>()]> cb=[Sender._fail_all()]>\n",
      "Task was destroyed but it is pending!\n",
      "task: <Task pending name='Task-2253' coro=<Sender._sender_routine() running at /home/saifulkhan/CODE/SKA/streaming-vis-perf/broker/venv/lib/python3.9/site-packages/aiokafka/producer/sender.py:147> wait_for=<Future pending cb=[<TaskWakeupMethWrapper object at 0x7fe8bc6ecbe0>()]> cb=[Sender._fail_all()]>\n",
      "Task was destroyed but it is pending!\n",
      "task: <Task pending name='Task-2273' coro=<Sender._sender_routine() running at /home/saifulkhan/CODE/SKA/streaming-vis-perf/broker/venv/lib/python3.9/site-packages/aiokafka/producer/sender.py:147> wait_for=<Future pending cb=[<TaskWakeupMethWrapper object at 0x7fe8ba525f70>()]> cb=[Sender._fail_all()]>\n",
      "Task was destroyed but it is pending!\n",
      "task: <Task pending name='Task-2303' coro=<Sender._sender_routine() running at /home/saifulkhan/CODE/SKA/streaming-vis-perf/broker/venv/lib/python3.9/site-packages/aiokafka/producer/sender.py:147> wait_for=<Future pending cb=[<TaskWakeupMethWrapper object at 0x7fe8bbb94f70>()]> cb=[Sender._fail_all()]>\n",
      "Task was destroyed but it is pending!\n",
      "task: <Task pending name='Task-2333' coro=<Sender._sender_routine() running at /home/saifulkhan/CODE/SKA/streaming-vis-perf/broker/venv/lib/python3.9/site-packages/aiokafka/producer/sender.py:147> wait_for=<Future pending cb=[<TaskWakeupMethWrapper object at 0x7fe8ba387a60>()]> cb=[Sender._fail_all()]>\n",
      "Task was destroyed but it is pending!\n",
      "task: <Task pending name='Task-2353' coro=<Sender._sender_routine() running at /home/saifulkhan/CODE/SKA/streaming-vis-perf/broker/venv/lib/python3.9/site-packages/aiokafka/producer/sender.py:147> wait_for=<Future pending cb=[<TaskWakeupMethWrapper object at 0x7fe8ba494df0>()]> cb=[Sender._fail_all()]>\n",
      "Task was destroyed but it is pending!\n",
      "task: <Task pending name='Task-2373' coro=<Sender._sender_routine() running at /home/saifulkhan/CODE/SKA/streaming-vis-perf/broker/venv/lib/python3.9/site-packages/aiokafka/producer/sender.py:147> wait_for=<Future pending cb=[<TaskWakeupMethWrapper object at 0x7fe8ba352940>()]> cb=[Sender._fail_all()]>\n",
      "Task was destroyed but it is pending!\n",
      "task: <Task pending name='Task-2393' coro=<Sender._sender_routine() running at /home/saifulkhan/CODE/SKA/streaming-vis-perf/broker/venv/lib/python3.9/site-packages/aiokafka/producer/sender.py:147> wait_for=<Future pending cb=[<TaskWakeupMethWrapper object at 0x7fe8bdbbf3d0>()]> cb=[Sender._fail_all()]>\n",
      "Task was destroyed but it is pending!\n",
      "task: <Task pending name='Task-2433' coro=<Sender._sender_routine() running at /home/saifulkhan/CODE/SKA/streaming-vis-perf/broker/venv/lib/python3.9/site-packages/aiokafka/producer/sender.py:147> wait_for=<Future pending cb=[<TaskWakeupMethWrapper object at 0x7fe8ba243ac0>()]> cb=[Sender._fail_all()]>\n"
     ]
    }
   ],
   "source": [
    "for idx in range(len(channels)):\n",
    "    for d in range(num_iter):\n",
    "        sleep(2)\n",
    "        print(f\"idx = {idx}, channels[idx] = {channels[idx]}\")\n",
    "        await produce(pb_payloads[idx], \"spectrum-pb\")\n",
    "\n",
    "    sleep(5)\n"
   ]
  },
  {
   "cell_type": "markdown",
   "metadata": {},
   "source": [
    "Results"
   ]
  },
  {
   "cell_type": "code",
   "execution_count": 11,
   "metadata": {},
   "outputs": [],
   "source": [
    "protobuf_decoding_time = [\n",
    "    9.300000000745058,\n",
    "    8,\n",
    "    3,\n",
    "    3,\n",
    "    3.199999999254942,\n",
    "    8.600000001490116,\n",
    "    9.099999999627471,\n",
    "    9.300000000745058,\n",
    "    9.300000000745058,\n",
    "    3.200000001117587,\n",
    "    7.099999999627471,\n",
    "    6.299999998882413,\n",
    "    7.400000000372529,\n",
    "    6.800000000745058,\n",
    "    6.599999999627471,\n",
    "    5.599999999627471,\n",
    "    5.699999999254942,\n",
    "    5.800000000745058,\n",
    "    5.600000001490116,\n",
    "    5.699999999254942,\n",
    "    9,\n",
    "    9.800000000745058,\n",
    "    14.700000001117587,\n",
    "    9.199999999254942,\n",
    "    9.900000000372529,\n",
    "    8.799999998882413,\n",
    "    9,\n",
    "    9.5,\n",
    "    8.699999999254942,\n",
    "    9.5,\n",
    "    12.599999999627471,\n",
    "    13.300000000745058,\n",
    "    12.700000001117587,\n",
    "    13,\n",
    "    13.099999999627471,\n",
    "    12.599999999627471,\n",
    "    12.299999998882413,\n",
    "    13.5,\n",
    "    12.699999999254942,\n",
    "    13.199999999254942,\n",
    "    16.800000000745058,\n",
    "    16.600000001490116,\n",
    "    16.40000000037253,\n",
    "    16.600000001490116,\n",
    "    16.700000001117587,\n",
    "    16.300000000745058,\n",
    "    16.40000000037253,\n",
    "    16.300000000745058,\n",
    "    16.90000000037253,\n",
    "    16.59999999962747,\n",
    "    18.90000000037253,\n",
    "    18.200000001117587,\n",
    "    18.700000001117587,\n",
    "    18.09999999962747,\n",
    "    18,\n",
    "    18.200000001117587,\n",
    "    21.09999999962747,\n",
    "    18.40000000037253,\n",
    "    19.59999999962747,\n",
    "    18.5,\n",
    "    22.700000001117587,\n",
    "    23.299999998882413,\n",
    "    25,\n",
    "    23,\n",
    "    22.5,\n",
    "    22.90000000037253,\n",
    "    22.59999999962747,\n",
    "    22.700000001117587,\n",
    "    23.40000000037253,\n",
    "    22.40000000037253,\n",
    "    30.800000000745058,\n",
    "    27.40000000037253,\n",
    "    25.09999999962747,\n",
    "    25.199999999254942,\n",
    "    25.200000001117587,\n",
    "    26.899999998509884,\n",
    "    26.09999999962747,\n",
    "    25.59999999962747,\n",
    "    25.399999998509884,\n",
    "    25.800000000745058,\n",
    "    30.59999999962747,\n",
    "    29.300000000745058,\n",
    "    27.59999999962747,\n",
    "    28.09999999962747,\n",
    "    27.90000000037253,\n",
    "    28.200000001117587,\n",
    "    28.299999998882413,\n",
    "    28.09999999962747,\n",
    "    27.600000001490116,\n",
    "    29.40000000037253,\n",
    "    34,\n",
    "    31.699999999254942,\n",
    "    30.40000000037253,\n",
    "    30.90000000037253,\n",
    "    30.700000001117587,\n",
    "    31.90000000037253,\n",
    "    29.199999999254942,\n",
    "    29.40000000037253,\n",
    "    29.5,\n",
    "    31.300000000745058,\n",
    "    44.40000000037253,\n",
    "    36.19999999925494,\n",
    "    38,\n",
    "    37.30000000074506,\n",
    "    37.40000000037253,\n",
    "    37.5,\n",
    "    36.90000000037253,\n",
    "    37.399999998509884,\n",
    "    37.30000000074506,\n",
    "    37.59999999962747,\n",
    "    43.90000000037253,\n",
    "    39.90000000037253,\n",
    "    41,\n",
    "    38.79999999888241,\n",
    "    39.59999999962747,\n",
    "    38,\n",
    "    43.5,\n",
    "    39,\n",
    "    40.30000000074506,\n",
    "    38.19999999925494,\n",
    "    44,\n",
    "    40,\n",
    "    39.80000000074506,\n",
    "    47,\n",
    "    41.20000000111759,\n",
    "    42.20000000111759,\n",
    "    39.79999999888241,\n",
    "    41.30000000074506,\n",
    "    41,\n",
    "    42.59999999962747,\n",
    "    47.69999999925494,\n",
    "    44.40000000037253,\n",
    "    44.90000000037253,\n",
    "    45.5,\n",
    "    44,\n",
    "    44,\n",
    "    44.70000000111759,\n",
    "    44.59999999962747,\n",
    "    46.80000000074506,\n",
    "    45.29999999888241,\n",
    "    62.5,\n",
    "    45.59999999962747,\n",
    "    49.19999999925494,\n",
    "    49.5,\n",
    "    45.5,\n",
    "    46.79999999888241,\n",
    "    46.69999999925494,\n",
    "    48.19999999925494,\n",
    "    49.40000000037253,\n",
    "    47.5,\n",
    "    60.79999999888241,\n",
    "    53.70000000111759,\n",
    "    53.40000000037253,\n",
    "    51.59999999962747,\n",
    "    54.29999999888241,\n",
    "    52.80000000074506,\n",
    "    53.09999999962747,\n",
    "    54.30000000074506,\n",
    "    54.100000001490116,\n",
    "    54,\n",
    "    59.399999998509884,\n",
    "    56.30000000074506,\n",
    "    56.59999999962747,\n",
    "    55.80000000074506,\n",
    "    59.30000000074506,\n",
    "    58.90000000037253,\n",
    "    60.5,\n",
    "    58.69999999925494,\n",
    "    57.80000000074506,\n",
    "    58,\n",
    "    61.5,\n",
    "    61.40000000037253,\n",
    "    64.20000000111759,\n",
    "    74.10000000149012,\n",
    "    60.79999999888241,\n",
    "    64.59999999962747,\n",
    "    63.90000000037253,\n",
    "    70.30000000074506,\n",
    "    63.100000001490116,\n",
    "    60.19999999925494,\n",
    "    62.70000000111759,\n",
    "    62.20000000111759,\n",
    "    63.59999999962747,\n",
    "    61.20000000111759,\n",
    "    65.40000000037253,\n",
    "    61.69999999925494,\n",
    "    61.09999999962747,\n",
    "    60.40000000037253,\n",
    "    62.90000000037253,\n",
    "    62.5,\n",
    "    66.40000000037253,\n",
    "    63.40000000037253,\n",
    "    64.70000000111759,\n",
    "    65.40000000037253,\n",
    "    62.59999999962747,\n",
    "    66,\n",
    "    63.30000000074506,\n",
    "    64.90000000037253,\n",
    "    66.19999999925494,\n",
    "    63.80000000074506,\n",
    "    73.70000000111759,\n",
    "    67.19999999925494,\n",
    "    65.40000000037253,\n",
    "    64.5,\n",
    "    68.09999999962747,\n",
    "    66.59999999962747,\n",
    "    65.30000000074506,\n",
    "    65.5,\n",
    "    77.29999999888241,\n",
    "    65.59999999962747,\n",
    "    68.30000000074506,\n",
    "    67.79999999888241,\n",
    "    66.70000000111759,\n",
    "    67.59999999962747,\n",
    "    70.29999999888241,\n",
    "    67.59999999962747,\n",
    "    69.10000000149012,\n",
    "    68.59999999962747,\n",
    "    68.30000000074506,\n",
    "    68,\n",
    "    74.30000000074506,\n",
    "    74.90000000037253,\n",
    "    70.90000000037253,\n",
    "    72.20000000111759,\n",
    "    70.5,\n",
    "    69.79999999888241,\n",
    "    71.19999999925494,\n",
    "    71.80000000074506,\n",
    "    69.90000000037253,\n",
    "    70.80000000074506,\n",
    "    93.40000000037253,\n",
    "    83.5,\n",
    "    80.59999999962747,\n",
    "    78.40000000037253,\n",
    "    81.90000000037253,\n",
    "    81.5,\n",
    "    80.80000000074506,\n",
    "    85.80000000074506,\n",
    "    86.20000000111759,\n",
    "    79.29999999888241\n",
    "]"
   ]
  },
  {
   "cell_type": "markdown",
   "metadata": {},
   "source": [
    "JSON/UTF-8"
   ]
  },
  {
   "cell_type": "code",
   "execution_count": 11,
   "metadata": {},
   "outputs": [
    {
     "name": "stdout",
     "output_type": "stream",
     "text": [
      "idx = 0, channels[idx] = 25000\n"
     ]
    },
    {
     "name": "stderr",
     "output_type": "stream",
     "text": [
      "Unclosed AIOKafkaProducer\n",
      "producer: <aiokafka.producer.producer.AIOKafkaProducer object at 0x7fe8b9ebc100>\n"
     ]
    },
    {
     "name": "stdout",
     "output_type": "stream",
     "text": [
      "idx = 0, channels[idx] = 25000\n"
     ]
    },
    {
     "name": "stderr",
     "output_type": "stream",
     "text": [
      "Unclosed AIOKafkaProducer\n",
      "producer: <aiokafka.producer.producer.AIOKafkaProducer object at 0x7fe8bdeac9d0>\n",
      "Task was destroyed but it is pending!\n",
      "task: <Task pending name='Task-2700' coro=<Sender._sender_routine() running at /home/saifulkhan/CODE/SKA/streaming-vis-perf/broker/venv/lib/python3.9/site-packages/aiokafka/producer/sender.py:147> wait_for=<Future pending cb=[<TaskWakeupMethWrapper object at 0x7fe8ba0d0ac0>()]> cb=[Sender._fail_all()]>\n",
      "Task was destroyed but it is pending!\n",
      "task: <Task pending name='Task-2710' coro=<Sender._sender_routine() running at /home/saifulkhan/CODE/SKA/streaming-vis-perf/broker/venv/lib/python3.9/site-packages/aiokafka/producer/sender.py:147> wait_for=<Future pending cb=[<TaskWakeupMethWrapper object at 0x7fe8b9fa7d90>()]> cb=[Sender._fail_all()]>\n"
     ]
    },
    {
     "name": "stdout",
     "output_type": "stream",
     "text": [
      "idx = 0, channels[idx] = 25000\n"
     ]
    },
    {
     "name": "stderr",
     "output_type": "stream",
     "text": [
      "Unclosed AIOKafkaProducer\n",
      "producer: <aiokafka.producer.producer.AIOKafkaProducer object at 0x7fe8bdeace50>\n"
     ]
    },
    {
     "name": "stdout",
     "output_type": "stream",
     "text": [
      "idx = 0, channels[idx] = 25000\n"
     ]
    },
    {
     "name": "stderr",
     "output_type": "stream",
     "text": [
      "Unclosed AIOKafkaProducer\n",
      "producer: <aiokafka.producer.producer.AIOKafkaProducer object at 0x7fe8b9ebc430>\n",
      "Task was destroyed but it is pending!\n",
      "task: <Task pending name='Task-2730' coro=<Sender._sender_routine() running at /home/saifulkhan/CODE/SKA/streaming-vis-perf/broker/venv/lib/python3.9/site-packages/aiokafka/producer/sender.py:147> wait_for=<Future pending cb=[<TaskWakeupMethWrapper object at 0x7fe8b9ed2be0>()]> cb=[Sender._fail_all()]>\n"
     ]
    },
    {
     "name": "stdout",
     "output_type": "stream",
     "text": [
      "idx = 0, channels[idx] = 25000\n"
     ]
    },
    {
     "name": "stderr",
     "output_type": "stream",
     "text": [
      "Unclosed AIOKafkaProducer\n",
      "producer: <aiokafka.producer.producer.AIOKafkaProducer object at 0x7fe8b9ed2250>\n"
     ]
    },
    {
     "name": "stdout",
     "output_type": "stream",
     "text": [
      "idx = 0, channels[idx] = 25000\n"
     ]
    },
    {
     "name": "stderr",
     "output_type": "stream",
     "text": [
      "Unclosed AIOKafkaProducer\n",
      "producer: <aiokafka.producer.producer.AIOKafkaProducer object at 0x7fe8b9ed2a30>\n"
     ]
    },
    {
     "name": "stdout",
     "output_type": "stream",
     "text": [
      "idx = 0, channels[idx] = 25000\n"
     ]
    },
    {
     "name": "stderr",
     "output_type": "stream",
     "text": [
      "Unclosed AIOKafkaProducer\n",
      "producer: <aiokafka.producer.producer.AIOKafkaProducer object at 0x7fe8ba30b760>\n",
      "Task was destroyed but it is pending!\n",
      "task: <Task pending name='Task-2750' coro=<Sender._sender_routine() running at /home/saifulkhan/CODE/SKA/streaming-vis-perf/broker/venv/lib/python3.9/site-packages/aiokafka/producer/sender.py:147> wait_for=<Future pending cb=[<TaskWakeupMethWrapper object at 0x7fe8bba33c10>()]> cb=[Sender._fail_all()]>\n",
      "Task was destroyed but it is pending!\n",
      "task: <Task pending name='Task-2760' coro=<Sender._sender_routine() running at /home/saifulkhan/CODE/SKA/streaming-vis-perf/broker/venv/lib/python3.9/site-packages/aiokafka/producer/sender.py:147> wait_for=<Future pending cb=[<TaskWakeupMethWrapper object at 0x7fe8ba30b190>()]> cb=[Sender._fail_all()]>\n"
     ]
    },
    {
     "name": "stdout",
     "output_type": "stream",
     "text": [
      "idx = 0, channels[idx] = 25000\n"
     ]
    },
    {
     "name": "stderr",
     "output_type": "stream",
     "text": [
      "Unclosed AIOKafkaProducer\n",
      "producer: <aiokafka.producer.producer.AIOKafkaProducer object at 0x7fe8ba30bd00>\n"
     ]
    },
    {
     "name": "stdout",
     "output_type": "stream",
     "text": [
      "idx = 0, channels[idx] = 25000\n"
     ]
    },
    {
     "name": "stderr",
     "output_type": "stream",
     "text": [
      "Unclosed AIOKafkaProducer\n",
      "producer: <aiokafka.producer.producer.AIOKafkaProducer object at 0x7fe8ba30b790>\n"
     ]
    },
    {
     "name": "stdout",
     "output_type": "stream",
     "text": [
      "idx = 0, channels[idx] = 25000\n"
     ]
    },
    {
     "name": "stderr",
     "output_type": "stream",
     "text": [
      "Unclosed AIOKafkaProducer\n",
      "producer: <aiokafka.producer.producer.AIOKafkaProducer object at 0x7fe8ba30b520>\n",
      "Task was destroyed but it is pending!\n",
      "task: <Task pending name='Task-2780' coro=<Sender._sender_routine() running at /home/saifulkhan/CODE/SKA/streaming-vis-perf/broker/venv/lib/python3.9/site-packages/aiokafka/producer/sender.py:147> wait_for=<Future pending cb=[<TaskWakeupMethWrapper object at 0x7fe8ba30b640>()]> cb=[Sender._fail_all()]>\n",
      "Task was destroyed but it is pending!\n",
      "task: <Task pending name='Task-2790' coro=<Sender._sender_routine() done, defined at /home/saifulkhan/CODE/SKA/streaming-vis-perf/broker/venv/lib/python3.9/site-packages/aiokafka/producer/sender.py:81> wait_for=<Future pending cb=[<TaskWakeupMethWrapper object at 0x7fe8b9cda550>()]> cb=[Sender._fail_all()]>\n"
     ]
    },
    {
     "name": "stdout",
     "output_type": "stream",
     "text": [
      "idx = 1, channels[idx] = 50000\n"
     ]
    },
    {
     "name": "stderr",
     "output_type": "stream",
     "text": [
      "Unclosed AIOKafkaProducer\n",
      "producer: <aiokafka.producer.producer.AIOKafkaProducer object at 0x7fe8b9cda910>\n"
     ]
    },
    {
     "name": "stdout",
     "output_type": "stream",
     "text": [
      "idx = 1, channels[idx] = 50000\n"
     ]
    },
    {
     "name": "stderr",
     "output_type": "stream",
     "text": [
      "Unclosed AIOKafkaProducer\n",
      "producer: <aiokafka.producer.producer.AIOKafkaProducer object at 0x7fe8b9cdacd0>\n",
      "Task was destroyed but it is pending!\n",
      "task: <Task pending name='Task-2810' coro=<Sender._sender_routine() running at /home/saifulkhan/CODE/SKA/streaming-vis-perf/broker/venv/lib/python3.9/site-packages/aiokafka/producer/sender.py:147> wait_for=<Future pending cb=[<TaskWakeupMethWrapper object at 0x7fe8b9cdaf70>()]> cb=[Sender._fail_all()]>\n"
     ]
    },
    {
     "name": "stdout",
     "output_type": "stream",
     "text": [
      "idx = 1, channels[idx] = 50000\n"
     ]
    },
    {
     "name": "stderr",
     "output_type": "stream",
     "text": [
      "Unclosed AIOKafkaProducer\n",
      "producer: <aiokafka.producer.producer.AIOKafkaProducer object at 0x7fe8b9cdafd0>\n"
     ]
    },
    {
     "name": "stdout",
     "output_type": "stream",
     "text": [
      "idx = 1, channels[idx] = 50000\n"
     ]
    },
    {
     "name": "stderr",
     "output_type": "stream",
     "text": [
      "Unclosed AIOKafkaProducer\n",
      "producer: <aiokafka.producer.producer.AIOKafkaProducer object at 0x7fe8bb954250>\n",
      "Task was destroyed but it is pending!\n",
      "task: <Task pending name='Task-2830' coro=<Sender._sender_routine() running at /home/saifulkhan/CODE/SKA/streaming-vis-perf/broker/venv/lib/python3.9/site-packages/aiokafka/producer/sender.py:147> wait_for=<Future pending cb=[<TaskWakeupMethWrapper object at 0x7fe8bb954610>()]> cb=[Sender._fail_all()]>\n"
     ]
    },
    {
     "name": "stdout",
     "output_type": "stream",
     "text": [
      "idx = 1, channels[idx] = 50000\n"
     ]
    },
    {
     "name": "stderr",
     "output_type": "stream",
     "text": [
      "Unclosed AIOKafkaProducer\n",
      "producer: <aiokafka.producer.producer.AIOKafkaProducer object at 0x7fe8bb954790>\n",
      "Unclosed AIOKafkaProducer\n",
      "producer: <aiokafka.producer.producer.AIOKafkaProducer object at 0x7fe8b9fa79d0>\n",
      "Task was destroyed but it is pending!\n",
      "task: <Task pending name='Task-2598' coro=<Sender._sender_routine() running at /home/saifulkhan/CODE/SKA/streaming-vis-perf/broker/venv/lib/python3.9/site-packages/aiokafka/producer/sender.py:147> wait_for=<Future pending cb=[<TaskWakeupMethWrapper object at 0x7fe8bb323df0>()]> cb=[Sender._fail_all()]>\n",
      "Task was destroyed but it is pending!\n",
      "task: <Task pending name='Task-2618' coro=<Sender._sender_routine() running at /home/saifulkhan/CODE/SKA/streaming-vis-perf/broker/venv/lib/python3.9/site-packages/aiokafka/producer/sender.py:147> wait_for=<Future pending cb=[<TaskWakeupMethWrapper object at 0x7fe8b9ebcb50>()]> cb=[Sender._fail_all()]>\n",
      "Task was destroyed but it is pending!\n",
      "task: <Task pending name='Task-2638' coro=<Sender._sender_routine() running at /home/saifulkhan/CODE/SKA/streaming-vis-perf/broker/venv/lib/python3.9/site-packages/aiokafka/producer/sender.py:147> wait_for=<Future pending cb=[<TaskWakeupMethWrapper object at 0x7fe8b9f682b0>()]> cb=[Sender._fail_all()]>\n",
      "Task was destroyed but it is pending!\n",
      "task: <Task pending name='Task-2668' coro=<Sender._sender_routine() running at /home/saifulkhan/CODE/SKA/streaming-vis-perf/broker/venv/lib/python3.9/site-packages/aiokafka/producer/sender.py:147> wait_for=<Future pending cb=[<TaskWakeupMethWrapper object at 0x7fe8b9f457c0>()]> cb=[Sender._fail_all()]>\n",
      "Task was destroyed but it is pending!\n",
      "task: <Task pending name='Task-2688' coro=<Sender._sender_routine() running at /home/saifulkhan/CODE/SKA/streaming-vis-perf/broker/venv/lib/python3.9/site-packages/aiokafka/producer/sender.py:147> wait_for=<Future pending cb=[<TaskWakeupMethWrapper object at 0x7fe8b9eb7700>()]> cb=[Sender._fail_all()]>\n",
      "Task was destroyed but it is pending!\n",
      "task: <Task pending name='Task-2720' coro=<Sender._sender_routine() running at /home/saifulkhan/CODE/SKA/streaming-vis-perf/broker/venv/lib/python3.9/site-packages/aiokafka/producer/sender.py:147> wait_for=<Future pending cb=[<TaskWakeupMethWrapper object at 0x7fe8bddbdb80>()]> cb=[Sender._fail_all()]>\n",
      "Task was destroyed but it is pending!\n",
      "task: <Task pending name='Task-2740' coro=<Sender._sender_routine() running at /home/saifulkhan/CODE/SKA/streaming-vis-perf/broker/venv/lib/python3.9/site-packages/aiokafka/producer/sender.py:147> wait_for=<Future pending cb=[<TaskWakeupMethWrapper object at 0x7fe8b9ed2520>()]> cb=[Sender._fail_all()]>\n",
      "Task was destroyed but it is pending!\n",
      "task: <Task pending name='Task-2770' coro=<Sender._sender_routine() running at /home/saifulkhan/CODE/SKA/streaming-vis-perf/broker/venv/lib/python3.9/site-packages/aiokafka/producer/sender.py:147> wait_for=<Future pending cb=[<TaskWakeupMethWrapper object at 0x7fe8ba30bc40>()]> cb=[Sender._fail_all()]>\n",
      "Task was destroyed but it is pending!\n",
      "task: <Task pending name='Task-2800' coro=<Sender._sender_routine() running at /home/saifulkhan/CODE/SKA/streaming-vis-perf/broker/venv/lib/python3.9/site-packages/aiokafka/producer/sender.py:147> wait_for=<Future pending cb=[<TaskWakeupMethWrapper object at 0x7fe8b9cda970>()]> cb=[Sender._fail_all()]>\n",
      "Task was destroyed but it is pending!\n",
      "task: <Task pending name='Task-2820' coro=<Sender._sender_routine() running at /home/saifulkhan/CODE/SKA/streaming-vis-perf/broker/venv/lib/python3.9/site-packages/aiokafka/producer/sender.py:147> wait_for=<Future pending cb=[<TaskWakeupMethWrapper object at 0x7fe8b9cdadc0>()]> cb=[Sender._fail_all()]>\n",
      "Task was destroyed but it is pending!\n",
      "task: <Task pending name='Task-2840' coro=<Sender._sender_routine() done, defined at /home/saifulkhan/CODE/SKA/streaming-vis-perf/broker/venv/lib/python3.9/site-packages/aiokafka/producer/sender.py:81> wait_for=<Future pending cb=[<TaskWakeupMethWrapper object at 0x7fe8bb954af0>()]> cb=[Sender._fail_all()]>\n"
     ]
    },
    {
     "name": "stdout",
     "output_type": "stream",
     "text": [
      "idx = 1, channels[idx] = 50000\n"
     ]
    },
    {
     "name": "stderr",
     "output_type": "stream",
     "text": [
      "Unclosed AIOKafkaProducer\n",
      "producer: <aiokafka.producer.producer.AIOKafkaProducer object at 0x7fe8bb954250>\n"
     ]
    },
    {
     "name": "stdout",
     "output_type": "stream",
     "text": [
      "idx = 1, channels[idx] = 50000\n"
     ]
    },
    {
     "name": "stderr",
     "output_type": "stream",
     "text": [
      "Unclosed AIOKafkaProducer\n",
      "producer: <aiokafka.producer.producer.AIOKafkaProducer object at 0x7fe8bb5d91c0>\n",
      "Task was destroyed but it is pending!\n",
      "task: <Task pending name='Task-2860' coro=<Sender._sender_routine() done, defined at /home/saifulkhan/CODE/SKA/streaming-vis-perf/broker/venv/lib/python3.9/site-packages/aiokafka/producer/sender.py:81> wait_for=<Future pending cb=[<TaskWakeupMethWrapper object at 0x7fe8b9cdad30>()]> cb=[Sender._fail_all()]>\n"
     ]
    },
    {
     "name": "stdout",
     "output_type": "stream",
     "text": [
      "idx = 1, channels[idx] = 50000\n"
     ]
    },
    {
     "name": "stderr",
     "output_type": "stream",
     "text": [
      "Unclosed AIOKafkaProducer\n",
      "producer: <aiokafka.producer.producer.AIOKafkaProducer object at 0x7fe8b9fcb160>\n"
     ]
    },
    {
     "name": "stdout",
     "output_type": "stream",
     "text": [
      "idx = 1, channels[idx] = 50000\n"
     ]
    },
    {
     "name": "stderr",
     "output_type": "stream",
     "text": [
      "Unclosed AIOKafkaProducer\n",
      "producer: <aiokafka.producer.producer.AIOKafkaProducer object at 0x7fe8b9fcb2e0>\n"
     ]
    },
    {
     "name": "stdout",
     "output_type": "stream",
     "text": [
      "idx = 1, channels[idx] = 50000\n"
     ]
    },
    {
     "name": "stderr",
     "output_type": "stream",
     "text": [
      "Unclosed AIOKafkaProducer\n",
      "producer: <aiokafka.producer.producer.AIOKafkaProducer object at 0x7fe8b9fda700>\n",
      "Task was destroyed but it is pending!\n",
      "task: <Task pending name='Task-2880' coro=<Sender._sender_routine() running at /home/saifulkhan/CODE/SKA/streaming-vis-perf/broker/venv/lib/python3.9/site-packages/aiokafka/producer/sender.py:147> wait_for=<Future pending cb=[<TaskWakeupMethWrapper object at 0x7fe8bcb36b50>()]> cb=[Sender._fail_all()]>\n",
      "Task was destroyed but it is pending!\n",
      "task: <Task pending name='Task-2890' coro=<Sender._sender_routine() running at /home/saifulkhan/CODE/SKA/streaming-vis-perf/broker/venv/lib/python3.9/site-packages/aiokafka/producer/sender.py:147> wait_for=<Future pending cb=[<TaskWakeupMethWrapper object at 0x7fe8b9fda4f0>()]> cb=[Sender._fail_all()]>\n"
     ]
    },
    {
     "name": "stdout",
     "output_type": "stream",
     "text": [
      "idx = 2, channels[idx] = 75000\n"
     ]
    },
    {
     "name": "stderr",
     "output_type": "stream",
     "text": [
      "Unclosed AIOKafkaProducer\n",
      "producer: <aiokafka.producer.producer.AIOKafkaProducer object at 0x7fe8b9f85850>\n"
     ]
    },
    {
     "name": "stdout",
     "output_type": "stream",
     "text": [
      "idx = 2, channels[idx] = 75000\n"
     ]
    },
    {
     "name": "stderr",
     "output_type": "stream",
     "text": [
      "Unclosed AIOKafkaProducer\n",
      "producer: <aiokafka.producer.producer.AIOKafkaProducer object at 0x7fe8b9fda8b0>\n",
      "Task was destroyed but it is pending!\n",
      "task: <Task pending name='Task-2910' coro=<Sender._sender_routine() running at /home/saifulkhan/CODE/SKA/streaming-vis-perf/broker/venv/lib/python3.9/site-packages/aiokafka/producer/sender.py:147> wait_for=<Future pending cb=[<TaskWakeupMethWrapper object at 0x7fe8b9fdad60>()]> cb=[Sender._fail_all()]>\n"
     ]
    },
    {
     "name": "stdout",
     "output_type": "stream",
     "text": [
      "idx = 2, channels[idx] = 75000\n"
     ]
    },
    {
     "name": "stderr",
     "output_type": "stream",
     "text": [
      "Unclosed AIOKafkaProducer\n",
      "producer: <aiokafka.producer.producer.AIOKafkaProducer object at 0x7fe8b9fec1c0>\n"
     ]
    },
    {
     "name": "stdout",
     "output_type": "stream",
     "text": [
      "idx = 2, channels[idx] = 75000\n"
     ]
    },
    {
     "name": "stderr",
     "output_type": "stream",
     "text": [
      "Unclosed AIOKafkaProducer\n",
      "producer: <aiokafka.producer.producer.AIOKafkaProducer object at 0x7fe8b9fecb50>\n"
     ]
    },
    {
     "name": "stdout",
     "output_type": "stream",
     "text": [
      "idx = 2, channels[idx] = 75000\n"
     ]
    },
    {
     "name": "stderr",
     "output_type": "stream",
     "text": [
      "Unclosed AIOKafkaProducer\n",
      "producer: <aiokafka.producer.producer.AIOKafkaProducer object at 0x7fe8b9fec880>\n",
      "Task was destroyed but it is pending!\n",
      "task: <Task pending name='Task-2930' coro=<Sender._sender_routine() running at /home/saifulkhan/CODE/SKA/streaming-vis-perf/broker/venv/lib/python3.9/site-packages/aiokafka/producer/sender.py:147> wait_for=<Future pending cb=[<TaskWakeupMethWrapper object at 0x7fe8b9fec040>()]> cb=[Sender._fail_all()]>\n",
      "Task was destroyed but it is pending!\n",
      "task: <Task pending name='Task-2940' coro=<Sender._sender_routine() running at /home/saifulkhan/CODE/SKA/streaming-vis-perf/broker/venv/lib/python3.9/site-packages/aiokafka/producer/sender.py:147> wait_for=<Future pending cb=[<TaskWakeupMethWrapper object at 0x7fe8ba352760>()]> cb=[Sender._fail_all()]>\n"
     ]
    },
    {
     "name": "stdout",
     "output_type": "stream",
     "text": [
      "idx = 2, channels[idx] = 75000\n"
     ]
    },
    {
     "name": "stderr",
     "output_type": "stream",
     "text": [
      "Unclosed AIOKafkaProducer\n",
      "producer: <aiokafka.producer.producer.AIOKafkaProducer object at 0x7fe8b9fa7bb0>\n"
     ]
    },
    {
     "name": "stdout",
     "output_type": "stream",
     "text": [
      "idx = 2, channels[idx] = 75000\n"
     ]
    },
    {
     "name": "stderr",
     "output_type": "stream",
     "text": [
      "Unclosed AIOKafkaProducer\n",
      "producer: <aiokafka.producer.producer.AIOKafkaProducer object at 0x7fe8b9fec040>\n"
     ]
    },
    {
     "name": "stdout",
     "output_type": "stream",
     "text": [
      "idx = 2, channels[idx] = 75000\n"
     ]
    },
    {
     "name": "stderr",
     "output_type": "stream",
     "text": [
      "Unclosed AIOKafkaProducer\n",
      "producer: <aiokafka.producer.producer.AIOKafkaProducer object at 0x7fe8bdeac5b0>\n",
      "Task was destroyed but it is pending!\n",
      "task: <Task pending name='Task-2960' coro=<Sender._sender_routine() running at /home/saifulkhan/CODE/SKA/streaming-vis-perf/broker/venv/lib/python3.9/site-packages/aiokafka/producer/sender.py:147> wait_for=<Future pending cb=[<TaskWakeupMethWrapper object at 0x7fe8bb857cd0>()]> cb=[Sender._fail_all()]>\n",
      "Task was destroyed but it is pending!\n",
      "task: <Task pending name='Task-2970' coro=<Sender._sender_routine() done, defined at /home/saifulkhan/CODE/SKA/streaming-vis-perf/broker/venv/lib/python3.9/site-packages/aiokafka/producer/sender.py:81> wait_for=<Future pending cb=[<TaskWakeupMethWrapper object at 0x7fe8ba03d7c0>()]> cb=[Sender._fail_all()]>\n"
     ]
    },
    {
     "name": "stdout",
     "output_type": "stream",
     "text": [
      "idx = 2, channels[idx] = 75000\n"
     ]
    },
    {
     "name": "stderr",
     "output_type": "stream",
     "text": [
      "Unclosed AIOKafkaProducer\n",
      "producer: <aiokafka.producer.producer.AIOKafkaProducer object at 0x7fe8ba30bd60>\n"
     ]
    },
    {
     "name": "stdout",
     "output_type": "stream",
     "text": [
      "idx = 2, channels[idx] = 75000\n"
     ]
    },
    {
     "name": "stderr",
     "output_type": "stream",
     "text": [
      "Unclosed AIOKafkaProducer\n",
      "producer: <aiokafka.producer.producer.AIOKafkaProducer object at 0x7fe8be1b9340>\n",
      "Task was destroyed but it is pending!\n",
      "task: <Task pending name='Task-2990' coro=<Sender._sender_routine() running at /home/saifulkhan/CODE/SKA/streaming-vis-perf/broker/venv/lib/python3.9/site-packages/aiokafka/producer/sender.py:147> wait_for=<Future pending cb=[<TaskWakeupMethWrapper object at 0x7fe8b9ebc430>()]> cb=[Sender._fail_all()]>\n"
     ]
    },
    {
     "name": "stdout",
     "output_type": "stream",
     "text": [
      "idx = 3, channels[idx] = 100000\n"
     ]
    },
    {
     "name": "stderr",
     "output_type": "stream",
     "text": [
      "Unclosed AIOKafkaProducer\n",
      "producer: <aiokafka.producer.producer.AIOKafkaProducer object at 0x7fe8bb754550>\n"
     ]
    },
    {
     "name": "stdout",
     "output_type": "stream",
     "text": [
      "idx = 3, channels[idx] = 100000\n"
     ]
    },
    {
     "name": "stderr",
     "output_type": "stream",
     "text": [
      "Unclosed AIOKafkaProducer\n",
      "producer: <aiokafka.producer.producer.AIOKafkaProducer object at 0x7fe8ba1919d0>\n"
     ]
    },
    {
     "name": "stdout",
     "output_type": "stream",
     "text": [
      "idx = 3, channels[idx] = 100000\n"
     ]
    },
    {
     "name": "stderr",
     "output_type": "stream",
     "text": [
      "Unclosed AIOKafkaProducer\n",
      "producer: <aiokafka.producer.producer.AIOKafkaProducer object at 0x7fe8ba191e20>\n",
      "Task was destroyed but it is pending!\n",
      "task: <Task pending name='Task-3010' coro=<Sender._sender_routine() running at /home/saifulkhan/CODE/SKA/streaming-vis-perf/broker/venv/lib/python3.9/site-packages/aiokafka/producer/sender.py:147> wait_for=<Future pending cb=[<TaskWakeupMethWrapper object at 0x7fe8ba191910>()]> cb=[Sender._fail_all()]>\n",
      "Task was destroyed but it is pending!\n",
      "task: <Task pending name='Task-3020' coro=<Sender._sender_routine() running at /home/saifulkhan/CODE/SKA/streaming-vis-perf/broker/venv/lib/python3.9/site-packages/aiokafka/producer/sender.py:147> wait_for=<Future pending cb=[<TaskWakeupMethWrapper object at 0x7fe8ba191e80>()]> cb=[Sender._fail_all()]>\n"
     ]
    },
    {
     "name": "stdout",
     "output_type": "stream",
     "text": [
      "idx = 3, channels[idx] = 100000\n"
     ]
    },
    {
     "name": "stderr",
     "output_type": "stream",
     "text": [
      "Unclosed AIOKafkaProducer\n",
      "producer: <aiokafka.producer.producer.AIOKafkaProducer object at 0x7fe8bcea47f0>\n"
     ]
    },
    {
     "name": "stdout",
     "output_type": "stream",
     "text": [
      "idx = 3, channels[idx] = 100000\n"
     ]
    },
    {
     "name": "stderr",
     "output_type": "stream",
     "text": [
      "Unclosed AIOKafkaProducer\n",
      "producer: <aiokafka.producer.producer.AIOKafkaProducer object at 0x7fe8b8df3550>\n",
      "Task was destroyed but it is pending!\n",
      "task: <Task pending name='Task-3040' coro=<Sender._sender_routine() running at /home/saifulkhan/CODE/SKA/streaming-vis-perf/broker/venv/lib/python3.9/site-packages/aiokafka/producer/sender.py:147> wait_for=<Future pending cb=[<TaskWakeupMethWrapper object at 0x7fe8b8df3820>()]> cb=[Sender._fail_all()]>\n"
     ]
    },
    {
     "name": "stdout",
     "output_type": "stream",
     "text": [
      "idx = 3, channels[idx] = 100000\n"
     ]
    },
    {
     "name": "stderr",
     "output_type": "stream",
     "text": [
      "Unclosed AIOKafkaProducer\n",
      "producer: <aiokafka.producer.producer.AIOKafkaProducer object at 0x7fe8b8df3ee0>\n"
     ]
    },
    {
     "name": "stdout",
     "output_type": "stream",
     "text": [
      "idx = 3, channels[idx] = 100000\n"
     ]
    },
    {
     "name": "stderr",
     "output_type": "stream",
     "text": [
      "Unclosed AIOKafkaProducer\n",
      "producer: <aiokafka.producer.producer.AIOKafkaProducer object at 0x7fe8b8df3d30>\n"
     ]
    },
    {
     "name": "stdout",
     "output_type": "stream",
     "text": [
      "idx = 3, channels[idx] = 100000\n"
     ]
    },
    {
     "name": "stderr",
     "output_type": "stream",
     "text": [
      "Unclosed AIOKafkaProducer\n",
      "producer: <aiokafka.producer.producer.AIOKafkaProducer object at 0x7fe8b8d65760>\n",
      "Task was destroyed but it is pending!\n",
      "task: <Task pending name='Task-3060' coro=<Sender._sender_routine() running at /home/saifulkhan/CODE/SKA/streaming-vis-perf/broker/venv/lib/python3.9/site-packages/aiokafka/producer/sender.py:147> wait_for=<Future pending cb=[<TaskWakeupMethWrapper object at 0x7fe8b8d653a0>()]> cb=[Sender._fail_all()]>\n",
      "Task was destroyed but it is pending!\n",
      "task: <Task pending name='Task-3070' coro=<Sender._sender_routine() running at /home/saifulkhan/CODE/SKA/streaming-vis-perf/broker/venv/lib/python3.9/site-packages/aiokafka/producer/sender.py:147> wait_for=<Future pending cb=[<TaskWakeupMethWrapper object at 0x7fe8b8d65a30>()]> cb=[Sender._fail_all()]>\n"
     ]
    },
    {
     "name": "stdout",
     "output_type": "stream",
     "text": [
      "idx = 3, channels[idx] = 100000\n"
     ]
    },
    {
     "name": "stderr",
     "output_type": "stream",
     "text": [
      "Unclosed AIOKafkaProducer\n",
      "producer: <aiokafka.producer.producer.AIOKafkaProducer object at 0x7fe8b8d65400>\n"
     ]
    },
    {
     "name": "stdout",
     "output_type": "stream",
     "text": [
      "idx = 3, channels[idx] = 100000\n"
     ]
    },
    {
     "name": "stderr",
     "output_type": "stream",
     "text": [
      "Unclosed AIOKafkaProducer\n",
      "producer: <aiokafka.producer.producer.AIOKafkaProducer object at 0x7fe8b8d65910>\n"
     ]
    },
    {
     "name": "stdout",
     "output_type": "stream",
     "text": [
      "idx = 4, channels[idx] = 125000\n"
     ]
    },
    {
     "name": "stderr",
     "output_type": "stream",
     "text": [
      "Unclosed AIOKafkaProducer\n",
      "producer: <aiokafka.producer.producer.AIOKafkaProducer object at 0x7fe8b8d3f6a0>\n",
      "Task was destroyed but it is pending!\n",
      "task: <Task pending name='Task-3090' coro=<Sender._sender_routine() running at /home/saifulkhan/CODE/SKA/streaming-vis-perf/broker/venv/lib/python3.9/site-packages/aiokafka/producer/sender.py:147> wait_for=<Future pending cb=[<TaskWakeupMethWrapper object at 0x7fe8b8d3f550>()]> cb=[Sender._fail_all()]>\n",
      "Task was destroyed but it is pending!\n",
      "task: <Task pending name='Task-3100' coro=<Sender._sender_routine() running at /home/saifulkhan/CODE/SKA/streaming-vis-perf/broker/venv/lib/python3.9/site-packages/aiokafka/producer/sender.py:147> wait_for=<Future pending cb=[<TaskWakeupMethWrapper object at 0x7fe8b8d3f820>()]> cb=[Sender._fail_all()]>\n"
     ]
    },
    {
     "name": "stdout",
     "output_type": "stream",
     "text": [
      "idx = 4, channels[idx] = 125000\n"
     ]
    },
    {
     "name": "stderr",
     "output_type": "stream",
     "text": [
      "Unclosed AIOKafkaProducer\n",
      "producer: <aiokafka.producer.producer.AIOKafkaProducer object at 0x7fe8b8d3f280>\n"
     ]
    },
    {
     "name": "stdout",
     "output_type": "stream",
     "text": [
      "idx = 4, channels[idx] = 125000\n"
     ]
    },
    {
     "name": "stderr",
     "output_type": "stream",
     "text": [
      "Unclosed AIOKafkaProducer\n",
      "producer: <aiokafka.producer.producer.AIOKafkaProducer object at 0x7fe8b8d3f670>\n",
      "Task was destroyed but it is pending!\n",
      "task: <Task pending name='Task-3120' coro=<Sender._sender_routine() running at /home/saifulkhan/CODE/SKA/streaming-vis-perf/broker/venv/lib/python3.9/site-packages/aiokafka/producer/sender.py:147> wait_for=<Future pending cb=[<TaskWakeupMethWrapper object at 0x7fe8bb5dd5e0>()]> cb=[Sender._fail_all()]>\n"
     ]
    },
    {
     "name": "stdout",
     "output_type": "stream",
     "text": [
      "idx = 4, channels[idx] = 125000\n"
     ]
    },
    {
     "name": "stderr",
     "output_type": "stream",
     "text": [
      "Unclosed AIOKafkaProducer\n",
      "producer: <aiokafka.producer.producer.AIOKafkaProducer object at 0x7fe8bb5dd7c0>\n"
     ]
    },
    {
     "name": "stdout",
     "output_type": "stream",
     "text": [
      "idx = 4, channels[idx] = 125000\n"
     ]
    },
    {
     "name": "stderr",
     "output_type": "stream",
     "text": [
      "Unclosed AIOKafkaProducer\n",
      "producer: <aiokafka.producer.producer.AIOKafkaProducer object at 0x7fe8bb5dd490>\n"
     ]
    },
    {
     "name": "stdout",
     "output_type": "stream",
     "text": [
      "idx = 4, channels[idx] = 125000\n"
     ]
    },
    {
     "name": "stderr",
     "output_type": "stream",
     "text": [
      "Unclosed AIOKafkaProducer\n",
      "producer: <aiokafka.producer.producer.AIOKafkaProducer object at 0x7fe8bb5dd370>\n",
      "Task was destroyed but it is pending!\n",
      "task: <Task pending name='Task-3140' coro=<Sender._sender_routine() running at /home/saifulkhan/CODE/SKA/streaming-vis-perf/broker/venv/lib/python3.9/site-packages/aiokafka/producer/sender.py:147> wait_for=<Future pending cb=[<TaskWakeupMethWrapper object at 0x7fe8bb5dd4c0>()]> cb=[Sender._fail_all()]>\n",
      "Task was destroyed but it is pending!\n",
      "task: <Task pending name='Task-3150' coro=<Sender._sender_routine() running at /home/saifulkhan/CODE/SKA/streaming-vis-perf/broker/venv/lib/python3.9/site-packages/aiokafka/producer/sender.py:147> wait_for=<Future pending cb=[<TaskWakeupMethWrapper object at 0x7fe8b8c9b1c0>()]> cb=[Sender._fail_all()]>\n"
     ]
    },
    {
     "name": "stdout",
     "output_type": "stream",
     "text": [
      "idx = 4, channels[idx] = 125000\n"
     ]
    },
    {
     "name": "stderr",
     "output_type": "stream",
     "text": [
      "Unclosed AIOKafkaProducer\n",
      "producer: <aiokafka.producer.producer.AIOKafkaProducer object at 0x7fe8b8c9b2e0>\n"
     ]
    },
    {
     "name": "stdout",
     "output_type": "stream",
     "text": [
      "idx = 4, channels[idx] = 125000\n"
     ]
    },
    {
     "name": "stderr",
     "output_type": "stream",
     "text": [
      "Unclosed AIOKafkaProducer\n",
      "producer: <aiokafka.producer.producer.AIOKafkaProducer object at 0x7fe8b8c9bca0>\n",
      "Task was destroyed but it is pending!\n",
      "task: <Task pending name='Task-3170' coro=<Sender._sender_routine() running at /home/saifulkhan/CODE/SKA/streaming-vis-perf/broker/venv/lib/python3.9/site-packages/aiokafka/producer/sender.py:147> wait_for=<Future pending cb=[<TaskWakeupMethWrapper object at 0x7fe8b8c9b070>()]> cb=[Sender._fail_all()]>\n"
     ]
    },
    {
     "name": "stdout",
     "output_type": "stream",
     "text": [
      "idx = 4, channels[idx] = 125000\n"
     ]
    },
    {
     "name": "stderr",
     "output_type": "stream",
     "text": [
      "Unclosed AIOKafkaProducer\n",
      "producer: <aiokafka.producer.producer.AIOKafkaProducer object at 0x7fe8bb5dde80>\n"
     ]
    },
    {
     "name": "stdout",
     "output_type": "stream",
     "text": [
      "idx = 4, channels[idx] = 125000\n"
     ]
    },
    {
     "name": "stderr",
     "output_type": "stream",
     "text": [
      "Unclosed AIOKafkaProducer\n",
      "producer: <aiokafka.producer.producer.AIOKafkaProducer object at 0x7fe8ba4f29d0>\n",
      "Task was destroyed but it is pending!\n",
      "task: <Task pending name='Task-3190' coro=<Sender._sender_routine() running at /home/saifulkhan/CODE/SKA/streaming-vis-perf/broker/venv/lib/python3.9/site-packages/aiokafka/producer/sender.py:147> wait_for=<Future pending cb=[<TaskWakeupMethWrapper object at 0x7fe8ba4f2cd0>()]> cb=[Sender._fail_all()]>\n",
      "Task was destroyed but it is pending!\n",
      "task: <Task pending name='Task-2850' coro=<Sender._sender_routine() running at /home/saifulkhan/CODE/SKA/streaming-vis-perf/broker/venv/lib/python3.9/site-packages/aiokafka/producer/sender.py:147> wait_for=<Future pending cb=[<TaskWakeupMethWrapper object at 0x7fe8ba0d0040>()]> cb=[Sender._fail_all()]>\n",
      "Task was destroyed but it is pending!\n",
      "task: <Task pending name='Task-2870' coro=<Sender._sender_routine() running at /home/saifulkhan/CODE/SKA/streaming-vis-perf/broker/venv/lib/python3.9/site-packages/aiokafka/producer/sender.py:147> wait_for=<Future pending cb=[<TaskWakeupMethWrapper object at 0x7fe8b9fcbfd0>()]> cb=[Sender._fail_all()]>\n",
      "Task was destroyed but it is pending!\n",
      "task: <Task pending name='Task-2900' coro=<Sender._sender_routine() running at /home/saifulkhan/CODE/SKA/streaming-vis-perf/broker/venv/lib/python3.9/site-packages/aiokafka/producer/sender.py:147> wait_for=<Future pending cb=[<TaskWakeupMethWrapper object at 0x7fe8b9fdaf40>()]> cb=[Sender._fail_all()]>\n",
      "Task was destroyed but it is pending!\n",
      "task: <Task pending name='Task-2920' coro=<Sender._sender_routine() running at /home/saifulkhan/CODE/SKA/streaming-vis-perf/broker/venv/lib/python3.9/site-packages/aiokafka/producer/sender.py:147> wait_for=<Future pending cb=[<TaskWakeupMethWrapper object at 0x7fe8b9fec310>()]> cb=[Sender._fail_all()]>\n",
      "Task was destroyed but it is pending!\n",
      "task: <Task pending name='Task-2950' coro=<Sender._sender_routine() running at /home/saifulkhan/CODE/SKA/streaming-vis-perf/broker/venv/lib/python3.9/site-packages/aiokafka/producer/sender.py:147> wait_for=<Future pending cb=[<TaskWakeupMethWrapper object at 0x7fe8b9fa7eb0>()]> cb=[Sender._fail_all()]>\n",
      "Task was destroyed but it is pending!\n",
      "task: <Task pending name='Task-2980' coro=<Sender._sender_routine() running at /home/saifulkhan/CODE/SKA/streaming-vis-perf/broker/venv/lib/python3.9/site-packages/aiokafka/producer/sender.py:147> wait_for=<Future pending cb=[<TaskWakeupMethWrapper object at 0x7fe8b9f45340>()]> cb=[Sender._fail_all()]>\n",
      "Task was destroyed but it is pending!\n",
      "task: <Task pending name='Task-3000' coro=<Sender._sender_routine() running at /home/saifulkhan/CODE/SKA/streaming-vis-perf/broker/venv/lib/python3.9/site-packages/aiokafka/producer/sender.py:147> wait_for=<Future pending cb=[<TaskWakeupMethWrapper object at 0x7fe8bb754160>()]> cb=[Sender._fail_all()]>\n",
      "Task was destroyed but it is pending!\n",
      "task: <Task pending name='Task-3030' coro=<Sender._sender_routine() running at /home/saifulkhan/CODE/SKA/streaming-vis-perf/broker/venv/lib/python3.9/site-packages/aiokafka/producer/sender.py:147> wait_for=<Future pending cb=[<TaskWakeupMethWrapper object at 0x7fe8ba191760>()]> cb=[Sender._fail_all()]>\n",
      "Task was destroyed but it is pending!\n",
      "task: <Task pending name='Task-3050' coro=<Sender._sender_routine() running at /home/saifulkhan/CODE/SKA/streaming-vis-perf/broker/venv/lib/python3.9/site-packages/aiokafka/producer/sender.py:147> wait_for=<Future pending cb=[<TaskWakeupMethWrapper object at 0x7fe8b8df3cd0>()]> cb=[Sender._fail_all()]>\n",
      "Task was destroyed but it is pending!\n",
      "task: <Task pending name='Task-3080' coro=<Sender._sender_routine() running at /home/saifulkhan/CODE/SKA/streaming-vis-perf/broker/venv/lib/python3.9/site-packages/aiokafka/producer/sender.py:147> wait_for=<Future pending cb=[<TaskWakeupMethWrapper object at 0x7fe8b8d65b50>()]> cb=[Sender._fail_all()]>\n",
      "Task was destroyed but it is pending!\n",
      "task: <Task pending name='Task-3110' coro=<Sender._sender_routine() running at /home/saifulkhan/CODE/SKA/streaming-vis-perf/broker/venv/lib/python3.9/site-packages/aiokafka/producer/sender.py:147> wait_for=<Future pending cb=[<TaskWakeupMethWrapper object at 0x7fe8b8d3fca0>()]> cb=[Sender._fail_all()]>\n",
      "Task was destroyed but it is pending!\n",
      "task: <Task pending name='Task-3130' coro=<Sender._sender_routine() running at /home/saifulkhan/CODE/SKA/streaming-vis-perf/broker/venv/lib/python3.9/site-packages/aiokafka/producer/sender.py:147> wait_for=<Future pending cb=[<TaskWakeupMethWrapper object at 0x7fe8bb5dd790>()]> cb=[Sender._fail_all()]>\n",
      "Task was destroyed but it is pending!\n",
      "task: <Task pending name='Task-3160' coro=<Sender._sender_routine() running at /home/saifulkhan/CODE/SKA/streaming-vis-perf/broker/venv/lib/python3.9/site-packages/aiokafka/producer/sender.py:147> wait_for=<Future pending cb=[<TaskWakeupMethWrapper object at 0x7fe8b8c9b670>()]> cb=[Sender._fail_all()]>\n",
      "Task was destroyed but it is pending!\n",
      "task: <Task pending name='Task-3180' coro=<Sender._sender_routine() running at /home/saifulkhan/CODE/SKA/streaming-vis-perf/broker/venv/lib/python3.9/site-packages/aiokafka/producer/sender.py:147> wait_for=<Future pending cb=[<TaskWakeupMethWrapper object at 0x7fe8b8c9b2e0>()]> cb=[Sender._fail_all()]>\n"
     ]
    },
    {
     "name": "stdout",
     "output_type": "stream",
     "text": [
      "idx = 5, channels[idx] = 150000\n"
     ]
    },
    {
     "name": "stderr",
     "output_type": "stream",
     "text": [
      "Unclosed AIOKafkaProducer\n",
      "producer: <aiokafka.producer.producer.AIOKafkaProducer object at 0x7fe8ba4f2d00>\n"
     ]
    },
    {
     "name": "stdout",
     "output_type": "stream",
     "text": [
      "idx = 5, channels[idx] = 150000\n"
     ]
    },
    {
     "name": "stderr",
     "output_type": "stream",
     "text": [
      "Unclosed AIOKafkaProducer\n",
      "producer: <aiokafka.producer.producer.AIOKafkaProducer object at 0x7fe8b9f85130>\n",
      "Task was destroyed but it is pending!\n",
      "task: <Task pending name='Task-3210' coro=<Sender._sender_routine() running at /home/saifulkhan/CODE/SKA/streaming-vis-perf/broker/venv/lib/python3.9/site-packages/aiokafka/producer/sender.py:147> wait_for=<Future pending cb=[<TaskWakeupMethWrapper object at 0x7fe8b8d65b50>()]> cb=[Sender._fail_all()]>\n"
     ]
    },
    {
     "name": "stdout",
     "output_type": "stream",
     "text": [
      "idx = 5, channels[idx] = 150000\n"
     ]
    },
    {
     "name": "stderr",
     "output_type": "stream",
     "text": [
      "Unclosed AIOKafkaProducer\n",
      "producer: <aiokafka.producer.producer.AIOKafkaProducer object at 0x7fe8ba191f40>\n"
     ]
    },
    {
     "name": "stdout",
     "output_type": "stream",
     "text": [
      "idx = 5, channels[idx] = 150000\n"
     ]
    },
    {
     "name": "stderr",
     "output_type": "stream",
     "text": [
      "Unclosed AIOKafkaProducer\n",
      "producer: <aiokafka.producer.producer.AIOKafkaProducer object at 0x7fe8b8d65bb0>\n",
      "Task was destroyed but it is pending!\n",
      "task: <Task pending name='Task-3230' coro=<Sender._sender_routine() running at /home/saifulkhan/CODE/SKA/streaming-vis-perf/broker/venv/lib/python3.9/site-packages/aiokafka/producer/sender.py:147> wait_for=<Future pending cb=[<TaskWakeupMethWrapper object at 0x7fe8ba165880>()]> cb=[Sender._fail_all()]>\n"
     ]
    },
    {
     "name": "stdout",
     "output_type": "stream",
     "text": [
      "idx = 5, channels[idx] = 150000\n"
     ]
    },
    {
     "name": "stderr",
     "output_type": "stream",
     "text": [
      "Unclosed AIOKafkaProducer\n",
      "producer: <aiokafka.producer.producer.AIOKafkaProducer object at 0x7fe8bca8ed60>\n"
     ]
    },
    {
     "name": "stdout",
     "output_type": "stream",
     "text": [
      "idx = 5, channels[idx] = 150000\n"
     ]
    },
    {
     "name": "stderr",
     "output_type": "stream",
     "text": [
      "Unclosed AIOKafkaProducer\n",
      "producer: <aiokafka.producer.producer.AIOKafkaProducer object at 0x7fe8bba162b0>\n"
     ]
    },
    {
     "name": "stdout",
     "output_type": "stream",
     "text": [
      "idx = 5, channels[idx] = 150000\n"
     ]
    },
    {
     "name": "stderr",
     "output_type": "stream",
     "text": [
      "Task was destroyed but it is pending!\n",
      "task: <Task pending name='Task-3250' coro=<Sender._sender_routine() running at /home/saifulkhan/CODE/SKA/streaming-vis-perf/broker/venv/lib/python3.9/site-packages/aiokafka/producer/sender.py:147> wait_for=<Future pending cb=[<TaskWakeupMethWrapper object at 0x7fe8b8b6b1c0>()]> cb=[Sender._fail_all()]>\n",
      "Unclosed AIOKafkaProducer\n",
      "producer: <aiokafka.producer.producer.AIOKafkaProducer object at 0x7fe8b8b6b430>\n"
     ]
    },
    {
     "name": "stdout",
     "output_type": "stream",
     "text": [
      "idx = 5, channels[idx] = 150000\n"
     ]
    },
    {
     "name": "stderr",
     "output_type": "stream",
     "text": [
      "Unclosed AIOKafkaProducer\n",
      "producer: <aiokafka.producer.producer.AIOKafkaProducer object at 0x7fe8b8b6b430>\n",
      "Task was destroyed but it is pending!\n",
      "task: <Task pending name='Task-3270' coro=<Sender._sender_routine() running at /home/saifulkhan/CODE/SKA/streaming-vis-perf/broker/venv/lib/python3.9/site-packages/aiokafka/producer/sender.py:147> wait_for=<Future pending cb=[<TaskWakeupMethWrapper object at 0x7fe8b8b6b040>()]> cb=[Sender._fail_all()]>\n"
     ]
    },
    {
     "name": "stdout",
     "output_type": "stream",
     "text": [
      "idx = 5, channels[idx] = 150000\n"
     ]
    },
    {
     "name": "stderr",
     "output_type": "stream",
     "text": [
      "Unclosed AIOKafkaProducer\n",
      "producer: <aiokafka.producer.producer.AIOKafkaProducer object at 0x7fe8b9f85940>\n"
     ]
    },
    {
     "name": "stdout",
     "output_type": "stream",
     "text": [
      "idx = 5, channels[idx] = 150000\n"
     ]
    },
    {
     "name": "stderr",
     "output_type": "stream",
     "text": [
      "Unclosed AIOKafkaProducer\n",
      "producer: <aiokafka.producer.producer.AIOKafkaProducer object at 0x7fe8b8a608e0>\n"
     ]
    },
    {
     "name": "stdout",
     "output_type": "stream",
     "text": [
      "idx = 6, channels[idx] = 175000\n"
     ]
    },
    {
     "name": "stderr",
     "output_type": "stream",
     "text": [
      "Task was destroyed but it is pending!\n",
      "task: <Task pending name='Task-3290' coro=<Sender._sender_routine() running at /home/saifulkhan/CODE/SKA/streaming-vis-perf/broker/venv/lib/python3.9/site-packages/aiokafka/producer/sender.py:147> wait_for=<Future pending cb=[<TaskWakeupMethWrapper object at 0x7fe8b8a607f0>()]> cb=[Sender._fail_all()]>\n",
      "Unclosed AIOKafkaProducer\n",
      "producer: <aiokafka.producer.producer.AIOKafkaProducer object at 0x7fe8b8a60850>\n"
     ]
    },
    {
     "name": "stdout",
     "output_type": "stream",
     "text": [
      "idx = 6, channels[idx] = 175000\n"
     ]
    },
    {
     "name": "stderr",
     "output_type": "stream",
     "text": [
      "Unclosed AIOKafkaProducer\n",
      "producer: <aiokafka.producer.producer.AIOKafkaProducer object at 0x7fe8bb904dc0>\n"
     ]
    },
    {
     "name": "stdout",
     "output_type": "stream",
     "text": [
      "idx = 6, channels[idx] = 175000\n"
     ]
    },
    {
     "name": "stderr",
     "output_type": "stream",
     "text": [
      "Unclosed AIOKafkaProducer\n",
      "producer: <aiokafka.producer.producer.AIOKafkaProducer object at 0x7fe8bb2e38b0>\n"
     ]
    },
    {
     "name": "stdout",
     "output_type": "stream",
     "text": [
      "idx = 6, channels[idx] = 175000\n"
     ]
    },
    {
     "name": "stderr",
     "output_type": "stream",
     "text": [
      "Unclosed AIOKafkaProducer\n",
      "producer: <aiokafka.producer.producer.AIOKafkaProducer object at 0x7fe8bb2e3fa0>\n",
      "Task was destroyed but it is pending!\n",
      "task: <Task pending name='Task-3320' coro=<Sender._sender_routine() running at /home/saifulkhan/CODE/SKA/streaming-vis-perf/broker/venv/lib/python3.9/site-packages/aiokafka/producer/sender.py:147> wait_for=<Future pending cb=[<TaskWakeupMethWrapper object at 0x7fe8bb2e3850>()]> cb=[Sender._fail_all()]>\n",
      "Task was destroyed but it is pending!\n",
      "task: <Task pending name='Task-3330' coro=<Sender._sender_routine() running at /home/saifulkhan/CODE/SKA/streaming-vis-perf/broker/venv/lib/python3.9/site-packages/aiokafka/producer/sender.py:147> wait_for=<Future pending cb=[<TaskWakeupMethWrapper object at 0x7fe8b89a32b0>()]> cb=[Sender._fail_all()]>\n"
     ]
    },
    {
     "name": "stdout",
     "output_type": "stream",
     "text": [
      "idx = 6, channels[idx] = 175000\n"
     ]
    },
    {
     "name": "stderr",
     "output_type": "stream",
     "text": [
      "Unclosed AIOKafkaProducer\n",
      "producer: <aiokafka.producer.producer.AIOKafkaProducer object at 0x7fe8b89a3730>\n"
     ]
    },
    {
     "name": "stdout",
     "output_type": "stream",
     "text": [
      "idx = 6, channels[idx] = 175000\n"
     ]
    },
    {
     "name": "stderr",
     "output_type": "stream",
     "text": [
      "Unclosed AIOKafkaProducer\n",
      "producer: <aiokafka.producer.producer.AIOKafkaProducer object at 0x7fe8bdbbf640>\n"
     ]
    },
    {
     "name": "stdout",
     "output_type": "stream",
     "text": [
      "idx = 6, channels[idx] = 175000\n"
     ]
    },
    {
     "name": "stderr",
     "output_type": "stream",
     "text": [
      "Unclosed AIOKafkaProducer\n",
      "producer: <aiokafka.producer.producer.AIOKafkaProducer object at 0x7fe8b89a39a0>\n"
     ]
    },
    {
     "name": "stdout",
     "output_type": "stream",
     "text": [
      "idx = 6, channels[idx] = 175000\n"
     ]
    },
    {
     "name": "stderr",
     "output_type": "stream",
     "text": [
      "Unclosed AIOKafkaProducer\n",
      "producer: <aiokafka.producer.producer.AIOKafkaProducer object at 0x7fe8b89a39a0>\n",
      "Task was destroyed but it is pending!\n",
      "task: <Task pending name='Task-3360' coro=<Sender._sender_routine() running at /home/saifulkhan/CODE/SKA/streaming-vis-perf/broker/venv/lib/python3.9/site-packages/aiokafka/producer/sender.py:147> wait_for=<Future pending cb=[<TaskWakeupMethWrapper object at 0x7fe8bb178130>()]> cb=[Sender._fail_all()]>\n",
      "Task was destroyed but it is pending!\n",
      "task: <Task pending name='Task-3370' coro=<Sender._sender_routine() done, defined at /home/saifulkhan/CODE/SKA/streaming-vis-perf/broker/venv/lib/python3.9/site-packages/aiokafka/producer/sender.py:81> wait_for=<Future pending cb=[<TaskWakeupMethWrapper object at 0x7fe8bb178520>()]> cb=[Sender._fail_all()]>\n"
     ]
    },
    {
     "name": "stdout",
     "output_type": "stream",
     "text": [
      "idx = 6, channels[idx] = 175000\n"
     ]
    },
    {
     "name": "stderr",
     "output_type": "stream",
     "text": [
      "Unclosed AIOKafkaProducer\n",
      "producer: <aiokafka.producer.producer.AIOKafkaProducer object at 0x7fe8bb178e20>\n"
     ]
    },
    {
     "name": "stdout",
     "output_type": "stream",
     "text": [
      "idx = 6, channels[idx] = 175000\n"
     ]
    },
    {
     "name": "stderr",
     "output_type": "stream",
     "text": [
      "Unclosed AIOKafkaProducer\n",
      "producer: <aiokafka.producer.producer.AIOKafkaProducer object at 0x7fe8bb178850>\n",
      "Task was destroyed but it is pending!\n",
      "task: <Task pending name='Task-3390' coro=<Sender._sender_routine() running at /home/saifulkhan/CODE/SKA/streaming-vis-perf/broker/venv/lib/python3.9/site-packages/aiokafka/producer/sender.py:147> wait_for=<Future pending cb=[<TaskWakeupMethWrapper object at 0x7fe8b895a8b0>()]> cb=[Sender._fail_all()]>\n"
     ]
    },
    {
     "name": "stdout",
     "output_type": "stream",
     "text": [
      "idx = 7, channels[idx] = 200000\n"
     ]
    },
    {
     "name": "stderr",
     "output_type": "stream",
     "text": [
      "Unclosed AIOKafkaProducer\n",
      "producer: <aiokafka.producer.producer.AIOKafkaProducer object at 0x7fe8b895a0a0>\n"
     ]
    },
    {
     "name": "stdout",
     "output_type": "stream",
     "text": [
      "idx = 7, channels[idx] = 200000\n"
     ]
    },
    {
     "name": "stderr",
     "output_type": "stream",
     "text": [
      "Unclosed AIOKafkaProducer\n",
      "producer: <aiokafka.producer.producer.AIOKafkaProducer object at 0x7fe8b895aac0>\n"
     ]
    },
    {
     "name": "stdout",
     "output_type": "stream",
     "text": [
      "idx = 7, channels[idx] = 200000\n"
     ]
    },
    {
     "name": "stderr",
     "output_type": "stream",
     "text": [
      "Unclosed AIOKafkaProducer\n",
      "producer: <aiokafka.producer.producer.AIOKafkaProducer object at 0x7fe8b895a910>\n",
      "Task was destroyed but it is pending!\n",
      "task: <Task pending name='Task-3420' coro=<Sender._sender_routine() running at /home/saifulkhan/CODE/SKA/streaming-vis-perf/broker/venv/lib/python3.9/site-packages/aiokafka/producer/sender.py:147> wait_for=<Future pending cb=[<TaskWakeupMethWrapper object at 0x7fe8bdf65610>()]> cb=[Sender._fail_all()]>\n"
     ]
    },
    {
     "name": "stdout",
     "output_type": "stream",
     "text": [
      "idx = 7, channels[idx] = 200000\n"
     ]
    },
    {
     "name": "stderr",
     "output_type": "stream",
     "text": [
      "Unclosed AIOKafkaProducer\n",
      "producer: <aiokafka.producer.producer.AIOKafkaProducer object at 0x7fe8bdf65040>\n"
     ]
    },
    {
     "name": "stdout",
     "output_type": "stream",
     "text": [
      "idx = 7, channels[idx] = 200000\n"
     ]
    },
    {
     "name": "stderr",
     "output_type": "stream",
     "text": [
      "Unclosed AIOKafkaProducer\n",
      "producer: <aiokafka.producer.producer.AIOKafkaProducer object at 0x7fe8bdf65820>\n"
     ]
    },
    {
     "name": "stdout",
     "output_type": "stream",
     "text": [
      "idx = 7, channels[idx] = 200000\n"
     ]
    },
    {
     "name": "stderr",
     "output_type": "stream",
     "text": [
      "Unclosed AIOKafkaProducer\n",
      "producer: <aiokafka.producer.producer.AIOKafkaProducer object at 0x7fe8b8843610>\n",
      "Task was destroyed but it is pending!\n",
      "task: <Task pending name='Task-3450' coro=<Sender._sender_routine() running at /home/saifulkhan/CODE/SKA/streaming-vis-perf/broker/venv/lib/python3.9/site-packages/aiokafka/producer/sender.py:147> wait_for=<Future pending cb=[<TaskWakeupMethWrapper object at 0x7fe8b88436d0>()]> cb=[Sender._fail_all()]>\n",
      "Task was destroyed but it is pending!\n",
      "task: <Task pending name='Task-3200' coro=<Sender._sender_routine() running at /home/saifulkhan/CODE/SKA/streaming-vis-perf/broker/venv/lib/python3.9/site-packages/aiokafka/producer/sender.py:147> wait_for=<Future pending cb=[<TaskWakeupMethWrapper object at 0x7fe8b8c9b790>()]> cb=[Sender._fail_all()]>\n",
      "Task was destroyed but it is pending!\n",
      "task: <Task pending name='Task-3220' coro=<Sender._sender_routine() running at /home/saifulkhan/CODE/SKA/streaming-vis-perf/broker/venv/lib/python3.9/site-packages/aiokafka/producer/sender.py:147> wait_for=<Future pending cb=[<TaskWakeupMethWrapper object at 0x7fe8bdbc8ee0>()]> cb=[Sender._fail_all()]>\n",
      "Task was destroyed but it is pending!\n",
      "task: <Task pending name='Task-3240' coro=<Sender._sender_routine() running at /home/saifulkhan/CODE/SKA/streaming-vis-perf/broker/venv/lib/python3.9/site-packages/aiokafka/producer/sender.py:147> wait_for=<Future pending cb=[<TaskWakeupMethWrapper object at 0x7fe8ba4f2d00>()]> cb=[Sender._fail_all()]>\n",
      "Task was destroyed but it is pending!\n",
      "task: <Task pending name='Task-3260' coro=<Sender._sender_routine() running at /home/saifulkhan/CODE/SKA/streaming-vis-perf/broker/venv/lib/python3.9/site-packages/aiokafka/producer/sender.py:147> wait_for=<Future pending cb=[<TaskWakeupMethWrapper object at 0x7fe8b8b6bc40>()]> cb=[Sender._fail_all()]>\n",
      "Task was destroyed but it is pending!\n",
      "task: <Task pending name='Task-3280' coro=<Sender._sender_routine() running at /home/saifulkhan/CODE/SKA/streaming-vis-perf/broker/venv/lib/python3.9/site-packages/aiokafka/producer/sender.py:147> wait_for=<Future pending cb=[<TaskWakeupMethWrapper object at 0x7fe8b8b6b4f0>()]> cb=[Sender._fail_all()]>\n",
      "Task was destroyed but it is pending!\n",
      "task: <Task pending name='Task-3300' coro=<Sender._sender_routine() running at /home/saifulkhan/CODE/SKA/streaming-vis-perf/broker/venv/lib/python3.9/site-packages/aiokafka/producer/sender.py:147> wait_for=<Future pending cb=[<TaskWakeupMethWrapper object at 0x7fe8b8a602b0>()]> cb=[Sender._fail_all()]>\n",
      "Task was destroyed but it is pending!\n",
      "task: <Task pending name='Task-3310' coro=<Sender._sender_routine() running at /home/saifulkhan/CODE/SKA/streaming-vis-perf/broker/venv/lib/python3.9/site-packages/aiokafka/producer/sender.py:147> wait_for=<Future pending cb=[<TaskWakeupMethWrapper object at 0x7fe8bb2e34c0>()]> cb=[Sender._fail_all()]>\n",
      "Task was destroyed but it is pending!\n",
      "task: <Task pending name='Task-3340' coro=<Sender._sender_routine() running at /home/saifulkhan/CODE/SKA/streaming-vis-perf/broker/venv/lib/python3.9/site-packages/aiokafka/producer/sender.py:147> wait_for=<Future pending cb=[<TaskWakeupMethWrapper object at 0x7fe8bb2e3340>()]> cb=[Sender._fail_all()]>\n",
      "Task was destroyed but it is pending!\n",
      "task: <Task pending name='Task-3350' coro=<Sender._sender_routine() running at /home/saifulkhan/CODE/SKA/streaming-vis-perf/broker/venv/lib/python3.9/site-packages/aiokafka/producer/sender.py:147> wait_for=<Future pending cb=[<TaskWakeupMethWrapper object at 0x7fe8b89a3520>()]> cb=[Sender._fail_all()]>\n",
      "Task was destroyed but it is pending!\n",
      "task: <Task pending name='Task-3380' coro=<Sender._sender_routine() running at /home/saifulkhan/CODE/SKA/streaming-vis-perf/broker/venv/lib/python3.9/site-packages/aiokafka/producer/sender.py:147> wait_for=<Future pending cb=[<TaskWakeupMethWrapper object at 0x7fe8bb178d30>()]> cb=[Sender._fail_all()]>\n",
      "Task was destroyed but it is pending!\n",
      "task: <Task pending name='Task-3400' coro=<Sender._sender_routine() running at /home/saifulkhan/CODE/SKA/streaming-vis-perf/broker/venv/lib/python3.9/site-packages/aiokafka/producer/sender.py:147> wait_for=<Future pending cb=[<TaskWakeupMethWrapper object at 0x7fe8b895a7f0>()]> cb=[Sender._fail_all()]>\n",
      "Task was destroyed but it is pending!\n",
      "task: <Task pending name='Task-3410' coro=<Sender._sender_routine() running at /home/saifulkhan/CODE/SKA/streaming-vis-perf/broker/venv/lib/python3.9/site-packages/aiokafka/producer/sender.py:147> wait_for=<Future pending cb=[<TaskWakeupMethWrapper object at 0x7fe8b895a490>()]> cb=[Sender._fail_all()]>\n",
      "Task was destroyed but it is pending!\n",
      "task: <Task pending name='Task-3430' coro=<Sender._sender_routine() running at /home/saifulkhan/CODE/SKA/streaming-vis-perf/broker/venv/lib/python3.9/site-packages/aiokafka/producer/sender.py:147> wait_for=<Future pending cb=[<TaskWakeupMethWrapper object at 0x7fe8bdf65c40>()]> cb=[Sender._fail_all()]>\n",
      "Task was destroyed but it is pending!\n",
      "task: <Task pending name='Task-3440' coro=<Sender._sender_routine() running at /home/saifulkhan/CODE/SKA/streaming-vis-perf/broker/venv/lib/python3.9/site-packages/aiokafka/producer/sender.py:147> wait_for=<Future pending cb=[<TaskWakeupMethWrapper object at 0x7fe8b88438e0>()]> cb=[Sender._fail_all()]>\n"
     ]
    },
    {
     "name": "stdout",
     "output_type": "stream",
     "text": [
      "idx = 7, channels[idx] = 200000\n"
     ]
    },
    {
     "name": "stderr",
     "output_type": "stream",
     "text": [
      "Unclosed AIOKafkaProducer\n",
      "producer: <aiokafka.producer.producer.AIOKafkaProducer object at 0x7fe8b8843c70>\n"
     ]
    },
    {
     "name": "stdout",
     "output_type": "stream",
     "text": [
      "idx = 7, channels[idx] = 200000\n"
     ]
    },
    {
     "name": "stderr",
     "output_type": "stream",
     "text": [
      "Unclosed AIOKafkaProducer\n",
      "producer: <aiokafka.producer.producer.AIOKafkaProducer object at 0x7fe8b88437c0>\n",
      "Task was destroyed but it is pending!\n",
      "task: <Task pending name='Task-3470' coro=<Sender._sender_routine() running at /home/saifulkhan/CODE/SKA/streaming-vis-perf/broker/venv/lib/python3.9/site-packages/aiokafka/producer/sender.py:147> wait_for=<Future pending cb=[<TaskWakeupMethWrapper object at 0x7fe8b88438e0>()]> cb=[Sender._fail_all()]>\n"
     ]
    },
    {
     "name": "stdout",
     "output_type": "stream",
     "text": [
      "idx = 7, channels[idx] = 200000\n"
     ]
    },
    {
     "name": "stderr",
     "output_type": "stream",
     "text": [
      "Unclosed AIOKafkaProducer\n",
      "producer: <aiokafka.producer.producer.AIOKafkaProducer object at 0x7fe8bdbbfdc0>\n"
     ]
    },
    {
     "name": "stdout",
     "output_type": "stream",
     "text": [
      "idx = 7, channels[idx] = 200000\n"
     ]
    },
    {
     "name": "stderr",
     "output_type": "stream",
     "text": [
      "Unclosed AIOKafkaProducer\n",
      "producer: <aiokafka.producer.producer.AIOKafkaProducer object at 0x7fe8bcb022b0>\n",
      "Task was destroyed but it is pending!\n",
      "task: <Task pending name='Task-3490' coro=<Sender._sender_routine() running at /home/saifulkhan/CODE/SKA/streaming-vis-perf/broker/venv/lib/python3.9/site-packages/aiokafka/producer/sender.py:147> wait_for=<Future pending cb=[<TaskWakeupMethWrapper object at 0x7fe8bb2e3e80>()]> cb=[Sender._fail_all()]>\n"
     ]
    },
    {
     "name": "stdout",
     "output_type": "stream",
     "text": [
      "idx = 8, channels[idx] = 225000\n"
     ]
    },
    {
     "name": "stderr",
     "output_type": "stream",
     "text": [
      "Unclosed AIOKafkaProducer\n",
      "producer: <aiokafka.producer.producer.AIOKafkaProducer object at 0x7fe8bbb94a60>\n"
     ]
    },
    {
     "name": "stdout",
     "output_type": "stream",
     "text": [
      "idx = 8, channels[idx] = 225000\n"
     ]
    },
    {
     "name": "stderr",
     "output_type": "stream",
     "text": [
      "Unclosed AIOKafkaProducer\n",
      "producer: <aiokafka.producer.producer.AIOKafkaProducer object at 0x7fe8b8b6b6d0>\n"
     ]
    },
    {
     "name": "stdout",
     "output_type": "stream",
     "text": [
      "idx = 8, channels[idx] = 225000\n"
     ]
    },
    {
     "name": "stderr",
     "output_type": "stream",
     "text": [
      "Unclosed AIOKafkaProducer\n",
      "producer: <aiokafka.producer.producer.AIOKafkaProducer object at 0x7fe8b9e916a0>\n",
      "Task was destroyed but it is pending!\n",
      "task: <Task pending name='Task-3520' coro=<Sender._sender_routine() running at /home/saifulkhan/CODE/SKA/streaming-vis-perf/broker/venv/lib/python3.9/site-packages/aiokafka/producer/sender.py:147> wait_for=<Future pending cb=[<TaskWakeupMethWrapper object at 0x7fe8b9e91640>()]> cb=[Sender._fail_all()]>\n"
     ]
    },
    {
     "name": "stdout",
     "output_type": "stream",
     "text": [
      "idx = 8, channels[idx] = 225000\n"
     ]
    },
    {
     "name": "stderr",
     "output_type": "stream",
     "text": [
      "Unclosed AIOKafkaProducer\n",
      "producer: <aiokafka.producer.producer.AIOKafkaProducer object at 0x7fe8b9e91b50>\n"
     ]
    },
    {
     "name": "stdout",
     "output_type": "stream",
     "text": [
      "idx = 8, channels[idx] = 225000\n"
     ]
    },
    {
     "name": "stderr",
     "output_type": "stream",
     "text": [
      "Unclosed AIOKafkaProducer\n",
      "producer: <aiokafka.producer.producer.AIOKafkaProducer object at 0x7fe8b9e91f10>\n"
     ]
    },
    {
     "name": "stdout",
     "output_type": "stream",
     "text": [
      "idx = 8, channels[idx] = 225000\n"
     ]
    },
    {
     "name": "stderr",
     "output_type": "stream",
     "text": [
      "Task was destroyed but it is pending!\n",
      "task: <Task pending name='Task-3540' coro=<Sender._sender_routine() running at /home/saifulkhan/CODE/SKA/streaming-vis-perf/broker/venv/lib/python3.9/site-packages/aiokafka/producer/sender.py:147> wait_for=<Future pending cb=[<TaskWakeupMethWrapper object at 0x7fe8ba3a8280>()]> cb=[Sender._fail_all()]>\n",
      "Unclosed AIOKafkaProducer\n",
      "producer: <aiokafka.producer.producer.AIOKafkaProducer object at 0x7fe8ba3a80d0>\n"
     ]
    },
    {
     "name": "stdout",
     "output_type": "stream",
     "text": [
      "idx = 8, channels[idx] = 225000\n"
     ]
    },
    {
     "name": "stderr",
     "output_type": "stream",
     "text": [
      "Unclosed AIOKafkaProducer\n",
      "producer: <aiokafka.producer.producer.AIOKafkaProducer object at 0x7fe8ba3a8af0>\n"
     ]
    },
    {
     "name": "stdout",
     "output_type": "stream",
     "text": [
      "idx = 8, channels[idx] = 225000\n"
     ]
    },
    {
     "name": "stderr",
     "output_type": "stream",
     "text": [
      "Unclosed AIOKafkaProducer\n",
      "producer: <aiokafka.producer.producer.AIOKafkaProducer object at 0x7fe8ba3a8be0>\n"
     ]
    },
    {
     "name": "stdout",
     "output_type": "stream",
     "text": [
      "idx = 8, channels[idx] = 225000\n"
     ]
    },
    {
     "name": "stderr",
     "output_type": "stream",
     "text": [
      "Unclosed AIOKafkaProducer\n",
      "producer: <aiokafka.producer.producer.AIOKafkaProducer object at 0x7fe8b86d99d0>\n"
     ]
    },
    {
     "name": "stdout",
     "output_type": "stream",
     "text": [
      "idx = 8, channels[idx] = 225000\n"
     ]
    },
    {
     "name": "stderr",
     "output_type": "stream",
     "text": [
      "Unclosed AIOKafkaProducer\n",
      "producer: <aiokafka.producer.producer.AIOKafkaProducer object at 0x7fe8b86d9cd0>\n",
      "Task was destroyed but it is pending!\n",
      "task: <Task pending name='Task-3580' coro=<Sender._sender_routine() running at /home/saifulkhan/CODE/SKA/streaming-vis-perf/broker/venv/lib/python3.9/site-packages/aiokafka/producer/sender.py:147> wait_for=<Future pending cb=[<TaskWakeupMethWrapper object at 0x7fe8b86d9940>()]> cb=[Sender._fail_all()]>\n",
      "Task was destroyed but it is pending!\n",
      "task: <Task pending name='Task-3590' coro=<Sender._sender_routine() done, defined at /home/saifulkhan/CODE/SKA/streaming-vis-perf/broker/venv/lib/python3.9/site-packages/aiokafka/producer/sender.py:81> wait_for=<Future pending cb=[<TaskWakeupMethWrapper object at 0x7fe8ba28c760>()]> cb=[Sender._fail_all()]>\n"
     ]
    },
    {
     "name": "stdout",
     "output_type": "stream",
     "text": [
      "idx = 9, channels[idx] = 250000\n"
     ]
    },
    {
     "name": "stderr",
     "output_type": "stream",
     "text": [
      "Unclosed AIOKafkaProducer\n",
      "producer: <aiokafka.producer.producer.AIOKafkaProducer object at 0x7fe8ba28c340>\n"
     ]
    },
    {
     "name": "stdout",
     "output_type": "stream",
     "text": [
      "idx = 9, channels[idx] = 250000\n"
     ]
    },
    {
     "name": "stderr",
     "output_type": "stream",
     "text": [
      "Unclosed AIOKafkaProducer\n",
      "producer: <aiokafka.producer.producer.AIOKafkaProducer object at 0x7fe8ba28c9a0>\n",
      "Task was destroyed but it is pending!\n",
      "task: <Task pending name='Task-3610' coro=<Sender._sender_routine() running at /home/saifulkhan/CODE/SKA/streaming-vis-perf/broker/venv/lib/python3.9/site-packages/aiokafka/producer/sender.py:147> wait_for=<Future pending cb=[<TaskWakeupMethWrapper object at 0x7fe8ba28c550>()]> cb=[Sender._fail_all()]>\n"
     ]
    },
    {
     "name": "stdout",
     "output_type": "stream",
     "text": [
      "idx = 9, channels[idx] = 250000\n"
     ]
    },
    {
     "name": "stderr",
     "output_type": "stream",
     "text": [
      "Unclosed AIOKafkaProducer\n",
      "producer: <aiokafka.producer.producer.AIOKafkaProducer object at 0x7fe8ba28cb50>\n"
     ]
    },
    {
     "name": "stdout",
     "output_type": "stream",
     "text": [
      "idx = 9, channels[idx] = 250000\n"
     ]
    },
    {
     "name": "stderr",
     "output_type": "stream",
     "text": [
      "Unclosed AIOKafkaProducer\n",
      "producer: <aiokafka.producer.producer.AIOKafkaProducer object at 0x7fe8b9c18580>\n"
     ]
    },
    {
     "name": "stdout",
     "output_type": "stream",
     "text": [
      "idx = 9, channels[idx] = 250000\n"
     ]
    },
    {
     "name": "stderr",
     "output_type": "stream",
     "text": [
      "Unclosed AIOKafkaProducer\n",
      "producer: <aiokafka.producer.producer.AIOKafkaProducer object at 0x7fe8b9c18ee0>\n"
     ]
    },
    {
     "name": "stdout",
     "output_type": "stream",
     "text": [
      "idx = 9, channels[idx] = 250000\n"
     ]
    },
    {
     "name": "stderr",
     "output_type": "stream",
     "text": [
      "Unclosed AIOKafkaProducer\n",
      "producer: <aiokafka.producer.producer.AIOKafkaProducer object at 0x7fe8b9c18c70>\n",
      "Task was destroyed but it is pending!\n",
      "task: <Task pending name='Task-3640' coro=<Sender._sender_routine() running at /home/saifulkhan/CODE/SKA/streaming-vis-perf/broker/venv/lib/python3.9/site-packages/aiokafka/producer/sender.py:147> wait_for=<Future pending cb=[<TaskWakeupMethWrapper object at 0x7fe8b9c18be0>()]> cb=[Sender._fail_all()]>\n",
      "Task was destroyed but it is pending!\n",
      "task: <Task pending name='Task-3650' coro=<Sender._sender_routine() running at /home/saifulkhan/CODE/SKA/streaming-vis-perf/broker/venv/lib/python3.9/site-packages/aiokafka/producer/sender.py:147> wait_for=<Future pending cb=[<TaskWakeupMethWrapper object at 0x7fe8bb924310>()]> cb=[Sender._fail_all()]>\n"
     ]
    },
    {
     "name": "stdout",
     "output_type": "stream",
     "text": [
      "idx = 9, channels[idx] = 250000\n"
     ]
    },
    {
     "name": "stderr",
     "output_type": "stream",
     "text": [
      "Unclosed AIOKafkaProducer\n",
      "producer: <aiokafka.producer.producer.AIOKafkaProducer object at 0x7fe8bb9241f0>\n"
     ]
    },
    {
     "name": "stdout",
     "output_type": "stream",
     "text": [
      "idx = 9, channels[idx] = 250000\n"
     ]
    },
    {
     "name": "stderr",
     "output_type": "stream",
     "text": [
      "Task was destroyed but it is pending!\n",
      "task: <Task pending name='Task-3460' coro=<Sender._sender_routine() running at /home/saifulkhan/CODE/SKA/streaming-vis-perf/broker/venv/lib/python3.9/site-packages/aiokafka/producer/sender.py:147> wait_for=<Future pending cb=[<TaskWakeupMethWrapper object at 0x7fe8ba4f2eb0>()]> cb=[Sender._fail_all()]>\n",
      "Task was destroyed but it is pending!\n",
      "task: <Task pending name='Task-3480' coro=<Sender._sender_routine() running at /home/saifulkhan/CODE/SKA/streaming-vis-perf/broker/venv/lib/python3.9/site-packages/aiokafka/producer/sender.py:147> wait_for=<Future pending cb=[<TaskWakeupMethWrapper object at 0x7fe8b9f687f0>()]> cb=[Sender._fail_all()]>\n",
      "Task was destroyed but it is pending!\n",
      "task: <Task pending name='Task-3500' coro=<Sender._sender_routine() running at /home/saifulkhan/CODE/SKA/streaming-vis-perf/broker/venv/lib/python3.9/site-packages/aiokafka/producer/sender.py:147> wait_for=<Future pending cb=[<TaskWakeupMethWrapper object at 0x7fe8bc674760>()]> cb=[Sender._fail_all()]>\n",
      "Task was destroyed but it is pending!\n",
      "task: <Task pending name='Task-3510' coro=<Sender._sender_routine() running at /home/saifulkhan/CODE/SKA/streaming-vis-perf/broker/venv/lib/python3.9/site-packages/aiokafka/producer/sender.py:147> wait_for=<Future pending cb=[<TaskWakeupMethWrapper object at 0x7fe8ba494ac0>()]> cb=[Sender._fail_all()]>\n",
      "Task was destroyed but it is pending!\n",
      "task: <Task pending name='Task-3530' coro=<Sender._sender_routine() running at /home/saifulkhan/CODE/SKA/streaming-vis-perf/broker/venv/lib/python3.9/site-packages/aiokafka/producer/sender.py:147> wait_for=<Future pending cb=[<TaskWakeupMethWrapper object at 0x7fe8b9e91fd0>()]> cb=[Sender._fail_all()]>\n",
      "Task was destroyed but it is pending!\n",
      "task: <Task pending name='Task-3550' coro=<Sender._sender_routine() running at /home/saifulkhan/CODE/SKA/streaming-vis-perf/broker/venv/lib/python3.9/site-packages/aiokafka/producer/sender.py:147> wait_for=<Future pending cb=[<TaskWakeupMethWrapper object at 0x7fe8ba3a8310>()]> cb=[Sender._fail_all()]>\n",
      "Task was destroyed but it is pending!\n",
      "task: <Task pending name='Task-3560' coro=<Sender._sender_routine() running at /home/saifulkhan/CODE/SKA/streaming-vis-perf/broker/venv/lib/python3.9/site-packages/aiokafka/producer/sender.py:147> wait_for=<Future pending cb=[<TaskWakeupMethWrapper object at 0x7fe8ba3870a0>()]> cb=[Sender._fail_all()]>\n",
      "Task was destroyed but it is pending!\n",
      "task: <Task pending name='Task-3570' coro=<Sender._sender_routine() running at /home/saifulkhan/CODE/SKA/streaming-vis-perf/broker/venv/lib/python3.9/site-packages/aiokafka/producer/sender.py:147> wait_for=<Future pending cb=[<TaskWakeupMethWrapper object at 0x7fe8b86d9700>()]> cb=[Sender._fail_all()]>\n",
      "Task was destroyed but it is pending!\n",
      "task: <Task pending name='Task-3600' coro=<Sender._sender_routine() running at /home/saifulkhan/CODE/SKA/streaming-vis-perf/broker/venv/lib/python3.9/site-packages/aiokafka/producer/sender.py:147> wait_for=<Future pending cb=[<TaskWakeupMethWrapper object at 0x7fe8ba28cd90>()]> cb=[Sender._fail_all()]>\n",
      "Task was destroyed but it is pending!\n",
      "task: <Task pending name='Task-3620' coro=<Sender._sender_routine() running at /home/saifulkhan/CODE/SKA/streaming-vis-perf/broker/venv/lib/python3.9/site-packages/aiokafka/producer/sender.py:147> wait_for=<Future pending cb=[<TaskWakeupMethWrapper object at 0x7fe8ba28c490>()]> cb=[Sender._fail_all()]>\n",
      "Task was destroyed but it is pending!\n",
      "task: <Task pending name='Task-3630' coro=<Sender._sender_routine() running at /home/saifulkhan/CODE/SKA/streaming-vis-perf/broker/venv/lib/python3.9/site-packages/aiokafka/producer/sender.py:147> wait_for=<Future pending cb=[<TaskWakeupMethWrapper object at 0x7fe8b9c182b0>()]> cb=[Sender._fail_all()]>\n",
      "Task was destroyed but it is pending!\n",
      "task: <Task pending name='Task-3660' coro=<Sender._sender_routine() running at /home/saifulkhan/CODE/SKA/streaming-vis-perf/broker/venv/lib/python3.9/site-packages/aiokafka/producer/sender.py:147> wait_for=<Future pending cb=[<TaskWakeupMethWrapper object at 0x7fe8bb924b80>()]> cb=[Sender._fail_all()]>\n",
      "Unclosed AIOKafkaProducer\n",
      "producer: <aiokafka.producer.producer.AIOKafkaProducer object at 0x7fe8bb924fd0>\n"
     ]
    },
    {
     "name": "stdout",
     "output_type": "stream",
     "text": [
      "idx = 9, channels[idx] = 250000\n"
     ]
    },
    {
     "name": "stderr",
     "output_type": "stream",
     "text": [
      "Unclosed AIOKafkaProducer\n",
      "producer: <aiokafka.producer.producer.AIOKafkaProducer object at 0x7fe8bb9248b0>\n"
     ]
    },
    {
     "name": "stdout",
     "output_type": "stream",
     "text": [
      "idx = 9, channels[idx] = 250000\n"
     ]
    },
    {
     "name": "stderr",
     "output_type": "stream",
     "text": [
      "Unclosed AIOKafkaProducer\n",
      "producer: <aiokafka.producer.producer.AIOKafkaProducer object at 0x7fe8bb86d4f0>\n",
      "Task was destroyed but it is pending!\n",
      "task: <Task pending name='Task-3680' coro=<Sender._sender_routine() running at /home/saifulkhan/CODE/SKA/streaming-vis-perf/broker/venv/lib/python3.9/site-packages/aiokafka/producer/sender.py:147> wait_for=<Future pending cb=[<TaskWakeupMethWrapper object at 0x7fe8bb924df0>()]> cb=[Sender._fail_all()]>\n",
      "Task was destroyed but it is pending!\n",
      "task: <Task pending name='Task-3690' coro=<Sender._sender_routine() running at /home/saifulkhan/CODE/SKA/streaming-vis-perf/broker/venv/lib/python3.9/site-packages/aiokafka/producer/sender.py:147> wait_for=<Future pending cb=[<TaskWakeupMethWrapper object at 0x7fe8bb857fd0>()]> cb=[Sender._fail_all()]>\n"
     ]
    },
    {
     "name": "stdout",
     "output_type": "stream",
     "text": [
      "idx = 10, channels[idx] = 275000\n"
     ]
    },
    {
     "name": "stderr",
     "output_type": "stream",
     "text": [
      "Unclosed AIOKafkaProducer\n",
      "producer: <aiokafka.producer.producer.AIOKafkaProducer object at 0x7fe8b9c18190>\n"
     ]
    },
    {
     "name": "stdout",
     "output_type": "stream",
     "text": [
      "idx = 10, channels[idx] = 275000\n"
     ]
    },
    {
     "name": "stderr",
     "output_type": "stream",
     "text": [
      "Unclosed AIOKafkaProducer\n",
      "producer: <aiokafka.producer.producer.AIOKafkaProducer object at 0x7fe8b9f457c0>\n"
     ]
    },
    {
     "name": "stdout",
     "output_type": "stream",
     "text": [
      "idx = 10, channels[idx] = 275000\n"
     ]
    },
    {
     "name": "stderr",
     "output_type": "stream",
     "text": [
      "Task was destroyed but it is pending!\n",
      "task: <Task pending name='Task-3710' coro=<Sender._sender_routine() running at /home/saifulkhan/CODE/SKA/streaming-vis-perf/broker/venv/lib/python3.9/site-packages/aiokafka/producer/sender.py:147> wait_for=<Future pending cb=[<TaskWakeupMethWrapper object at 0x7fe8bb754070>()]> cb=[Sender._fail_all()]>\n",
      "Unclosed AIOKafkaProducer\n",
      "producer: <aiokafka.producer.producer.AIOKafkaProducer object at 0x7fe8bb857e20>\n"
     ]
    },
    {
     "name": "stdout",
     "output_type": "stream",
     "text": [
      "idx = 10, channels[idx] = 275000\n"
     ]
    },
    {
     "name": "stderr",
     "output_type": "stream",
     "text": [
      "Unclosed AIOKafkaProducer\n",
      "producer: <aiokafka.producer.producer.AIOKafkaProducer object at 0x7fe8bb754910>\n",
      "Task was destroyed but it is pending!\n",
      "task: <Task pending name='Task-3730' coro=<Sender._sender_routine() running at /home/saifulkhan/CODE/SKA/streaming-vis-perf/broker/venv/lib/python3.9/site-packages/aiokafka/producer/sender.py:147> wait_for=<Future pending cb=[<TaskWakeupMethWrapper object at 0x7fe8b84e69d0>()]> cb=[Sender._fail_all()]>\n"
     ]
    },
    {
     "name": "stdout",
     "output_type": "stream",
     "text": [
      "idx = 10, channels[idx] = 275000\n"
     ]
    },
    {
     "name": "stderr",
     "output_type": "stream",
     "text": [
      "Unclosed AIOKafkaProducer\n",
      "producer: <aiokafka.producer.producer.AIOKafkaProducer object at 0x7fe8ba191b20>\n"
     ]
    },
    {
     "name": "stdout",
     "output_type": "stream",
     "text": [
      "idx = 10, channels[idx] = 275000\n"
     ]
    },
    {
     "name": "stderr",
     "output_type": "stream",
     "text": [
      "Unclosed AIOKafkaProducer\n",
      "producer: <aiokafka.producer.producer.AIOKafkaProducer object at 0x7fe8b84e6f10>\n",
      "Task was destroyed but it is pending!\n",
      "task: <Task pending name='Task-3750' coro=<Sender._sender_routine() running at /home/saifulkhan/CODE/SKA/streaming-vis-perf/broker/venv/lib/python3.9/site-packages/aiokafka/producer/sender.py:147> wait_for=<Future pending cb=[<TaskWakeupMethWrapper object at 0x7fe8b8de2280>()]> cb=[Sender._fail_all()]>\n"
     ]
    },
    {
     "name": "stdout",
     "output_type": "stream",
     "text": [
      "idx = 10, channels[idx] = 275000\n"
     ]
    },
    {
     "name": "stderr",
     "output_type": "stream",
     "text": [
      "Unclosed AIOKafkaProducer\n",
      "producer: <aiokafka.producer.producer.AIOKafkaProducer object at 0x7fe8b8de2130>\n"
     ]
    },
    {
     "name": "stdout",
     "output_type": "stream",
     "text": [
      "idx = 10, channels[idx] = 275000\n"
     ]
    },
    {
     "name": "stderr",
     "output_type": "stream",
     "text": [
      "Unclosed AIOKafkaProducer\n",
      "producer: <aiokafka.producer.producer.AIOKafkaProducer object at 0x7fe8b8de2070>\n",
      "Task was destroyed but it is pending!\n",
      "task: <Task pending name='Task-3770' coro=<Sender._sender_routine() running at /home/saifulkhan/CODE/SKA/streaming-vis-perf/broker/venv/lib/python3.9/site-packages/aiokafka/producer/sender.py:147> wait_for=<Future pending cb=[<TaskWakeupMethWrapper object at 0x7fe8b8de2970>()]> cb=[Sender._fail_all()]>\n"
     ]
    },
    {
     "name": "stdout",
     "output_type": "stream",
     "text": [
      "idx = 10, channels[idx] = 275000\n"
     ]
    },
    {
     "name": "stderr",
     "output_type": "stream",
     "text": [
      "Unclosed AIOKafkaProducer\n",
      "producer: <aiokafka.producer.producer.AIOKafkaProducer object at 0x7fe8b8df3b80>\n"
     ]
    },
    {
     "name": "stdout",
     "output_type": "stream",
     "text": [
      "idx = 10, channels[idx] = 275000\n"
     ]
    },
    {
     "name": "stderr",
     "output_type": "stream",
     "text": [
      "Unclosed AIOKafkaProducer\n",
      "producer: <aiokafka.producer.producer.AIOKafkaProducer object at 0x7fe8b8d70280>\n",
      "Task was destroyed but it is pending!\n",
      "task: <Task pending name='Task-3790' coro=<Sender._sender_routine() running at /home/saifulkhan/CODE/SKA/streaming-vis-perf/broker/venv/lib/python3.9/site-packages/aiokafka/producer/sender.py:147> wait_for=<Future pending cb=[<TaskWakeupMethWrapper object at 0x7fe8b8d70490>()]> cb=[Sender._fail_all()]>\n"
     ]
    },
    {
     "name": "stdout",
     "output_type": "stream",
     "text": [
      "idx = 11, channels[idx] = 300000\n"
     ]
    },
    {
     "name": "stderr",
     "output_type": "stream",
     "text": [
      "Unclosed AIOKafkaProducer\n",
      "producer: <aiokafka.producer.producer.AIOKafkaProducer object at 0x7fe8b8d70be0>\n"
     ]
    },
    {
     "name": "stdout",
     "output_type": "stream",
     "text": [
      "idx = 11, channels[idx] = 300000\n"
     ]
    },
    {
     "name": "stderr",
     "output_type": "stream",
     "text": [
      "Unclosed AIOKafkaProducer\n",
      "producer: <aiokafka.producer.producer.AIOKafkaProducer object at 0x7fe8b838f130>\n"
     ]
    },
    {
     "name": "stdout",
     "output_type": "stream",
     "text": [
      "idx = 11, channels[idx] = 300000\n"
     ]
    },
    {
     "name": "stderr",
     "output_type": "stream",
     "text": [
      "Task was destroyed but it is pending!\n",
      "task: <Task pending name='Task-3810' coro=<Sender._sender_routine() running at /home/saifulkhan/CODE/SKA/streaming-vis-perf/broker/venv/lib/python3.9/site-packages/aiokafka/producer/sender.py:147> wait_for=<Future pending cb=[<TaskWakeupMethWrapper object at 0x7fe8b838feb0>()]> cb=[Sender._fail_all()]>\n",
      "Unclosed AIOKafkaProducer\n",
      "producer: <aiokafka.producer.producer.AIOKafkaProducer object at 0x7fe8b838f8e0>\n"
     ]
    },
    {
     "name": "stdout",
     "output_type": "stream",
     "text": [
      "idx = 11, channels[idx] = 300000\n"
     ]
    },
    {
     "name": "stderr",
     "output_type": "stream",
     "text": [
      "Unclosed AIOKafkaProducer\n",
      "producer: <aiokafka.producer.producer.AIOKafkaProducer object at 0x7fe8b838f790>\n",
      "Task was destroyed but it is pending!\n",
      "task: <Task pending name='Task-3830' coro=<Sender._sender_routine() running at /home/saifulkhan/CODE/SKA/streaming-vis-perf/broker/venv/lib/python3.9/site-packages/aiokafka/producer/sender.py:147> wait_for=<Future pending cb=[<TaskWakeupMethWrapper object at 0x7fe8b82d14f0>()]> cb=[Sender._fail_all()]>\n"
     ]
    },
    {
     "name": "stdout",
     "output_type": "stream",
     "text": [
      "idx = 11, channels[idx] = 300000\n"
     ]
    },
    {
     "name": "stderr",
     "output_type": "stream",
     "text": [
      "Unclosed AIOKafkaProducer\n",
      "producer: <aiokafka.producer.producer.AIOKafkaProducer object at 0x7fe8b82d1520>\n"
     ]
    },
    {
     "name": "stdout",
     "output_type": "stream",
     "text": [
      "idx = 11, channels[idx] = 300000\n"
     ]
    },
    {
     "name": "stderr",
     "output_type": "stream",
     "text": [
      "Unclosed AIOKafkaProducer\n",
      "producer: <aiokafka.producer.producer.AIOKafkaProducer object at 0x7fe8b82d1ac0>\n"
     ]
    },
    {
     "name": "stdout",
     "output_type": "stream",
     "text": [
      "idx = 11, channels[idx] = 300000\n"
     ]
    },
    {
     "name": "stderr",
     "output_type": "stream",
     "text": [
      "Unclosed AIOKafkaProducer\n",
      "producer: <aiokafka.producer.producer.AIOKafkaProducer object at 0x7fe8b82d1460>\n",
      "Task was destroyed but it is pending!\n",
      "task: <Task pending name='Task-3860' coro=<Sender._sender_routine() running at /home/saifulkhan/CODE/SKA/streaming-vis-perf/broker/venv/lib/python3.9/site-packages/aiokafka/producer/sender.py:147> wait_for=<Future pending cb=[<TaskWakeupMethWrapper object at 0x7fe8b8b87040>()]> cb=[Sender._fail_all()]>\n"
     ]
    },
    {
     "name": "stdout",
     "output_type": "stream",
     "text": [
      "idx = 11, channels[idx] = 300000\n"
     ]
    },
    {
     "name": "stderr",
     "output_type": "stream",
     "text": [
      "Unclosed AIOKafkaProducer\n",
      "producer: <aiokafka.producer.producer.AIOKafkaProducer object at 0x7fe8b8b875e0>\n"
     ]
    },
    {
     "name": "stdout",
     "output_type": "stream",
     "text": [
      "idx = 11, channels[idx] = 300000\n"
     ]
    },
    {
     "name": "stderr",
     "output_type": "stream",
     "text": [
      "Unclosed AIOKafkaProducer\n",
      "producer: <aiokafka.producer.producer.AIOKafkaProducer object at 0x7fe8b8b879a0>\n"
     ]
    },
    {
     "name": "stdout",
     "output_type": "stream",
     "text": [
      "idx = 11, channels[idx] = 300000\n"
     ]
    },
    {
     "name": "stderr",
     "output_type": "stream",
     "text": [
      "Unclosed AIOKafkaProducer\n",
      "producer: <aiokafka.producer.producer.AIOKafkaProducer object at 0x7fe8b8b98550>\n",
      "Task was destroyed but it is pending!\n",
      "task: <Task pending name='Task-3890' coro=<Sender._sender_routine() running at /home/saifulkhan/CODE/SKA/streaming-vis-perf/broker/venv/lib/python3.9/site-packages/aiokafka/producer/sender.py:147> wait_for=<Future pending cb=[<TaskWakeupMethWrapper object at 0x7fe8b8b984f0>()]> cb=[Sender._fail_all()]>\n",
      "Task was destroyed but it is pending!\n",
      "task: <Task pending name='Task-3670' coro=<Sender._sender_routine() running at /home/saifulkhan/CODE/SKA/streaming-vis-perf/broker/venv/lib/python3.9/site-packages/aiokafka/producer/sender.py:147> wait_for=<Future pending cb=[<TaskWakeupMethWrapper object at 0x7fe8b9c18a00>()]> cb=[Sender._fail_all()]>\n",
      "Task was destroyed but it is pending!\n",
      "task: <Task pending name='Task-3700' coro=<Sender._sender_routine() running at /home/saifulkhan/CODE/SKA/streaming-vis-perf/broker/venv/lib/python3.9/site-packages/aiokafka/producer/sender.py:147> wait_for=<Future pending cb=[<TaskWakeupMethWrapper object at 0x7fe8b9f45af0>()]> cb=[Sender._fail_all()]>\n",
      "Task was destroyed but it is pending!\n",
      "task: <Task pending name='Task-3720' coro=<Sender._sender_routine() running at /home/saifulkhan/CODE/SKA/streaming-vis-perf/broker/venv/lib/python3.9/site-packages/aiokafka/producer/sender.py:147> wait_for=<Future pending cb=[<TaskWakeupMethWrapper object at 0x7fe8b84e6790>()]> cb=[Sender._fail_all()]>\n",
      "Task was destroyed but it is pending!\n",
      "task: <Task pending name='Task-3740' coro=<Sender._sender_routine() running at /home/saifulkhan/CODE/SKA/streaming-vis-perf/broker/venv/lib/python3.9/site-packages/aiokafka/producer/sender.py:147> wait_for=<Future pending cb=[<TaskWakeupMethWrapper object at 0x7fe8b84e6910>()]> cb=[Sender._fail_all()]>\n",
      "Task was destroyed but it is pending!\n",
      "task: <Task pending name='Task-3760' coro=<Sender._sender_routine() running at /home/saifulkhan/CODE/SKA/streaming-vis-perf/broker/venv/lib/python3.9/site-packages/aiokafka/producer/sender.py:147> wait_for=<Future pending cb=[<TaskWakeupMethWrapper object at 0x7fe8b8de2c10>()]> cb=[Sender._fail_all()]>\n",
      "Task was destroyed but it is pending!\n",
      "task: <Task pending name='Task-3780' coro=<Sender._sender_routine() running at /home/saifulkhan/CODE/SKA/streaming-vis-perf/broker/venv/lib/python3.9/site-packages/aiokafka/producer/sender.py:147> wait_for=<Future pending cb=[<TaskWakeupMethWrapper object at 0x7fe8b8de2970>()]> cb=[Sender._fail_all()]>\n",
      "Task was destroyed but it is pending!\n",
      "task: <Task pending name='Task-3800' coro=<Sender._sender_routine() running at /home/saifulkhan/CODE/SKA/streaming-vis-perf/broker/venv/lib/python3.9/site-packages/aiokafka/producer/sender.py:147> wait_for=<Future pending cb=[<TaskWakeupMethWrapper object at 0x7fe8bb754df0>()]> cb=[Sender._fail_all()]>\n",
      "Task was destroyed but it is pending!\n",
      "task: <Task pending name='Task-3820' coro=<Sender._sender_routine() running at /home/saifulkhan/CODE/SKA/streaming-vis-perf/broker/venv/lib/python3.9/site-packages/aiokafka/producer/sender.py:147> wait_for=<Future pending cb=[<TaskWakeupMethWrapper object at 0x7fe8b838fac0>()]> cb=[Sender._fail_all()]>\n",
      "Task was destroyed but it is pending!\n",
      "task: <Task pending name='Task-3840' coro=<Sender._sender_routine() running at /home/saifulkhan/CODE/SKA/streaming-vis-perf/broker/venv/lib/python3.9/site-packages/aiokafka/producer/sender.py:147> wait_for=<Future pending cb=[<TaskWakeupMethWrapper object at 0x7fe8b82d1c40>()]> cb=[Sender._fail_all()]>\n",
      "Task was destroyed but it is pending!\n",
      "task: <Task pending name='Task-3850' coro=<Sender._sender_routine() running at /home/saifulkhan/CODE/SKA/streaming-vis-perf/broker/venv/lib/python3.9/site-packages/aiokafka/producer/sender.py:147> wait_for=<Future pending cb=[<TaskWakeupMethWrapper object at 0x7fe8b82d1820>()]> cb=[Sender._fail_all()]>\n",
      "Task was destroyed but it is pending!\n",
      "task: <Task pending name='Task-3870' coro=<Sender._sender_routine() running at /home/saifulkhan/CODE/SKA/streaming-vis-perf/broker/venv/lib/python3.9/site-packages/aiokafka/producer/sender.py:147> wait_for=<Future pending cb=[<TaskWakeupMethWrapper object at 0x7fe8b8b87910>()]> cb=[Sender._fail_all()]>\n",
      "Task was destroyed but it is pending!\n",
      "task: <Task pending name='Task-3880' coro=<Sender._sender_routine() running at /home/saifulkhan/CODE/SKA/streaming-vis-perf/broker/venv/lib/python3.9/site-packages/aiokafka/producer/sender.py:147> wait_for=<Future pending cb=[<TaskWakeupMethWrapper object at 0x7fe8b8b870d0>()]> cb=[Sender._fail_all()]>\n"
     ]
    },
    {
     "name": "stdout",
     "output_type": "stream",
     "text": [
      "idx = 12, channels[idx] = 325000\n"
     ]
    },
    {
     "name": "stderr",
     "output_type": "stream",
     "text": [
      "Unclosed AIOKafkaProducer\n",
      "producer: <aiokafka.producer.producer.AIOKafkaProducer object at 0x7fe8b8b98d30>\n"
     ]
    },
    {
     "name": "stdout",
     "output_type": "stream",
     "text": [
      "idx = 12, channels[idx] = 325000\n"
     ]
    },
    {
     "name": "stderr",
     "output_type": "stream",
     "text": [
      "Unclosed AIOKafkaProducer\n",
      "producer: <aiokafka.producer.producer.AIOKafkaProducer object at 0x7fe8b8c9ba00>\n"
     ]
    },
    {
     "name": "stdout",
     "output_type": "stream",
     "text": [
      "idx = 12, channels[idx] = 325000\n"
     ]
    },
    {
     "name": "stderr",
     "output_type": "stream",
     "text": [
      "Unclosed AIOKafkaProducer\n",
      "producer: <aiokafka.producer.producer.AIOKafkaProducer object at 0x7fe8b8d65ac0>\n"
     ]
    },
    {
     "name": "stdout",
     "output_type": "stream",
     "text": [
      "idx = 12, channels[idx] = 325000\n"
     ]
    },
    {
     "name": "stderr",
     "output_type": "stream",
     "text": [
      "Task was destroyed but it is pending!\n",
      "task: <Task pending name='Task-3920' coro=<Sender._sender_routine() running at /home/saifulkhan/CODE/SKA/streaming-vis-perf/broker/venv/lib/python3.9/site-packages/aiokafka/producer/sender.py:147> wait_for=<Future pending cb=[<TaskWakeupMethWrapper object at 0x7fe8b82d1940>()]> cb=[Sender._fail_all()]>\n",
      "Unclosed AIOKafkaProducer\n",
      "producer: <aiokafka.producer.producer.AIOKafkaProducer object at 0x7fe8b8b98cd0>\n"
     ]
    },
    {
     "name": "stdout",
     "output_type": "stream",
     "text": [
      "idx = 12, channels[idx] = 325000\n"
     ]
    },
    {
     "name": "stderr",
     "output_type": "stream",
     "text": [
      "Unclosed AIOKafkaProducer\n",
      "producer: <aiokafka.producer.producer.AIOKafkaProducer object at 0x7fe8b8a60a00>\n",
      "Task was destroyed but it is pending!\n",
      "task: <Task pending name='Task-3940' coro=<Sender._sender_routine() running at /home/saifulkhan/CODE/SKA/streaming-vis-perf/broker/venv/lib/python3.9/site-packages/aiokafka/producer/sender.py:147> wait_for=<Future pending cb=[<TaskWakeupMethWrapper object at 0x7fe8bb9046a0>()]> cb=[Sender._fail_all()]>\n"
     ]
    },
    {
     "name": "stdout",
     "output_type": "stream",
     "text": [
      "idx = 12, channels[idx] = 325000\n"
     ]
    },
    {
     "name": "stderr",
     "output_type": "stream",
     "text": [
      "Unclosed AIOKafkaProducer\n",
      "producer: <aiokafka.producer.producer.AIOKafkaProducer object at 0x7fe8b82d1ca0>\n"
     ]
    },
    {
     "name": "stdout",
     "output_type": "stream",
     "text": [
      "idx = 12, channels[idx] = 325000\n"
     ]
    },
    {
     "name": "stderr",
     "output_type": "stream",
     "text": [
      "Unclosed AIOKafkaProducer\n",
      "producer: <aiokafka.producer.producer.AIOKafkaProducer object at 0x7fe8bca4c070>\n"
     ]
    },
    {
     "name": "stdout",
     "output_type": "stream",
     "text": [
      "idx = 12, channels[idx] = 325000\n"
     ]
    },
    {
     "name": "stderr",
     "output_type": "stream",
     "text": [
      "Unclosed AIOKafkaProducer\n",
      "producer: <aiokafka.producer.producer.AIOKafkaProducer object at 0x7fe8bed81670>\n"
     ]
    },
    {
     "name": "stdout",
     "output_type": "stream",
     "text": [
      "idx = 12, channels[idx] = 325000\n"
     ]
    },
    {
     "name": "stderr",
     "output_type": "stream",
     "text": [
      "Unclosed AIOKafkaProducer\n",
      "producer: <aiokafka.producer.producer.AIOKafkaProducer object at 0x7fe8b89bb610>\n",
      "Task was destroyed but it is pending!\n",
      "task: <Task pending name='Task-3980' coro=<Sender._sender_routine() running at /home/saifulkhan/CODE/SKA/streaming-vis-perf/broker/venv/lib/python3.9/site-packages/aiokafka/producer/sender.py:147> wait_for=<Future pending cb=[<TaskWakeupMethWrapper object at 0x7fe8b89bb3a0>()]> cb=[Sender._fail_all()]>\n"
     ]
    },
    {
     "name": "stdout",
     "output_type": "stream",
     "text": [
      "idx = 12, channels[idx] = 325000\n"
     ]
    },
    {
     "name": "stderr",
     "output_type": "stream",
     "text": [
      "Unclosed AIOKafkaProducer\n",
      "producer: <aiokafka.producer.producer.AIOKafkaProducer object at 0x7fe8b89bb760>\n"
     ]
    },
    {
     "name": "stdout",
     "output_type": "stream",
     "text": [
      "idx = 13, channels[idx] = 350000\n"
     ]
    },
    {
     "name": "stderr",
     "output_type": "stream",
     "text": [
      "Unclosed AIOKafkaProducer\n",
      "producer: <aiokafka.producer.producer.AIOKafkaProducer object at 0x7fe8b89bb850>\n"
     ]
    },
    {
     "name": "stdout",
     "output_type": "stream",
     "text": [
      "idx = 13, channels[idx] = 350000\n"
     ]
    },
    {
     "name": "stderr",
     "output_type": "stream",
     "text": [
      "Unclosed AIOKafkaProducer\n",
      "producer: <aiokafka.producer.producer.AIOKafkaProducer object at 0x7fe8b73f63d0>\n"
     ]
    },
    {
     "name": "stdout",
     "output_type": "stream",
     "text": [
      "idx = 13, channels[idx] = 350000\n"
     ]
    },
    {
     "name": "stderr",
     "output_type": "stream",
     "text": [
      "Unclosed AIOKafkaProducer\n",
      "producer: <aiokafka.producer.producer.AIOKafkaProducer object at 0x7fe8b73f6f10>\n"
     ]
    },
    {
     "name": "stdout",
     "output_type": "stream",
     "text": [
      "idx = 13, channels[idx] = 350000\n"
     ]
    },
    {
     "name": "stderr",
     "output_type": "stream",
     "text": [
      "Unclosed AIOKafkaProducer\n",
      "producer: <aiokafka.producer.producer.AIOKafkaProducer object at 0x7fe8b73f6490>\n"
     ]
    },
    {
     "name": "stdout",
     "output_type": "stream",
     "text": [
      "idx = 13, channels[idx] = 350000\n"
     ]
    },
    {
     "name": "stderr",
     "output_type": "stream",
     "text": [
      "Unclosed AIOKafkaProducer\n",
      "producer: <aiokafka.producer.producer.AIOKafkaProducer object at 0x7fe8bc79faf0>\n",
      "Task was destroyed but it is pending!\n",
      "task: <Task pending name='Task-4040' coro=<Sender._sender_routine() running at /home/saifulkhan/CODE/SKA/streaming-vis-perf/broker/venv/lib/python3.9/site-packages/aiokafka/producer/sender.py:147> wait_for=<Future pending cb=[<TaskWakeupMethWrapper object at 0x7fe8bc79fb50>()]> cb=[Sender._fail_all()]>\n"
     ]
    },
    {
     "name": "stdout",
     "output_type": "stream",
     "text": [
      "idx = 13, channels[idx] = 350000\n"
     ]
    },
    {
     "name": "stderr",
     "output_type": "stream",
     "text": [
      "Unclosed AIOKafkaProducer\n",
      "producer: <aiokafka.producer.producer.AIOKafkaProducer object at 0x7fe8bdb12970>\n"
     ]
    },
    {
     "name": "stdout",
     "output_type": "stream",
     "text": [
      "idx = 13, channels[idx] = 350000\n"
     ]
    },
    {
     "name": "stderr",
     "output_type": "stream",
     "text": [
      "Unclosed AIOKafkaProducer\n",
      "producer: <aiokafka.producer.producer.AIOKafkaProducer object at 0x7fe8b87eb160>\n"
     ]
    },
    {
     "name": "stdout",
     "output_type": "stream",
     "text": [
      "idx = 13, channels[idx] = 350000\n"
     ]
    },
    {
     "name": "stderr",
     "output_type": "stream",
     "text": [
      "Task was destroyed but it is pending!\n",
      "task: <Task pending name='Task-3900' coro=<Sender._sender_routine() running at /home/saifulkhan/CODE/SKA/streaming-vis-perf/broker/venv/lib/python3.9/site-packages/aiokafka/producer/sender.py:147> wait_for=<Future pending cb=[<TaskWakeupMethWrapper object at 0x7fe8b8b6bac0>()]> cb=[Sender._fail_all()]>\n",
      "Task was destroyed but it is pending!\n",
      "task: <Task pending name='Task-3910' coro=<Sender._sender_routine() running at /home/saifulkhan/CODE/SKA/streaming-vis-perf/broker/venv/lib/python3.9/site-packages/aiokafka/producer/sender.py:147> wait_for=<Future pending cb=[<TaskWakeupMethWrapper object at 0x7fe8b8b87a30>()]> cb=[Sender._fail_all()]>\n",
      "Task was destroyed but it is pending!\n",
      "task: <Task pending name='Task-3930' coro=<Sender._sender_routine() running at /home/saifulkhan/CODE/SKA/streaming-vis-perf/broker/venv/lib/python3.9/site-packages/aiokafka/producer/sender.py:147> wait_for=<Future pending cb=[<TaskWakeupMethWrapper object at 0x7fe8b82d18b0>()]> cb=[Sender._fail_all()]>\n",
      "Task was destroyed but it is pending!\n",
      "task: <Task pending name='Task-3950' coro=<Sender._sender_routine() running at /home/saifulkhan/CODE/SKA/streaming-vis-perf/broker/venv/lib/python3.9/site-packages/aiokafka/producer/sender.py:147> wait_for=<Future pending cb=[<TaskWakeupMethWrapper object at 0x7fe8bca4c8e0>()]> cb=[Sender._fail_all()]>\n",
      "Task was destroyed but it is pending!\n",
      "task: <Task pending name='Task-3960' coro=<Sender._sender_routine() running at /home/saifulkhan/CODE/SKA/streaming-vis-perf/broker/venv/lib/python3.9/site-packages/aiokafka/producer/sender.py:147> wait_for=<Future pending cb=[<TaskWakeupMethWrapper object at 0x7fe8bca4c580>()]> cb=[Sender._fail_all()]>\n",
      "Task was destroyed but it is pending!\n",
      "task: <Task pending name='Task-3970' coro=<Sender._sender_routine() running at /home/saifulkhan/CODE/SKA/streaming-vis-perf/broker/venv/lib/python3.9/site-packages/aiokafka/producer/sender.py:147> wait_for=<Future pending cb=[<TaskWakeupMethWrapper object at 0x7fe8bca4ce50>()]> cb=[Sender._fail_all()]>\n",
      "Task was destroyed but it is pending!\n",
      "task: <Task pending name='Task-3990' coro=<Sender._sender_routine() running at /home/saifulkhan/CODE/SKA/streaming-vis-perf/broker/venv/lib/python3.9/site-packages/aiokafka/producer/sender.py:147> wait_for=<Future pending cb=[<TaskWakeupMethWrapper object at 0x7fe8b89bb280>()]> cb=[Sender._fail_all()]>\n",
      "Task was destroyed but it is pending!\n",
      "task: <Task pending name='Task-4000' coro=<Sender._sender_routine() running at /home/saifulkhan/CODE/SKA/streaming-vis-perf/broker/venv/lib/python3.9/site-packages/aiokafka/producer/sender.py:147> wait_for=<Future pending cb=[<TaskWakeupMethWrapper object at 0x7fe8b73f67c0>()]> cb=[Sender._fail_all()]>\n",
      "Task was destroyed but it is pending!\n",
      "task: <Task pending name='Task-4010' coro=<Sender._sender_routine() running at /home/saifulkhan/CODE/SKA/streaming-vis-perf/broker/venv/lib/python3.9/site-packages/aiokafka/producer/sender.py:147> wait_for=<Future pending cb=[<TaskWakeupMethWrapper object at 0x7fe8b73f65e0>()]> cb=[Sender._fail_all()]>\n",
      "Task was destroyed but it is pending!\n",
      "task: <Task pending name='Task-4020' coro=<Sender._sender_routine() running at /home/saifulkhan/CODE/SKA/streaming-vis-perf/broker/venv/lib/python3.9/site-packages/aiokafka/producer/sender.py:147> wait_for=<Future pending cb=[<TaskWakeupMethWrapper object at 0x7fe8bdf65d90>()]> cb=[Sender._fail_all()]>\n",
      "Task was destroyed but it is pending!\n",
      "task: <Task pending name='Task-4030' coro=<Sender._sender_routine() running at /home/saifulkhan/CODE/SKA/streaming-vis-perf/broker/venv/lib/python3.9/site-packages/aiokafka/producer/sender.py:147> wait_for=<Future pending cb=[<TaskWakeupMethWrapper object at 0x7fe8bc79f070>()]> cb=[Sender._fail_all()]>\n",
      "Task was destroyed but it is pending!\n",
      "task: <Task pending name='Task-4050' coro=<Sender._sender_routine() running at /home/saifulkhan/CODE/SKA/streaming-vis-perf/broker/venv/lib/python3.9/site-packages/aiokafka/producer/sender.py:147> wait_for=<Future pending cb=[<TaskWakeupMethWrapper object at 0x7fe8bc79fd90>()]> cb=[Sender._fail_all()]>\n",
      "Task was destroyed but it is pending!\n",
      "task: <Task pending name='Task-4060' coro=<Sender._sender_routine() running at /home/saifulkhan/CODE/SKA/streaming-vis-perf/broker/venv/lib/python3.9/site-packages/aiokafka/producer/sender.py:147> wait_for=<Future pending cb=[<TaskWakeupMethWrapper object at 0x7fe8b87eb310>()]> cb=[Sender._fail_all()]>\n",
      "Unclosed AIOKafkaProducer\n",
      "producer: <aiokafka.producer.producer.AIOKafkaProducer object at 0x7fe8b87eb7f0>\n"
     ]
    },
    {
     "name": "stdout",
     "output_type": "stream",
     "text": [
      "idx = 13, channels[idx] = 350000\n"
     ]
    },
    {
     "name": "stderr",
     "output_type": "stream",
     "text": [
      "Unclosed AIOKafkaProducer\n",
      "producer: <aiokafka.producer.producer.AIOKafkaProducer object at 0x7fe8bcb02b20>\n",
      "Task was destroyed but it is pending!\n",
      "task: <Task pending name='Task-4080' coro=<Sender._sender_routine() running at /home/saifulkhan/CODE/SKA/streaming-vis-perf/broker/venv/lib/python3.9/site-packages/aiokafka/producer/sender.py:147> wait_for=<Future pending cb=[<TaskWakeupMethWrapper object at 0x7fe8b87ebee0>()]> cb=[Sender._fail_all()]>\n"
     ]
    },
    {
     "name": "stdout",
     "output_type": "stream",
     "text": [
      "idx = 13, channels[idx] = 350000\n"
     ]
    },
    {
     "name": "stderr",
     "output_type": "stream",
     "text": [
      "Unclosed AIOKafkaProducer\n",
      "producer: <aiokafka.producer.producer.AIOKafkaProducer object at 0x7fe8f2f449d0>\n"
     ]
    },
    {
     "name": "stdout",
     "output_type": "stream",
     "text": [
      "idx = 14, channels[idx] = 375000\n"
     ]
    },
    {
     "name": "stderr",
     "output_type": "stream",
     "text": [
      "Unclosed AIOKafkaProducer\n",
      "producer: <aiokafka.producer.producer.AIOKafkaProducer object at 0x7fe8bc79f250>\n"
     ]
    },
    {
     "name": "stdout",
     "output_type": "stream",
     "text": [
      "idx = 14, channels[idx] = 375000\n"
     ]
    },
    {
     "name": "stderr",
     "output_type": "stream",
     "text": [
      "Unclosed AIOKafkaProducer\n",
      "producer: <aiokafka.producer.producer.AIOKafkaProducer object at 0x7fe8bb2e3e80>\n",
      "Task was destroyed but it is pending!\n",
      "task: <Task pending name='Task-4110' coro=<Sender._sender_routine() running at /home/saifulkhan/CODE/SKA/streaming-vis-perf/broker/venv/lib/python3.9/site-packages/aiokafka/producer/sender.py:147> wait_for=<Future pending cb=[<TaskWakeupMethWrapper object at 0x7fe8ba3a81f0>()]> cb=[Sender._fail_all()]>\n"
     ]
    },
    {
     "name": "stdout",
     "output_type": "stream",
     "text": [
      "idx = 14, channels[idx] = 375000\n"
     ]
    },
    {
     "name": "stderr",
     "output_type": "stream",
     "text": [
      "Unclosed AIOKafkaProducer\n",
      "producer: <aiokafka.producer.producer.AIOKafkaProducer object at 0x7fe8ba387550>\n"
     ]
    },
    {
     "name": "stdout",
     "output_type": "stream",
     "text": [
      "idx = 14, channels[idx] = 375000\n"
     ]
    },
    {
     "name": "stderr",
     "output_type": "stream",
     "text": [
      "Unclosed AIOKafkaProducer\n",
      "producer: <aiokafka.producer.producer.AIOKafkaProducer object at 0x7fe8bbbb1af0>\n"
     ]
    },
    {
     "name": "stdout",
     "output_type": "stream",
     "text": [
      "idx = 14, channels[idx] = 375000\n"
     ]
    },
    {
     "name": "stderr",
     "output_type": "stream",
     "text": [
      "Unclosed AIOKafkaProducer\n",
      "producer: <aiokafka.producer.producer.AIOKafkaProducer object at 0x7fe8ba30b580>\n",
      "Task was destroyed but it is pending!\n",
      "task: <Task pending name='Task-4140' coro=<Sender._sender_routine() running at /home/saifulkhan/CODE/SKA/streaming-vis-perf/broker/venv/lib/python3.9/site-packages/aiokafka/producer/sender.py:147> wait_for=<Future pending cb=[<TaskWakeupMethWrapper object at 0x7fe8bbbb1b20>()]> cb=[Sender._fail_all()]>\n"
     ]
    },
    {
     "name": "stdout",
     "output_type": "stream",
     "text": [
      "idx = 14, channels[idx] = 375000\n"
     ]
    },
    {
     "name": "stderr",
     "output_type": "stream",
     "text": [
      "Unclosed AIOKafkaProducer\n",
      "producer: <aiokafka.producer.producer.AIOKafkaProducer object at 0x7fe8b72056d0>\n"
     ]
    },
    {
     "name": "stdout",
     "output_type": "stream",
     "text": [
      "idx = 14, channels[idx] = 375000\n"
     ]
    },
    {
     "name": "stderr",
     "output_type": "stream",
     "text": [
      "Unclosed AIOKafkaProducer\n",
      "producer: <aiokafka.producer.producer.AIOKafkaProducer object at 0x7fe8b72050d0>\n"
     ]
    },
    {
     "name": "stdout",
     "output_type": "stream",
     "text": [
      "idx = 14, channels[idx] = 375000\n"
     ]
    },
    {
     "name": "stderr",
     "output_type": "stream",
     "text": [
      "Unclosed AIOKafkaProducer\n",
      "producer: <aiokafka.producer.producer.AIOKafkaProducer object at 0x7fe8b7205760>\n"
     ]
    },
    {
     "name": "stdout",
     "output_type": "stream",
     "text": [
      "idx = 14, channels[idx] = 375000\n"
     ]
    },
    {
     "name": "stderr",
     "output_type": "stream",
     "text": [
      "Unclosed AIOKafkaProducer\n",
      "producer: <aiokafka.producer.producer.AIOKafkaProducer object at 0x7fe8b71ba820>\n"
     ]
    },
    {
     "name": "stdout",
     "output_type": "stream",
     "text": [
      "idx = 14, channels[idx] = 375000\n"
     ]
    },
    {
     "name": "stderr",
     "output_type": "stream",
     "text": [
      "Unclosed AIOKafkaProducer\n",
      "producer: <aiokafka.producer.producer.AIOKafkaProducer object at 0x7fe8b71baa00>\n"
     ]
    },
    {
     "name": "stdout",
     "output_type": "stream",
     "text": [
      "idx = 15, channels[idx] = 400000\n"
     ]
    },
    {
     "name": "stderr",
     "output_type": "stream",
     "text": [
      "Unclosed AIOKafkaProducer\n",
      "producer: <aiokafka.producer.producer.AIOKafkaProducer object at 0x7fe8b71baa00>\n",
      "Task was destroyed but it is pending!\n",
      "task: <Task pending name='Task-4200' coro=<Sender._sender_routine() running at /home/saifulkhan/CODE/SKA/streaming-vis-perf/broker/venv/lib/python3.9/site-packages/aiokafka/producer/sender.py:147> wait_for=<Future pending cb=[<TaskWakeupMethWrapper object at 0x7fe8b9bda610>()]> cb=[Sender._fail_all()]>\n"
     ]
    },
    {
     "name": "stdout",
     "output_type": "stream",
     "text": [
      "idx = 15, channels[idx] = 400000\n"
     ]
    },
    {
     "name": "stderr",
     "output_type": "stream",
     "text": [
      "Unclosed AIOKafkaProducer\n",
      "producer: <aiokafka.producer.producer.AIOKafkaProducer object at 0x7fe8b9bda880>\n"
     ]
    },
    {
     "name": "stdout",
     "output_type": "stream",
     "text": [
      "idx = 15, channels[idx] = 400000\n"
     ]
    },
    {
     "name": "stderr",
     "output_type": "stream",
     "text": [
      "Unclosed AIOKafkaProducer\n",
      "producer: <aiokafka.producer.producer.AIOKafkaProducer object at 0x7fe8b9bda790>\n"
     ]
    },
    {
     "name": "stdout",
     "output_type": "stream",
     "text": [
      "idx = 15, channels[idx] = 400000\n"
     ]
    },
    {
     "name": "stderr",
     "output_type": "stream",
     "text": [
      "Unclosed AIOKafkaProducer\n",
      "producer: <aiokafka.producer.producer.AIOKafkaProducer object at 0x7fe8b710c520>\n",
      "Task was destroyed but it is pending!\n",
      "task: <Task pending name='Task-4230' coro=<Sender._sender_routine() running at /home/saifulkhan/CODE/SKA/streaming-vis-perf/broker/venv/lib/python3.9/site-packages/aiokafka/producer/sender.py:147> wait_for=<Future pending cb=[<TaskWakeupMethWrapper object at 0x7fe8b710c760>()]> cb=[Sender._fail_all()]>\n"
     ]
    },
    {
     "name": "stdout",
     "output_type": "stream",
     "text": [
      "idx = 15, channels[idx] = 400000\n"
     ]
    },
    {
     "name": "stderr",
     "output_type": "stream",
     "text": [
      "Task was destroyed but it is pending!\n",
      "task: <Task pending name='Task-4070' coro=<Sender._sender_routine() running at /home/saifulkhan/CODE/SKA/streaming-vis-perf/broker/venv/lib/python3.9/site-packages/aiokafka/producer/sender.py:147> wait_for=<Future pending cb=[<TaskWakeupMethWrapper object at 0x7fe8b87ebfd0>()]> cb=[Sender._fail_all()]>\n",
      "Task was destroyed but it is pending!\n",
      "task: <Task pending name='Task-4090' coro=<Sender._sender_routine() running at /home/saifulkhan/CODE/SKA/streaming-vis-perf/broker/venv/lib/python3.9/site-packages/aiokafka/producer/sender.py:147> wait_for=<Future pending cb=[<TaskWakeupMethWrapper object at 0x7fe8bdb12a00>()]> cb=[Sender._fail_all()]>\n",
      "Task was destroyed but it is pending!\n",
      "task: <Task pending name='Task-4100' coro=<Sender._sender_routine() running at /home/saifulkhan/CODE/SKA/streaming-vis-perf/broker/venv/lib/python3.9/site-packages/aiokafka/producer/sender.py:147> wait_for=<Future pending cb=[<TaskWakeupMethWrapper object at 0x7fe8bdd03430>()]> cb=[Sender._fail_all()]>\n",
      "Task was destroyed but it is pending!\n",
      "task: <Task pending name='Task-4120' coro=<Sender._sender_routine() running at /home/saifulkhan/CODE/SKA/streaming-vis-perf/broker/venv/lib/python3.9/site-packages/aiokafka/producer/sender.py:147> wait_for=<Future pending cb=[<TaskWakeupMethWrapper object at 0x7fe8ba3872e0>()]> cb=[Sender._fail_all()]>\n",
      "Task was destroyed but it is pending!\n",
      "task: <Task pending name='Task-4130' coro=<Sender._sender_routine() running at /home/saifulkhan/CODE/SKA/streaming-vis-perf/broker/venv/lib/python3.9/site-packages/aiokafka/producer/sender.py:147> wait_for=<Future pending cb=[<TaskWakeupMethWrapper object at 0x7fe8bbbb13d0>()]> cb=[Sender._fail_all()]>\n",
      "Task was destroyed but it is pending!\n",
      "task: <Task pending name='Task-4150' coro=<Sender._sender_routine() running at /home/saifulkhan/CODE/SKA/streaming-vis-perf/broker/venv/lib/python3.9/site-packages/aiokafka/producer/sender.py:147> wait_for=<Future pending cb=[<TaskWakeupMethWrapper object at 0x7fe8b7205730>()]> cb=[Sender._fail_all()]>\n",
      "Task was destroyed but it is pending!\n",
      "task: <Task pending name='Task-4160' coro=<Sender._sender_routine() running at /home/saifulkhan/CODE/SKA/streaming-vis-perf/broker/venv/lib/python3.9/site-packages/aiokafka/producer/sender.py:147> wait_for=<Future pending cb=[<TaskWakeupMethWrapper object at 0x7fe8b7205af0>()]> cb=[Sender._fail_all()]>\n",
      "Task was destroyed but it is pending!\n",
      "task: <Task pending name='Task-4170' coro=<Sender._sender_routine() running at /home/saifulkhan/CODE/SKA/streaming-vis-perf/broker/venv/lib/python3.9/site-packages/aiokafka/producer/sender.py:147> wait_for=<Future pending cb=[<TaskWakeupMethWrapper object at 0x7fe8b71ba8e0>()]> cb=[Sender._fail_all()]>\n",
      "Task was destroyed but it is pending!\n",
      "task: <Task pending name='Task-4180' coro=<Sender._sender_routine() running at /home/saifulkhan/CODE/SKA/streaming-vis-perf/broker/venv/lib/python3.9/site-packages/aiokafka/producer/sender.py:147> wait_for=<Future pending cb=[<TaskWakeupMethWrapper object at 0x7fe8b71ba700>()]> cb=[Sender._fail_all()]>\n",
      "Task was destroyed but it is pending!\n",
      "task: <Task pending name='Task-4190' coro=<Sender._sender_routine() running at /home/saifulkhan/CODE/SKA/streaming-vis-perf/broker/venv/lib/python3.9/site-packages/aiokafka/producer/sender.py:147> wait_for=<Future pending cb=[<TaskWakeupMethWrapper object at 0x7fe8b71bafd0>()]> cb=[Sender._fail_all()]>\n",
      "Task was destroyed but it is pending!\n",
      "task: <Task pending name='Task-4210' coro=<Sender._sender_routine() running at /home/saifulkhan/CODE/SKA/streaming-vis-perf/broker/venv/lib/python3.9/site-packages/aiokafka/producer/sender.py:147> wait_for=<Future pending cb=[<TaskWakeupMethWrapper object at 0x7fe8b9bdadc0>()]> cb=[Sender._fail_all()]>\n",
      "Task was destroyed but it is pending!\n",
      "task: <Task pending name='Task-4220' coro=<Sender._sender_routine() running at /home/saifulkhan/CODE/SKA/streaming-vis-perf/broker/venv/lib/python3.9/site-packages/aiokafka/producer/sender.py:147> wait_for=<Future pending cb=[<TaskWakeupMethWrapper object at 0x7fe8b9bda310>()]> cb=[Sender._fail_all()]>\n",
      "Unclosed AIOKafkaProducer\n",
      "producer: <aiokafka.producer.producer.AIOKafkaProducer object at 0x7fe8b710cf10>\n"
     ]
    },
    {
     "name": "stdout",
     "output_type": "stream",
     "text": [
      "idx = 15, channels[idx] = 400000\n"
     ]
    },
    {
     "name": "stderr",
     "output_type": "stream",
     "text": [
      "Unclosed AIOKafkaProducer\n",
      "producer: <aiokafka.producer.producer.AIOKafkaProducer object at 0x7fe8b710cf10>\n"
     ]
    },
    {
     "name": "stdout",
     "output_type": "stream",
     "text": [
      "idx = 15, channels[idx] = 400000\n"
     ]
    },
    {
     "name": "stderr",
     "output_type": "stream",
     "text": [
      "Task was destroyed but it is pending!\n",
      "task: <Task pending name='Task-4250' coro=<Sender._sender_routine() running at /home/saifulkhan/CODE/SKA/streaming-vis-perf/broker/venv/lib/python3.9/site-packages/aiokafka/producer/sender.py:147> wait_for=<Future pending cb=[<TaskWakeupMethWrapper object at 0x7fe8bb924a00>()]> cb=[Sender._fail_all()]>\n",
      "Unclosed AIOKafkaProducer\n",
      "producer: <aiokafka.producer.producer.AIOKafkaProducer object at 0x7fe8b71ba700>\n"
     ]
    },
    {
     "name": "stdout",
     "output_type": "stream",
     "text": [
      "idx = 15, channels[idx] = 400000\n"
     ]
    },
    {
     "name": "stderr",
     "output_type": "stream",
     "text": [
      "Unclosed AIOKafkaProducer\n",
      "producer: <aiokafka.producer.producer.AIOKafkaProducer object at 0x7fe8b9ebcca0>\n"
     ]
    },
    {
     "name": "stdout",
     "output_type": "stream",
     "text": [
      "idx = 15, channels[idx] = 400000\n"
     ]
    },
    {
     "name": "stderr",
     "output_type": "stream",
     "text": [
      "Unclosed AIOKafkaProducer\n",
      "producer: <aiokafka.producer.producer.AIOKafkaProducer object at 0x7fe8b9ebcca0>\n"
     ]
    },
    {
     "name": "stdout",
     "output_type": "stream",
     "text": [
      "idx = 15, channels[idx] = 400000\n"
     ]
    },
    {
     "name": "stderr",
     "output_type": "stream",
     "text": [
      "Unclosed AIOKafkaProducer\n",
      "producer: <aiokafka.producer.producer.AIOKafkaProducer object at 0x7fe8b70de7f0>\n",
      "Task was destroyed but it is pending!\n",
      "task: <Task pending name='Task-4290' coro=<Sender._sender_routine() running at /home/saifulkhan/CODE/SKA/streaming-vis-perf/broker/venv/lib/python3.9/site-packages/aiokafka/producer/sender.py:147> wait_for=<Future pending cb=[<TaskWakeupMethWrapper object at 0x7fe8b70de490>()]> cb=[Sender._fail_all()]>\n"
     ]
    },
    {
     "name": "stdout",
     "output_type": "stream",
     "text": [
      "idx = 16, channels[idx] = 425000\n"
     ]
    },
    {
     "name": "stderr",
     "output_type": "stream",
     "text": [
      "Unclosed AIOKafkaProducer\n",
      "producer: <aiokafka.producer.producer.AIOKafkaProducer object at 0x7fe8b70de3a0>\n"
     ]
    },
    {
     "name": "stdout",
     "output_type": "stream",
     "text": [
      "idx = 16, channels[idx] = 425000\n"
     ]
    },
    {
     "name": "stderr",
     "output_type": "stream",
     "text": [
      "Unclosed AIOKafkaProducer\n",
      "producer: <aiokafka.producer.producer.AIOKafkaProducer object at 0x7fe8b70de820>\n",
      "Task was destroyed but it is pending!\n",
      "task: <Task pending name='Task-4310' coro=<Sender._sender_routine() done, defined at /home/saifulkhan/CODE/SKA/streaming-vis-perf/broker/venv/lib/python3.9/site-packages/aiokafka/producer/sender.py:81> wait_for=<Future pending cb=[<TaskWakeupMethWrapper object at 0x7fe8b8d79220>()]> cb=[Sender._fail_all()]>\n"
     ]
    },
    {
     "name": "stdout",
     "output_type": "stream",
     "text": [
      "idx = 16, channels[idx] = 425000\n"
     ]
    },
    {
     "name": "stderr",
     "output_type": "stream",
     "text": [
      "Unclosed AIOKafkaProducer\n",
      "producer: <aiokafka.producer.producer.AIOKafkaProducer object at 0x7fe8b8d79370>\n"
     ]
    },
    {
     "name": "stdout",
     "output_type": "stream",
     "text": [
      "idx = 16, channels[idx] = 425000\n"
     ]
    },
    {
     "name": "stderr",
     "output_type": "stream",
     "text": [
      "Unclosed AIOKafkaProducer\n",
      "producer: <aiokafka.producer.producer.AIOKafkaProducer object at 0x7fe8bccf48e0>\n"
     ]
    },
    {
     "name": "stdout",
     "output_type": "stream",
     "text": [
      "idx = 16, channels[idx] = 425000\n"
     ]
    },
    {
     "name": "stderr",
     "output_type": "stream",
     "text": [
      "Unclosed AIOKafkaProducer\n",
      "producer: <aiokafka.producer.producer.AIOKafkaProducer object at 0x7fe8bccf48e0>\n"
     ]
    },
    {
     "name": "stdout",
     "output_type": "stream",
     "text": [
      "idx = 16, channels[idx] = 425000\n"
     ]
    },
    {
     "name": "stderr",
     "output_type": "stream",
     "text": [
      "Unclosed AIOKafkaProducer\n",
      "producer: <aiokafka.producer.producer.AIOKafkaProducer object at 0x7fe8b6f7dc10>\n"
     ]
    },
    {
     "name": "stdout",
     "output_type": "stream",
     "text": [
      "idx = 16, channels[idx] = 425000\n"
     ]
    },
    {
     "name": "stderr",
     "output_type": "stream",
     "text": [
      "Unclosed AIOKafkaProducer\n",
      "producer: <aiokafka.producer.producer.AIOKafkaProducer object at 0x7fe8ba539040>\n",
      "Task was destroyed but it is pending!\n",
      "task: <Task pending name='Task-4360' coro=<Sender._sender_routine() running at /home/saifulkhan/CODE/SKA/streaming-vis-perf/broker/venv/lib/python3.9/site-packages/aiokafka/producer/sender.py:147> wait_for=<Future pending cb=[<TaskWakeupMethWrapper object at 0x7fe8b8c75790>()]> cb=[Sender._fail_all()]>\n"
     ]
    },
    {
     "name": "stdout",
     "output_type": "stream",
     "text": [
      "idx = 16, channels[idx] = 425000\n"
     ]
    },
    {
     "name": "stderr",
     "output_type": "stream",
     "text": [
      "Unclosed AIOKafkaProducer\n",
      "producer: <aiokafka.producer.producer.AIOKafkaProducer object at 0x7fe8b8c75640>\n"
     ]
    },
    {
     "name": "stdout",
     "output_type": "stream",
     "text": [
      "idx = 16, channels[idx] = 425000\n"
     ]
    },
    {
     "name": "stderr",
     "output_type": "stream",
     "text": [
      "Unclosed AIOKafkaProducer\n",
      "producer: <aiokafka.producer.producer.AIOKafkaProducer object at 0x7fe8b8c755b0>\n"
     ]
    },
    {
     "name": "stdout",
     "output_type": "stream",
     "text": [
      "idx = 16, channels[idx] = 425000\n"
     ]
    },
    {
     "name": "stderr",
     "output_type": "stream",
     "text": [
      "Unclosed AIOKafkaProducer\n",
      "producer: <aiokafka.producer.producer.AIOKafkaProducer object at 0x7fe8ba4f2460>\n"
     ]
    },
    {
     "name": "stdout",
     "output_type": "stream",
     "text": [
      "idx = 17, channels[idx] = 450000\n"
     ]
    },
    {
     "name": "stderr",
     "output_type": "stream",
     "text": [
      "Task was destroyed but it is pending!\n",
      "task: <Task pending name='Task-4240' coro=<Sender._sender_routine() running at /home/saifulkhan/CODE/SKA/streaming-vis-perf/broker/venv/lib/python3.9/site-packages/aiokafka/producer/sender.py:147> wait_for=<Future pending cb=[<TaskWakeupMethWrapper object at 0x7fe8b710ce50>()]> cb=[Sender._fail_all()]>\n",
      "Task was destroyed but it is pending!\n",
      "task: <Task pending name='Task-4260' coro=<Sender._sender_routine() running at /home/saifulkhan/CODE/SKA/streaming-vis-perf/broker/venv/lib/python3.9/site-packages/aiokafka/producer/sender.py:147> wait_for=<Future pending cb=[<TaskWakeupMethWrapper object at 0x7fe8b87ebe20>()]> cb=[Sender._fail_all()]>\n",
      "Task was destroyed but it is pending!\n",
      "task: <Task pending name='Task-4270' coro=<Sender._sender_routine() running at /home/saifulkhan/CODE/SKA/streaming-vis-perf/broker/venv/lib/python3.9/site-packages/aiokafka/producer/sender.py:147> wait_for=<Future pending cb=[<TaskWakeupMethWrapper object at 0x7fe8ba191580>()]> cb=[Sender._fail_all()]>\n",
      "Task was destroyed but it is pending!\n",
      "task: <Task pending name='Task-4280' coro=<Sender._sender_routine() running at /home/saifulkhan/CODE/SKA/streaming-vis-perf/broker/venv/lib/python3.9/site-packages/aiokafka/producer/sender.py:147> wait_for=<Future pending cb=[<TaskWakeupMethWrapper object at 0x7fe8ba191490>()]> cb=[Sender._fail_all()]>\n",
      "Task was destroyed but it is pending!\n",
      "task: <Task pending name='Task-4300' coro=<Sender._sender_routine() running at /home/saifulkhan/CODE/SKA/streaming-vis-perf/broker/venv/lib/python3.9/site-packages/aiokafka/producer/sender.py:147> wait_for=<Future pending cb=[<TaskWakeupMethWrapper object at 0x7fe8b70def70>()]> cb=[Sender._fail_all()]>\n",
      "Task was destroyed but it is pending!\n",
      "task: <Task pending name='Task-4320' coro=<Sender._sender_routine() running at /home/saifulkhan/CODE/SKA/streaming-vis-perf/broker/venv/lib/python3.9/site-packages/aiokafka/producer/sender.py:147> wait_for=<Future pending cb=[<TaskWakeupMethWrapper object at 0x7fe8b8d79a30>()]> cb=[Sender._fail_all()]>\n",
      "Task was destroyed but it is pending!\n",
      "task: <Task pending name='Task-4330' coro=<Sender._sender_routine() running at /home/saifulkhan/CODE/SKA/streaming-vis-perf/broker/venv/lib/python3.9/site-packages/aiokafka/producer/sender.py:147> wait_for=<Future pending cb=[<TaskWakeupMethWrapper object at 0x7fe8b8d79370>()]> cb=[Sender._fail_all()]>\n",
      "Task was destroyed but it is pending!\n",
      "task: <Task pending name='Task-4340' coro=<Sender._sender_routine() running at /home/saifulkhan/CODE/SKA/streaming-vis-perf/broker/venv/lib/python3.9/site-packages/aiokafka/producer/sender.py:147> wait_for=<Future pending cb=[<TaskWakeupMethWrapper object at 0x7fe8b6f7d5e0>()]> cb=[Sender._fail_all()]>\n",
      "Task was destroyed but it is pending!\n",
      "task: <Task pending name='Task-4350' coro=<Sender._sender_routine() running at /home/saifulkhan/CODE/SKA/streaming-vis-perf/broker/venv/lib/python3.9/site-packages/aiokafka/producer/sender.py:147> wait_for=<Future pending cb=[<TaskWakeupMethWrapper object at 0x7fe8b8c9b880>()]> cb=[Sender._fail_all()]>\n",
      "Task was destroyed but it is pending!\n",
      "task: <Task pending name='Task-4370' coro=<Sender._sender_routine() running at /home/saifulkhan/CODE/SKA/streaming-vis-perf/broker/venv/lib/python3.9/site-packages/aiokafka/producer/sender.py:147> wait_for=<Future pending cb=[<TaskWakeupMethWrapper object at 0x7fe8b8c758e0>()]> cb=[Sender._fail_all()]>\n",
      "Task was destroyed but it is pending!\n",
      "task: <Task pending name='Task-4380' coro=<Sender._sender_routine() running at /home/saifulkhan/CODE/SKA/streaming-vis-perf/broker/venv/lib/python3.9/site-packages/aiokafka/producer/sender.py:147> wait_for=<Future pending cb=[<TaskWakeupMethWrapper object at 0x7fe8b8c75c70>()]> cb=[Sender._fail_all()]>\n",
      "Task was destroyed but it is pending!\n",
      "task: <Task pending name='Task-4390' coro=<Sender._sender_routine() running at /home/saifulkhan/CODE/SKA/streaming-vis-perf/broker/venv/lib/python3.9/site-packages/aiokafka/producer/sender.py:147> wait_for=<Future pending cb=[<TaskWakeupMethWrapper object at 0x7fe8ba036700>()]> cb=[Sender._fail_all()]>\n",
      "Unclosed AIOKafkaProducer\n",
      "producer: <aiokafka.producer.producer.AIOKafkaProducer object at 0x7fe8ba0363d0>\n"
     ]
    },
    {
     "name": "stdout",
     "output_type": "stream",
     "text": [
      "idx = 17, channels[idx] = 450000\n"
     ]
    },
    {
     "name": "stderr",
     "output_type": "stream",
     "text": [
      "Unclosed AIOKafkaProducer\n",
      "producer: <aiokafka.producer.producer.AIOKafkaProducer object at 0x7fe8b6f7da60>\n",
      "Task was destroyed but it is pending!\n",
      "task: <Task pending name='Task-4410' coro=<Sender._sender_routine() running at /home/saifulkhan/CODE/SKA/streaming-vis-perf/broker/venv/lib/python3.9/site-packages/aiokafka/producer/sender.py:147> wait_for=<Future pending cb=[<TaskWakeupMethWrapper object at 0x7fe8bb754be0>()]> cb=[Sender._fail_all()]>\n"
     ]
    },
    {
     "name": "stdout",
     "output_type": "stream",
     "text": [
      "idx = 17, channels[idx] = 450000\n"
     ]
    },
    {
     "name": "stderr",
     "output_type": "stream",
     "text": [
      "Unclosed AIOKafkaProducer\n",
      "producer: <aiokafka.producer.producer.AIOKafkaProducer object at 0x7fe8ba036250>\n"
     ]
    },
    {
     "name": "stdout",
     "output_type": "stream",
     "text": [
      "idx = 17, channels[idx] = 450000\n"
     ]
    },
    {
     "name": "stderr",
     "output_type": "stream",
     "text": [
      "Unclosed AIOKafkaProducer\n",
      "producer: <aiokafka.producer.producer.AIOKafkaProducer object at 0x7fe8b8b98e80>\n"
     ]
    },
    {
     "name": "stdout",
     "output_type": "stream",
     "text": [
      "idx = 17, channels[idx] = 450000\n"
     ]
    },
    {
     "name": "stderr",
     "output_type": "stream",
     "text": [
      "Unclosed AIOKafkaProducer\n",
      "producer: <aiokafka.producer.producer.AIOKafkaProducer object at 0x7fe8ba387880>\n"
     ]
    },
    {
     "name": "stdout",
     "output_type": "stream",
     "text": [
      "idx = 17, channels[idx] = 450000\n"
     ]
    },
    {
     "name": "stderr",
     "output_type": "stream",
     "text": [
      "Unclosed AIOKafkaProducer\n",
      "producer: <aiokafka.producer.producer.AIOKafkaProducer object at 0x7fe8b710c520>\n"
     ]
    },
    {
     "name": "stdout",
     "output_type": "stream",
     "text": [
      "idx = 17, channels[idx] = 450000\n"
     ]
    },
    {
     "name": "stderr",
     "output_type": "stream",
     "text": [
      "Unclosed AIOKafkaProducer\n",
      "producer: <aiokafka.producer.producer.AIOKafkaProducer object at 0x7fe8b75367c0>\n"
     ]
    },
    {
     "name": "stdout",
     "output_type": "stream",
     "text": [
      "idx = 17, channels[idx] = 450000\n"
     ]
    },
    {
     "name": "stderr",
     "output_type": "stream",
     "text": [
      "Unclosed AIOKafkaProducer\n",
      "producer: <aiokafka.producer.producer.AIOKafkaProducer object at 0x7fe8b7536070>\n"
     ]
    },
    {
     "name": "stdout",
     "output_type": "stream",
     "text": [
      "idx = 17, channels[idx] = 450000\n"
     ]
    },
    {
     "name": "stderr",
     "output_type": "stream",
     "text": [
      "Unclosed AIOKafkaProducer\n",
      "producer: <aiokafka.producer.producer.AIOKafkaProducer object at 0x7fe8b896d520>\n"
     ]
    },
    {
     "name": "stdout",
     "output_type": "stream",
     "text": [
      "idx = 17, channels[idx] = 450000\n"
     ]
    },
    {
     "name": "stderr",
     "output_type": "stream",
     "text": [
      "Task was destroyed but it is pending!\n",
      "task: <Task pending name='Task-4480' coro=<Sender._sender_routine() running at /home/saifulkhan/CODE/SKA/streaming-vis-perf/broker/venv/lib/python3.9/site-packages/aiokafka/producer/sender.py:147> wait_for=<Future pending cb=[<TaskWakeupMethWrapper object at 0x7fe8b896d100>()]> cb=[Sender._fail_all()]>\n",
      "Unclosed AIOKafkaProducer\n",
      "producer: <aiokafka.producer.producer.AIOKafkaProducer object at 0x7fe8b896d8e0>\n"
     ]
    },
    {
     "name": "stdout",
     "output_type": "stream",
     "text": [
      "idx = 18, channels[idx] = 475000\n"
     ]
    },
    {
     "name": "stderr",
     "output_type": "stream",
     "text": [
      "Unclosed AIOKafkaProducer\n",
      "producer: <aiokafka.producer.producer.AIOKafkaProducer object at 0x7fe8bb13ddc0>\n"
     ]
    },
    {
     "name": "stdout",
     "output_type": "stream",
     "text": [
      "idx = 18, channels[idx] = 475000\n"
     ]
    },
    {
     "name": "stderr",
     "output_type": "stream",
     "text": [
      "Unclosed AIOKafkaProducer\n",
      "producer: <aiokafka.producer.producer.AIOKafkaProducer object at 0x7fe8b6ce7760>\n"
     ]
    },
    {
     "name": "stdout",
     "output_type": "stream",
     "text": [
      "idx = 18, channels[idx] = 475000\n"
     ]
    },
    {
     "name": "stderr",
     "output_type": "stream",
     "text": [
      "Unclosed AIOKafkaProducer\n",
      "producer: <aiokafka.producer.producer.AIOKafkaProducer object at 0x7fe8bc79f670>\n"
     ]
    },
    {
     "name": "stdout",
     "output_type": "stream",
     "text": [
      "idx = 18, channels[idx] = 475000\n"
     ]
    },
    {
     "name": "stderr",
     "output_type": "stream",
     "text": [
      "Unclosed AIOKafkaProducer\n",
      "producer: <aiokafka.producer.producer.AIOKafkaProducer object at 0x7fe8ba535910>\n"
     ]
    },
    {
     "name": "stdout",
     "output_type": "stream",
     "text": [
      "idx = 18, channels[idx] = 475000\n"
     ]
    },
    {
     "name": "stderr",
     "output_type": "stream",
     "text": [
      "Task was destroyed but it is pending!\n",
      "task: <Task pending name='Task-4400' coro=<Sender._sender_routine() running at /home/saifulkhan/CODE/SKA/streaming-vis-perf/broker/venv/lib/python3.9/site-packages/aiokafka/producer/sender.py:147> wait_for=<Future pending cb=[<TaskWakeupMethWrapper object at 0x7fe8ba036d90>()]> cb=[Sender._fail_all()]>\n",
      "Task was destroyed but it is pending!\n",
      "task: <Task pending name='Task-4420' coro=<Sender._sender_routine() running at /home/saifulkhan/CODE/SKA/streaming-vis-perf/broker/venv/lib/python3.9/site-packages/aiokafka/producer/sender.py:147> wait_for=<Future pending cb=[<TaskWakeupMethWrapper object at 0x7fe8ba036ca0>()]> cb=[Sender._fail_all()]>\n",
      "Task was destroyed but it is pending!\n",
      "task: <Task pending name='Task-4430' coro=<Sender._sender_routine() running at /home/saifulkhan/CODE/SKA/streaming-vis-perf/broker/venv/lib/python3.9/site-packages/aiokafka/producer/sender.py:147> wait_for=<Future pending cb=[<TaskWakeupMethWrapper object at 0x7fe8b8c75d00>()]> cb=[Sender._fail_all()]>\n",
      "Task was destroyed but it is pending!\n",
      "task: <Task pending name='Task-4440' coro=<Sender._sender_routine() running at /home/saifulkhan/CODE/SKA/streaming-vis-perf/broker/venv/lib/python3.9/site-packages/aiokafka/producer/sender.py:147> wait_for=<Future pending cb=[<TaskWakeupMethWrapper object at 0x7fe8bca8e670>()]> cb=[Sender._fail_all()]>\n",
      "Task was destroyed but it is pending!\n",
      "task: <Task pending name='Task-4450' coro=<Sender._sender_routine() running at /home/saifulkhan/CODE/SKA/streaming-vis-perf/broker/venv/lib/python3.9/site-packages/aiokafka/producer/sender.py:147> wait_for=<Future pending cb=[<TaskWakeupMethWrapper object at 0x7fe8b7536220>()]> cb=[Sender._fail_all()]>\n",
      "Task was destroyed but it is pending!\n",
      "task: <Task pending name='Task-4460' coro=<Sender._sender_routine() running at /home/saifulkhan/CODE/SKA/streaming-vis-perf/broker/venv/lib/python3.9/site-packages/aiokafka/producer/sender.py:147> wait_for=<Future pending cb=[<TaskWakeupMethWrapper object at 0x7fe8b75362b0>()]> cb=[Sender._fail_all()]>\n",
      "Task was destroyed but it is pending!\n",
      "task: <Task pending name='Task-4470' coro=<Sender._sender_routine() running at /home/saifulkhan/CODE/SKA/streaming-vis-perf/broker/venv/lib/python3.9/site-packages/aiokafka/producer/sender.py:147> wait_for=<Future pending cb=[<TaskWakeupMethWrapper object at 0x7fe8b75369a0>()]> cb=[Sender._fail_all()]>\n",
      "Task was destroyed but it is pending!\n",
      "task: <Task pending name='Task-4490' coro=<Sender._sender_routine() running at /home/saifulkhan/CODE/SKA/streaming-vis-perf/broker/venv/lib/python3.9/site-packages/aiokafka/producer/sender.py:147> wait_for=<Future pending cb=[<TaskWakeupMethWrapper object at 0x7fe8b896dd30>()]> cb=[Sender._fail_all()]>\n",
      "Task was destroyed but it is pending!\n",
      "task: <Task pending name='Task-4500' coro=<Sender._sender_routine() running at /home/saifulkhan/CODE/SKA/streaming-vis-perf/broker/venv/lib/python3.9/site-packages/aiokafka/producer/sender.py:147> wait_for=<Future pending cb=[<TaskWakeupMethWrapper object at 0x7fe8bc8119d0>()]> cb=[Sender._fail_all()]>\n",
      "Task was destroyed but it is pending!\n",
      "task: <Task pending name='Task-4510' coro=<Sender._sender_routine() running at /home/saifulkhan/CODE/SKA/streaming-vis-perf/broker/venv/lib/python3.9/site-packages/aiokafka/producer/sender.py:147> wait_for=<Future pending cb=[<TaskWakeupMethWrapper object at 0x7fe8b6ce7d90>()]> cb=[Sender._fail_all()]>\n",
      "Task was destroyed but it is pending!\n",
      "task: <Task pending name='Task-4520' coro=<Sender._sender_routine() running at /home/saifulkhan/CODE/SKA/streaming-vis-perf/broker/venv/lib/python3.9/site-packages/aiokafka/producer/sender.py:147> wait_for=<Future pending cb=[<TaskWakeupMethWrapper object at 0x7fe8b6ce74f0>()]> cb=[Sender._fail_all()]>\n",
      "Task was destroyed but it is pending!\n",
      "task: <Task pending name='Task-4530' coro=<Sender._sender_routine() running at /home/saifulkhan/CODE/SKA/streaming-vis-perf/broker/venv/lib/python3.9/site-packages/aiokafka/producer/sender.py:147> wait_for=<Future pending cb=[<TaskWakeupMethWrapper object at 0x7fe8ba535820>()]> cb=[Sender._fail_all()]>\n",
      "Unclosed AIOKafkaProducer\n",
      "producer: <aiokafka.producer.producer.AIOKafkaProducer object at 0x7fe8ba535940>\n"
     ]
    },
    {
     "name": "stdout",
     "output_type": "stream",
     "text": [
      "idx = 18, channels[idx] = 475000\n"
     ]
    },
    {
     "name": "stderr",
     "output_type": "stream",
     "text": [
      "Unclosed AIOKafkaProducer\n",
      "producer: <aiokafka.producer.producer.AIOKafkaProducer object at 0x7fe8b8d3f670>\n"
     ]
    },
    {
     "name": "stdout",
     "output_type": "stream",
     "text": [
      "idx = 18, channels[idx] = 475000\n"
     ]
    },
    {
     "name": "stderr",
     "output_type": "stream",
     "text": [
      "Unclosed AIOKafkaProducer\n",
      "producer: <aiokafka.producer.producer.AIOKafkaProducer object at 0x7fe8bb178970>\n"
     ]
    },
    {
     "name": "stdout",
     "output_type": "stream",
     "text": [
      "idx = 18, channels[idx] = 475000\n"
     ]
    },
    {
     "name": "stderr",
     "output_type": "stream",
     "text": [
      "Unclosed AIOKafkaProducer\n",
      "producer: <aiokafka.producer.producer.AIOKafkaProducer object at 0x7fe8b896d520>\n",
      "Task was destroyed but it is pending!\n",
      "task: <Task pending name='Task-4570' coro=<Sender._sender_routine() running at /home/saifulkhan/CODE/SKA/streaming-vis-perf/broker/venv/lib/python3.9/site-packages/aiokafka/producer/sender.py:147> wait_for=<Future pending cb=[<TaskWakeupMethWrapper object at 0x7fe8b75365e0>()]> cb=[Sender._fail_all()]>\n"
     ]
    },
    {
     "name": "stdout",
     "output_type": "stream",
     "text": [
      "idx = 18, channels[idx] = 475000\n"
     ]
    },
    {
     "name": "stderr",
     "output_type": "stream",
     "text": [
      "Unclosed AIOKafkaProducer\n",
      "producer: <aiokafka.producer.producer.AIOKafkaProducer object at 0x7fe8bbb5d910>\n"
     ]
    },
    {
     "name": "stdout",
     "output_type": "stream",
     "text": [
      "idx = 18, channels[idx] = 475000\n"
     ]
    },
    {
     "name": "stderr",
     "output_type": "stream",
     "text": [
      "Unclosed AIOKafkaProducer\n",
      "producer: <aiokafka.producer.producer.AIOKafkaProducer object at 0x7fe8bdc6d850>\n"
     ]
    },
    {
     "name": "stdout",
     "output_type": "stream",
     "text": [
      "idx = 19, channels[idx] = 500000\n"
     ]
    },
    {
     "name": "stderr",
     "output_type": "stream",
     "text": [
      "Unclosed AIOKafkaProducer\n",
      "producer: <aiokafka.producer.producer.AIOKafkaProducer object at 0x7fe8bddacd60>\n"
     ]
    },
    {
     "name": "stdout",
     "output_type": "stream",
     "text": [
      "idx = 19, channels[idx] = 500000\n"
     ]
    },
    {
     "name": "stderr",
     "output_type": "stream",
     "text": [
      "Unclosed AIOKafkaProducer\n",
      "producer: <aiokafka.producer.producer.AIOKafkaProducer object at 0x7fe8ba352f70>\n",
      "Task was destroyed but it is pending!\n",
      "task: <Task pending name='Task-4610' coro=<Sender._sender_routine() running at /home/saifulkhan/CODE/SKA/streaming-vis-perf/broker/venv/lib/python3.9/site-packages/aiokafka/producer/sender.py:147> wait_for=<Future pending cb=[<TaskWakeupMethWrapper object at 0x7fe8b9db30a0>()]> cb=[Sender._fail_all()]>\n"
     ]
    },
    {
     "name": "stdout",
     "output_type": "stream",
     "text": [
      "idx = 19, channels[idx] = 500000\n"
     ]
    },
    {
     "name": "stderr",
     "output_type": "stream",
     "text": [
      "Unclosed AIOKafkaProducer\n",
      "producer: <aiokafka.producer.producer.AIOKafkaProducer object at 0x7fe8b9db3310>\n"
     ]
    },
    {
     "name": "stdout",
     "output_type": "stream",
     "text": [
      "idx = 19, channels[idx] = 500000\n"
     ]
    },
    {
     "name": "stderr",
     "output_type": "stream",
     "text": [
      "Unclosed AIOKafkaProducer\n",
      "producer: <aiokafka.producer.producer.AIOKafkaProducer object at 0x7fe8b9db3520>\n"
     ]
    },
    {
     "name": "stdout",
     "output_type": "stream",
     "text": [
      "idx = 19, channels[idx] = 500000\n"
     ]
    },
    {
     "name": "stderr",
     "output_type": "stream",
     "text": [
      "Unclosed AIOKafkaProducer\n",
      "producer: <aiokafka.producer.producer.AIOKafkaProducer object at 0x7fe8b865d2b0>\n",
      "Task was destroyed but it is pending!\n",
      "task: <Task pending name='Task-4640' coro=<Sender._sender_routine() running at /home/saifulkhan/CODE/SKA/streaming-vis-perf/broker/venv/lib/python3.9/site-packages/aiokafka/producer/sender.py:147> wait_for=<Future pending cb=[<TaskWakeupMethWrapper object at 0x7fe8b865d7c0>()]> cb=[Sender._fail_all()]>\n"
     ]
    },
    {
     "name": "stdout",
     "output_type": "stream",
     "text": [
      "idx = 19, channels[idx] = 500000\n"
     ]
    },
    {
     "name": "stderr",
     "output_type": "stream",
     "text": [
      "Unclosed AIOKafkaProducer\n",
      "producer: <aiokafka.producer.producer.AIOKafkaProducer object at 0x7fe8b865d850>\n"
     ]
    },
    {
     "name": "stdout",
     "output_type": "stream",
     "text": [
      "idx = 19, channels[idx] = 500000\n"
     ]
    },
    {
     "name": "stderr",
     "output_type": "stream",
     "text": [
      "Unclosed AIOKafkaProducer\n",
      "producer: <aiokafka.producer.producer.AIOKafkaProducer object at 0x7fe8b865d850>\n"
     ]
    },
    {
     "name": "stdout",
     "output_type": "stream",
     "text": [
      "idx = 19, channels[idx] = 500000\n"
     ]
    },
    {
     "name": "stderr",
     "output_type": "stream",
     "text": [
      "Unclosed AIOKafkaProducer\n",
      "producer: <aiokafka.producer.producer.AIOKafkaProducer object at 0x7fe8b715d460>\n"
     ]
    },
    {
     "name": "stdout",
     "output_type": "stream",
     "text": [
      "idx = 19, channels[idx] = 500000\n"
     ]
    },
    {
     "name": "stderr",
     "output_type": "stream",
     "text": [
      "Unclosed AIOKafkaProducer\n",
      "producer: <aiokafka.producer.producer.AIOKafkaProducer object at 0x7fe8b715dca0>\n",
      "Task was destroyed but it is pending!\n",
      "task: <Task pending name='Task-4540' coro=<Sender._sender_routine() running at /home/saifulkhan/CODE/SKA/streaming-vis-perf/broker/venv/lib/python3.9/site-packages/aiokafka/producer/sender.py:147> wait_for=<Future pending cb=[<TaskWakeupMethWrapper object at 0x7fe8ba535550>()]> cb=[Sender._fail_all()]>\n",
      "Task was destroyed but it is pending!\n",
      "task: <Task pending name='Task-4550' coro=<Sender._sender_routine() running at /home/saifulkhan/CODE/SKA/streaming-vis-perf/broker/venv/lib/python3.9/site-packages/aiokafka/producer/sender.py:147> wait_for=<Future pending cb=[<TaskWakeupMethWrapper object at 0x7fe8b6ce7280>()]> cb=[Sender._fail_all()]>\n",
      "Task was destroyed but it is pending!\n",
      "task: <Task pending name='Task-4560' coro=<Sender._sender_routine() running at /home/saifulkhan/CODE/SKA/streaming-vis-perf/broker/venv/lib/python3.9/site-packages/aiokafka/producer/sender.py:147> wait_for=<Future pending cb=[<TaskWakeupMethWrapper object at 0x7fe8ba535b80>()]> cb=[Sender._fail_all()]>\n",
      "Task was destroyed but it is pending!\n",
      "task: <Task pending name='Task-4580' coro=<Sender._sender_routine() running at /home/saifulkhan/CODE/SKA/streaming-vis-perf/broker/venv/lib/python3.9/site-packages/aiokafka/producer/sender.py:147> wait_for=<Future pending cb=[<TaskWakeupMethWrapper object at 0x7fe8ba494b50>()]> cb=[Sender._fail_all()]>\n",
      "Task was destroyed but it is pending!\n",
      "task: <Task pending name='Task-4590' coro=<Sender._sender_routine() running at /home/saifulkhan/CODE/SKA/streaming-vis-perf/broker/venv/lib/python3.9/site-packages/aiokafka/producer/sender.py:147> wait_for=<Future pending cb=[<TaskWakeupMethWrapper object at 0x7fe8bddac370>()]> cb=[Sender._fail_all()]>\n",
      "Task was destroyed but it is pending!\n",
      "task: <Task pending name='Task-4600' coro=<Sender._sender_routine() running at /home/saifulkhan/CODE/SKA/streaming-vis-perf/broker/venv/lib/python3.9/site-packages/aiokafka/producer/sender.py:147> wait_for=<Future pending cb=[<TaskWakeupMethWrapper object at 0x7fe8bbbb1e50>()]> cb=[Sender._fail_all()]>\n",
      "Task was destroyed but it is pending!\n",
      "task: <Task pending name='Task-4620' coro=<Sender._sender_routine() running at /home/saifulkhan/CODE/SKA/streaming-vis-perf/broker/venv/lib/python3.9/site-packages/aiokafka/producer/sender.py:147> wait_for=<Future pending cb=[<TaskWakeupMethWrapper object at 0x7fe8b9db3be0>()]> cb=[Sender._fail_all()]>\n",
      "Task was destroyed but it is pending!\n",
      "task: <Task pending name='Task-4630' coro=<Sender._sender_routine() running at /home/saifulkhan/CODE/SKA/streaming-vis-perf/broker/venv/lib/python3.9/site-packages/aiokafka/producer/sender.py:147> wait_for=<Future pending cb=[<TaskWakeupMethWrapper object at 0x7fe8c3941b80>()]> cb=[Sender._fail_all()]>\n",
      "Task was destroyed but it is pending!\n",
      "task: <Task pending name='Task-4650' coro=<Sender._sender_routine() running at /home/saifulkhan/CODE/SKA/streaming-vis-perf/broker/venv/lib/python3.9/site-packages/aiokafka/producer/sender.py:147> wait_for=<Future pending cb=[<TaskWakeupMethWrapper object at 0x7fe8b865db50>()]> cb=[Sender._fail_all()]>\n",
      "Task was destroyed but it is pending!\n",
      "task: <Task pending name='Task-4660' coro=<Sender._sender_routine() running at /home/saifulkhan/CODE/SKA/streaming-vis-perf/broker/venv/lib/python3.9/site-packages/aiokafka/producer/sender.py:147> wait_for=<Future pending cb=[<TaskWakeupMethWrapper object at 0x7fe8b9fda190>()]> cb=[Sender._fail_all()]>\n",
      "Task was destroyed but it is pending!\n",
      "task: <Task pending name='Task-4670' coro=<Sender._sender_routine() running at /home/saifulkhan/CODE/SKA/streaming-vis-perf/broker/venv/lib/python3.9/site-packages/aiokafka/producer/sender.py:147> wait_for=<Future pending cb=[<TaskWakeupMethWrapper object at 0x7fe8b715d700>()]> cb=[Sender._fail_all()]>\n",
      "Task was destroyed but it is pending!\n",
      "task: <Task pending name='Task-4680' coro=<Sender._sender_routine() running at /home/saifulkhan/CODE/SKA/streaming-vis-perf/broker/venv/lib/python3.9/site-packages/aiokafka/producer/sender.py:147> wait_for=<Future pending cb=[<TaskWakeupMethWrapper object at 0x7fe8bb857370>()]> cb=[Sender._fail_all()]>\n"
     ]
    },
    {
     "name": "stdout",
     "output_type": "stream",
     "text": [
      "idx = 19, channels[idx] = 500000\n"
     ]
    },
    {
     "name": "stderr",
     "output_type": "stream",
     "text": [
      "Unclosed AIOKafkaProducer\n",
      "producer: <aiokafka.producer.producer.AIOKafkaProducer object at 0x7fe8b715dca0>\n"
     ]
    },
    {
     "name": "stdout",
     "output_type": "stream",
     "text": [
      "idx = 20, channels[idx] = 525000\n"
     ]
    },
    {
     "name": "stderr",
     "output_type": "stream",
     "text": [
      "Unclosed AIOKafkaProducer\n",
      "producer: <aiokafka.producer.producer.AIOKafkaProducer object at 0x7fe8b9c18d00>\n"
     ]
    },
    {
     "name": "stdout",
     "output_type": "stream",
     "text": [
      "idx = 20, channels[idx] = 525000\n"
     ]
    },
    {
     "name": "stderr",
     "output_type": "stream",
     "text": [
      "Unclosed AIOKafkaProducer\n",
      "producer: <aiokafka.producer.producer.AIOKafkaProducer object at 0x7fe8ba494970>\n"
     ]
    },
    {
     "name": "stdout",
     "output_type": "stream",
     "text": [
      "idx = 20, channels[idx] = 525000\n"
     ]
    },
    {
     "name": "stderr",
     "output_type": "stream",
     "text": [
      "Unclosed AIOKafkaProducer\n",
      "producer: <aiokafka.producer.producer.AIOKafkaProducer object at 0x7fe8bcf68ee0>\n"
     ]
    },
    {
     "name": "stdout",
     "output_type": "stream",
     "text": [
      "idx = 20, channels[idx] = 525000\n"
     ]
    },
    {
     "name": "stderr",
     "output_type": "stream",
     "text": [
      "Unclosed AIOKafkaProducer\n",
      "producer: <aiokafka.producer.producer.AIOKafkaProducer object at 0x7fe8b851d6d0>\n"
     ]
    },
    {
     "name": "stdout",
     "output_type": "stream",
     "text": [
      "idx = 20, channels[idx] = 525000\n"
     ]
    },
    {
     "name": "stderr",
     "output_type": "stream",
     "text": [
      "Unclosed AIOKafkaProducer\n",
      "producer: <aiokafka.producer.producer.AIOKafkaProducer object at 0x7fe8b851de80>\n"
     ]
    },
    {
     "name": "stdout",
     "output_type": "stream",
     "text": [
      "idx = 20, channels[idx] = 525000\n"
     ]
    },
    {
     "name": "stderr",
     "output_type": "stream",
     "text": [
      "Unclosed AIOKafkaProducer\n",
      "producer: <aiokafka.producer.producer.AIOKafkaProducer object at 0x7fe8b851df10>\n"
     ]
    },
    {
     "name": "stdout",
     "output_type": "stream",
     "text": [
      "idx = 20, channels[idx] = 525000\n"
     ]
    },
    {
     "name": "stderr",
     "output_type": "stream",
     "text": [
      "Task was destroyed but it is pending!\n",
      "task: <Task pending name='Task-4750' coro=<Sender._sender_routine() running at /home/saifulkhan/CODE/SKA/streaming-vis-perf/broker/venv/lib/python3.9/site-packages/aiokafka/producer/sender.py:147> wait_for=<Future pending cb=[<TaskWakeupMethWrapper object at 0x7fe8b8d7b670>()]> cb=[Sender._fail_all()]>\n",
      "Unclosed AIOKafkaProducer\n",
      "producer: <aiokafka.producer.producer.AIOKafkaProducer object at 0x7fe8b8d7b220>\n"
     ]
    },
    {
     "name": "stdout",
     "output_type": "stream",
     "text": [
      "idx = 20, channels[idx] = 525000\n"
     ]
    },
    {
     "name": "stderr",
     "output_type": "stream",
     "text": [
      "Unclosed AIOKafkaProducer\n",
      "producer: <aiokafka.producer.producer.AIOKafkaProducer object at 0x7fe8bb60fdc0>\n"
     ]
    },
    {
     "name": "stdout",
     "output_type": "stream",
     "text": [
      "idx = 20, channels[idx] = 525000\n"
     ]
    },
    {
     "name": "stderr",
     "output_type": "stream",
     "text": [
      "Unclosed AIOKafkaProducer\n",
      "producer: <aiokafka.producer.producer.AIOKafkaProducer object at 0x7fe8b6fd8b20>\n"
     ]
    },
    {
     "name": "stdout",
     "output_type": "stream",
     "text": [
      "idx = 20, channels[idx] = 525000\n"
     ]
    },
    {
     "name": "stderr",
     "output_type": "stream",
     "text": [
      "Unclosed AIOKafkaProducer\n",
      "producer: <aiokafka.producer.producer.AIOKafkaProducer object at 0x7fe8b6f7dcd0>\n"
     ]
    },
    {
     "name": "stdout",
     "output_type": "stream",
     "text": [
      "idx = 21, channels[idx] = 550000\n"
     ]
    },
    {
     "name": "stderr",
     "output_type": "stream",
     "text": [
      "Unclosed AIOKafkaProducer\n",
      "producer: <aiokafka.producer.producer.AIOKafkaProducer object at 0x7fe8b6f034f0>\n"
     ]
    },
    {
     "name": "stdout",
     "output_type": "stream",
     "text": [
      "idx = 21, channels[idx] = 550000\n"
     ]
    },
    {
     "name": "stderr",
     "output_type": "stream",
     "text": [
      "Unclosed AIOKafkaProducer\n",
      "producer: <aiokafka.producer.producer.AIOKafkaProducer object at 0x7fe8b6f03df0>\n"
     ]
    },
    {
     "name": "stdout",
     "output_type": "stream",
     "text": [
      "idx = 21, channels[idx] = 550000\n"
     ]
    },
    {
     "name": "stderr",
     "output_type": "stream",
     "text": [
      "Task was destroyed but it is pending!\n",
      "task: <Task pending name='Task-4690' coro=<Sender._sender_routine() running at /home/saifulkhan/CODE/SKA/streaming-vis-perf/broker/venv/lib/python3.9/site-packages/aiokafka/producer/sender.py:147> wait_for=<Future pending cb=[<TaskWakeupMethWrapper object at 0x7fe8ba28c4c0>()]> cb=[Sender._fail_all()]>\n",
      "Task was destroyed but it is pending!\n",
      "task: <Task pending name='Task-4700' coro=<Sender._sender_routine() running at /home/saifulkhan/CODE/SKA/streaming-vis-perf/broker/venv/lib/python3.9/site-packages/aiokafka/producer/sender.py:147> wait_for=<Future pending cb=[<TaskWakeupMethWrapper object at 0x7fe8bcf68e50>()]> cb=[Sender._fail_all()]>\n",
      "Task was destroyed but it is pending!\n",
      "task: <Task pending name='Task-4710' coro=<Sender._sender_routine() running at /home/saifulkhan/CODE/SKA/streaming-vis-perf/broker/venv/lib/python3.9/site-packages/aiokafka/producer/sender.py:147> wait_for=<Future pending cb=[<TaskWakeupMethWrapper object at 0x7fe8bce5fa00>()]> cb=[Sender._fail_all()]>\n",
      "Task was destroyed but it is pending!\n",
      "task: <Task pending name='Task-4720' coro=<Sender._sender_routine() running at /home/saifulkhan/CODE/SKA/streaming-vis-perf/broker/venv/lib/python3.9/site-packages/aiokafka/producer/sender.py:147> wait_for=<Future pending cb=[<TaskWakeupMethWrapper object at 0x7fe8b851d880>()]> cb=[Sender._fail_all()]>\n",
      "Task was destroyed but it is pending!\n",
      "task: <Task pending name='Task-4730' coro=<Sender._sender_routine() running at /home/saifulkhan/CODE/SKA/streaming-vis-perf/broker/venv/lib/python3.9/site-packages/aiokafka/producer/sender.py:147> wait_for=<Future pending cb=[<TaskWakeupMethWrapper object at 0x7fe8b851d070>()]> cb=[Sender._fail_all()]>\n",
      "Task was destroyed but it is pending!\n",
      "task: <Task pending name='Task-4740' coro=<Sender._sender_routine() running at /home/saifulkhan/CODE/SKA/streaming-vis-perf/broker/venv/lib/python3.9/site-packages/aiokafka/producer/sender.py:147> wait_for=<Future pending cb=[<TaskWakeupMethWrapper object at 0x7fe8b851d7f0>()]> cb=[Sender._fail_all()]>\n",
      "Task was destroyed but it is pending!\n",
      "task: <Task pending name='Task-4760' coro=<Sender._sender_routine() running at /home/saifulkhan/CODE/SKA/streaming-vis-perf/broker/venv/lib/python3.9/site-packages/aiokafka/producer/sender.py:147> wait_for=<Future pending cb=[<TaskWakeupMethWrapper object at 0x7fe8b8d7bca0>()]> cb=[Sender._fail_all()]>\n",
      "Task was destroyed but it is pending!\n",
      "task: <Task pending name='Task-4770' coro=<Sender._sender_routine() running at /home/saifulkhan/CODE/SKA/streaming-vis-perf/broker/venv/lib/python3.9/site-packages/aiokafka/producer/sender.py:147> wait_for=<Future pending cb=[<TaskWakeupMethWrapper object at 0x7fe8b8d7b4f0>()]> cb=[Sender._fail_all()]>\n",
      "Task was destroyed but it is pending!\n",
      "task: <Task pending name='Task-4780' coro=<Sender._sender_routine() running at /home/saifulkhan/CODE/SKA/streaming-vis-perf/broker/venv/lib/python3.9/site-packages/aiokafka/producer/sender.py:147> wait_for=<Future pending cb=[<TaskWakeupMethWrapper object at 0x7fe8b6fd8d00>()]> cb=[Sender._fail_all()]>\n",
      "Task was destroyed but it is pending!\n",
      "task: <Task pending name='Task-4790' coro=<Sender._sender_routine() running at /home/saifulkhan/CODE/SKA/streaming-vis-perf/broker/venv/lib/python3.9/site-packages/aiokafka/producer/sender.py:147> wait_for=<Future pending cb=[<TaskWakeupMethWrapper object at 0x7fe8b6fd8070>()]> cb=[Sender._fail_all()]>\n",
      "Task was destroyed but it is pending!\n",
      "task: <Task pending name='Task-4800' coro=<Sender._sender_routine() running at /home/saifulkhan/CODE/SKA/streaming-vis-perf/broker/venv/lib/python3.9/site-packages/aiokafka/producer/sender.py:147> wait_for=<Future pending cb=[<TaskWakeupMethWrapper object at 0x7fe8b6f030d0>()]> cb=[Sender._fail_all()]>\n",
      "Task was destroyed but it is pending!\n",
      "task: <Task pending name='Task-4810' coro=<Sender._sender_routine() running at /home/saifulkhan/CODE/SKA/streaming-vis-perf/broker/venv/lib/python3.9/site-packages/aiokafka/producer/sender.py:147> wait_for=<Future pending cb=[<TaskWakeupMethWrapper object at 0x7fe8b6f036d0>()]> cb=[Sender._fail_all()]>\n",
      "Unclosed AIOKafkaProducer\n",
      "producer: <aiokafka.producer.producer.AIOKafkaProducer object at 0x7fe8b6f03850>\n"
     ]
    },
    {
     "name": "stdout",
     "output_type": "stream",
     "text": [
      "idx = 21, channels[idx] = 550000\n"
     ]
    },
    {
     "name": "stderr",
     "output_type": "stream",
     "text": [
      "Unclosed AIOKafkaProducer\n",
      "producer: <aiokafka.producer.producer.AIOKafkaProducer object at 0x7fe8bb86d2b0>\n"
     ]
    },
    {
     "name": "stdout",
     "output_type": "stream",
     "text": [
      "idx = 21, channels[idx] = 550000\n"
     ]
    },
    {
     "name": "stderr",
     "output_type": "stream",
     "text": [
      "Unclosed AIOKafkaProducer\n",
      "producer: <aiokafka.producer.producer.AIOKafkaProducer object at 0x7fe8b8d7bfa0>\n"
     ]
    },
    {
     "name": "stdout",
     "output_type": "stream",
     "text": [
      "idx = 21, channels[idx] = 550000\n"
     ]
    },
    {
     "name": "stderr",
     "output_type": "stream",
     "text": [
      "Unclosed AIOKafkaProducer\n",
      "producer: <aiokafka.producer.producer.AIOKafkaProducer object at 0x7fe8bcb02730>\n"
     ]
    },
    {
     "name": "stdout",
     "output_type": "stream",
     "text": [
      "idx = 21, channels[idx] = 550000\n"
     ]
    },
    {
     "name": "stderr",
     "output_type": "stream",
     "text": [
      "Unclosed AIOKafkaProducer\n",
      "producer: <aiokafka.producer.producer.AIOKafkaProducer object at 0x7fe8b8b6b6a0>\n"
     ]
    },
    {
     "name": "stdout",
     "output_type": "stream",
     "text": [
      "idx = 21, channels[idx] = 550000\n"
     ]
    },
    {
     "name": "stderr",
     "output_type": "stream",
     "text": [
      "Unclosed AIOKafkaProducer\n",
      "producer: <aiokafka.producer.producer.AIOKafkaProducer object at 0x7fe8bca46430>\n"
     ]
    },
    {
     "name": "stdout",
     "output_type": "stream",
     "text": [
      "idx = 21, channels[idx] = 550000\n"
     ]
    },
    {
     "name": "stderr",
     "output_type": "stream",
     "text": [
      "Unclosed AIOKafkaProducer\n",
      "producer: <aiokafka.producer.producer.AIOKafkaProducer object at 0x7fe8b75cadc0>\n"
     ]
    },
    {
     "name": "stdout",
     "output_type": "stream",
     "text": [
      "idx = 21, channels[idx] = 550000\n"
     ]
    },
    {
     "name": "stderr",
     "output_type": "stream",
     "text": [
      "Unclosed AIOKafkaProducer\n",
      "producer: <aiokafka.producer.producer.AIOKafkaProducer object at 0x7fe8bb221070>\n"
     ]
    },
    {
     "name": "stdout",
     "output_type": "stream",
     "text": [
      "idx = 22, channels[idx] = 575000\n"
     ]
    },
    {
     "name": "stderr",
     "output_type": "stream",
     "text": [
      "Unclosed AIOKafkaProducer\n",
      "producer: <aiokafka.producer.producer.AIOKafkaProducer object at 0x7fe8b9f45d60>\n"
     ]
    },
    {
     "name": "stdout",
     "output_type": "stream",
     "text": [
      "idx = 22, channels[idx] = 575000\n"
     ]
    },
    {
     "name": "stderr",
     "output_type": "stream",
     "text": [
      "Unclosed AIOKafkaProducer\n",
      "producer: <aiokafka.producer.producer.AIOKafkaProducer object at 0x7fe8b896dc10>\n"
     ]
    },
    {
     "name": "stdout",
     "output_type": "stream",
     "text": [
      "idx = 22, channels[idx] = 575000\n"
     ]
    },
    {
     "name": "stderr",
     "output_type": "stream",
     "text": [
      "Unclosed AIOKafkaProducer\n",
      "producer: <aiokafka.producer.producer.AIOKafkaProducer object at 0x7fe8be1377c0>\n"
     ]
    },
    {
     "name": "stdout",
     "output_type": "stream",
     "text": [
      "idx = 22, channels[idx] = 575000\n"
     ]
    },
    {
     "name": "stderr",
     "output_type": "stream",
     "text": [
      "Unclosed AIOKafkaProducer\n",
      "producer: <aiokafka.producer.producer.AIOKafkaProducer object at 0x7fe8bb1784f0>\n",
      "Task was destroyed but it is pending!\n",
      "task: <Task pending name='Task-4820' coro=<Sender._sender_routine() running at /home/saifulkhan/CODE/SKA/streaming-vis-perf/broker/venv/lib/python3.9/site-packages/aiokafka/producer/sender.py:147> wait_for=<Future pending cb=[<TaskWakeupMethWrapper object at 0x7fe8b6fd8d00>()]> cb=[Sender._fail_all()]>\n",
      "Task was destroyed but it is pending!\n",
      "task: <Task pending name='Task-4830' coro=<Sender._sender_routine() running at /home/saifulkhan/CODE/SKA/streaming-vis-perf/broker/venv/lib/python3.9/site-packages/aiokafka/producer/sender.py:147> wait_for=<Future pending cb=[<TaskWakeupMethWrapper object at 0x7fe8b6fd8910>()]> cb=[Sender._fail_all()]>\n",
      "Task was destroyed but it is pending!\n",
      "task: <Task pending name='Task-4840' coro=<Sender._sender_routine() running at /home/saifulkhan/CODE/SKA/streaming-vis-perf/broker/venv/lib/python3.9/site-packages/aiokafka/producer/sender.py:147> wait_for=<Future pending cb=[<TaskWakeupMethWrapper object at 0x7fe8b9f45340>()]> cb=[Sender._fail_all()]>\n",
      "Task was destroyed but it is pending!\n",
      "task: <Task pending name='Task-4850' coro=<Sender._sender_routine() running at /home/saifulkhan/CODE/SKA/streaming-vis-perf/broker/venv/lib/python3.9/site-packages/aiokafka/producer/sender.py:147> wait_for=<Future pending cb=[<TaskWakeupMethWrapper object at 0x7fe8b6f03670>()]> cb=[Sender._fail_all()]>\n",
      "Task was destroyed but it is pending!\n",
      "task: <Task pending name='Task-4860' coro=<Sender._sender_routine() running at /home/saifulkhan/CODE/SKA/streaming-vis-perf/broker/venv/lib/python3.9/site-packages/aiokafka/producer/sender.py:147> wait_for=<Future pending cb=[<TaskWakeupMethWrapper object at 0x7fe8b75ca970>()]> cb=[Sender._fail_all()]>\n",
      "Task was destroyed but it is pending!\n",
      "task: <Task pending name='Task-4870' coro=<Sender._sender_routine() running at /home/saifulkhan/CODE/SKA/streaming-vis-perf/broker/venv/lib/python3.9/site-packages/aiokafka/producer/sender.py:147> wait_for=<Future pending cb=[<TaskWakeupMethWrapper object at 0x7fe8b8b6b7f0>()]> cb=[Sender._fail_all()]>\n",
      "Task was destroyed but it is pending!\n",
      "task: <Task pending name='Task-4880' coro=<Sender._sender_routine() running at /home/saifulkhan/CODE/SKA/streaming-vis-perf/broker/venv/lib/python3.9/site-packages/aiokafka/producer/sender.py:147> wait_for=<Future pending cb=[<TaskWakeupMethWrapper object at 0x7fe8bb221220>()]> cb=[Sender._fail_all()]>\n",
      "Task was destroyed but it is pending!\n",
      "task: <Task pending name='Task-4890' coro=<Sender._sender_routine() running at /home/saifulkhan/CODE/SKA/streaming-vis-perf/broker/venv/lib/python3.9/site-packages/aiokafka/producer/sender.py:147> wait_for=<Future pending cb=[<TaskWakeupMethWrapper object at 0x7fe8bb221550>()]> cb=[Sender._fail_all()]>\n",
      "Task was destroyed but it is pending!\n",
      "task: <Task pending name='Task-4900' coro=<Sender._sender_routine() running at /home/saifulkhan/CODE/SKA/streaming-vis-perf/broker/venv/lib/python3.9/site-packages/aiokafka/producer/sender.py:147> wait_for=<Future pending cb=[<TaskWakeupMethWrapper object at 0x7fe8be2211c0>()]> cb=[Sender._fail_all()]>\n",
      "Task was destroyed but it is pending!\n",
      "task: <Task pending name='Task-4910' coro=<Sender._sender_routine() running at /home/saifulkhan/CODE/SKA/streaming-vis-perf/broker/venv/lib/python3.9/site-packages/aiokafka/producer/sender.py:147> wait_for=<Future pending cb=[<TaskWakeupMethWrapper object at 0x7fe8bb178a60>()]> cb=[Sender._fail_all()]>\n",
      "Task was destroyed but it is pending!\n",
      "task: <Task pending name='Task-4920' coro=<Sender._sender_routine() running at /home/saifulkhan/CODE/SKA/streaming-vis-perf/broker/venv/lib/python3.9/site-packages/aiokafka/producer/sender.py:147> wait_for=<Future pending cb=[<TaskWakeupMethWrapper object at 0x7fe8bc7222e0>()]> cb=[Sender._fail_all()]>\n",
      "Task was destroyed but it is pending!\n",
      "task: <Task pending name='Task-4930' coro=<Sender._sender_routine() running at /home/saifulkhan/CODE/SKA/streaming-vis-perf/broker/venv/lib/python3.9/site-packages/aiokafka/producer/sender.py:147> wait_for=<Future pending cb=[<TaskWakeupMethWrapper object at 0x7fe8b5997580>()]> cb=[Sender._fail_all()]>\n"
     ]
    },
    {
     "name": "stdout",
     "output_type": "stream",
     "text": [
      "idx = 22, channels[idx] = 575000\n"
     ]
    },
    {
     "name": "stderr",
     "output_type": "stream",
     "text": [
      "Unclosed AIOKafkaProducer\n",
      "producer: <aiokafka.producer.producer.AIOKafkaProducer object at 0x7fe8b5997be0>\n"
     ]
    },
    {
     "name": "stdout",
     "output_type": "stream",
     "text": [
      "idx = 22, channels[idx] = 575000\n"
     ]
    },
    {
     "name": "stderr",
     "output_type": "stream",
     "text": [
      "Unclosed AIOKafkaProducer\n",
      "producer: <aiokafka.producer.producer.AIOKafkaProducer object at 0x7fe8b59971c0>\n"
     ]
    },
    {
     "name": "stdout",
     "output_type": "stream",
     "text": [
      "idx = 22, channels[idx] = 575000\n"
     ]
    },
    {
     "name": "stderr",
     "output_type": "stream",
     "text": [
      "Unclosed AIOKafkaProducer\n",
      "producer: <aiokafka.producer.producer.AIOKafkaProducer object at 0x7fe8b896dc10>\n"
     ]
    },
    {
     "name": "stdout",
     "output_type": "stream",
     "text": [
      "idx = 22, channels[idx] = 575000\n"
     ]
    },
    {
     "name": "stderr",
     "output_type": "stream",
     "text": [
      "Unclosed AIOKafkaProducer\n",
      "producer: <aiokafka.producer.producer.AIOKafkaProducer object at 0x7fe8b75ca970>\n"
     ]
    },
    {
     "name": "stdout",
     "output_type": "stream",
     "text": [
      "idx = 22, channels[idx] = 575000\n"
     ]
    },
    {
     "name": "stderr",
     "output_type": "stream",
     "text": [
      "Unclosed AIOKafkaProducer\n",
      "producer: <aiokafka.producer.producer.AIOKafkaProducer object at 0x7fe8b8b6bc40>\n"
     ]
    },
    {
     "name": "stdout",
     "output_type": "stream",
     "text": [
      "idx = 22, channels[idx] = 575000\n"
     ]
    },
    {
     "name": "stderr",
     "output_type": "stream",
     "text": [
      "Unclosed AIOKafkaProducer\n",
      "producer: <aiokafka.producer.producer.AIOKafkaProducer object at 0x7fe8b7335880>\n"
     ]
    },
    {
     "name": "stdout",
     "output_type": "stream",
     "text": [
      "idx = 23, channels[idx] = 600000\n"
     ]
    },
    {
     "name": "stderr",
     "output_type": "stream",
     "text": [
      "Unclosed AIOKafkaProducer\n",
      "producer: <aiokafka.producer.producer.AIOKafkaProducer object at 0x7fe8b73357f0>\n"
     ]
    },
    {
     "name": "stdout",
     "output_type": "stream",
     "text": [
      "idx = 23, channels[idx] = 600000\n"
     ]
    },
    {
     "name": "stderr",
     "output_type": "stream",
     "text": [
      "Unclosed AIOKafkaProducer\n",
      "producer: <aiokafka.producer.producer.AIOKafkaProducer object at 0x7fe8b7335970>\n",
      "Task was destroyed but it is pending!\n",
      "task: <Task pending name='Task-5010' coro=<Sender._sender_routine() running at /home/saifulkhan/CODE/SKA/streaming-vis-perf/broker/venv/lib/python3.9/site-packages/aiokafka/producer/sender.py:147> wait_for=<Future pending cb=[<TaskWakeupMethWrapper object at 0x7fe8b58ef400>()]> cb=[Sender._fail_all()]>\n"
     ]
    },
    {
     "name": "stdout",
     "output_type": "stream",
     "text": [
      "idx = 23, channels[idx] = 600000\n"
     ]
    },
    {
     "name": "stderr",
     "output_type": "stream",
     "text": [
      "Unclosed AIOKafkaProducer\n",
      "producer: <aiokafka.producer.producer.AIOKafkaProducer object at 0x7fe8b58ef970>\n"
     ]
    },
    {
     "name": "stdout",
     "output_type": "stream",
     "text": [
      "idx = 23, channels[idx] = 600000\n"
     ]
    },
    {
     "name": "stderr",
     "output_type": "stream",
     "text": [
      "Unclosed AIOKafkaProducer\n",
      "producer: <aiokafka.producer.producer.AIOKafkaProducer object at 0x7fe8b58ef100>\n"
     ]
    },
    {
     "name": "stdout",
     "output_type": "stream",
     "text": [
      "idx = 23, channels[idx] = 600000\n"
     ]
    },
    {
     "name": "stderr",
     "output_type": "stream",
     "text": [
      "Unclosed AIOKafkaProducer\n",
      "producer: <aiokafka.producer.producer.AIOKafkaProducer object at 0x7fe8b869b8b0>\n"
     ]
    },
    {
     "name": "stdout",
     "output_type": "stream",
     "text": [
      "idx = 23, channels[idx] = 600000\n"
     ]
    },
    {
     "name": "stderr",
     "output_type": "stream",
     "text": [
      "Unclosed AIOKafkaProducer\n",
      "producer: <aiokafka.producer.producer.AIOKafkaProducer object at 0x7fe8b869bdc0>\n"
     ]
    },
    {
     "name": "stdout",
     "output_type": "stream",
     "text": [
      "idx = 23, channels[idx] = 600000\n"
     ]
    },
    {
     "name": "stderr",
     "output_type": "stream",
     "text": [
      "Task was destroyed but it is pending!\n",
      "task: <Task pending name='Task-4940' coro=<Sender._sender_routine() running at /home/saifulkhan/CODE/SKA/streaming-vis-perf/broker/venv/lib/python3.9/site-packages/aiokafka/producer/sender.py:147> wait_for=<Future pending cb=[<TaskWakeupMethWrapper object at 0x7fe8b5997790>()]> cb=[Sender._fail_all()]>\n",
      "Task was destroyed but it is pending!\n",
      "task: <Task pending name='Task-4950' coro=<Sender._sender_routine() running at /home/saifulkhan/CODE/SKA/streaming-vis-perf/broker/venv/lib/python3.9/site-packages/aiokafka/producer/sender.py:147> wait_for=<Future pending cb=[<TaskWakeupMethWrapper object at 0x7fe8b5997760>()]> cb=[Sender._fail_all()]>\n",
      "Task was destroyed but it is pending!\n",
      "task: <Task pending name='Task-4960' coro=<Sender._sender_routine() running at /home/saifulkhan/CODE/SKA/streaming-vis-perf/broker/venv/lib/python3.9/site-packages/aiokafka/producer/sender.py:147> wait_for=<Future pending cb=[<TaskWakeupMethWrapper object at 0x7fe8bc6ecd90>()]> cb=[Sender._fail_all()]>\n",
      "Task was destroyed but it is pending!\n",
      "task: <Task pending name='Task-4970' coro=<Sender._sender_routine() running at /home/saifulkhan/CODE/SKA/streaming-vis-perf/broker/venv/lib/python3.9/site-packages/aiokafka/producer/sender.py:147> wait_for=<Future pending cb=[<TaskWakeupMethWrapper object at 0x7fe8b896d070>()]> cb=[Sender._fail_all()]>\n",
      "Task was destroyed but it is pending!\n",
      "task: <Task pending name='Task-4980' coro=<Sender._sender_routine() running at /home/saifulkhan/CODE/SKA/streaming-vis-perf/broker/venv/lib/python3.9/site-packages/aiokafka/producer/sender.py:147> wait_for=<Future pending cb=[<TaskWakeupMethWrapper object at 0x7fe8b87eb310>()]> cb=[Sender._fail_all()]>\n",
      "Task was destroyed but it is pending!\n",
      "task: <Task pending name='Task-4990' coro=<Sender._sender_routine() running at /home/saifulkhan/CODE/SKA/streaming-vis-perf/broker/venv/lib/python3.9/site-packages/aiokafka/producer/sender.py:147> wait_for=<Future pending cb=[<TaskWakeupMethWrapper object at 0x7fe8b73355e0>()]> cb=[Sender._fail_all()]>\n",
      "Task was destroyed but it is pending!\n",
      "task: <Task pending name='Task-5000' coro=<Sender._sender_routine() running at /home/saifulkhan/CODE/SKA/streaming-vis-perf/broker/venv/lib/python3.9/site-packages/aiokafka/producer/sender.py:147> wait_for=<Future pending cb=[<TaskWakeupMethWrapper object at 0x7fe8bddac6d0>()]> cb=[Sender._fail_all()]>\n",
      "Task was destroyed but it is pending!\n",
      "task: <Task pending name='Task-5020' coro=<Sender._sender_routine() running at /home/saifulkhan/CODE/SKA/streaming-vis-perf/broker/venv/lib/python3.9/site-packages/aiokafka/producer/sender.py:147> wait_for=<Future pending cb=[<TaskWakeupMethWrapper object at 0x7fe8b58efd90>()]> cb=[Sender._fail_all()]>\n",
      "Task was destroyed but it is pending!\n",
      "task: <Task pending name='Task-5030' coro=<Sender._sender_routine() running at /home/saifulkhan/CODE/SKA/streaming-vis-perf/broker/venv/lib/python3.9/site-packages/aiokafka/producer/sender.py:147> wait_for=<Future pending cb=[<TaskWakeupMethWrapper object at 0x7fe8b869bc10>()]> cb=[Sender._fail_all()]>\n",
      "Task was destroyed but it is pending!\n",
      "task: <Task pending name='Task-5040' coro=<Sender._sender_routine() running at /home/saifulkhan/CODE/SKA/streaming-vis-perf/broker/venv/lib/python3.9/site-packages/aiokafka/producer/sender.py:147> wait_for=<Future pending cb=[<TaskWakeupMethWrapper object at 0x7fe8b869baf0>()]> cb=[Sender._fail_all()]>\n",
      "Task was destroyed but it is pending!\n",
      "task: <Task pending name='Task-5050' coro=<Sender._sender_routine() running at /home/saifulkhan/CODE/SKA/streaming-vis-perf/broker/venv/lib/python3.9/site-packages/aiokafka/producer/sender.py:147> wait_for=<Future pending cb=[<TaskWakeupMethWrapper object at 0x7fe8b869ba00>()]> cb=[Sender._fail_all()]>\n",
      "Unclosed AIOKafkaProducer\n",
      "producer: <aiokafka.producer.producer.AIOKafkaProducer object at 0x7fe8b869bb50>\n"
     ]
    },
    {
     "name": "stdout",
     "output_type": "stream",
     "text": [
      "idx = 23, channels[idx] = 600000\n"
     ]
    },
    {
     "name": "stderr",
     "output_type": "stream",
     "text": [
      "Unclosed AIOKafkaProducer\n",
      "producer: <aiokafka.producer.producer.AIOKafkaProducer object at 0x7fe8bb178a60>\n"
     ]
    },
    {
     "name": "stdout",
     "output_type": "stream",
     "text": [
      "idx = 23, channels[idx] = 600000\n"
     ]
    },
    {
     "name": "stderr",
     "output_type": "stream",
     "text": [
      "Unclosed AIOKafkaProducer\n",
      "producer: <aiokafka.producer.producer.AIOKafkaProducer object at 0x7fe8b87eb580>\n"
     ]
    },
    {
     "name": "stdout",
     "output_type": "stream",
     "text": [
      "idx = 23, channels[idx] = 600000\n"
     ]
    },
    {
     "name": "stderr",
     "output_type": "stream",
     "text": [
      "Unclosed AIOKafkaProducer\n",
      "producer: <aiokafka.producer.producer.AIOKafkaProducer object at 0x7fe8b896df40>\n",
      "Task was destroyed but it is pending!\n",
      "task: <Task pending name='Task-5090' coro=<Sender._sender_routine() running at /home/saifulkhan/CODE/SKA/streaming-vis-perf/broker/venv/lib/python3.9/site-packages/aiokafka/producer/sender.py:147> wait_for=<Future pending cb=[<TaskWakeupMethWrapper object at 0x7fe8b7335790>()]> cb=[Sender._fail_all()]>\n",
      "Task was destroyed but it is pending!\n",
      "task: <Task pending name='Task-5060' coro=<Sender._sender_routine() running at /home/saifulkhan/CODE/SKA/streaming-vis-perf/broker/venv/lib/python3.9/site-packages/aiokafka/producer/sender.py:147> wait_for=<Future pending cb=[<TaskWakeupMethWrapper object at 0x7fe8b9fa7ac0>()]> cb=[Sender._fail_all()]>\n",
      "Task was destroyed but it is pending!\n",
      "task: <Task pending name='Task-5070' coro=<Sender._sender_routine() running at /home/saifulkhan/CODE/SKA/streaming-vis-perf/broker/venv/lib/python3.9/site-packages/aiokafka/producer/sender.py:147> wait_for=<Future pending cb=[<TaskWakeupMethWrapper object at 0x7fe8bb924310>()]> cb=[Sender._fail_all()]>\n",
      "Task was destroyed but it is pending!\n",
      "task: <Task pending name='Task-5080' coro=<Sender._sender_routine() running at /home/saifulkhan/CODE/SKA/streaming-vis-perf/broker/venv/lib/python3.9/site-packages/aiokafka/producer/sender.py:147> wait_for=<Future pending cb=[<TaskWakeupMethWrapper object at 0x7fe8b710c370>()]> cb=[Sender._fail_all()]>\n"
     ]
    }
   ],
   "source": [
    "for idx in range(len(channels)):\n",
    "    for d in range(num_iter):\n",
    "        sleep(2)\n",
    "        print(f\"idx = {idx}, channels[idx] = {channels[idx]}\")\n",
    "        await produce(utf_payloads[idx], \"spectrum-utf\")\n",
    "\n",
    "    sleep(5)\n"
   ]
  },
  {
   "cell_type": "markdown",
   "metadata": {},
   "source": [
    "Results"
   ]
  },
  {
   "cell_type": "code",
   "execution_count": 12,
   "metadata": {},
   "outputs": [],
   "source": [
    "utf_decoding_time = [\n",
    "    # delete first two data points\n",
    "    4.599999997764826,\n",
    "    3.399999998509884,\n",
    "    3.600000001490116,\n",
    "    3.599999997764826,\n",
    "    3.800000000745058,\n",
    "    3.699999999254942,\n",
    "    3.5,\n",
    "    3.5,\n",
    "    3.399999998509884,\n",
    "    3.699999999254942,\n",
    "    6.800000000745058,\n",
    "    7.199999999254942,\n",
    "    7.400000002235174,\n",
    "    6.900000002235174,\n",
    "    7.800000000745058,\n",
    "    6.699999999254942,\n",
    "    7,\n",
    "    7.099999997764826,\n",
    "    7.300000000745058,\n",
    "    7.199999999254942,\n",
    "    11.399999998509884,\n",
    "    11.300000000745058,\n",
    "    12.300000000745058,\n",
    "    12.299999997019768,\n",
    "    10.900000002235174,\n",
    "    11,\n",
    "    11.600000001490116,\n",
    "    10.800000000745058,\n",
    "    10.5,\n",
    "    10.599999997764826,\n",
    "    17.900000002235174,\n",
    "    15.699999999254942,\n",
    "    14.700000002980232,\n",
    "    14.600000001490116,\n",
    "    15,\n",
    "    15,\n",
    "    14.600000001490116,\n",
    "    14.5,\n",
    "    14.800000000745058,\n",
    "    14.400000002235174,\n",
    "    17.600000001490116,\n",
    "    17.5,\n",
    "    17.800000000745058,\n",
    "    18.300000000745058,\n",
    "    18.099999997764826,\n",
    "    17.800000000745058,\n",
    "    18.300000000745058,\n",
    "    17.800000000745058,\n",
    "    17.699999999254942,\n",
    "    17.600000001490116,\n",
    "    21.399999998509884,\n",
    "    26.400000002235174,\n",
    "    25.200000002980232,\n",
    "    24,\n",
    "    24.699999999254942,\n",
    "    21.300000000745058,\n",
    "    23.5,\n",
    "    20.900000002235174,\n",
    "    24.100000001490116,\n",
    "    23.899999998509884,\n",
    "    26.899999998509884,\n",
    "    26.599999997764826,\n",
    "    26.699999999254942,\n",
    "    25.199999999254942,\n",
    "    25.099999997764826,\n",
    "    25,\n",
    "    25,\n",
    "    26.100000001490116,\n",
    "    27.100000001490116,\n",
    "    24.600000001490116,\n",
    "    28.600000001490116,\n",
    "    40.30000000074506,\n",
    "    32,\n",
    "    28.099999997764826,\n",
    "    29.400000002235174,\n",
    "    29.600000001490116,\n",
    "    28.900000002235174,\n",
    "    29.300000000745058,\n",
    "    28.199999999254942,\n",
    "    28.400000002235174,\n",
    "    37.30000000074506,\n",
    "    33.600000001490116,\n",
    "    38.100000001490116,\n",
    "    33.900000002235174,\n",
    "    37.69999999925494,\n",
    "    34,\n",
    "    39.19999999925494,\n",
    "    34.899999998509884,\n",
    "    37.80000000074506,\n",
    "    32.399999998509884,\n",
    "    44.099999997764826,\n",
    "    38.20000000298023,\n",
    "    44.29999999701977,\n",
    "    39,\n",
    "    44.100000001490116,\n",
    "    36.600000001490116,\n",
    "    44.5,\n",
    "    37.399999998509884,\n",
    "    41.400000002235174,\n",
    "    37.69999999925494,\n",
    "    48.80000000074506,\n",
    "    51.30000000074506,\n",
    "    45.599999997764826,\n",
    "    45.79999999701977,\n",
    "    39.80000000074506,\n",
    "    46.599999997764826,\n",
    "    41.400000002235174,\n",
    "    46.19999999925494,\n",
    "    39.899999998509884,\n",
    "    47.30000000074506,\n",
    "    60.20000000298023,\n",
    "    48.899999998509884,\n",
    "    49.29999999701977,\n",
    "    51.099999997764826,\n",
    "    55.900000002235174,\n",
    "    47.099999997764826,\n",
    "    54.30000000074506,\n",
    "    48,\n",
    "    54.30000000074506,\n",
    "    47.599999997764826,\n",
    "    60.69999999925494,\n",
    "    49.19999999925494,\n",
    "    52.599999997764826,\n",
    "    48,\n",
    "    51,\n",
    "    47.899999998509884,\n",
    "    53.399999998509884,\n",
    "    48.600000001490116,\n",
    "    52.70000000298023,\n",
    "    50.099999997764826,\n",
    "    66.5,\n",
    "    63.100000001490116,\n",
    "    57.899999998509884,\n",
    "    61.69999999925494,\n",
    "    57.600000001490116,\n",
    "    61.100000001490116,\n",
    "    59.79999999701977,\n",
    "    64.10000000149012,\n",
    "    63.80000000074506,\n",
    "    55.5,\n",
    "    70.10000000149012,\n",
    "    67.19999999925494,\n",
    "    69.5,\n",
    "    67.80000000074506,\n",
    "    67.79999999701977,\n",
    "    66.80000000074506,\n",
    "    67.19999999925494,\n",
    "    67.69999999925494,\n",
    "    69.5,\n",
    "    67.60000000149012,\n",
    "    73.69999999925494,\n",
    "    67.89999999850988,\n",
    "    70.30000000074506,\n",
    "    68.5,\n",
    "    72.29999999701977,\n",
    "    67.90000000223517,\n",
    "    70,\n",
    "    68.90000000223517,\n",
    "    70.39999999850988,\n",
    "    69.5,\n",
    "    106,\n",
    "    76.10000000149012,\n",
    "    77.39999999850988,\n",
    "    81.39999999850988,\n",
    "    82.19999999925494,\n",
    "    79.80000000074506,\n",
    "    83.30000000074506,\n",
    "    80.80000000074506,\n",
    "    82.5,\n",
    "    81.09999999776483,\n",
    "    101.39999999850988,\n",
    "    81.5,\n",
    "    83.89999999850988,\n",
    "    86.30000000074506,\n",
    "    84,\n",
    "    83.39999999850988,\n",
    "    82.69999999925494,\n",
    "    84.39999999850988,\n",
    "    81.69999999925494,\n",
    "    84.59999999776483,\n",
    "    110.60000000149012,\n",
    "    76.19999999925494,\n",
    "    84.20000000298023,\n",
    "    84.39999999850988,\n",
    "    87.60000000149012,\n",
    "    84.40000000223517,\n",
    "    85.39999999850988,\n",
    "    87.30000000074506,\n",
    "    82.80000000074506,\n",
    "    85,\n",
    "    119,\n",
    "    85.90000000223517,\n",
    "    85.89999999850988,\n",
    "    86.10000000149012,\n",
    "    86.60000000149012,\n",
    "    88.19999999925494,\n",
    "    86.70000000298023,\n",
    "    88.90000000223517,\n",
    "    84.19999999925494,\n",
    "    86.30000000074506,\n",
    "    150.69999999925494,\n",
    "    90.59999999776483,\n",
    "    88,\n",
    "    89.80000000074506,\n",
    "    89,\n",
    "    90.39999999850988,\n",
    "    88.20000000298023,\n",
    "    91.19999999925494,\n",
    "    88.39999999850988,\n",
    "    89.10000000149012,\n",
    "    139.80000000074506,\n",
    "    101.29999999701977,\n",
    "    90.69999999925494,\n",
    "    90.20000000298023,\n",
    "    91.30000000074506,\n",
    "    90.09999999776483,\n",
    "    91.69999999925494,\n",
    "    88.59999999776483,\n",
    "    89.40000000223517,\n",
    "    91.60000000149012,\n",
    "    150.19999999925494,\n",
    "    99.5,\n",
    "    103.30000000074506,\n",
    "    102.69999999925494,\n",
    "    102.80000000074506,\n",
    "    102.89999999850988,\n",
    "    101.89999999850988,\n",
    "    101.09999999776483,\n",
    "    102.10000000149012,\n",
    "    108.19999999925494,\n",
    "    159.09999999776483,\n",
    "    103,\n",
    "    105.19999999925494,\n",
    "    102.60000000149012,\n",
    "    103.69999999925494,\n",
    "    106.90000000223517,\n",
    "    102.10000000149012,\n",
    "    103.69999999925494,\n",
    "    127.30000000074506,\n",
    "    104.09999999776483\n",
    "]"
   ]
  },
  {
   "cell_type": "markdown",
   "metadata": {},
   "source": [
    "Convert to DataFrame and plot"
   ]
  },
  {
   "cell_type": "code",
   "execution_count": 13,
   "metadata": {},
   "outputs": [
    {
     "data": {
      "image/png": "[encoded data removed]",
      "text/plain": [
       "<Figure size 432x288 with 1 Axes>"
      ]
     },
     "metadata": {},
     "output_type": "display_data"
    }
   ],
   "source": [
    "df = create_dataframe(num_iter, channels, protobuf_decoding_time, utf_decoding_time)\n",
    "plot_decoding_time(df)"
   ]
  },
  {
   "cell_type": "code",
   "execution_count": null,
   "metadata": {},
   "outputs": [],
   "source": []
  }
 ],
 "metadata": {
  "interpreter": {
   "hash": "b8752089daaf8554189c0a3218ede8c2fd27b59dccca5e4f78a63b2a9260d483"
  },
  "kernelspec": {
   "display_name": "Python 3.8.8 ('venv': venv)",
   "language": "python",
   "name": "python3"
  },
  "language_info": {
   "codemirror_mode": {
    "name": "ipython",
    "version": 3
   },
   "file_extension": ".py",
   "mimetype": "text/x-python",
   "name": "python",
   "nbconvert_exporter": "python",
   "pygments_lexer": "ipython3",
   "version": "3.9.7"
  },
  "orig_nbformat": 4
 },
 "nbformat": 4,
 "nbformat_minor": 2
}
